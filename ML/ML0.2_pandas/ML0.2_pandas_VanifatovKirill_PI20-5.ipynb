{
 "cells": [
  {
   "cell_type": "markdown",
   "id": "e6cb5b2f",
   "metadata": {},
   "source": [
    "# Основы работы с pandas"
   ]
  },
  {
   "cell_type": "markdown",
   "id": "8e3aea7a",
   "metadata": {},
   "source": [
    "### Цель работы\n",
    "На практике ознакомиться с основными приемами обработки данных с использованием библиотеки pandas, освоить основные понятия этой библиотеки,"
   ]
  },
  {
   "cell_type": "markdown",
   "id": "ef01cad6",
   "metadata": {},
   "source": [
    "### Методические указания\n",
    "Для успешного выполнения данной лабораторной работы необходимо заранее ознакомиться с официальной документацией библиотеки pandas."
   ]
  },
  {
   "cell_type": "markdown",
   "id": "d3b76142",
   "metadata": {},
   "source": [
    "Работу следует выполнять в интерактивной среде программирования Jupyter notebook. Оценивается полнота выполнения задания, знание и умение применять библиотечные функции"
   ]
  },
  {
   "cell_type": "markdown",
   "id": "1b4f7204",
   "metadata": {},
   "source": [
    "К данной работе прилагается файл с набором данных. Данный набор данных используется для открытого соревнования по машинному обучения Kaggle. Набор описывает основные характеристики пассажиров Титаника с информацией о том, выжил данный пассажир или нет. Часть полей носит категориальный, часть численный характер. Часть данных отсутствует."
   ]
  },
  {
   "cell_type": "markdown",
   "id": "355aeb75",
   "metadata": {},
   "source": [
    "## Задания к выполнению"
   ]
  },
  {
   "cell_type": "code",
   "execution_count": 3,
   "id": "f6f59a1f",
   "metadata": {},
   "outputs": [],
   "source": [
    "import pandas as pd\n",
    "import numpy as np"
   ]
  },
  {
   "cell_type": "markdown",
   "id": "c92cf4ef",
   "metadata": {},
   "source": [
    "Получить файл набора данных, прилагающийся к этой работе."
   ]
  },
  {
   "cell_type": "code",
   "execution_count": 4,
   "id": "f38ba94c",
   "metadata": {},
   "outputs": [
    {
     "data": {
      "text/html": [
       "<div>\n",
       "<style scoped>\n",
       "    .dataframe tbody tr th:only-of-type {\n",
       "        vertical-align: middle;\n",
       "    }\n",
       "\n",
       "    .dataframe tbody tr th {\n",
       "        vertical-align: top;\n",
       "    }\n",
       "\n",
       "    .dataframe thead th {\n",
       "        text-align: right;\n",
       "    }\n",
       "</style>\n",
       "<table border=\"1\" class=\"dataframe\">\n",
       "  <thead>\n",
       "    <tr style=\"text-align: right;\">\n",
       "      <th></th>\n",
       "      <th>PassengerId</th>\n",
       "      <th>Survived</th>\n",
       "      <th>Pclass</th>\n",
       "      <th>Name</th>\n",
       "      <th>Sex</th>\n",
       "      <th>Age</th>\n",
       "      <th>SibSp</th>\n",
       "      <th>Parch</th>\n",
       "      <th>Ticket</th>\n",
       "      <th>Fare</th>\n",
       "      <th>Cabin</th>\n",
       "      <th>Embarked</th>\n",
       "    </tr>\n",
       "  </thead>\n",
       "  <tbody>\n",
       "    <tr>\n",
       "      <th>0</th>\n",
       "      <td>1</td>\n",
       "      <td>0</td>\n",
       "      <td>3</td>\n",
       "      <td>Braund, Mr. Owen Harris</td>\n",
       "      <td>male</td>\n",
       "      <td>22.0</td>\n",
       "      <td>1</td>\n",
       "      <td>0</td>\n",
       "      <td>A/5 21171</td>\n",
       "      <td>7.2500</td>\n",
       "      <td>NaN</td>\n",
       "      <td>S</td>\n",
       "    </tr>\n",
       "    <tr>\n",
       "      <th>1</th>\n",
       "      <td>2</td>\n",
       "      <td>1</td>\n",
       "      <td>1</td>\n",
       "      <td>Cumings, Mrs. John Bradley (Florence Briggs Th...</td>\n",
       "      <td>female</td>\n",
       "      <td>38.0</td>\n",
       "      <td>1</td>\n",
       "      <td>0</td>\n",
       "      <td>PC 17599</td>\n",
       "      <td>71.2833</td>\n",
       "      <td>C85</td>\n",
       "      <td>C</td>\n",
       "    </tr>\n",
       "    <tr>\n",
       "      <th>2</th>\n",
       "      <td>3</td>\n",
       "      <td>1</td>\n",
       "      <td>3</td>\n",
       "      <td>Heikkinen, Miss. Laina</td>\n",
       "      <td>female</td>\n",
       "      <td>26.0</td>\n",
       "      <td>0</td>\n",
       "      <td>0</td>\n",
       "      <td>STON/O2. 3101282</td>\n",
       "      <td>7.9250</td>\n",
       "      <td>NaN</td>\n",
       "      <td>S</td>\n",
       "    </tr>\n",
       "    <tr>\n",
       "      <th>3</th>\n",
       "      <td>4</td>\n",
       "      <td>1</td>\n",
       "      <td>1</td>\n",
       "      <td>Futrelle, Mrs. Jacques Heath (Lily May Peel)</td>\n",
       "      <td>female</td>\n",
       "      <td>35.0</td>\n",
       "      <td>1</td>\n",
       "      <td>0</td>\n",
       "      <td>113803</td>\n",
       "      <td>53.1000</td>\n",
       "      <td>C123</td>\n",
       "      <td>S</td>\n",
       "    </tr>\n",
       "    <tr>\n",
       "      <th>4</th>\n",
       "      <td>5</td>\n",
       "      <td>0</td>\n",
       "      <td>3</td>\n",
       "      <td>Allen, Mr. William Henry</td>\n",
       "      <td>male</td>\n",
       "      <td>35.0</td>\n",
       "      <td>0</td>\n",
       "      <td>0</td>\n",
       "      <td>373450</td>\n",
       "      <td>8.0500</td>\n",
       "      <td>NaN</td>\n",
       "      <td>S</td>\n",
       "    </tr>\n",
       "    <tr>\n",
       "      <th>5</th>\n",
       "      <td>6</td>\n",
       "      <td>0</td>\n",
       "      <td>3</td>\n",
       "      <td>Moran, Mr. James</td>\n",
       "      <td>male</td>\n",
       "      <td>NaN</td>\n",
       "      <td>0</td>\n",
       "      <td>0</td>\n",
       "      <td>330877</td>\n",
       "      <td>8.4583</td>\n",
       "      <td>NaN</td>\n",
       "      <td>Q</td>\n",
       "    </tr>\n",
       "    <tr>\n",
       "      <th>6</th>\n",
       "      <td>7</td>\n",
       "      <td>0</td>\n",
       "      <td>1</td>\n",
       "      <td>McCarthy, Mr. Timothy J</td>\n",
       "      <td>male</td>\n",
       "      <td>54.0</td>\n",
       "      <td>0</td>\n",
       "      <td>0</td>\n",
       "      <td>17463</td>\n",
       "      <td>51.8625</td>\n",
       "      <td>E46</td>\n",
       "      <td>S</td>\n",
       "    </tr>\n",
       "    <tr>\n",
       "      <th>7</th>\n",
       "      <td>8</td>\n",
       "      <td>0</td>\n",
       "      <td>3</td>\n",
       "      <td>Palsson, Master. Gosta Leonard</td>\n",
       "      <td>male</td>\n",
       "      <td>2.0</td>\n",
       "      <td>3</td>\n",
       "      <td>1</td>\n",
       "      <td>349909</td>\n",
       "      <td>21.0750</td>\n",
       "      <td>NaN</td>\n",
       "      <td>S</td>\n",
       "    </tr>\n",
       "    <tr>\n",
       "      <th>8</th>\n",
       "      <td>9</td>\n",
       "      <td>1</td>\n",
       "      <td>3</td>\n",
       "      <td>Johnson, Mrs. Oscar W (Elisabeth Vilhelmina Berg)</td>\n",
       "      <td>female</td>\n",
       "      <td>27.0</td>\n",
       "      <td>0</td>\n",
       "      <td>2</td>\n",
       "      <td>347742</td>\n",
       "      <td>11.1333</td>\n",
       "      <td>NaN</td>\n",
       "      <td>S</td>\n",
       "    </tr>\n",
       "    <tr>\n",
       "      <th>9</th>\n",
       "      <td>10</td>\n",
       "      <td>1</td>\n",
       "      <td>2</td>\n",
       "      <td>Nasser, Mrs. Nicholas (Adele Achem)</td>\n",
       "      <td>female</td>\n",
       "      <td>14.0</td>\n",
       "      <td>1</td>\n",
       "      <td>0</td>\n",
       "      <td>237736</td>\n",
       "      <td>30.0708</td>\n",
       "      <td>NaN</td>\n",
       "      <td>C</td>\n",
       "    </tr>\n",
       "  </tbody>\n",
       "</table>\n",
       "</div>"
      ],
      "text/plain": [
       "   PassengerId  Survived  Pclass  \\\n",
       "0            1         0       3   \n",
       "1            2         1       1   \n",
       "2            3         1       3   \n",
       "3            4         1       1   \n",
       "4            5         0       3   \n",
       "5            6         0       3   \n",
       "6            7         0       1   \n",
       "7            8         0       3   \n",
       "8            9         1       3   \n",
       "9           10         1       2   \n",
       "\n",
       "                                                Name     Sex   Age  SibSp  \\\n",
       "0                            Braund, Mr. Owen Harris    male  22.0      1   \n",
       "1  Cumings, Mrs. John Bradley (Florence Briggs Th...  female  38.0      1   \n",
       "2                             Heikkinen, Miss. Laina  female  26.0      0   \n",
       "3       Futrelle, Mrs. Jacques Heath (Lily May Peel)  female  35.0      1   \n",
       "4                           Allen, Mr. William Henry    male  35.0      0   \n",
       "5                                   Moran, Mr. James    male   NaN      0   \n",
       "6                            McCarthy, Mr. Timothy J    male  54.0      0   \n",
       "7                     Palsson, Master. Gosta Leonard    male   2.0      3   \n",
       "8  Johnson, Mrs. Oscar W (Elisabeth Vilhelmina Berg)  female  27.0      0   \n",
       "9                Nasser, Mrs. Nicholas (Adele Achem)  female  14.0      1   \n",
       "\n",
       "   Parch            Ticket     Fare Cabin Embarked  \n",
       "0      0         A/5 21171   7.2500   NaN        S  \n",
       "1      0          PC 17599  71.2833   C85        C  \n",
       "2      0  STON/O2. 3101282   7.9250   NaN        S  \n",
       "3      0            113803  53.1000  C123        S  \n",
       "4      0            373450   8.0500   NaN        S  \n",
       "5      0            330877   8.4583   NaN        Q  \n",
       "6      0             17463  51.8625   E46        S  \n",
       "7      1            349909  21.0750   NaN        S  \n",
       "8      2            347742  11.1333   NaN        S  \n",
       "9      0            237736  30.0708   NaN        C  "
      ]
     },
     "execution_count": 4,
     "metadata": {},
     "output_type": "execute_result"
    }
   ],
   "source": [
    "df = pd.read_csv('train.csv')\n",
    "df.head(10)"
   ]
  },
  {
   "cell_type": "markdown",
   "id": "1568075d",
   "metadata": {},
   "source": [
    "Считать файл в pandas DataFrame"
   ]
  },
  {
   "cell_type": "code",
   "execution_count": 71,
   "id": "b3730880",
   "metadata": {},
   "outputs": [
    {
     "data": {
      "text/html": [
       "<div>\n",
       "<style scoped>\n",
       "    .dataframe tbody tr th:only-of-type {\n",
       "        vertical-align: middle;\n",
       "    }\n",
       "\n",
       "    .dataframe tbody tr th {\n",
       "        vertical-align: top;\n",
       "    }\n",
       "\n",
       "    .dataframe thead th {\n",
       "        text-align: right;\n",
       "    }\n",
       "</style>\n",
       "<table border=\"1\" class=\"dataframe\">\n",
       "  <thead>\n",
       "    <tr style=\"text-align: right;\">\n",
       "      <th></th>\n",
       "      <th>PassengerId</th>\n",
       "      <th>Survived</th>\n",
       "      <th>Pclass</th>\n",
       "      <th>Name</th>\n",
       "      <th>Sex</th>\n",
       "      <th>Age</th>\n",
       "      <th>SibSp</th>\n",
       "      <th>Parch</th>\n",
       "      <th>Ticket</th>\n",
       "      <th>Fare</th>\n",
       "      <th>Cabin</th>\n",
       "      <th>Embarked</th>\n",
       "    </tr>\n",
       "  </thead>\n",
       "  <tbody>\n",
       "    <tr>\n",
       "      <th>890</th>\n",
       "      <td>891</td>\n",
       "      <td>0</td>\n",
       "      <td>3</td>\n",
       "      <td>Dooley, Mr. Patrick</td>\n",
       "      <td>male</td>\n",
       "      <td>32.0</td>\n",
       "      <td>0</td>\n",
       "      <td>0</td>\n",
       "      <td>370376</td>\n",
       "      <td>7.75</td>\n",
       "      <td>NaN</td>\n",
       "      <td>Q</td>\n",
       "    </tr>\n",
       "  </tbody>\n",
       "</table>\n",
       "</div>"
      ],
      "text/plain": [
       "     PassengerId  Survived  Pclass                 Name   Sex   Age  SibSp  \\\n",
       "890          891         0       3  Dooley, Mr. Patrick  male  32.0      0   \n",
       "\n",
       "     Parch  Ticket  Fare Cabin Embarked  \n",
       "890      0  370376  7.75   NaN        Q  "
      ]
     },
     "execution_count": 71,
     "metadata": {},
     "output_type": "execute_result"
    }
   ],
   "source": [
    "df.tail(1)"
   ]
  },
  {
   "cell_type": "markdown",
   "id": "397453a8",
   "metadata": {},
   "source": [
    "Ознакомиться с основными параметрами датасета, используя функции библиотеки pandas, включая следующие данные:\n",
    "\n",
    "<li>Количество точек данных (измерений) в наборе</li>\n",
    "<li>Количество полей данных (атрибутов)</li>\n",
    "\n",
    "<li>Тип данных каждого поля, шкала каждого поля</li>\n",
    "\n",
    "<li>Количество отсутствующих значений для каждого поля</li>\n",
    "\n",
    "<li>Количество и названия константных и уникальных полей</li>"
   ]
  },
  {
   "cell_type": "code",
   "execution_count": 72,
   "id": "eaa38198",
   "metadata": {},
   "outputs": [
    {
     "data": {
      "text/plain": [
       "(891, 12)"
      ]
     },
     "execution_count": 72,
     "metadata": {},
     "output_type": "execute_result"
    }
   ],
   "source": [
    "df.shape"
   ]
  },
  {
   "cell_type": "code",
   "execution_count": 73,
   "id": "0f25a961",
   "metadata": {},
   "outputs": [
    {
     "data": {
      "text/plain": [
       "891"
      ]
     },
     "execution_count": 73,
     "metadata": {},
     "output_type": "execute_result"
    }
   ],
   "source": [
    "len(df)"
   ]
  },
  {
   "cell_type": "code",
   "execution_count": 10,
   "id": "b3e66b1d",
   "metadata": {},
   "outputs": [
    {
     "data": {
      "text/plain": [
       "PassengerId    891\n",
       "Survived         2\n",
       "Pclass           3\n",
       "Name           891\n",
       "Sex              2\n",
       "Age             88\n",
       "SibSp            7\n",
       "Parch            7\n",
       "Ticket         681\n",
       "Fare           248\n",
       "Cabin          147\n",
       "Embarked         3\n",
       "dtype: int64"
      ]
     },
     "execution_count": 10,
     "metadata": {},
     "output_type": "execute_result"
    }
   ],
   "source": [
    "df.nunique(axis=0)"
   ]
  },
  {
   "cell_type": "code",
   "execution_count": 74,
   "id": "a341265e",
   "metadata": {},
   "outputs": [
    {
     "name": "stdout",
     "output_type": "stream",
     "text": [
      "<class 'pandas.core.frame.DataFrame'>\n",
      "RangeIndex: 891 entries, 0 to 890\n",
      "Data columns (total 12 columns):\n",
      " #   Column       Non-Null Count  Dtype  \n",
      "---  ------       --------------  -----  \n",
      " 0   PassengerId  891 non-null    int64  \n",
      " 1   Survived     891 non-null    int64  \n",
      " 2   Pclass       891 non-null    int64  \n",
      " 3   Name         891 non-null    object \n",
      " 4   Sex          891 non-null    object \n",
      " 5   Age          714 non-null    float64\n",
      " 6   SibSp        891 non-null    int64  \n",
      " 7   Parch        891 non-null    int64  \n",
      " 8   Ticket       891 non-null    object \n",
      " 9   Fare         891 non-null    float64\n",
      " 10  Cabin        204 non-null    object \n",
      " 11  Embarked     889 non-null    object \n",
      "dtypes: float64(2), int64(5), object(5)\n",
      "memory usage: 83.7+ KB\n"
     ]
    }
   ],
   "source": [
    "df.info()"
   ]
  },
  {
   "cell_type": "code",
   "execution_count": 11,
   "id": "d06b435f",
   "metadata": {},
   "outputs": [
    {
     "data": {
      "text/html": [
       "<div>\n",
       "<style scoped>\n",
       "    .dataframe tbody tr th:only-of-type {\n",
       "        vertical-align: middle;\n",
       "    }\n",
       "\n",
       "    .dataframe tbody tr th {\n",
       "        vertical-align: top;\n",
       "    }\n",
       "\n",
       "    .dataframe thead th {\n",
       "        text-align: right;\n",
       "    }\n",
       "</style>\n",
       "<table border=\"1\" class=\"dataframe\">\n",
       "  <thead>\n",
       "    <tr style=\"text-align: right;\">\n",
       "      <th></th>\n",
       "      <th>PassengerId</th>\n",
       "      <th>Survived</th>\n",
       "      <th>Pclass</th>\n",
       "      <th>Age</th>\n",
       "      <th>SibSp</th>\n",
       "      <th>Parch</th>\n",
       "      <th>Fare</th>\n",
       "    </tr>\n",
       "  </thead>\n",
       "  <tbody>\n",
       "    <tr>\n",
       "      <th>count</th>\n",
       "      <td>891.000000</td>\n",
       "      <td>891.000000</td>\n",
       "      <td>891.000000</td>\n",
       "      <td>714.000000</td>\n",
       "      <td>891.000000</td>\n",
       "      <td>891.000000</td>\n",
       "      <td>891.000000</td>\n",
       "    </tr>\n",
       "    <tr>\n",
       "      <th>mean</th>\n",
       "      <td>446.000000</td>\n",
       "      <td>0.383838</td>\n",
       "      <td>2.308642</td>\n",
       "      <td>29.699118</td>\n",
       "      <td>0.523008</td>\n",
       "      <td>0.381594</td>\n",
       "      <td>32.204208</td>\n",
       "    </tr>\n",
       "    <tr>\n",
       "      <th>std</th>\n",
       "      <td>257.353842</td>\n",
       "      <td>0.486592</td>\n",
       "      <td>0.836071</td>\n",
       "      <td>14.526497</td>\n",
       "      <td>1.102743</td>\n",
       "      <td>0.806057</td>\n",
       "      <td>49.693429</td>\n",
       "    </tr>\n",
       "    <tr>\n",
       "      <th>min</th>\n",
       "      <td>1.000000</td>\n",
       "      <td>0.000000</td>\n",
       "      <td>1.000000</td>\n",
       "      <td>0.420000</td>\n",
       "      <td>0.000000</td>\n",
       "      <td>0.000000</td>\n",
       "      <td>0.000000</td>\n",
       "    </tr>\n",
       "    <tr>\n",
       "      <th>25%</th>\n",
       "      <td>223.500000</td>\n",
       "      <td>0.000000</td>\n",
       "      <td>2.000000</td>\n",
       "      <td>20.125000</td>\n",
       "      <td>0.000000</td>\n",
       "      <td>0.000000</td>\n",
       "      <td>7.910400</td>\n",
       "    </tr>\n",
       "    <tr>\n",
       "      <th>50%</th>\n",
       "      <td>446.000000</td>\n",
       "      <td>0.000000</td>\n",
       "      <td>3.000000</td>\n",
       "      <td>28.000000</td>\n",
       "      <td>0.000000</td>\n",
       "      <td>0.000000</td>\n",
       "      <td>14.454200</td>\n",
       "    </tr>\n",
       "    <tr>\n",
       "      <th>75%</th>\n",
       "      <td>668.500000</td>\n",
       "      <td>1.000000</td>\n",
       "      <td>3.000000</td>\n",
       "      <td>38.000000</td>\n",
       "      <td>1.000000</td>\n",
       "      <td>0.000000</td>\n",
       "      <td>31.000000</td>\n",
       "    </tr>\n",
       "    <tr>\n",
       "      <th>max</th>\n",
       "      <td>891.000000</td>\n",
       "      <td>1.000000</td>\n",
       "      <td>3.000000</td>\n",
       "      <td>80.000000</td>\n",
       "      <td>8.000000</td>\n",
       "      <td>6.000000</td>\n",
       "      <td>512.329200</td>\n",
       "    </tr>\n",
       "  </tbody>\n",
       "</table>\n",
       "</div>"
      ],
      "text/plain": [
       "       PassengerId    Survived      Pclass         Age       SibSp  \\\n",
       "count   891.000000  891.000000  891.000000  714.000000  891.000000   \n",
       "mean    446.000000    0.383838    2.308642   29.699118    0.523008   \n",
       "std     257.353842    0.486592    0.836071   14.526497    1.102743   \n",
       "min       1.000000    0.000000    1.000000    0.420000    0.000000   \n",
       "25%     223.500000    0.000000    2.000000   20.125000    0.000000   \n",
       "50%     446.000000    0.000000    3.000000   28.000000    0.000000   \n",
       "75%     668.500000    1.000000    3.000000   38.000000    1.000000   \n",
       "max     891.000000    1.000000    3.000000   80.000000    8.000000   \n",
       "\n",
       "            Parch        Fare  \n",
       "count  891.000000  891.000000  \n",
       "mean     0.381594   32.204208  \n",
       "std      0.806057   49.693429  \n",
       "min      0.000000    0.000000  \n",
       "25%      0.000000    7.910400  \n",
       "50%      0.000000   14.454200  \n",
       "75%      0.000000   31.000000  \n",
       "max      6.000000  512.329200  "
      ]
     },
     "execution_count": 11,
     "metadata": {},
     "output_type": "execute_result"
    }
   ],
   "source": [
    "df.describe()"
   ]
  },
  {
   "cell_type": "markdown",
   "id": "d28acfad",
   "metadata": {},
   "source": [
    "Удалить из набора поля, не несущие информативной нагрузки - содержащие уникальные либо константные значения"
   ]
  },
  {
   "cell_type": "code",
   "execution_count": 75,
   "id": "79e8ec8a",
   "metadata": {},
   "outputs": [
    {
     "data": {
      "text/html": [
       "<div>\n",
       "<style scoped>\n",
       "    .dataframe tbody tr th:only-of-type {\n",
       "        vertical-align: middle;\n",
       "    }\n",
       "\n",
       "    .dataframe tbody tr th {\n",
       "        vertical-align: top;\n",
       "    }\n",
       "\n",
       "    .dataframe thead th {\n",
       "        text-align: right;\n",
       "    }\n",
       "</style>\n",
       "<table border=\"1\" class=\"dataframe\">\n",
       "  <thead>\n",
       "    <tr style=\"text-align: right;\">\n",
       "      <th></th>\n",
       "      <th>Survived</th>\n",
       "      <th>Pclass</th>\n",
       "      <th>Sex</th>\n",
       "      <th>Age</th>\n",
       "      <th>SibSp</th>\n",
       "      <th>Parch</th>\n",
       "      <th>Fare</th>\n",
       "      <th>Embarked</th>\n",
       "    </tr>\n",
       "  </thead>\n",
       "  <tbody>\n",
       "    <tr>\n",
       "      <th>0</th>\n",
       "      <td>0</td>\n",
       "      <td>3</td>\n",
       "      <td>male</td>\n",
       "      <td>22.0</td>\n",
       "      <td>1</td>\n",
       "      <td>0</td>\n",
       "      <td>7.2500</td>\n",
       "      <td>S</td>\n",
       "    </tr>\n",
       "    <tr>\n",
       "      <th>1</th>\n",
       "      <td>1</td>\n",
       "      <td>1</td>\n",
       "      <td>female</td>\n",
       "      <td>38.0</td>\n",
       "      <td>1</td>\n",
       "      <td>0</td>\n",
       "      <td>71.2833</td>\n",
       "      <td>C</td>\n",
       "    </tr>\n",
       "    <tr>\n",
       "      <th>2</th>\n",
       "      <td>1</td>\n",
       "      <td>3</td>\n",
       "      <td>female</td>\n",
       "      <td>26.0</td>\n",
       "      <td>0</td>\n",
       "      <td>0</td>\n",
       "      <td>7.9250</td>\n",
       "      <td>S</td>\n",
       "    </tr>\n",
       "    <tr>\n",
       "      <th>3</th>\n",
       "      <td>1</td>\n",
       "      <td>1</td>\n",
       "      <td>female</td>\n",
       "      <td>35.0</td>\n",
       "      <td>1</td>\n",
       "      <td>0</td>\n",
       "      <td>53.1000</td>\n",
       "      <td>S</td>\n",
       "    </tr>\n",
       "    <tr>\n",
       "      <th>4</th>\n",
       "      <td>0</td>\n",
       "      <td>3</td>\n",
       "      <td>male</td>\n",
       "      <td>35.0</td>\n",
       "      <td>0</td>\n",
       "      <td>0</td>\n",
       "      <td>8.0500</td>\n",
       "      <td>S</td>\n",
       "    </tr>\n",
       "  </tbody>\n",
       "</table>\n",
       "</div>"
      ],
      "text/plain": [
       "   Survived  Pclass     Sex   Age  SibSp  Parch     Fare Embarked\n",
       "0         0       3    male  22.0      1      0   7.2500        S\n",
       "1         1       1  female  38.0      1      0  71.2833        C\n",
       "2         1       3  female  26.0      0      0   7.9250        S\n",
       "3         1       1  female  35.0      1      0  53.1000        S\n",
       "4         0       3    male  35.0      0      0   8.0500        S"
      ]
     },
     "execution_count": 75,
     "metadata": {},
     "output_type": "execute_result"
    }
   ],
   "source": [
    "df.drop(['PassengerId', 'Name', 'Ticket', 'Cabin'], axis=1, inplace=True)\n",
    "df.head()"
   ]
  },
  {
   "cell_type": "markdown",
   "id": "1a268f0e",
   "metadata": {},
   "source": [
    "Заменить возраст пассажиров на год рождения"
   ]
  },
  {
   "cell_type": "code",
   "execution_count": 76,
   "id": "aa999207",
   "metadata": {},
   "outputs": [
    {
     "data": {
      "text/html": [
       "<div>\n",
       "<style scoped>\n",
       "    .dataframe tbody tr th:only-of-type {\n",
       "        vertical-align: middle;\n",
       "    }\n",
       "\n",
       "    .dataframe tbody tr th {\n",
       "        vertical-align: top;\n",
       "    }\n",
       "\n",
       "    .dataframe thead th {\n",
       "        text-align: right;\n",
       "    }\n",
       "</style>\n",
       "<table border=\"1\" class=\"dataframe\">\n",
       "  <thead>\n",
       "    <tr style=\"text-align: right;\">\n",
       "      <th></th>\n",
       "      <th>Survived</th>\n",
       "      <th>Pclass</th>\n",
       "      <th>Sex</th>\n",
       "      <th>Age</th>\n",
       "      <th>SibSp</th>\n",
       "      <th>Parch</th>\n",
       "      <th>Fare</th>\n",
       "      <th>Embarked</th>\n",
       "    </tr>\n",
       "  </thead>\n",
       "  <tbody>\n",
       "    <tr>\n",
       "      <th>0</th>\n",
       "      <td>0</td>\n",
       "      <td>3</td>\n",
       "      <td>male</td>\n",
       "      <td>2000.0</td>\n",
       "      <td>1</td>\n",
       "      <td>0</td>\n",
       "      <td>7.2500</td>\n",
       "      <td>S</td>\n",
       "    </tr>\n",
       "    <tr>\n",
       "      <th>1</th>\n",
       "      <td>1</td>\n",
       "      <td>1</td>\n",
       "      <td>female</td>\n",
       "      <td>1984.0</td>\n",
       "      <td>1</td>\n",
       "      <td>0</td>\n",
       "      <td>71.2833</td>\n",
       "      <td>C</td>\n",
       "    </tr>\n",
       "    <tr>\n",
       "      <th>2</th>\n",
       "      <td>1</td>\n",
       "      <td>3</td>\n",
       "      <td>female</td>\n",
       "      <td>1996.0</td>\n",
       "      <td>0</td>\n",
       "      <td>0</td>\n",
       "      <td>7.9250</td>\n",
       "      <td>S</td>\n",
       "    </tr>\n",
       "    <tr>\n",
       "      <th>3</th>\n",
       "      <td>1</td>\n",
       "      <td>1</td>\n",
       "      <td>female</td>\n",
       "      <td>1987.0</td>\n",
       "      <td>1</td>\n",
       "      <td>0</td>\n",
       "      <td>53.1000</td>\n",
       "      <td>S</td>\n",
       "    </tr>\n",
       "    <tr>\n",
       "      <th>4</th>\n",
       "      <td>0</td>\n",
       "      <td>3</td>\n",
       "      <td>male</td>\n",
       "      <td>1987.0</td>\n",
       "      <td>0</td>\n",
       "      <td>0</td>\n",
       "      <td>8.0500</td>\n",
       "      <td>S</td>\n",
       "    </tr>\n",
       "  </tbody>\n",
       "</table>\n",
       "</div>"
      ],
      "text/plain": [
       "   Survived  Pclass     Sex     Age  SibSp  Parch     Fare Embarked\n",
       "0         0       3    male  2000.0      1      0   7.2500        S\n",
       "1         1       1  female  1984.0      1      0  71.2833        C\n",
       "2         1       3  female  1996.0      0      0   7.9250        S\n",
       "3         1       1  female  1987.0      1      0  53.1000        S\n",
       "4         0       3    male  1987.0      0      0   8.0500        S"
      ]
     },
     "execution_count": 76,
     "metadata": {},
     "output_type": "execute_result"
    }
   ],
   "source": [
    "df['Age'] = (2022 - df['Age'])\n",
    "df.head()"
   ]
  },
  {
   "cell_type": "markdown",
   "id": "8f1e7b06",
   "metadata": {},
   "source": [
    "Переименовать все названия колонок на русском языке"
   ]
  },
  {
   "cell_type": "code",
   "execution_count": 77,
   "id": "2ce8f8a4",
   "metadata": {},
   "outputs": [
    {
     "data": {
      "text/html": [
       "<div>\n",
       "<style scoped>\n",
       "    .dataframe tbody tr th:only-of-type {\n",
       "        vertical-align: middle;\n",
       "    }\n",
       "\n",
       "    .dataframe tbody tr th {\n",
       "        vertical-align: top;\n",
       "    }\n",
       "\n",
       "    .dataframe thead th {\n",
       "        text-align: right;\n",
       "    }\n",
       "</style>\n",
       "<table border=\"1\" class=\"dataframe\">\n",
       "  <thead>\n",
       "    <tr style=\"text-align: right;\">\n",
       "      <th></th>\n",
       "      <th>выживший</th>\n",
       "      <th>класс пассажира</th>\n",
       "      <th>пол</th>\n",
       "      <th>возраст</th>\n",
       "      <th>родня 2 очереди</th>\n",
       "      <th>родня 1 очереди</th>\n",
       "      <th>тариф</th>\n",
       "      <th>порт посадки</th>\n",
       "    </tr>\n",
       "  </thead>\n",
       "  <tbody>\n",
       "    <tr>\n",
       "      <th>0</th>\n",
       "      <td>0</td>\n",
       "      <td>3</td>\n",
       "      <td>male</td>\n",
       "      <td>2000.0</td>\n",
       "      <td>1</td>\n",
       "      <td>0</td>\n",
       "      <td>7.2500</td>\n",
       "      <td>S</td>\n",
       "    </tr>\n",
       "    <tr>\n",
       "      <th>1</th>\n",
       "      <td>1</td>\n",
       "      <td>1</td>\n",
       "      <td>female</td>\n",
       "      <td>1984.0</td>\n",
       "      <td>1</td>\n",
       "      <td>0</td>\n",
       "      <td>71.2833</td>\n",
       "      <td>C</td>\n",
       "    </tr>\n",
       "    <tr>\n",
       "      <th>2</th>\n",
       "      <td>1</td>\n",
       "      <td>3</td>\n",
       "      <td>female</td>\n",
       "      <td>1996.0</td>\n",
       "      <td>0</td>\n",
       "      <td>0</td>\n",
       "      <td>7.9250</td>\n",
       "      <td>S</td>\n",
       "    </tr>\n",
       "    <tr>\n",
       "      <th>3</th>\n",
       "      <td>1</td>\n",
       "      <td>1</td>\n",
       "      <td>female</td>\n",
       "      <td>1987.0</td>\n",
       "      <td>1</td>\n",
       "      <td>0</td>\n",
       "      <td>53.1000</td>\n",
       "      <td>S</td>\n",
       "    </tr>\n",
       "    <tr>\n",
       "      <th>4</th>\n",
       "      <td>0</td>\n",
       "      <td>3</td>\n",
       "      <td>male</td>\n",
       "      <td>1987.0</td>\n",
       "      <td>0</td>\n",
       "      <td>0</td>\n",
       "      <td>8.0500</td>\n",
       "      <td>S</td>\n",
       "    </tr>\n",
       "  </tbody>\n",
       "</table>\n",
       "</div>"
      ],
      "text/plain": [
       "   выживший  класс пассажира     пол  возраст  родня 2 очереди  \\\n",
       "0         0                3    male   2000.0                1   \n",
       "1         1                1  female   1984.0                1   \n",
       "2         1                3  female   1996.0                0   \n",
       "3         1                1  female   1987.0                1   \n",
       "4         0                3    male   1987.0                0   \n",
       "\n",
       "   родня 1 очереди    тариф порт посадки  \n",
       "0                0   7.2500            S  \n",
       "1                0  71.2833            C  \n",
       "2                0   7.9250            S  \n",
       "3                0  53.1000            S  \n",
       "4                0   8.0500            S  "
      ]
     },
     "execution_count": 77,
     "metadata": {},
     "output_type": "execute_result"
    }
   ],
   "source": [
    "rename = {\n",
    "    \"PClass\": \"класс пассажира\",\n",
    "    \"Sex\": \"пол\",\n",
    "    \"Survived\": \"выживший\",\n",
    "    \"Embarked\" : \"порт посадки\",\n",
    "    \"Pclass\":\"класс пассажира\",\n",
    "    \"SibSp\": \"родня 2 очереди\",\n",
    "    \"Parch\": \"родня 1 очереди\",\n",
    "    \"Age\":\"возраст\", \n",
    "    \"Fare\":\"тариф\"\n",
    "}\n",
    "df = df.rename(columns = rename)\n",
    "# df.drop(['PassengerId', 'Name', 'Ticket'], axis=1).head()\n",
    "df.head()"
   ]
  },
  {
   "cell_type": "markdown",
   "id": "9c4d5e4f",
   "metadata": {},
   "source": [
    "Заменить все отсутствующие данные средним значением (в случае числового поля) либо самым распространенным в категориальных полях."
   ]
  },
  {
   "cell_type": "code",
   "execution_count": 78,
   "id": "72de5029",
   "metadata": {},
   "outputs": [
    {
     "data": {
      "text/plain": [
       "выживший             0\n",
       "класс пассажира      0\n",
       "пол                  0\n",
       "возраст            177\n",
       "родня 2 очереди      0\n",
       "родня 1 очереди      0\n",
       "тариф                0\n",
       "порт посадки         2\n",
       "dtype: int64"
      ]
     },
     "execution_count": 78,
     "metadata": {},
     "output_type": "execute_result"
    }
   ],
   "source": [
    "df.isna().sum()"
   ]
  },
  {
   "cell_type": "code",
   "execution_count": 81,
   "id": "eb6dafe1",
   "metadata": {},
   "outputs": [],
   "source": [
    "df['возраст'] = df['возраст'].fillna(df['возраст'].mean())\n",
    "df['порт посадки'] = df['порт посадки'].fillna(df['порт посадки'].mode().item())"
   ]
  },
  {
   "cell_type": "code",
   "execution_count": 82,
   "id": "8b9f6c93",
   "metadata": {},
   "outputs": [
    {
     "data": {
      "text/plain": [
       "выживший           0\n",
       "класс пассажира    0\n",
       "пол                0\n",
       "возраст            0\n",
       "родня 2 очереди    0\n",
       "родня 1 очереди    0\n",
       "тариф              0\n",
       "порт посадки       0\n",
       "dtype: int64"
      ]
     },
     "execution_count": 82,
     "metadata": {},
     "output_type": "execute_result"
    }
   ],
   "source": [
    "df.isna().sum()"
   ]
  },
  {
   "cell_type": "markdown",
   "id": "2dc5597b",
   "metadata": {},
   "source": [
    "Сохранить получившийся набор данных в формате CSV"
   ]
  },
  {
   "cell_type": "code",
   "execution_count": 83,
   "id": "90da438b",
   "metadata": {},
   "outputs": [
    {
     "data": {
      "text/plain": [
       "',выживший,класс пассажира,пол,возраст,родня 2 очереди,родня 1 очереди,тариф,порт посадки\\r\\n0,0,3,male,2000.0,1,0,7.25,S\\r\\n1,1,1,female,1984.0,1,0,71.2833,C\\r\\n2,1,3,female,1996.0,0,0,7.925,S\\r\\n3,1,1,female,1987.0,1,0,53.1,S\\r\\n4,0,3,male,1987.0,0,0,8.05,S\\r\\n5,0,3,male,1992.3008823529412,0,0,8.4583,Q\\r\\n6,0,1,male,1968.0,0,0,51.8625,S\\r\\n7,0,3,male,2020.0,3,1,21.075,S\\r\\n8,1,3,female,1995.0,0,2,11.1333,S\\r\\n9,1,2,female,2008.0,1,0,30.0708,C\\r\\n10,1,3,female,2018.0,1,1,16.7,S\\r\\n11,1,1,female,1964.0,0,0,26.55,S\\r\\n12,0,3,male,2002.0,0,0,8.05,S\\r\\n13,0,3,male,1983.0,1,5,31.275,S\\r\\n14,0,3,female,2008.0,0,0,7.8542,S\\r\\n15,1,2,female,1967.0,0,0,16.0,S\\r\\n16,0,3,male,2020.0,4,1,29.125,Q\\r\\n17,1,2,male,1992.3008823529412,0,0,13.0,S\\r\\n18,0,3,female,1991.0,1,0,18.0,S\\r\\n19,1,3,female,1992.3008823529412,0,0,7.225,C\\r\\n20,0,2,male,1987.0,0,0,26.0,S\\r\\n21,1,2,male,1988.0,0,0,13.0,S\\r\\n22,1,3,female,2007.0,0,0,8.0292,Q\\r\\n23,1,1,male,1994.0,0,0,35.5,S\\r\\n24,0,3,female,2014.0,3,1,21.075,S\\r\\n25,1,3,female,1984.0,1,5,31.3875,S\\r\\n26,0,3,male,1992.3008823529412,0,0,7.225,C\\r\\n27,0,1,male,2003.0,3,2,263.0,S\\r\\n28,1,3,female,1992.3008823529412,0,0,7.8792,Q\\r\\n29,0,3,male,1992.3008823529412,0,0,7.8958,S\\r\\n30,0,1,male,1982.0,0,0,27.7208,C\\r\\n31,1,1,female,1992.3008823529412,1,0,146.5208,C\\r\\n32,1,3,female,1992.3008823529412,0,0,7.75,Q\\r\\n33,0,2,male,1956.0,0,0,10.5,S\\r\\n34,0,1,male,1994.0,1,0,82.1708,C\\r\\n35,0,1,male,1980.0,1,0,52.0,S\\r\\n36,1,3,male,1992.3008823529412,0,0,7.2292,C\\r\\n37,0,3,male,2001.0,0,0,8.05,S\\r\\n38,0,3,female,2004.0,2,0,18.0,S\\r\\n39,1,3,female,2008.0,1,0,11.2417,C\\r\\n40,0,3,female,1982.0,1,0,9.475,S\\r\\n41,0,2,female,1995.0,1,0,21.0,S\\r\\n42,0,3,male,1992.3008823529412,0,0,7.8958,C\\r\\n43,1,2,female,2019.0,1,2,41.5792,C\\r\\n44,1,3,female,2003.0,0,0,7.8792,Q\\r\\n45,0,3,male,1992.3008823529412,0,0,8.05,S\\r\\n46,0,3,male,1992.3008823529412,1,0,15.5,Q\\r\\n47,1,3,female,1992.3008823529412,0,0,7.75,Q\\r\\n48,0,3,male,1992.3008823529412,2,0,21.6792,C\\r\\n49,0,3,female,2004.0,1,0,17.8,S\\r\\n50,0,3,male,2015.0,4,1,39.6875,S\\r\\n51,0,3,male,2001.0,0,0,7.8,S\\r\\n52,1,1,female,1973.0,1,0,76.7292,C\\r\\n53,1,2,female,1993.0,1,0,26.0,S\\r\\n54,0,1,male,1957.0,0,1,61.9792,C\\r\\n55,1,1,male,1992.3008823529412,0,0,35.5,S\\r\\n56,1,2,female,2001.0,0,0,10.5,S\\r\\n57,0,3,male,1993.5,0,0,7.2292,C\\r\\n58,1,2,female,2017.0,1,2,27.75,S\\r\\n59,0,3,male,2011.0,5,2,46.9,S\\r\\n60,0,3,male,2000.0,0,0,7.2292,C\\r\\n61,1,1,female,1984.0,0,0,80.0,S\\r\\n62,0,1,male,1977.0,1,0,83.475,S\\r\\n63,0,3,male,2018.0,3,2,27.9,S\\r\\n64,0,1,male,1992.3008823529412,0,0,27.7208,C\\r\\n65,1,3,male,1992.3008823529412,1,1,15.2458,C\\r\\n66,1,2,female,1993.0,0,0,10.5,S\\r\\n67,0,3,male,2003.0,0,0,8.1583,S\\r\\n68,1,3,female,2005.0,4,2,7.925,S\\r\\n69,0,3,male,1996.0,2,0,8.6625,S\\r\\n70,0,2,male,1990.0,0,0,10.5,S\\r\\n71,0,3,female,2006.0,5,2,46.9,S\\r\\n72,0,2,male,2001.0,0,0,73.5,S\\r\\n73,0,3,male,1996.0,1,0,14.4542,C\\r\\n74,1,3,male,1990.0,0,0,56.4958,S\\r\\n75,0,3,male,1997.0,0,0,7.65,S\\r\\n76,0,3,male,1992.3008823529412,0,0,7.8958,S\\r\\n77,0,3,male,1992.3008823529412,0,0,8.05,S\\r\\n78,1,2,male,2021.17,0,2,29.0,S\\r\\n79,1,3,female,1992.0,0,0,12.475,S\\r\\n80,0,3,male,2000.0,0,0,9.0,S\\r\\n81,1,3,male,1993.0,0,0,9.5,S\\r\\n82,1,3,female,1992.3008823529412,0,0,7.7875,Q\\r\\n83,0,1,male,1994.0,0,0,47.1,S\\r\\n84,1,2,female,2005.0,0,0,10.5,S\\r\\n85,1,3,female,1989.0,3,0,15.85,S\\r\\n86,0,3,male,2006.0,1,3,34.375,S\\r\\n87,0,3,male,1992.3008823529412,0,0,8.05,S\\r\\n88,1,1,female,1999.0,3,2,263.0,S\\r\\n89,0,3,male,1998.0,0,0,8.05,S\\r\\n90,0,3,male,1993.0,0,0,8.05,S\\r\\n91,0,3,male,2002.0,0,0,7.8542,S\\r\\n92,0,1,male,1976.0,1,0,61.175,S\\r\\n93,0,3,male,1996.0,1,2,20.575,S\\r\\n94,0,3,male,1963.0,0,0,7.25,S\\r\\n95,0,3,male,1992.3008823529412,0,0,8.05,S\\r\\n96,0,1,male,1951.0,0,0,34.6542,C\\r\\n97,1,1,male,1999.0,0,1,63.3583,C\\r\\n98,1,2,female,1988.0,0,1,23.0,S\\r\\n99,0,2,male,1988.0,1,0,26.0,S\\r\\n100,0,3,female,1994.0,0,0,7.8958,S\\r\\n101,0,3,male,1992.3008823529412,0,0,7.8958,S\\r\\n102,0,1,male,2001.0,0,1,77.2875,S\\r\\n103,0,3,male,1989.0,0,0,8.6542,S\\r\\n104,0,3,male,1985.0,2,0,7.925,S\\r\\n105,0,3,male,1994.0,0,0,7.8958,S\\r\\n106,1,3,female,2001.0,0,0,7.65,S\\r\\n107,1,3,male,1992.3008823529412,0,0,7.775,S\\r\\n108,0,3,male,1984.0,0,0,7.8958,S\\r\\n109,1,3,female,1992.3008823529412,1,0,24.15,Q\\r\\n110,0,1,male,1975.0,0,0,52.0,S\\r\\n111,0,3,female,2007.5,1,0,14.4542,C\\r\\n112,0,3,male,2000.0,0,0,8.05,S\\r\\n113,0,3,female,2002.0,1,0,9.825,S\\r\\n114,0,3,female,2005.0,0,0,14.4583,C\\r\\n115,0,3,male,2001.0,0,0,7.925,S\\r\\n116,0,3,male,1951.5,0,0,7.75,Q\\r\\n117,0,2,male,1993.0,1,0,21.0,S\\r\\n118,0,1,male,1998.0,0,1,247.5208,C\\r\\n119,0,3,female,2020.0,4,2,31.275,S\\r\\n120,0,2,male,2001.0,2,0,73.5,S\\r\\n121,0,3,male,1992.3008823529412,0,0,8.05,S\\r\\n122,0,2,male,1989.5,1,0,30.0708,C\\r\\n123,1,2,female,1989.5,0,0,13.0,S\\r\\n124,0,1,male,1968.0,0,1,77.2875,S\\r\\n125,1,3,male,2010.0,1,0,11.2417,C\\r\\n126,0,3,male,1992.3008823529412,0,0,7.75,Q\\r\\n127,1,3,male,1998.0,0,0,7.1417,S\\r\\n128,1,3,female,1992.3008823529412,1,1,22.3583,C\\r\\n129,0,3,male,1977.0,0,0,6.975,S\\r\\n130,0,3,male,1989.0,0,0,7.8958,C\\r\\n131,0,3,male,2002.0,0,0,7.05,S\\r\\n132,0,3,female,1975.0,1,0,14.5,S\\r\\n133,1,2,female,1993.0,1,0,26.0,S\\r\\n134,0,2,male,1997.0,0,0,13.0,S\\r\\n135,0,2,male,1999.0,0,0,15.0458,C\\r\\n136,1,1,female,2003.0,0,2,26.2833,S\\r\\n137,0,1,male,1985.0,1,0,53.1,S\\r\\n138,0,3,male,2006.0,0,0,9.2167,S\\r\\n139,0,1,male,1998.0,0,0,79.2,C\\r\\n140,0,3,female,1992.3008823529412,0,2,15.2458,C\\r\\n141,1,3,female,2000.0,0,0,7.75,S\\r\\n142,1,3,female,1998.0,1,0,15.85,S\\r\\n143,0,3,male,2003.0,0,0,6.75,Q\\r\\n144,0,2,male,2004.0,0,0,11.5,S\\r\\n145,0,2,male,2003.0,1,1,36.75,S\\r\\n146,1,3,male,1995.0,0,0,7.7958,S\\r\\n147,0,3,female,2013.0,2,2,34.375,S\\r\\n148,0,2,male,1985.5,0,2,26.0,S\\r\\n149,0,2,male,1980.0,0,0,13.0,S\\r\\n150,0,2,male,1971.0,0,0,12.525,S\\r\\n151,1,1,female,2000.0,1,0,66.6,S\\r\\n152,0,3,male,1966.5,0,0,8.05,S\\r\\n153,0,3,male,1981.5,0,2,14.5,S\\r\\n154,0,3,male,1992.3008823529412,0,0,7.3125,S\\r\\n155,0,1,male,1971.0,0,1,61.3792,C\\r\\n156,1,3,female,2006.0,0,0,7.7333,Q\\r\\n157,0,3,male,1992.0,0,0,8.05,S\\r\\n158,0,3,male,1992.3008823529412,0,0,8.6625,S\\r\\n159,0,3,male,1992.3008823529412,8,2,69.55,S\\r\\n160,0,3,male,1978.0,0,1,16.1,S\\r\\n161,1,2,female,1982.0,0,0,15.75,S\\r\\n162,0,3,male,1996.0,0,0,7.775,S\\r\\n163,0,3,male,2005.0,0,0,8.6625,S\\r\\n164,0,3,male,2021.0,4,1,39.6875,S\\r\\n165,1,3,male,2013.0,0,2,20.525,S\\r\\n166,1,1,female,1992.3008823529412,0,1,55.0,S\\r\\n167,0,3,female,1977.0,1,4,27.9,S\\r\\n168,0,1,male,1992.3008823529412,0,0,25.925,S\\r\\n169,0,3,male,1994.0,0,0,56.4958,S\\r\\n170,0,1,male,1961.0,0,0,33.5,S\\r\\n171,0,3,male,2018.0,4,1,29.125,Q\\r\\n172,1,3,female,2021.0,1,1,11.1333,S\\r\\n173,0,3,male,2001.0,0,0,7.925,S\\r\\n174,0,1,male,1966.0,0,0,30.6958,C\\r\\n175,0,3,male,2004.0,1,1,7.8542,S\\r\\n176,0,3,male,1992.3008823529412,3,1,25.4667,S\\r\\n177,0,1,female,1972.0,0,0,28.7125,C\\r\\n178,0,2,male,1992.0,0,0,13.0,S\\r\\n179,0,3,male,1986.0,0,0,0.0,S\\r\\n180,0,3,female,1992.3008823529412,8,2,69.55,S\\r\\n181,0,2,male,1992.3008823529412,0,0,15.05,C\\r\\n182,0,3,male,2013.0,4,2,31.3875,S\\r\\n183,1,2,male,2021.0,2,1,39.0,S\\r\\n184,1,3,female,2018.0,0,2,22.025,S\\r\\n185,0,1,male,1992.3008823529412,0,0,50.0,S\\r\\n186,1,3,female,1992.3008823529412,1,0,15.5,Q\\r\\n187,1,1,male,1977.0,0,0,26.55,S\\r\\n188,0,3,male,1982.0,1,1,15.5,Q\\r\\n189,0,3,male,1986.0,0,0,7.8958,S\\r\\n190,1,2,female,1990.0,0,0,13.0,S\\r\\n191,0,2,male,2003.0,0,0,13.0,S\\r\\n192,1,3,female,2003.0,1,0,7.8542,S\\r\\n193,1,2,male,2019.0,1,1,26.0,S\\r\\n194,1,1,female,1978.0,0,0,27.7208,C\\r\\n195,1,1,female,1964.0,0,0,146.5208,C\\r\\n196,0,3,male,1992.3008823529412,0,0,7.75,Q\\r\\n197,0,3,male,1980.0,0,1,8.4042,S\\r\\n198,1,3,female,1992.3008823529412,0,0,7.75,Q\\r\\n199,0,2,female,1998.0,0,0,13.0,S\\r\\n200,0,3,male,1994.0,0,0,9.5,S\\r\\n201,0,3,male,1992.3008823529412,8,2,69.55,S\\r\\n202,0,3,male,1988.0,0,0,6.4958,S\\r\\n203,0,3,male,1976.5,0,0,7.225,C\\r\\n204,1,3,male,2004.0,0,0,8.05,S\\r\\n205,0,3,female,2020.0,0,1,10.4625,S\\r\\n206,0,3,male,1990.0,1,0,15.85,S\\r\\n207,1,3,male,1996.0,0,0,18.7875,C\\r\\n208,1,3,female,2006.0,0,0,7.75,Q\\r\\n209,1,1,male,1982.0,0,0,31.0,C\\r\\n210,0,3,male,1998.0,0,0,7.05,S\\r\\n211,1,2,female,1987.0,0,0,21.0,S\\r\\n212,0,3,male,2000.0,0,0,7.25,S\\r\\n213,0,2,male,1992.0,0,0,13.0,S\\r\\n214,0,3,male,1992.3008823529412,1,0,7.75,Q\\r\\n215,1,1,female,1991.0,1,0,113.275,C\\r\\n216,1,3,female,1995.0,0,0,7.925,S\\r\\n217,0,2,male,1980.0,1,0,27.0,S\\r\\n218,1,1,female,1990.0,0,0,76.2917,C\\r\\n219,0,2,male,1992.0,0,0,10.5,S\\r\\n220,1,3,male,2006.0,0,0,8.05,S\\r\\n221,0,2,male,1995.0,0,0,13.0,S\\r\\n222,0,3,male,1971.0,0,0,8.05,S\\r\\n223,0,3,male,1992.3008823529412,0,0,7.8958,S\\r\\n224,1,1,male,1984.0,1,0,90.0,S\\r\\n225,0,3,male,2000.0,0,0,9.35,S\\r\\n226,1,2,male,2003.0,0,0,10.5,S\\r\\n227,0,3,male,2001.5,0,0,7.25,S\\r\\n228,0,2,male,2004.0,0,0,13.0,S\\r\\n229,0,3,female,1992.3008823529412,3,1,25.4667,S\\r\\n230,1,1,female,1987.0,1,0,83.475,S\\r\\n231,0,3,male,1993.0,0,0,7.775,S\\r\\n232,0,2,male,1963.0,0,0,13.5,S\\r\\n233,1,3,female,2017.0,4,2,31.3875,S\\r\\n234,0,2,male,1998.0,0,0,10.5,S\\r\\n235,0,3,female,1992.3008823529412,0,0,7.55,S\\r\\n236,0,2,male,1978.0,1,0,26.0,S\\r\\n237,1,2,female,2014.0,0,2,26.25,S\\r\\n238,0,2,male,2003.0,0,0,10.5,S\\r\\n239,0,2,male,1989.0,0,0,12.275,S\\r\\n240,0,3,female,1992.3008823529412,1,0,14.4542,C\\r\\n241,1,3,female,1992.3008823529412,1,0,15.5,Q\\r\\n242,0,2,male,1993.0,0,0,10.5,S\\r\\n243,0,3,male,2000.0,0,0,7.125,S\\r\\n244,0,3,male,1992.0,0,0,7.225,C\\r\\n245,0,1,male,1978.0,2,0,90.0,Q\\r\\n246,0,3,female,1997.0,0,0,7.775,S\\r\\n247,1,2,female,1998.0,0,2,14.5,S\\r\\n248,1,1,male,1985.0,1,1,52.5542,S\\r\\n249,0,2,male,1968.0,1,0,26.0,S\\r\\n250,0,3,male,1992.3008823529412,0,0,7.25,S\\r\\n251,0,3,female,1993.0,1,1,10.4625,S\\r\\n252,0,1,male,1960.0,0,0,26.55,S\\r\\n253,0,3,male,1992.0,1,0,16.1,S\\r\\n254,0,3,female,1981.0,0,2,20.2125,S\\r\\n255,1,3,female,1993.0,0,2,15.2458,C\\r\\n256,1,1,female,1992.3008823529412,0,0,79.2,C\\r\\n257,1,1,female,1992.0,0,0,86.5,S\\r\\n258,1,1,female,1987.0,0,0,512.3292,C\\r\\n259,1,2,female,1972.0,0,1,26.0,S\\r\\n260,0,3,male,1992.3008823529412,0,0,7.75,Q\\r\\n261,1,3,male,2019.0,4,2,31.3875,S\\r\\n262,0,1,male,1970.0,1,1,79.65,S\\r\\n263,0,1,male,1982.0,0,0,0.0,S\\r\\n264,0,3,female,1992.3008823529412,0,0,7.75,Q\\r\\n265,0,2,male,1986.0,0,0,10.5,S\\r\\n266,0,3,male,2006.0,4,1,39.6875,S\\r\\n267,1,3,male,1997.0,1,0,7.775,S\\r\\n268,1,1,female,1964.0,0,1,153.4625,S\\r\\n269,1,1,female,1987.0,0,0,135.6333,S\\r\\n270,0,1,male,1992.3008823529412,0,0,31.0,S\\r\\n271,1,3,male,1997.0,0,0,0.0,S\\r\\n272,1,2,female,1981.0,0,1,19.5,S\\r\\n273,0,1,male,1985.0,0,1,29.7,C\\r\\n274,1,3,female,1992.3008823529412,0,0,7.75,Q\\r\\n275,1,1,female,1959.0,1,0,77.9583,S\\r\\n276,0,3,female,1977.0,0,0,7.75,S\\r\\n277,0,2,male,1992.3008823529412,0,0,0.0,S\\r\\n278,0,3,male,2015.0,4,1,29.125,Q\\r\\n279,1,3,female,1987.0,1,1,20.25,S\\r\\n280,0,3,male,1957.0,0,0,7.75,Q\\r\\n281,0,3,male,1994.0,0,0,7.8542,S\\r\\n282,0,3,male,2006.0,0,0,9.5,S\\r\\n283,1,3,male,2003.0,0,0,8.05,S\\r\\n284,0,1,male,1992.3008823529412,0,0,26.0,S\\r\\n285,0,3,male,1989.0,0,0,8.6625,C\\r\\n286,1,3,male,1992.0,0,0,9.5,S\\r\\n287,0,3,male,2000.0,0,0,7.8958,S\\r\\n288,1,2,male,1980.0,0,0,13.0,S\\r\\n289,1,3,female,2000.0,0,0,7.75,Q\\r\\n290,1,1,female,1996.0,0,0,78.85,S\\r\\n291,1,1,female,2003.0,1,0,91.0792,C\\r\\n292,0,2,male,1986.0,0,0,12.875,C\\r\\n293,0,3,female,1998.0,0,0,8.85,S\\r\\n294,0,3,male,1998.0,0,0,7.8958,S\\r\\n295,0,1,male,1992.3008823529412,0,0,27.7208,C\\r\\n296,0,3,male,1998.5,0,0,7.2292,C\\r\\n297,0,1,female,2020.0,1,2,151.55,S\\r\\n298,1,1,male,1992.3008823529412,0,0,30.5,S\\r\\n299,1,1,female,1972.0,0,1,247.5208,C\\r\\n300,1,3,female,1992.3008823529412,0,0,7.75,Q\\r\\n301,1,3,male,1992.3008823529412,2,0,23.25,Q\\r\\n302,0,3,male,2003.0,0,0,0.0,S\\r\\n303,1,2,female,1992.3008823529412,0,0,12.35,Q\\r\\n304,0,3,male,1992.3008823529412,0,0,8.05,S\\r\\n305,1,1,male,2021.08,1,2,151.55,S\\r\\n306,1,1,female,1992.3008823529412,0,0,110.8833,C\\r\\n307,1,1,female,2005.0,1,0,108.9,C\\r\\n308,0,2,male,1992.0,1,0,24.0,C\\r\\n309,1,1,female,1992.0,0,0,56.9292,C\\r\\n310,1,1,female,1998.0,0,0,83.1583,C\\r\\n311,1,1,female,2004.0,2,2,262.375,C\\r\\n312,0,2,female,1996.0,1,1,26.0,S\\r\\n313,0,3,male,1994.0,0,0,7.8958,S\\r\\n314,0,2,male,1979.0,1,1,26.25,S\\r\\n315,1,3,female,1996.0,0,0,7.8542,S\\r\\n316,1,2,female,1998.0,1,0,26.0,S\\r\\n317,0,2,male,1968.0,0,0,14.0,S\\r\\n318,1,1,female,1991.0,0,2,164.8667,S\\r\\n319,1,1,female,1982.0,1,1,134.5,C\\r\\n320,0,3,male,2000.0,0,0,7.25,S\\r\\n321,0,3,male,1995.0,0,0,7.8958,S\\r\\n322,1,2,female,1992.0,0,0,12.35,Q\\r\\n323,1,2,female,2000.0,1,1,29.0,S\\r\\n324,0,3,male,1992.3008823529412,8,2,69.55,S\\r\\n325,1,1,female,1986.0,0,0,135.6333,C\\r\\n326,0,3,male,1961.0,0,0,6.2375,S\\r\\n327,1,2,female,1986.0,0,0,13.0,S\\r\\n328,1,3,female,1991.0,1,1,20.525,S\\r\\n329,1,1,female,2006.0,0,1,57.9792,C\\r\\n330,1,3,female,1992.3008823529412,2,0,23.25,Q\\r\\n331,0,1,male,1976.5,0,0,28.5,S\\r\\n332,0,1,male,1984.0,0,1,153.4625,S\\r\\n333,0,3,male,2006.0,2,0,18.0,S\\r\\n334,1,1,female,1992.3008823529412,1,0,133.65,S\\r\\n335,0,3,male,1992.3008823529412,0,0,7.8958,S\\r\\n336,0,1,male,1993.0,1,0,66.6,S\\r\\n337,1,1,female,1981.0,0,0,134.5,C\\r\\n338,1,3,male,1977.0,0,0,8.05,S\\r\\n339,0,1,male,1977.0,0,0,35.5,S\\r\\n340,1,2,male,2020.0,1,1,26.0,S\\r\\n341,1,1,female,1998.0,3,2,263.0,S\\r\\n342,0,2,male,1994.0,0,0,13.0,S\\r\\n343,0,2,male,1997.0,0,0,13.0,S\\r\\n344,0,2,male,1986.0,0,0,13.0,S\\r\\n345,1,2,female,1998.0,0,0,13.0,S\\r\\n346,1,2,female,1982.0,0,0,13.0,S\\r\\n347,1,3,female,1992.3008823529412,1,0,16.1,S\\r\\n348,1,3,male,2019.0,1,1,15.9,S\\r\\n349,0,3,male,1980.0,0,0,8.6625,S\\r\\n350,0,3,male,1999.0,0,0,9.225,S\\r\\n351,0,1,male,1992.3008823529412,0,0,35.0,S\\r\\n352,0,3,male,2007.0,1,1,7.2292,C\\r\\n353,0,3,male,1997.0,1,0,17.8,S\\r\\n354,0,3,male,1992.3008823529412,0,0,7.225,C\\r\\n355,0,3,male,1994.0,0,0,9.5,S\\r\\n356,1,1,female,2000.0,0,1,55.0,S\\r\\n357,0,2,female,1984.0,0,0,13.0,S\\r\\n358,1,3,female,1992.3008823529412,0,0,7.8792,Q\\r\\n359,1,3,female,1992.3008823529412,0,0,7.8792,Q\\r\\n360,0,3,male,1982.0,1,4,27.9,S\\r\\n361,0,2,male,1993.0,1,0,27.7208,C\\r\\n362,0,3,female,1977.0,0,1,14.4542,C\\r\\n363,0,3,male,1987.0,0,0,7.05,S\\r\\n364,0,3,male,1992.3008823529412,1,0,15.5,Q\\r\\n365,0,3,male,1992.0,0,0,7.25,S\\r\\n366,1,1,female,1962.0,1,0,75.25,C\\r\\n367,1,3,female,1992.3008823529412,0,0,7.2292,C\\r\\n368,1,3,female,1992.3008823529412,0,0,7.75,Q\\r\\n369,1,1,female,1998.0,0,0,69.3,C\\r\\n370,1,1,male,1997.0,1,0,55.4417,C\\r\\n371,0,3,male,2004.0,1,0,6.4958,S\\r\\n372,0,3,male,2003.0,0,0,8.05,S\\r\\n373,0,1,male,2000.0,0,0,135.6333,C\\r\\n374,0,3,female,2019.0,3,1,21.075,S\\r\\n375,1,1,female,1992.3008823529412,1,0,82.1708,C\\r\\n376,1,3,female,2000.0,0,0,7.25,S\\r\\n377,0,1,male,1995.0,0,2,211.5,C\\r\\n378,0,3,male,2002.0,0,0,4.0125,C\\r\\n379,0,3,male,2003.0,0,0,7.775,S\\r\\n380,1,1,female,1980.0,0,0,227.525,C\\r\\n381,1,3,female,2021.0,0,2,15.7417,C\\r\\n382,0,3,male,1990.0,0,0,7.925,S\\r\\n383,1,1,female,1987.0,1,0,52.0,S\\r\\n384,0,3,male,1992.3008823529412,0,0,7.8958,S\\r\\n385,0,2,male,2004.0,0,0,73.5,S\\r\\n386,0,3,male,2021.0,5,2,46.9,S\\r\\n387,1,2,female,1986.0,0,0,13.0,S\\r\\n388,0,3,male,1992.3008823529412,0,0,7.7292,Q\\r\\n389,1,2,female,2005.0,0,0,12.0,C\\r\\n390,1,1,male,1986.0,1,2,120.0,S\\r\\n391,1,3,male,2001.0,0,0,7.7958,S\\r\\n392,0,3,male,1994.0,2,0,7.925,S\\r\\n393,1,1,female,1999.0,1,0,113.275,C\\r\\n394,1,3,female,1998.0,0,2,16.7,S\\r\\n395,0,3,male,2000.0,0,0,7.7958,S\\r\\n396,0,3,female,1991.0,0,0,7.8542,S\\r\\n397,0,2,male,1976.0,0,0,26.0,S\\r\\n398,0,2,male,1999.0,0,0,10.5,S\\r\\n399,1,2,female,1994.0,0,0,12.65,S\\r\\n400,1,3,male,1983.0,0,0,7.925,S\\r\\n401,0,3,male,1996.0,0,0,8.05,S\\r\\n402,0,3,female,2001.0,1,0,9.825,S\\r\\n403,0,3,male,1994.0,1,0,15.85,S\\r\\n404,0,3,female,2002.0,0,0,8.6625,S\\r\\n405,0,2,male,1988.0,1,0,21.0,S\\r\\n406,0,3,male,1971.0,0,0,7.75,S\\r\\n407,1,2,male,2019.0,1,1,18.75,S\\r\\n408,0,3,male,2001.0,0,0,7.775,S\\r\\n409,0,3,female,1992.3008823529412,3,1,25.4667,S\\r\\n410,0,3,male,1992.3008823529412,0,0,7.8958,S\\r\\n411,0,3,male,1992.3008823529412,0,0,6.8583,Q\\r\\n412,1,1,female,1989.0,1,0,90.0,Q\\r\\n413,0,2,male,1992.3008823529412,0,0,0.0,S\\r\\n414,1,3,male,1978.0,0,0,7.925,S\\r\\n415,0,3,female,1992.3008823529412,0,0,8.05,S\\r\\n416,1,2,female,1988.0,1,1,32.5,S\\r\\n417,1,2,female,2004.0,0,2,13.0,S\\r\\n418,0,2,male,1992.0,0,0,13.0,S\\r\\n419,0,3,female,2012.0,0,2,24.15,S\\r\\n420,0,3,male,1992.3008823529412,0,0,7.8958,C\\r\\n421,0,3,male,2001.0,0,0,7.7333,Q\\r\\n422,0,3,male,1993.0,0,0,7.875,S\\r\\n423,0,3,female,1994.0,1,1,14.4,S\\r\\n424,0,3,male,2004.0,1,1,20.2125,S\\r\\n425,0,3,male,1992.3008823529412,0,0,7.25,S\\r\\n426,1,2,female,1994.0,1,0,26.0,S\\r\\n427,1,2,female,2003.0,0,0,26.0,S\\r\\n428,0,3,male,1992.3008823529412,0,0,7.75,Q\\r\\n429,1,3,male,1990.0,0,0,8.05,S\\r\\n430,1,1,male,1994.0,0,0,26.55,S\\r\\n431,1,3,female,1992.3008823529412,1,0,16.1,S\\r\\n432,1,2,female,1980.0,1,0,26.0,S\\r\\n433,0,3,male,2005.0,0,0,7.125,S\\r\\n434,0,1,male,1972.0,1,0,55.9,S\\r\\n435,1,1,female,2008.0,1,2,120.0,S\\r\\n436,0,3,female,2001.0,2,2,34.375,S\\r\\n437,1,2,female,1998.0,2,3,18.75,S\\r\\n438,0,1,male,1958.0,1,4,263.0,S\\r\\n439,0,2,male,1991.0,0,0,10.5,S\\r\\n440,1,2,female,1977.0,1,1,26.25,S\\r\\n441,0,3,male,2002.0,0,0,9.5,S\\r\\n442,0,3,male,1997.0,1,0,7.775,S\\r\\n443,1,2,female,1994.0,0,0,13.0,S\\r\\n444,1,3,male,1992.3008823529412,0,0,8.1125,S\\r\\n445,1,1,male,2018.0,0,2,81.8583,S\\r\\n446,1,2,female,2009.0,0,1,19.5,S\\r\\n447,1,1,male,1988.0,0,0,26.55,S\\r\\n448,1,3,female,2017.0,2,1,19.2583,C\\r\\n449,1,1,male,1970.0,0,0,30.5,S\\r\\n450,0,2,male,1986.0,1,2,27.75,S\\r\\n451,0,3,male,1992.3008823529412,1,0,19.9667,S\\r\\n452,0,1,male,1992.0,0,0,27.75,C\\r\\n453,1,1,male,1973.0,1,0,89.1042,C\\r\\n454,0,3,male,1992.3008823529412,0,0,8.05,S\\r\\n455,1,3,male,1993.0,0,0,7.8958,C\\r\\n456,0,1,male,1957.0,0,0,26.55,S\\r\\n457,1,1,female,1992.3008823529412,1,0,51.8625,S\\r\\n458,1,2,female,1972.0,0,0,10.5,S\\r\\n459,0,3,male,1992.3008823529412,0,0,7.75,Q\\r\\n460,1,1,male,1974.0,0,0,26.55,S\\r\\n461,0,3,male,1988.0,0,0,8.05,S\\r\\n462,0,1,male,1975.0,0,0,38.5,S\\r\\n463,0,2,male,1974.0,0,0,13.0,S\\r\\n464,0,3,male,1992.3008823529412,0,0,8.05,S\\r\\n465,0,3,male,1984.0,0,0,7.05,S\\r\\n466,0,2,male,1992.3008823529412,0,0,0.0,S\\r\\n467,0,1,male,1966.0,0,0,26.55,S\\r\\n468,0,3,male,1992.3008823529412,0,0,7.725,Q\\r\\n469,1,3,female,2021.25,2,1,19.2583,C\\r\\n470,0,3,male,1992.3008823529412,0,0,7.25,S\\r\\n471,0,3,male,1984.0,0,0,8.6625,S\\r\\n472,1,2,female,1989.0,1,2,27.75,S\\r\\n473,1,2,female,1999.0,0,0,13.7917,C\\r\\n474,0,3,female,2000.0,0,0,9.8375,S\\r\\n475,0,1,male,1992.3008823529412,0,0,52.0,S\\r\\n476,0,2,male,1988.0,1,0,21.0,S\\r\\n477,0,3,male,1993.0,1,0,7.0458,S\\r\\n478,0,3,male,2000.0,0,0,7.5208,S\\r\\n479,1,3,female,2020.0,0,1,12.2875,S\\r\\n480,0,3,male,2013.0,5,2,46.9,S\\r\\n481,0,2,male,1992.3008823529412,0,0,0.0,S\\r\\n482,0,3,male,1972.0,0,0,8.05,S\\r\\n483,1,3,female,1959.0,0,0,9.5875,S\\r\\n484,1,1,male,1997.0,1,0,91.0792,C\\r\\n485,0,3,female,1992.3008823529412,3,1,25.4667,S\\r\\n486,1,1,female,1987.0,1,0,90.0,S\\r\\n487,0,1,male,1964.0,0,0,29.7,C\\r\\n488,0,3,male,1992.0,0,0,8.05,S\\r\\n489,1,3,male,2013.0,1,1,15.9,S\\r\\n490,0,3,male,1992.3008823529412,1,0,19.9667,S\\r\\n491,0,3,male,2001.0,0,0,7.25,S\\r\\n492,0,1,male,1967.0,0,0,30.5,S\\r\\n493,0,1,male,1951.0,0,0,49.5042,C\\r\\n494,0,3,male,2001.0,0,0,8.05,S\\r\\n495,0,3,male,1992.3008823529412,0,0,14.4583,C\\r\\n496,1,1,female,1968.0,1,0,78.2667,C\\r\\n497,0,3,male,1992.3008823529412,0,0,15.1,S\\r\\n498,0,1,female,1997.0,1,2,151.55,S\\r\\n499,0,3,male,1998.0,0,0,7.7958,S\\r\\n500,0,3,male,2005.0,0,0,8.6625,S\\r\\n501,0,3,female,2001.0,0,0,7.75,Q\\r\\n502,0,3,female,1992.3008823529412,0,0,7.6292,Q\\r\\n503,0,3,female,1985.0,0,0,9.5875,S\\r\\n504,1,1,female,2006.0,0,0,86.5,S\\r\\n505,0,1,male,2004.0,1,0,108.9,C\\r\\n506,1,2,female,1989.0,0,2,26.0,S\\r\\n507,1,1,male,1992.3008823529412,0,0,26.55,S\\r\\n508,0,3,male,1994.0,0,0,22.525,S\\r\\n509,1,3,male,1996.0,0,0,56.4958,S\\r\\n510,1,3,male,1993.0,0,0,7.75,Q\\r\\n511,0,3,male,1992.3008823529412,0,0,8.05,S\\r\\n512,1,1,male,1986.0,0,0,26.2875,S\\r\\n513,1,1,female,1968.0,1,0,59.4,C\\r\\n514,0,3,male,1998.0,0,0,7.4958,S\\r\\n515,0,1,male,1975.0,0,0,34.0208,S\\r\\n516,1,2,female,1988.0,0,0,10.5,S\\r\\n517,0,3,male,1992.3008823529412,0,0,24.15,Q\\r\\n518,1,2,female,1986.0,1,0,26.0,S\\r\\n519,0,3,male,1990.0,0,0,7.8958,S\\r\\n520,1,1,female,1992.0,0,0,93.5,S\\r\\n521,0,3,male,2000.0,0,0,7.8958,S\\r\\n522,0,3,male,1992.3008823529412,0,0,7.225,C\\r\\n523,1,1,female,1978.0,0,1,57.9792,C\\r\\n524,0,3,male,1992.3008823529412,0,0,7.2292,C\\r\\n525,0,3,male,1981.5,0,0,7.75,Q\\r\\n526,1,2,female,1972.0,0,0,10.5,S\\r\\n527,0,1,male,1992.3008823529412,0,0,221.7792,S\\r\\n528,0,3,male,1983.0,0,0,7.925,S\\r\\n529,0,2,male,1999.0,2,1,11.5,S\\r\\n530,1,2,female,2020.0,1,1,26.0,S\\r\\n531,0,3,male,1992.3008823529412,0,0,7.2292,C\\r\\n532,0,3,male,2005.0,1,1,7.2292,C\\r\\n533,1,3,female,1992.3008823529412,0,2,22.3583,C\\r\\n534,0,3,female,1992.0,0,0,8.6625,S\\r\\n535,1,2,female,2015.0,0,2,26.25,S\\r\\n536,0,1,male,1977.0,0,0,26.55,S\\r\\n537,1,1,female,1992.0,0,0,106.425,C\\r\\n538,0,3,male,1992.3008823529412,0,0,14.5,S\\r\\n539,1,1,female,2000.0,0,2,49.5,C\\r\\n540,1,1,female,1986.0,0,2,71.0,S\\r\\n541,0,3,female,2013.0,4,2,31.275,S\\r\\n542,0,3,female,2011.0,4,2,31.275,S\\r\\n543,1,2,male,1990.0,1,0,26.0,S\\r\\n544,0,1,male,1972.0,1,0,106.425,C\\r\\n545,0,1,male,1958.0,0,0,26.0,S\\r\\n546,1,2,female,2003.0,1,0,26.0,S\\r\\n547,1,2,male,1992.3008823529412,0,0,13.8625,C\\r\\n548,0,3,male,1989.0,1,1,20.525,S\\r\\n549,1,2,male,2014.0,1,1,36.75,S\\r\\n550,1,1,male,2005.0,0,2,110.8833,C\\r\\n551,0,2,male,1995.0,0,0,26.0,S\\r\\n552,0,3,male,1992.3008823529412,0,0,7.8292,Q\\r\\n553,1,3,male,2000.0,0,0,7.225,C\\r\\n554,1,3,female,2000.0,0,0,7.775,S\\r\\n555,0,1,male,1960.0,0,0,26.55,S\\r\\n556,1,1,female,1974.0,1,0,39.6,C\\r\\n557,0,1,male,1992.3008823529412,0,0,227.525,C\\r\\n558,1,1,female,1983.0,1,1,79.65,S\\r\\n559,1,3,female,1986.0,1,0,17.4,S\\r\\n560,0,3,male,1992.3008823529412,0,0,7.75,Q\\r\\n561,0,3,male,1982.0,0,0,7.8958,S\\r\\n562,0,2,male,1994.0,0,0,13.5,S\\r\\n563,0,3,male,1992.3008823529412,0,0,8.05,S\\r\\n564,0,3,female,1992.3008823529412,0,0,8.05,S\\r\\n565,0,3,male,1998.0,2,0,24.15,S\\r\\n566,0,3,male,2003.0,0,0,7.8958,S\\r\\n567,0,3,female,1993.0,0,4,21.075,S\\r\\n568,0,3,male,1992.3008823529412,0,0,7.2292,C\\r\\n569,1,3,male,1990.0,0,0,7.8542,S\\r\\n570,1,2,male,1960.0,0,0,10.5,S\\r\\n571,1,1,female,1969.0,2,0,51.4792,S\\r\\n572,1,1,male,1986.0,0,0,26.3875,S\\r\\n573,1,3,female,1992.3008823529412,0,0,7.75,Q\\r\\n574,0,3,male,2006.0,0,0,8.05,S\\r\\n575,0,3,male,2003.0,0,0,14.5,S\\r\\n576,1,2,female,1988.0,0,0,13.0,S\\r\\n577,1,1,female,1983.0,1,0,55.9,S\\r\\n578,0,3,female,1992.3008823529412,1,0,14.4583,C\\r\\n579,1,3,male,1990.0,0,0,7.925,S\\r\\n580,1,2,female,1997.0,1,1,30.0,S\\r\\n581,1,1,female,1983.0,1,1,110.8833,C\\r\\n582,0,2,male,1968.0,0,0,26.0,S\\r\\n583,0,1,male,1986.0,0,0,40.125,C\\r\\n584,0,3,male,1992.3008823529412,0,0,8.7125,C\\r\\n585,1,1,female,2004.0,0,2,79.65,S\\r\\n586,0,2,male,1975.0,0,0,15.0,S\\r\\n587,1,1,male,1962.0,1,1,79.2,C\\r\\n588,0,3,male,2000.0,0,0,8.05,S\\r\\n589,0,3,male,1992.3008823529412,0,0,8.05,S\\r\\n590,0,3,male,1987.0,0,0,7.125,S\\r\\n591,1,1,female,1970.0,1,0,78.2667,C\\r\\n592,0,3,male,1975.0,0,0,7.25,S\\r\\n593,0,3,female,1992.3008823529412,0,2,7.75,Q\\r\\n594,0,2,male,1985.0,1,0,26.0,S\\r\\n595,0,3,male,1986.0,1,1,24.15,S\\r\\n596,1,2,female,1992.3008823529412,0,0,33.0,S\\r\\n597,0,3,male,1973.0,0,0,0.0,S\\r\\n598,0,3,male,1992.3008823529412,0,0,7.225,C\\r\\n599,1,1,male,1973.0,1,0,56.9292,C\\r\\n600,1,2,female,1998.0,2,1,27.0,S\\r\\n601,0,3,male,1992.3008823529412,0,0,7.8958,S\\r\\n602,0,1,male,1992.3008823529412,0,0,42.4,S\\r\\n603,0,3,male,1978.0,0,0,8.05,S\\r\\n604,1,1,male,1987.0,0,0,26.55,C\\r\\n605,0,3,male,1986.0,1,0,15.55,S\\r\\n606,0,3,male,1992.0,0,0,7.8958,S\\r\\n607,1,1,male,1995.0,0,0,30.5,S\\r\\n608,1,2,female,2000.0,1,2,41.5792,C\\r\\n609,1,1,female,1982.0,0,0,153.4625,S\\r\\n610,0,3,female,1983.0,1,5,31.275,S\\r\\n611,0,3,male,1992.3008823529412,0,0,7.05,S\\r\\n612,1,3,female,1992.3008823529412,1,0,15.5,Q\\r\\n613,0,3,male,1992.3008823529412,0,0,7.75,Q\\r\\n614,0,3,male,1987.0,0,0,8.05,S\\r\\n615,1,2,female,1998.0,1,2,65.0,S\\r\\n616,0,3,male,1988.0,1,1,14.4,S\\r\\n617,0,3,female,1996.0,1,0,16.1,S\\r\\n618,1,2,female,2018.0,2,1,39.0,S\\r\\n619,0,2,male,1996.0,0,0,10.5,S\\r\\n620,0,3,male,1995.0,1,0,14.4542,C\\r\\n621,1,1,male,1980.0,1,0,52.5542,S\\r\\n622,1,3,male,2002.0,1,1,15.7417,C\\r\\n623,0,3,male,2001.0,0,0,7.8542,S\\r\\n624,0,3,male,2001.0,0,0,16.1,S\\r\\n625,0,1,male,1961.0,0,0,32.3208,S\\r\\n626,0,2,male,1965.0,0,0,12.35,Q\\r\\n627,1,1,female,2001.0,0,0,77.9583,S\\r\\n628,0,3,male,1996.0,0,0,7.8958,S\\r\\n629,0,3,male,1992.3008823529412,0,0,7.7333,Q\\r\\n630,1,1,male,1942.0,0,0,30.0,S\\r\\n631,0,3,male,1971.0,0,0,7.0542,S\\r\\n632,1,1,male,1990.0,0,0,30.5,C\\r\\n633,0,1,male,1992.3008823529412,0,0,0.0,S\\r\\n634,0,3,female,2013.0,3,2,27.9,S\\r\\n635,1,2,female,1994.0,0,0,13.0,S\\r\\n636,0,3,male,1990.0,0,0,7.925,S\\r\\n637,0,2,male,1991.0,1,1,26.25,S\\r\\n638,0,3,female,1981.0,0,5,39.6875,S\\r\\n639,0,3,male,1992.3008823529412,1,0,16.1,S\\r\\n640,0,3,male,2002.0,0,0,7.8542,S\\r\\n641,1,1,female,1998.0,0,0,69.3,C\\r\\n642,0,3,female,2020.0,3,2,27.9,S\\r\\n643,1,3,male,1992.3008823529412,0,0,56.4958,S\\r\\n644,1,3,female,2021.25,2,1,19.2583,C\\r\\n645,1,1,male,1974.0,1,0,76.7292,C\\r\\n646,0,3,male,2003.0,0,0,7.8958,S\\r\\n647,1,1,male,1966.0,0,0,35.5,C\\r\\n648,0,3,male,1992.3008823529412,0,0,7.55,S\\r\\n649,1,3,female,1999.0,0,0,7.55,S\\r\\n650,0,3,male,1992.3008823529412,0,0,7.8958,S\\r\\n651,1,2,female,2004.0,0,1,23.0,S\\r\\n652,0,3,male,2001.0,0,0,8.4333,S\\r\\n653,1,3,female,1992.3008823529412,0,0,7.8292,Q\\r\\n654,0,3,female,2004.0,0,0,6.75,Q\\r\\n655,0,2,male,1998.0,2,0,73.5,S\\r\\n656,0,3,male,1992.3008823529412,0,0,7.8958,S\\r\\n657,0,3,female,1990.0,1,1,15.5,Q\\r\\n658,0,2,male,1999.0,0,0,13.0,S\\r\\n659,0,1,male,1964.0,0,2,113.275,C\\r\\n660,1,1,male,1972.0,2,0,133.65,S\\r\\n661,0,3,male,1982.0,0,0,7.225,C\\r\\n662,0,1,male,1975.0,0,0,25.5875,S\\r\\n663,0,3,male,1986.0,0,0,7.4958,S\\r\\n664,1,3,male,2002.0,1,0,7.925,S\\r\\n665,0,2,male,1990.0,2,0,73.5,S\\r\\n666,0,2,male,1997.0,0,0,13.0,S\\r\\n667,0,3,male,1992.3008823529412,0,0,7.775,S\\r\\n668,0,3,male,1979.0,0,0,8.05,S\\r\\n669,1,1,female,1992.3008823529412,1,0,52.0,S\\r\\n670,1,2,female,1982.0,1,1,39.0,S\\r\\n671,0,1,male,1991.0,1,0,52.0,S\\r\\n672,0,2,male,1952.0,0,0,10.5,S\\r\\n673,1,2,male,1991.0,0,0,13.0,S\\r\\n674,0,2,male,1992.3008823529412,0,0,0.0,S\\r\\n675,0,3,male,2004.0,0,0,7.775,S\\r\\n676,0,3,male,1997.5,0,0,8.05,S\\r\\n677,1,3,female,2004.0,0,0,9.8417,S\\r\\n678,0,3,female,1979.0,1,6,46.9,S\\r\\n679,1,1,male,1986.0,0,1,512.3292,C\\r\\n680,0,3,female,1992.3008823529412,0,0,8.1375,Q\\r\\n681,1,1,male,1995.0,0,0,76.7292,C\\r\\n682,0,3,male,2002.0,0,0,9.225,S\\r\\n683,0,3,male,2008.0,5,2,46.9,S\\r\\n684,0,2,male,1962.0,1,1,39.0,S\\r\\n685,0,2,male,1997.0,1,2,41.5792,C\\r\\n686,0,3,male,2008.0,4,1,39.6875,S\\r\\n687,0,3,male,2003.0,0,0,10.1708,S\\r\\n688,0,3,male,2004.0,0,0,7.7958,S\\r\\n689,1,1,female,2007.0,0,1,211.3375,S\\r\\n690,1,1,male,1991.0,1,0,57.0,S\\r\\n691,1,3,female,2018.0,0,1,13.4167,C\\r\\n692,1,3,male,1992.3008823529412,0,0,56.4958,S\\r\\n693,0,3,male,1997.0,0,0,7.225,C\\r\\n694,0,1,male,1962.0,0,0,26.55,S\\r\\n695,0,2,male,1970.0,0,0,13.5,S\\r\\n696,0,3,male,1978.0,0,0,8.05,S\\r\\n697,1,3,female,1992.3008823529412,0,0,7.7333,Q\\r\\n698,0,1,male,1973.0,1,1,110.8833,C\\r\\n699,0,3,male,1980.0,0,0,7.65,S\\r\\n700,1,1,female,2004.0,1,0,227.525,C\\r\\n701,1,1,male,1987.0,0,0,26.2875,S\\r\\n702,0,3,female,2004.0,0,1,14.4542,C\\r\\n703,0,3,male,1997.0,0,0,7.7417,Q\\r\\n704,0,3,male,1996.0,1,0,7.8542,S\\r\\n705,0,2,male,1983.0,0,0,26.0,S\\r\\n706,1,2,female,1977.0,0,0,13.5,S\\r\\n707,1,1,male,1980.0,0,0,26.2875,S\\r\\n708,1,1,female,2000.0,0,0,151.55,S\\r\\n709,1,3,male,1992.3008823529412,1,1,15.2458,C\\r\\n710,1,1,female,1998.0,0,0,49.5042,C\\r\\n711,0,1,male,1992.3008823529412,0,0,26.55,S\\r\\n712,1,1,male,1974.0,1,0,52.0,S\\r\\n713,0,3,male,1993.0,0,0,9.4833,S\\r\\n714,0,2,male,1970.0,0,0,13.0,S\\r\\n715,0,3,male,2003.0,0,0,7.65,S\\r\\n716,1,1,female,1984.0,0,0,227.525,C\\r\\n717,1,2,female,1995.0,0,0,10.5,S\\r\\n718,0,3,male,1992.3008823529412,0,0,15.5,Q\\r\\n719,0,3,male,1989.0,0,0,7.775,S\\r\\n720,1,2,female,2016.0,0,1,33.0,S\\r\\n721,0,3,male,2005.0,1,0,7.0542,S\\r\\n722,0,2,male,1988.0,0,0,13.0,S\\r\\n723,0,2,male,1972.0,0,0,13.0,S\\r\\n724,1,1,male,1995.0,1,0,53.1,S\\r\\n725,0,3,male,2002.0,0,0,8.6625,S\\r\\n726,1,2,female,1992.0,3,0,21.0,S\\r\\n727,1,3,female,1992.3008823529412,0,0,7.7375,Q\\r\\n728,0,2,male,1997.0,1,0,26.0,S\\r\\n729,0,3,female,1997.0,1,0,7.925,S\\r\\n730,1,1,female,1993.0,0,0,211.3375,S\\r\\n731,0,3,male,2011.0,0,0,18.7875,C\\r\\n732,0,2,male,1992.3008823529412,0,0,0.0,S\\r\\n733,0,2,male,1999.0,0,0,13.0,S\\r\\n734,0,2,male,1999.0,0,0,13.0,S\\r\\n735,0,3,male,1993.5,0,0,16.1,S\\r\\n736,0,3,female,1974.0,1,3,34.375,S\\r\\n737,1,1,male,1987.0,0,0,512.3292,C\\r\\n738,0,3,male,1992.3008823529412,0,0,7.8958,S\\r\\n739,0,3,male,1992.3008823529412,0,0,7.8958,S\\r\\n740,1,1,male,1992.3008823529412,0,0,30.0,S\\r\\n741,0,1,male,1986.0,1,0,78.85,S\\r\\n742,1,1,female,2001.0,2,2,262.375,C\\r\\n743,0,3,male,1998.0,1,0,16.1,S\\r\\n744,1,3,male,1991.0,0,0,7.925,S\\r\\n745,0,1,male,1952.0,1,1,71.0,S\\r\\n746,0,3,male,2006.0,1,1,20.25,S\\r\\n747,1,2,female,1992.0,0,0,13.0,S\\r\\n748,0,1,male,2003.0,1,0,53.1,S\\r\\n749,0,3,male,1991.0,0,0,7.75,Q\\r\\n750,1,2,female,2018.0,1,1,23.0,S\\r\\n751,1,3,male,2016.0,0,1,12.475,S\\r\\n752,0,3,male,1989.0,0,0,9.5,S\\r\\n753,0,3,male,1999.0,0,0,7.8958,S\\r\\n754,1,2,female,1974.0,1,2,65.0,S\\r\\n755,1,2,male,2021.33,1,1,14.5,S\\r\\n756,0,3,male,1994.0,0,0,7.7958,S\\r\\n757,0,2,male,2004.0,0,0,11.5,S\\r\\n758,0,3,male,1988.0,0,0,8.05,S\\r\\n759,1,1,female,1989.0,0,0,86.5,S\\r\\n760,0,3,male,1992.3008823529412,0,0,14.5,S\\r\\n761,0,3,male,1981.0,0,0,7.125,S\\r\\n762,1,3,male,2002.0,0,0,7.2292,C\\r\\n763,1,1,female,1986.0,1,2,120.0,S\\r\\n764,0,3,male,2006.0,0,0,7.775,S\\r\\n765,1,1,female,1971.0,1,0,77.9583,S\\r\\n766,0,1,male,1992.3008823529412,0,0,39.6,C\\r\\n767,0,3,female,1991.5,0,0,7.75,Q\\r\\n768,0,3,male,1992.3008823529412,1,0,24.15,Q\\r\\n769,0,3,male,1990.0,0,0,8.3625,S\\r\\n770,0,3,male,1998.0,0,0,9.5,S\\r\\n771,0,3,male,1974.0,0,0,7.8542,S\\r\\n772,0,2,female,1965.0,0,0,10.5,S\\r\\n773,0,3,male,1992.3008823529412,0,0,7.225,C\\r\\n774,1,2,female,1968.0,1,3,23.0,S\\r\\n775,0,3,male,2004.0,0,0,7.75,S\\r\\n776,0,3,male,1992.3008823529412,0,0,7.75,Q\\r\\n777,1,3,female,2017.0,0,0,12.475,S\\r\\n778,0,3,male,1992.3008823529412,0,0,7.7375,Q\\r\\n779,1,1,female,1979.0,0,1,211.3375,S\\r\\n780,1,3,female,2009.0,0,0,7.2292,C\\r\\n781,1,1,female,2005.0,1,0,57.0,S\\r\\n782,0,1,male,1993.0,0,0,30.0,S\\r\\n783,0,3,male,1992.3008823529412,1,2,23.45,S\\r\\n784,0,3,male,1997.0,0,0,7.05,S\\r\\n785,0,3,male,1997.0,0,0,7.25,S\\r\\n786,1,3,female,2004.0,0,0,7.4958,S\\r\\n787,0,3,male,2014.0,4,1,29.125,Q\\r\\n788,1,3,male,2021.0,1,2,20.575,S\\r\\n789,0,1,male,1976.0,0,0,79.2,C\\r\\n790,0,3,male,1992.3008823529412,0,0,7.75,Q\\r\\n791,0,2,male,2006.0,0,0,26.0,S\\r\\n792,0,3,female,1992.3008823529412,8,2,69.55,S\\r\\n793,0,1,male,1992.3008823529412,0,0,30.6958,C\\r\\n794,0,3,male,1997.0,0,0,7.8958,S\\r\\n795,0,2,male,1983.0,0,0,13.0,S\\r\\n796,1,1,female,1973.0,0,0,25.9292,S\\r\\n797,1,3,female,1991.0,0,0,8.6833,S\\r\\n798,0,3,male,1992.0,0,0,7.2292,C\\r\\n799,0,3,female,1992.0,1,1,24.15,S\\r\\n800,0,2,male,1988.0,0,0,13.0,S\\r\\n801,1,2,female,1991.0,1,1,26.25,S\\r\\n802,1,1,male,2011.0,1,2,120.0,S\\r\\n803,1,3,male,2021.58,0,1,8.5167,C\\r\\n804,1,3,male,1995.0,0,0,6.975,S\\r\\n805,0,3,male,1991.0,0,0,7.775,S\\r\\n806,0,1,male,1983.0,0,0,0.0,S\\r\\n807,0,3,female,2004.0,0,0,7.775,S\\r\\n808,0,2,male,1983.0,0,0,13.0,S\\r\\n809,1,1,female,1989.0,1,0,53.1,S\\r\\n810,0,3,male,1996.0,0,0,7.8875,S\\r\\n811,0,3,male,1983.0,0,0,24.15,S\\r\\n812,0,2,male,1987.0,0,0,10.5,S\\r\\n813,0,3,female,2016.0,4,2,31.275,S\\r\\n814,0,3,male,1991.5,0,0,8.05,S\\r\\n815,0,1,male,1992.3008823529412,0,0,0.0,S\\r\\n816,0,3,female,1999.0,0,0,7.925,S\\r\\n817,0,2,male,1991.0,1,1,37.0042,C\\r\\n818,0,3,male,1979.0,0,0,6.45,S\\r\\n819,0,3,male,2012.0,3,2,27.9,S\\r\\n820,1,1,female,1970.0,1,1,93.5,S\\r\\n821,1,3,male,1995.0,0,0,8.6625,S\\r\\n822,0,1,male,1984.0,0,0,0.0,S\\r\\n823,1,3,female,1995.0,0,1,12.475,S\\r\\n824,0,3,male,2020.0,4,1,39.6875,S\\r\\n825,0,3,male,1992.3008823529412,0,0,6.95,Q\\r\\n826,0,3,male,1992.3008823529412,0,0,56.4958,S\\r\\n827,1,2,male,2021.0,0,2,37.0042,C\\r\\n828,1,3,male,1992.3008823529412,0,0,7.75,Q\\r\\n829,1,1,female,1960.0,0,0,80.0,S\\r\\n830,1,3,female,2007.0,1,0,14.4542,C\\r\\n831,1,2,male,2021.17,1,1,18.75,S\\r\\n832,0,3,male,1992.3008823529412,0,0,7.2292,C\\r\\n833,0,3,male,1999.0,0,0,7.8542,S\\r\\n834,0,3,male,2004.0,0,0,8.3,S\\r\\n835,1,1,female,1983.0,1,1,83.1583,C\\r\\n836,0,3,male,2001.0,0,0,8.6625,S\\r\\n837,0,3,male,1992.3008823529412,0,0,8.05,S\\r\\n838,1,3,male,1990.0,0,0,56.4958,S\\r\\n839,1,1,male,1992.3008823529412,0,0,29.7,C\\r\\n840,0,3,male,2002.0,0,0,7.925,S\\r\\n841,0,2,male,2006.0,0,0,10.5,S\\r\\n842,1,1,female,1992.0,0,0,31.0,C\\r\\n843,0,3,male,1987.5,0,0,6.4375,C\\r\\n844,0,3,male,2005.0,0,0,8.6625,S\\r\\n845,0,3,male,1980.0,0,0,7.55,S\\r\\n846,0,3,male,1992.3008823529412,8,2,69.55,S\\r\\n847,0,3,male,1987.0,0,0,7.8958,C\\r\\n848,0,2,male,1994.0,0,1,33.0,S\\r\\n849,1,1,female,1992.3008823529412,1,0,89.1042,C\\r\\n850,0,3,male,2018.0,4,2,31.275,S\\r\\n851,0,3,male,1948.0,0,0,7.775,S\\r\\n852,0,3,female,2013.0,1,1,15.2458,C\\r\\n853,1,1,female,2006.0,0,1,39.4,S\\r\\n854,0,2,female,1978.0,1,0,26.0,S\\r\\n855,1,3,female,2004.0,0,1,9.35,S\\r\\n856,1,1,female,1977.0,1,1,164.8667,S\\r\\n857,1,1,male,1971.0,0,0,26.55,S\\r\\n858,1,3,female,1998.0,0,3,19.2583,C\\r\\n859,0,3,male,1992.3008823529412,0,0,7.2292,C\\r\\n860,0,3,male,1981.0,2,0,14.1083,S\\r\\n861,0,2,male,2001.0,1,0,11.5,S\\r\\n862,1,1,female,1974.0,0,0,25.9292,S\\r\\n863,0,3,female,1992.3008823529412,8,2,69.55,S\\r\\n864,0,2,male,1998.0,0,0,13.0,S\\r\\n865,1,2,female,1980.0,0,0,13.0,S\\r\\n866,1,2,female,1995.0,1,0,13.8583,C\\r\\n867,0,1,male,1991.0,0,0,50.4958,S\\r\\n868,0,3,male,1992.3008823529412,0,0,9.5,S\\r\\n869,1,3,male,2018.0,1,1,11.1333,S\\r\\n870,0,3,male,1996.0,0,0,7.8958,S\\r\\n871,1,1,female,1975.0,1,1,52.5542,S\\r\\n872,0,1,male,1989.0,0,0,5.0,S\\r\\n873,0,3,male,1975.0,0,0,9.0,S\\r\\n874,1,2,female,1994.0,1,0,24.0,C\\r\\n875,1,3,female,2007.0,0,0,7.225,C\\r\\n876,0,3,male,2002.0,0,0,9.8458,S\\r\\n877,0,3,male,2003.0,0,0,7.8958,S\\r\\n878,0,3,male,1992.3008823529412,0,0,7.8958,S\\r\\n879,1,1,female,1966.0,0,1,83.1583,C\\r\\n880,1,2,female,1997.0,0,1,26.0,S\\r\\n881,0,3,male,1989.0,0,0,7.8958,S\\r\\n882,0,3,female,2000.0,0,0,10.5167,S\\r\\n883,0,2,male,1994.0,0,0,10.5,S\\r\\n884,0,3,male,1997.0,0,0,7.05,S\\r\\n885,0,3,female,1983.0,0,5,29.125,Q\\r\\n886,0,2,male,1995.0,0,0,13.0,S\\r\\n887,1,1,female,2003.0,0,0,30.0,S\\r\\n888,0,3,female,1992.3008823529412,1,2,23.45,S\\r\\n889,1,1,male,1996.0,0,0,30.0,C\\r\\n890,0,3,male,1990.0,0,0,7.75,Q\\r\\n'"
      ]
     },
     "execution_count": 83,
     "metadata": {},
     "output_type": "execute_result"
    }
   ],
   "source": [
    "df.to_csv()"
   ]
  },
  {
   "cell_type": "markdown",
   "id": "2003196c",
   "metadata": {},
   "source": [
    "Открыть данный файл в программе Microsoft Excel и сохранить в формате .xlsx"
   ]
  },
  {
   "cell_type": "markdown",
   "id": "6555ffab",
   "metadata": {},
   "source": [
    "Считать файл .xlsx в новый DataFrame"
   ]
  },
  {
   "cell_type": "code",
   "execution_count": null,
   "id": "0cb72756",
   "metadata": {},
   "outputs": [],
   "source": [
    "new_df = np.read_excel('df.xlsx')\n",
    "new_df"
   ]
  },
  {
   "cell_type": "markdown",
   "id": "7bb87194",
   "metadata": {},
   "source": [
    "## Контрольные вопросы\n",
    "<li>Какие две главные структуры данных используются в pandas? В чем их отличие?</li>\n",
    "<li>Назовите основные функции чтения данных из файлов</li>\n",
    "<li>Напишите функцию записи набора данных А в файл с разделителями-запятыми</li>\n",
    "<li>Как называется функция, выводящая на экран первые N строчек набора данных?</li>\n",
    "<li>С помощью какой функции можно удалить поле набора данных? А строку?</li>\n",
    "<li>Напишите участок кода, демонстрирующий возможность добавления новой строки к набору данных.</li>\n",
    "<li>Напишите участок кода, демонстрирующий возможность добавления новой колонки (поля) к набору данных.</li>"
   ]
  },
  {
   "cell_type": "code",
   "execution_count": null,
   "id": "a84ec404",
   "metadata": {},
   "outputs": [],
   "source": []
  }
 ],
 "metadata": {
  "kernelspec": {
   "display_name": "Python 3",
   "language": "python",
   "name": "python3"
  },
  "language_info": {
   "codemirror_mode": {
    "name": "ipython",
    "version": 3
   },
   "file_extension": ".py",
   "mimetype": "text/x-python",
   "name": "python",
   "nbconvert_exporter": "python",
   "pygments_lexer": "ipython3",
   "version": "3.8.8"
  }
 },
 "nbformat": 4,
 "nbformat_minor": 5
}
