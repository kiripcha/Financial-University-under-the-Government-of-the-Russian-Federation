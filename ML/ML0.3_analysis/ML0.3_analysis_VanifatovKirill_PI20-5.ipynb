{
 "cells": [
  {
   "cell_type": "markdown",
   "id": "4410927d",
   "metadata": {},
   "source": [
    "# 0.3. Простой анализ данных"
   ]
  },
  {
   "cell_type": "markdown",
   "id": "2770077e",
   "metadata": {},
   "source": [
    "## Цель работы\n",
    "Освоить основные приемы работы с библиотекой numpy."
   ]
  },
  {
   "cell_type": "markdown",
   "id": "c4ed923f",
   "metadata": {},
   "source": [
    "## Задания для выполнения\n",
    "Вам даны данные результатов ЕГЭ по различным предметам. Выполните следующие действия:\n"
   ]
  },
  {
   "cell_type": "code",
   "execution_count": 2,
   "id": "7074b3d7",
   "metadata": {},
   "outputs": [],
   "source": [
    "import pandas as pd\n",
    "import numpy as np"
   ]
  },
  {
   "cell_type": "markdown",
   "id": "57482cf0",
   "metadata": {},
   "source": [
    "Загрузите данные в ноутбук"
   ]
  },
  {
   "cell_type": "code",
   "execution_count": 3,
   "id": "01d64e75",
   "metadata": {},
   "outputs": [
    {
     "data": {
      "text/html": [
       "<div>\n",
       "<style scoped>\n",
       "    .dataframe tbody tr th:only-of-type {\n",
       "        vertical-align: middle;\n",
       "    }\n",
       "\n",
       "    .dataframe tbody tr th {\n",
       "        vertical-align: top;\n",
       "    }\n",
       "\n",
       "    .dataframe thead th {\n",
       "        text-align: right;\n",
       "    }\n",
       "</style>\n",
       "<table border=\"1\" class=\"dataframe\">\n",
       "  <thead>\n",
       "    <tr style=\"text-align: right;\">\n",
       "      <th></th>\n",
       "      <th>01-Русский язык</th>\n",
       "      <th>Unnamed: 1</th>\n",
       "      <th>Unnamed: 2</th>\n",
       "      <th>Unnamed: 3</th>\n",
       "      <th>Unnamed: 4</th>\n",
       "      <th>Unnamed: 5</th>\n",
       "      <th>Unnamed: 6</th>\n",
       "      <th>Unnamed: 7</th>\n",
       "      <th>Unnamed: 8</th>\n",
       "      <th>Unnamed: 9</th>\n",
       "      <th>Unnamed: 10</th>\n",
       "    </tr>\n",
       "  </thead>\n",
       "  <tbody>\n",
       "    <tr>\n",
       "      <th>0</th>\n",
       "      <td>NaN</td>\n",
       "      <td>NaN</td>\n",
       "      <td>NaN</td>\n",
       "      <td>NaN</td>\n",
       "      <td>NaN</td>\n",
       "      <td>NaN</td>\n",
       "      <td>NaN</td>\n",
       "      <td>NaN</td>\n",
       "      <td>NaN</td>\n",
       "      <td>NaN</td>\n",
       "      <td>NaN</td>\n",
       "    </tr>\n",
       "    <tr>\n",
       "      <th>1</th>\n",
       "      <td>№</td>\n",
       "      <td>№ школы</td>\n",
       "      <td>Класс</td>\n",
       "      <td>Пол</td>\n",
       "      <td>Номер варианта</td>\n",
       "      <td>Задания с кратким ответом</td>\n",
       "      <td>Задания с развёрнутым ответом</td>\n",
       "      <td>Устная часть</td>\n",
       "      <td>Первичный балл</td>\n",
       "      <td>Балл</td>\n",
       "      <td>Минимальный балл</td>\n",
       "    </tr>\n",
       "    <tr>\n",
       "      <th>2</th>\n",
       "      <td>1</td>\n",
       "      <td>117</td>\n",
       "      <td>11</td>\n",
       "      <td>М</td>\n",
       "      <td>341</td>\n",
       "      <td>1+++--1+-++---0---------0</td>\n",
       "      <td>0(1)0(3)0(1)0(3)0(2)0(2)0(3)0(3)0(2)0(2)0(1)0(1)</td>\n",
       "      <td>NaN</td>\n",
       "      <td>8</td>\n",
       "      <td>20</td>\n",
       "      <td>24</td>\n",
       "    </tr>\n",
       "    <tr>\n",
       "      <th>3</th>\n",
       "      <td>2</td>\n",
       "      <td>148</td>\n",
       "      <td>12А</td>\n",
       "      <td>М</td>\n",
       "      <td>338</td>\n",
       "      <td>1+---+0--+---+0----++-+-0</td>\n",
       "      <td>0(1)0(3)0(1)0(3)0(2)0(2)0(3)0(3)0(2)0(2)0(1)0(1)</td>\n",
       "      <td>NaN</td>\n",
       "      <td>8</td>\n",
       "      <td>20</td>\n",
       "      <td>24</td>\n",
       "    </tr>\n",
       "    <tr>\n",
       "      <th>4</th>\n",
       "      <td>3</td>\n",
       "      <td>152</td>\n",
       "      <td>13</td>\n",
       "      <td>Ж</td>\n",
       "      <td>104</td>\n",
       "      <td>2-----0--+----1---------1</td>\n",
       "      <td>0(1)0(3)0(1)0(3)0(2)0(2)0(3)1(3)0(2)1(2)1(1)1(1)</td>\n",
       "      <td>NaN</td>\n",
       "      <td>9</td>\n",
       "      <td>22</td>\n",
       "      <td>24</td>\n",
       "    </tr>\n",
       "  </tbody>\n",
       "</table>\n",
       "</div>"
      ],
      "text/plain": [
       "  01-Русский язык Unnamed: 1 Unnamed: 2 Unnamed: 3      Unnamed: 4  \\\n",
       "0             NaN        NaN        NaN        NaN             NaN   \n",
       "1               №    № школы      Класс        Пол  Номер варианта   \n",
       "2               1        117         11          М             341   \n",
       "3               2        148        12А          М             338   \n",
       "4               3        152         13          Ж             104   \n",
       "\n",
       "                  Unnamed: 5  \\\n",
       "0                        NaN   \n",
       "1  Задания с кратким ответом   \n",
       "2  1+++--1+-++---0---------0   \n",
       "3  1+---+0--+---+0----++-+-0   \n",
       "4  2-----0--+----1---------1   \n",
       "\n",
       "                                         Unnamed: 6    Unnamed: 7  \\\n",
       "0                                               NaN           NaN   \n",
       "1                     Задания с развёрнутым ответом  Устная часть   \n",
       "2  0(1)0(3)0(1)0(3)0(2)0(2)0(3)0(3)0(2)0(2)0(1)0(1)           NaN   \n",
       "3  0(1)0(3)0(1)0(3)0(2)0(2)0(3)0(3)0(2)0(2)0(1)0(1)           NaN   \n",
       "4  0(1)0(3)0(1)0(3)0(2)0(2)0(3)1(3)0(2)1(2)1(1)1(1)           NaN   \n",
       "\n",
       "       Unnamed: 8 Unnamed: 9       Unnamed: 10  \n",
       "0             NaN        NaN               NaN  \n",
       "1  Первичный балл       Балл  Минимальный балл  \n",
       "2               8         20                24  \n",
       "3               8         20                24  \n",
       "4               9         22                24  "
      ]
     },
     "execution_count": 3,
     "metadata": {},
     "output_type": "execute_result"
    }
   ],
   "source": [
    "df1 = pd.read_excel('Вариант 1.xlsx')\n",
    "df1.head()"
   ]
  },
  {
   "cell_type": "code",
   "execution_count": 4,
   "id": "3e3fd481",
   "metadata": {},
   "outputs": [
    {
     "data": {
      "text/html": [
       "<div>\n",
       "<style scoped>\n",
       "    .dataframe tbody tr th:only-of-type {\n",
       "        vertical-align: middle;\n",
       "    }\n",
       "\n",
       "    .dataframe tbody tr th {\n",
       "        vertical-align: top;\n",
       "    }\n",
       "\n",
       "    .dataframe thead th {\n",
       "        text-align: right;\n",
       "    }\n",
       "</style>\n",
       "<table border=\"1\" class=\"dataframe\">\n",
       "  <thead>\n",
       "    <tr style=\"text-align: right;\">\n",
       "      <th></th>\n",
       "      <th>01-Русский язык</th>\n",
       "      <th>№ школы</th>\n",
       "      <th>Класс</th>\n",
       "      <th>Пол</th>\n",
       "      <th>Номер варианта</th>\n",
       "      <th>Задания с кратким ответом</th>\n",
       "      <th>Задания с развёрнутым ответом</th>\n",
       "      <th>Устная часть</th>\n",
       "      <th>Первичный балл</th>\n",
       "      <th>Балл</th>\n",
       "      <th>Минимальный балл</th>\n",
       "    </tr>\n",
       "  </thead>\n",
       "  <tbody>\n",
       "    <tr>\n",
       "      <th>2</th>\n",
       "      <td>1</td>\n",
       "      <td>117</td>\n",
       "      <td>11</td>\n",
       "      <td>М</td>\n",
       "      <td>341</td>\n",
       "      <td>1+++--1+-++---0---------0</td>\n",
       "      <td>0(1)0(3)0(1)0(3)0(2)0(2)0(3)0(3)0(2)0(2)0(1)0(1)</td>\n",
       "      <td>NaN</td>\n",
       "      <td>8</td>\n",
       "      <td>20</td>\n",
       "      <td>24</td>\n",
       "    </tr>\n",
       "    <tr>\n",
       "      <th>3</th>\n",
       "      <td>2</td>\n",
       "      <td>148</td>\n",
       "      <td>12А</td>\n",
       "      <td>М</td>\n",
       "      <td>338</td>\n",
       "      <td>1+---+0--+---+0----++-+-0</td>\n",
       "      <td>0(1)0(3)0(1)0(3)0(2)0(2)0(3)0(3)0(2)0(2)0(1)0(1)</td>\n",
       "      <td>NaN</td>\n",
       "      <td>8</td>\n",
       "      <td>20</td>\n",
       "      <td>24</td>\n",
       "    </tr>\n",
       "    <tr>\n",
       "      <th>4</th>\n",
       "      <td>3</td>\n",
       "      <td>152</td>\n",
       "      <td>13</td>\n",
       "      <td>Ж</td>\n",
       "      <td>104</td>\n",
       "      <td>2-----0--+----1---------1</td>\n",
       "      <td>0(1)0(3)0(1)0(3)0(2)0(2)0(3)1(3)0(2)1(2)1(1)1(1)</td>\n",
       "      <td>NaN</td>\n",
       "      <td>9</td>\n",
       "      <td>22</td>\n",
       "      <td>24</td>\n",
       "    </tr>\n",
       "    <tr>\n",
       "      <th>5</th>\n",
       "      <td>4</td>\n",
       "      <td>152</td>\n",
       "      <td>13</td>\n",
       "      <td>М</td>\n",
       "      <td>104</td>\n",
       "      <td>1+--+-0++-----2----++---0</td>\n",
       "      <td>0(1)0(3)0(1)0(3)0(2)0(2)0(3)0(3)0(2)0(2)0(1)0(1)</td>\n",
       "      <td>NaN</td>\n",
       "      <td>9</td>\n",
       "      <td>22</td>\n",
       "      <td>24</td>\n",
       "    </tr>\n",
       "    <tr>\n",
       "      <th>6</th>\n",
       "      <td>5</td>\n",
       "      <td>132</td>\n",
       "      <td>11</td>\n",
       "      <td>М</td>\n",
       "      <td>337</td>\n",
       "      <td>1++---0-+++---1----+----2</td>\n",
       "      <td>0(1)0(3)0(1)0(3)0(2)0(2)0(3)0(3)0(2)0(2)0(1)0(1)</td>\n",
       "      <td>NaN</td>\n",
       "      <td>10</td>\n",
       "      <td>24</td>\n",
       "      <td>24</td>\n",
       "    </tr>\n",
       "  </tbody>\n",
       "</table>\n",
       "</div>"
      ],
      "text/plain": [
       "  01-Русский язык № школы Класс Пол Номер варианта  Задания с кратким ответом  \\\n",
       "2               1     117    11   М            341  1+++--1+-++---0---------0   \n",
       "3               2     148   12А   М            338  1+---+0--+---+0----++-+-0   \n",
       "4               3     152    13   Ж            104  2-----0--+----1---------1   \n",
       "5               4     152    13   М            104  1+--+-0++-----2----++---0   \n",
       "6               5     132    11   М            337  1++---0-+++---1----+----2   \n",
       "\n",
       "                      Задания с развёрнутым ответом Устная часть  \\\n",
       "2  0(1)0(3)0(1)0(3)0(2)0(2)0(3)0(3)0(2)0(2)0(1)0(1)          NaN   \n",
       "3  0(1)0(3)0(1)0(3)0(2)0(2)0(3)0(3)0(2)0(2)0(1)0(1)          NaN   \n",
       "4  0(1)0(3)0(1)0(3)0(2)0(2)0(3)1(3)0(2)1(2)1(1)1(1)          NaN   \n",
       "5  0(1)0(3)0(1)0(3)0(2)0(2)0(3)0(3)0(2)0(2)0(1)0(1)          NaN   \n",
       "6  0(1)0(3)0(1)0(3)0(2)0(2)0(3)0(3)0(2)0(2)0(1)0(1)          NaN   \n",
       "\n",
       "  Первичный балл Балл Минимальный балл  \n",
       "2              8   20               24  \n",
       "3              8   20               24  \n",
       "4              9   22               24  \n",
       "5              9   22               24  \n",
       "6             10   24               24  "
      ]
     },
     "execution_count": 4,
     "metadata": {},
     "output_type": "execute_result"
    }
   ],
   "source": [
    "rename = {\n",
    "    \"Unnamed: 1\": \"№ школы\",\n",
    "    \"Unnamed: 2\": \"Класс\",\n",
    "    \"Unnamed: 3\": \"Пол\",\n",
    "    \"Unnamed: 4\": \"Номер варианта\",\n",
    "    \"Unnamed: 5\": \"Задания с кратким ответом\",\n",
    "    \"Unnamed: 6\": \"Задания с развёрнутым ответом\",\n",
    "    \"Unnamed: 7\": \"Устная часть\",\n",
    "    \"Unnamed: 8\": \"Первичный балл\", \n",
    "    \"Unnamed: 9\": \"Балл\",\n",
    "    \"Unnamed: 10\": \"Минимальный балл\"\n",
    "}\n",
    "df1 = df1.rename(columns = rename)\n",
    "df1.drop([0,1], inplace=True) # удаляем строку с NaN; inplace=True\n",
    "df1.head()"
   ]
  },
  {
   "cell_type": "code",
   "execution_count": 5,
   "id": "3115587a",
   "metadata": {},
   "outputs": [
    {
     "data": {
      "text/html": [
       "<div>\n",
       "<style scoped>\n",
       "    .dataframe tbody tr th:only-of-type {\n",
       "        vertical-align: middle;\n",
       "    }\n",
       "\n",
       "    .dataframe tbody tr th {\n",
       "        vertical-align: top;\n",
       "    }\n",
       "\n",
       "    .dataframe thead th {\n",
       "        text-align: right;\n",
       "    }\n",
       "</style>\n",
       "<table border=\"1\" class=\"dataframe\">\n",
       "  <thead>\n",
       "    <tr style=\"text-align: right;\">\n",
       "      <th></th>\n",
       "      <th>02-Математика профильная</th>\n",
       "      <th>Unnamed: 1</th>\n",
       "      <th>Unnamed: 2</th>\n",
       "      <th>Unnamed: 3</th>\n",
       "      <th>Unnamed: 4</th>\n",
       "      <th>Unnamed: 5</th>\n",
       "      <th>Unnamed: 6</th>\n",
       "      <th>Unnamed: 7</th>\n",
       "      <th>Unnamed: 8</th>\n",
       "      <th>Unnamed: 9</th>\n",
       "      <th>Unnamed: 10</th>\n",
       "    </tr>\n",
       "  </thead>\n",
       "  <tbody>\n",
       "    <tr>\n",
       "      <th>0</th>\n",
       "      <td>NaN</td>\n",
       "      <td>NaN</td>\n",
       "      <td>NaN</td>\n",
       "      <td>NaN</td>\n",
       "      <td>NaN</td>\n",
       "      <td>NaN</td>\n",
       "      <td>NaN</td>\n",
       "      <td>NaN</td>\n",
       "      <td>NaN</td>\n",
       "      <td>NaN</td>\n",
       "      <td>NaN</td>\n",
       "    </tr>\n",
       "    <tr>\n",
       "      <th>1</th>\n",
       "      <td>№</td>\n",
       "      <td>№ школы</td>\n",
       "      <td>Класс</td>\n",
       "      <td>Пол</td>\n",
       "      <td>Номер варианта</td>\n",
       "      <td>Задания с кратким ответом</td>\n",
       "      <td>Задания с развёрнутым ответом</td>\n",
       "      <td>Устная часть</td>\n",
       "      <td>Первичный балл</td>\n",
       "      <td>Балл</td>\n",
       "      <td>Минимальный балл</td>\n",
       "    </tr>\n",
       "    <tr>\n",
       "      <th>2</th>\n",
       "      <td>1</td>\n",
       "      <td>124</td>\n",
       "      <td>11</td>\n",
       "      <td>Ж</td>\n",
       "      <td>341</td>\n",
       "      <td>------+-----</td>\n",
       "      <td>0(2)0(2)0(2)0(3)0(3)0(4)0(4)</td>\n",
       "      <td>NaN</td>\n",
       "      <td>1</td>\n",
       "      <td>5</td>\n",
       "      <td>27</td>\n",
       "    </tr>\n",
       "    <tr>\n",
       "      <th>3</th>\n",
       "      <td>2</td>\n",
       "      <td>128</td>\n",
       "      <td>11</td>\n",
       "      <td>Ж</td>\n",
       "      <td>345</td>\n",
       "      <td>-+----------</td>\n",
       "      <td>0(2)0(2)0(2)0(3)0(3)0(4)0(4)</td>\n",
       "      <td>NaN</td>\n",
       "      <td>1</td>\n",
       "      <td>5</td>\n",
       "      <td>27</td>\n",
       "    </tr>\n",
       "    <tr>\n",
       "      <th>4</th>\n",
       "      <td>3</td>\n",
       "      <td>132</td>\n",
       "      <td>11</td>\n",
       "      <td>Ж</td>\n",
       "      <td>340</td>\n",
       "      <td>-+----------</td>\n",
       "      <td>0(2)0(2)0(2)0(3)0(3)0(4)0(4)</td>\n",
       "      <td>NaN</td>\n",
       "      <td>1</td>\n",
       "      <td>5</td>\n",
       "      <td>27</td>\n",
       "    </tr>\n",
       "  </tbody>\n",
       "</table>\n",
       "</div>"
      ],
      "text/plain": [
       "  02-Математика профильная Unnamed: 1 Unnamed: 2 Unnamed: 3      Unnamed: 4  \\\n",
       "0                      NaN        NaN        NaN        NaN             NaN   \n",
       "1                        №    № школы      Класс        Пол  Номер варианта   \n",
       "2                        1        124         11          Ж             341   \n",
       "3                        2        128         11          Ж             345   \n",
       "4                        3        132         11          Ж             340   \n",
       "\n",
       "                  Unnamed: 5                     Unnamed: 6    Unnamed: 7  \\\n",
       "0                        NaN                            NaN           NaN   \n",
       "1  Задания с кратким ответом  Задания с развёрнутым ответом  Устная часть   \n",
       "2               ------+-----   0(2)0(2)0(2)0(3)0(3)0(4)0(4)           NaN   \n",
       "3               -+----------   0(2)0(2)0(2)0(3)0(3)0(4)0(4)           NaN   \n",
       "4               -+----------   0(2)0(2)0(2)0(3)0(3)0(4)0(4)           NaN   \n",
       "\n",
       "       Unnamed: 8 Unnamed: 9       Unnamed: 10  \n",
       "0             NaN        NaN               NaN  \n",
       "1  Первичный балл       Балл  Минимальный балл  \n",
       "2               1          5                27  \n",
       "3               1          5                27  \n",
       "4               1          5                27  "
      ]
     },
     "execution_count": 5,
     "metadata": {},
     "output_type": "execute_result"
    }
   ],
   "source": [
    "df2 = pd.read_excel('Вариант 2.xlsx')\n",
    "df2.head()"
   ]
  },
  {
   "cell_type": "code",
   "execution_count": 6,
   "id": "3ed15d50",
   "metadata": {},
   "outputs": [
    {
     "data": {
      "text/html": [
       "<div>\n",
       "<style scoped>\n",
       "    .dataframe tbody tr th:only-of-type {\n",
       "        vertical-align: middle;\n",
       "    }\n",
       "\n",
       "    .dataframe tbody tr th {\n",
       "        vertical-align: top;\n",
       "    }\n",
       "\n",
       "    .dataframe thead th {\n",
       "        text-align: right;\n",
       "    }\n",
       "</style>\n",
       "<table border=\"1\" class=\"dataframe\">\n",
       "  <thead>\n",
       "    <tr style=\"text-align: right;\">\n",
       "      <th></th>\n",
       "      <th>03-Физика</th>\n",
       "      <th>Unnamed: 1</th>\n",
       "      <th>Unnamed: 2</th>\n",
       "      <th>Unnamed: 3</th>\n",
       "      <th>Unnamed: 4</th>\n",
       "      <th>Unnamed: 5</th>\n",
       "      <th>Unnamed: 6</th>\n",
       "      <th>Unnamed: 7</th>\n",
       "      <th>Unnamed: 8</th>\n",
       "      <th>Unnamed: 9</th>\n",
       "      <th>Unnamed: 10</th>\n",
       "    </tr>\n",
       "  </thead>\n",
       "  <tbody>\n",
       "    <tr>\n",
       "      <th>0</th>\n",
       "      <td>NaN</td>\n",
       "      <td>NaN</td>\n",
       "      <td>NaN</td>\n",
       "      <td>NaN</td>\n",
       "      <td>NaN</td>\n",
       "      <td>NaN</td>\n",
       "      <td>NaN</td>\n",
       "      <td>NaN</td>\n",
       "      <td>NaN</td>\n",
       "      <td>NaN</td>\n",
       "      <td>NaN</td>\n",
       "    </tr>\n",
       "    <tr>\n",
       "      <th>1</th>\n",
       "      <td>№</td>\n",
       "      <td>№ школы</td>\n",
       "      <td>Класс</td>\n",
       "      <td>Пол</td>\n",
       "      <td>Номер варианта</td>\n",
       "      <td>Задания с кратким ответом</td>\n",
       "      <td>Задания с развёрнутым ответом</td>\n",
       "      <td>Устная часть</td>\n",
       "      <td>Первичный балл</td>\n",
       "      <td>Балл</td>\n",
       "      <td>Минимальный балл</td>\n",
       "    </tr>\n",
       "    <tr>\n",
       "      <th>2</th>\n",
       "      <td>1</td>\n",
       "      <td>152</td>\n",
       "      <td>11</td>\n",
       "      <td>М</td>\n",
       "      <td>333</td>\n",
       "      <td>----001---00---000--1-+0---</td>\n",
       "      <td>0(3)0(3)0(3)0(3)0(3)</td>\n",
       "      <td>NaN</td>\n",
       "      <td>3</td>\n",
       "      <td>10</td>\n",
       "      <td>36</td>\n",
       "    </tr>\n",
       "    <tr>\n",
       "      <th>3</th>\n",
       "      <td>2</td>\n",
       "      <td>140</td>\n",
       "      <td>12</td>\n",
       "      <td>Ж</td>\n",
       "      <td>332</td>\n",
       "      <td>----100---01-+-000--0--1---</td>\n",
       "      <td>0(3)0(3)0(3)0(3)0(3)</td>\n",
       "      <td>NaN</td>\n",
       "      <td>4</td>\n",
       "      <td>14</td>\n",
       "      <td>36</td>\n",
       "    </tr>\n",
       "    <tr>\n",
       "      <th>4</th>\n",
       "      <td>3</td>\n",
       "      <td>137</td>\n",
       "      <td>11</td>\n",
       "      <td>М</td>\n",
       "      <td>328</td>\n",
       "      <td>--+-010---00---101--0--1---</td>\n",
       "      <td>0(3)0(3)0(3)0(3)0(3)</td>\n",
       "      <td>NaN</td>\n",
       "      <td>5</td>\n",
       "      <td>17</td>\n",
       "      <td>36</td>\n",
       "    </tr>\n",
       "  </tbody>\n",
       "</table>\n",
       "</div>"
      ],
      "text/plain": [
       "  03-Физика Unnamed: 1 Unnamed: 2 Unnamed: 3      Unnamed: 4  \\\n",
       "0       NaN        NaN        NaN        NaN             NaN   \n",
       "1         №    № школы      Класс        Пол  Номер варианта   \n",
       "2         1        152         11          М             333   \n",
       "3         2        140         12          Ж             332   \n",
       "4         3        137         11          М             328   \n",
       "\n",
       "                    Unnamed: 5                     Unnamed: 6    Unnamed: 7  \\\n",
       "0                          NaN                            NaN           NaN   \n",
       "1    Задания с кратким ответом  Задания с развёрнутым ответом  Устная часть   \n",
       "2  ----001---00---000--1-+0---           0(3)0(3)0(3)0(3)0(3)           NaN   \n",
       "3  ----100---01-+-000--0--1---           0(3)0(3)0(3)0(3)0(3)           NaN   \n",
       "4  --+-010---00---101--0--1---           0(3)0(3)0(3)0(3)0(3)           NaN   \n",
       "\n",
       "       Unnamed: 8 Unnamed: 9       Unnamed: 10  \n",
       "0             NaN        NaN               NaN  \n",
       "1  Первичный балл       Балл  Минимальный балл  \n",
       "2               3         10                36  \n",
       "3               4         14                36  \n",
       "4               5         17                36  "
      ]
     },
     "execution_count": 6,
     "metadata": {},
     "output_type": "execute_result"
    }
   ],
   "source": [
    "df3 = pd.read_excel('Вариант 3.xlsx')\n",
    "df3.head()"
   ]
  },
  {
   "cell_type": "code",
   "execution_count": 7,
   "id": "f467d779",
   "metadata": {},
   "outputs": [
    {
     "data": {
      "text/html": [
       "<div>\n",
       "<style scoped>\n",
       "    .dataframe tbody tr th:only-of-type {\n",
       "        vertical-align: middle;\n",
       "    }\n",
       "\n",
       "    .dataframe tbody tr th {\n",
       "        vertical-align: top;\n",
       "    }\n",
       "\n",
       "    .dataframe thead th {\n",
       "        text-align: right;\n",
       "    }\n",
       "</style>\n",
       "<table border=\"1\" class=\"dataframe\">\n",
       "  <thead>\n",
       "    <tr style=\"text-align: right;\">\n",
       "      <th></th>\n",
       "      <th>05-Информатика и ИКТ</th>\n",
       "      <th>Unnamed: 1</th>\n",
       "      <th>Unnamed: 2</th>\n",
       "      <th>Unnamed: 3</th>\n",
       "      <th>Unnamed: 4</th>\n",
       "      <th>Unnamed: 5</th>\n",
       "      <th>Unnamed: 6</th>\n",
       "      <th>Unnamed: 7</th>\n",
       "      <th>Unnamed: 8</th>\n",
       "      <th>Unnamed: 9</th>\n",
       "      <th>Unnamed: 10</th>\n",
       "    </tr>\n",
       "  </thead>\n",
       "  <tbody>\n",
       "    <tr>\n",
       "      <th>0</th>\n",
       "      <td>NaN</td>\n",
       "      <td>NaN</td>\n",
       "      <td>NaN</td>\n",
       "      <td>NaN</td>\n",
       "      <td>NaN</td>\n",
       "      <td>NaN</td>\n",
       "      <td>NaN</td>\n",
       "      <td>NaN</td>\n",
       "      <td>NaN</td>\n",
       "      <td>NaN</td>\n",
       "      <td>NaN</td>\n",
       "    </tr>\n",
       "    <tr>\n",
       "      <th>1</th>\n",
       "      <td>№</td>\n",
       "      <td>№ школы</td>\n",
       "      <td>Класс</td>\n",
       "      <td>Пол</td>\n",
       "      <td>Номер варианта</td>\n",
       "      <td>Задания с кратким ответом</td>\n",
       "      <td>Задания с развёрнутым ответом</td>\n",
       "      <td>Устная часть</td>\n",
       "      <td>Первичный балл</td>\n",
       "      <td>Балл</td>\n",
       "      <td>Минимальный балл</td>\n",
       "    </tr>\n",
       "    <tr>\n",
       "      <th>2</th>\n",
       "      <td>1</td>\n",
       "      <td>148</td>\n",
       "      <td>13</td>\n",
       "      <td>М</td>\n",
       "      <td>505</td>\n",
       "      <td>-----------------------</td>\n",
       "      <td>0(3)0(2)0(3)0(4)</td>\n",
       "      <td>NaN</td>\n",
       "      <td>0</td>\n",
       "      <td>0</td>\n",
       "      <td>40</td>\n",
       "    </tr>\n",
       "    <tr>\n",
       "      <th>3</th>\n",
       "      <td>2</td>\n",
       "      <td>147</td>\n",
       "      <td>11</td>\n",
       "      <td>М</td>\n",
       "      <td>328</td>\n",
       "      <td>-----------------------</td>\n",
       "      <td>0(3)0(2)0(3)0(4)</td>\n",
       "      <td>NaN</td>\n",
       "      <td>0</td>\n",
       "      <td>0</td>\n",
       "      <td>40</td>\n",
       "    </tr>\n",
       "    <tr>\n",
       "      <th>4</th>\n",
       "      <td>3</td>\n",
       "      <td>111</td>\n",
       "      <td>11</td>\n",
       "      <td>М</td>\n",
       "      <td>330</td>\n",
       "      <td>---+---+-+-------------</td>\n",
       "      <td>0(3)0(2)0(3)0(4)</td>\n",
       "      <td>NaN</td>\n",
       "      <td>3</td>\n",
       "      <td>20</td>\n",
       "      <td>40</td>\n",
       "    </tr>\n",
       "  </tbody>\n",
       "</table>\n",
       "</div>"
      ],
      "text/plain": [
       "  05-Информатика и ИКТ Unnamed: 1 Unnamed: 2 Unnamed: 3      Unnamed: 4  \\\n",
       "0                  NaN        NaN        NaN        NaN             NaN   \n",
       "1                    №    № школы      Класс        Пол  Номер варианта   \n",
       "2                    1        148         13          М             505   \n",
       "3                    2        147         11          М             328   \n",
       "4                    3        111         11          М             330   \n",
       "\n",
       "                  Unnamed: 5                     Unnamed: 6    Unnamed: 7  \\\n",
       "0                        NaN                            NaN           NaN   \n",
       "1  Задания с кратким ответом  Задания с развёрнутым ответом  Устная часть   \n",
       "2    -----------------------               0(3)0(2)0(3)0(4)           NaN   \n",
       "3    -----------------------               0(3)0(2)0(3)0(4)           NaN   \n",
       "4    ---+---+-+-------------               0(3)0(2)0(3)0(4)           NaN   \n",
       "\n",
       "       Unnamed: 8 Unnamed: 9       Unnamed: 10  \n",
       "0             NaN        NaN               NaN  \n",
       "1  Первичный балл       Балл  Минимальный балл  \n",
       "2               0          0                40  \n",
       "3               0          0                40  \n",
       "4               3         20                40  "
      ]
     },
     "execution_count": 7,
     "metadata": {},
     "output_type": "execute_result"
    }
   ],
   "source": [
    "df4 = pd.read_excel('Вариант 4.xlsx')\n",
    "df4.head()"
   ]
  },
  {
   "cell_type": "code",
   "execution_count": null,
   "id": "c5ebde42",
   "metadata": {},
   "outputs": [],
   "source": []
  },
  {
   "cell_type": "code",
   "execution_count": 8,
   "id": "ab5e4393",
   "metadata": {},
   "outputs": [
    {
     "data": {
      "text/plain": [
       "(144, 11)"
      ]
     },
     "execution_count": 8,
     "metadata": {},
     "output_type": "execute_result"
    }
   ],
   "source": [
    "df4.shape # строки, столбцы"
   ]
  },
  {
   "cell_type": "markdown",
   "id": "153e93bf",
   "metadata": {},
   "source": [
    "Сделайте описательную статистику по набранному баллу"
   ]
  },
  {
   "cell_type": "code",
   "execution_count": 9,
   "id": "814b1814",
   "metadata": {},
   "outputs": [
    {
     "data": {
      "text/plain": [
       "count     3049.0\n",
       "unique      52.0\n",
       "top         80.0\n",
       "freq       158.0\n",
       "Name: Балл, dtype: float64"
      ]
     },
     "execution_count": 9,
     "metadata": {},
     "output_type": "execute_result"
    }
   ],
   "source": [
    "df1['Балл'].describe()"
   ]
  },
  {
   "cell_type": "markdown",
   "id": "883eb9a6",
   "metadata": {},
   "source": [
    "Найдите процент учащихся, выполнивших работу ниже среднего"
   ]
  },
  {
   "cell_type": "code",
   "execution_count": 140,
   "id": "55965ac8",
   "metadata": {},
   "outputs": [
    {
     "data": {
      "text/plain": [
       "2    20\n",
       "3    20\n",
       "4    22\n",
       "5    22\n",
       "6    24\n",
       "Name: Балл, dtype: object"
      ]
     },
     "execution_count": 140,
     "metadata": {},
     "output_type": "execute_result"
    }
   ],
   "source": [
    "df1[\"Балл\"].head()"
   ]
  },
  {
   "cell_type": "code",
   "execution_count": 11,
   "id": "00ba68df",
   "metadata": {},
   "outputs": [
    {
     "data": {
      "text/plain": [
       "0.5126270908494588"
      ]
     },
     "execution_count": 11,
     "metadata": {},
     "output_type": "execute_result"
    }
   ],
   "source": [
    "len(df1[df1[\"Балл\"] < df1[\"Балл\"].mean()])/len(df1[\"Балл\"])"
   ]
  },
  {
   "cell_type": "markdown",
   "id": "bfa7283b",
   "metadata": {},
   "source": [
    "Найти процент учащихся не сдавших экзамен"
   ]
  },
  {
   "cell_type": "code",
   "execution_count": 12,
   "id": "c6296c39",
   "metadata": {},
   "outputs": [
    {
     "data": {
      "text/plain": [
       "0.0013119055428009183"
      ]
     },
     "execution_count": 12,
     "metadata": {},
     "output_type": "execute_result"
    }
   ],
   "source": [
    "len(df1[df1[\"Балл\"] < df1[\"Минимальный балл\"]])/len(df1[\"Балл\"])"
   ]
  },
  {
   "cell_type": "markdown",
   "id": "89b9dd1e",
   "metadata": {},
   "source": [
    "Постройте круговую диаграмму, показывающую распределение сдавших и не сдавших экзамен"
   ]
  },
  {
   "cell_type": "code",
   "execution_count": 13,
   "id": "169375cf",
   "metadata": {},
   "outputs": [],
   "source": [
    "from matplotlib import pyplot as plt\n",
    "import seaborn as sns"
   ]
  },
  {
   "cell_type": "code",
   "execution_count": 18,
   "id": "4f1b979d",
   "metadata": {},
   "outputs": [
    {
     "data": {
      "text/plain": [
       "[Text(0.5, 1.0, 'сдавшие/не сдавшие')]"
      ]
     },
     "execution_count": 18,
     "metadata": {},
     "output_type": "execute_result"
    },
    {
     "data": {
      "image/png": "[encoded data removed]",
      "text/plain": [
       "<Figure size 432x288 with 1 Axes>"
      ]
     },
     "metadata": {},
     "output_type": "display_data"
    }
   ],
   "source": [
    "s = (df1['Балл'] >= df1['Минимальный балл']).value_counts()\n",
    "s.index = s.index.map({False: 'Не сдал', True: 'Сдал'})\n",
    "s.plot.pie(autopct='%1.2f%%').set(title=\"сдавшие/не сдавшие\")"
   ]
  },
  {
   "cell_type": "markdown",
   "id": "35e8d1e1",
   "metadata": {},
   "source": [
    "Постройте ядерную оценку плотности распределению баллов за экзамен"
   ]
  },
  {
   "cell_type": "code",
   "execution_count": 53,
   "id": "1589d433",
   "metadata": {},
   "outputs": [],
   "source": [
    "import seaborn as sns"
   ]
  },
  {
   "cell_type": "code",
   "execution_count": 61,
   "id": "8d8afe76",
   "metadata": {},
   "outputs": [
    {
     "name": "stderr",
     "output_type": "stream",
     "text": [
      "D:\\anaconda\\lib\\site-packages\\seaborn\\distributions.py:2557: FutureWarning: `distplot` is a deprecated function and will be removed in a future version. Please adapt your code to use either `displot` (a figure-level function with similar flexibility) or `histplot` (an axes-level function for histograms).\n",
      "  warnings.warn(msg, FutureWarning)\n"
     ]
    },
    {
     "data": {
      "text/plain": [
       "<AxesSubplot:ylabel='Density'>"
      ]
     },
     "execution_count": 61,
     "metadata": {},
     "output_type": "execute_result"
    },
    {
     "data": {
      "image/png": "[encoded data removed]",
      "text/plain": [
       "<Figure size 432x288 with 1 Axes>"
      ]
     },
     "metadata": {},
     "output_type": "display_data"
    }
   ],
   "source": [
    "sns.distplot(x=df1['Балл'], ax=plt.subplots()[1])"
   ]
  },
  {
   "cell_type": "markdown",
   "id": "2cdb7b26",
   "metadata": {},
   "source": [
    "Найдите процентное соотношение учащихся, сдавших экзамен на «отлично», «хорошо», «удовлетворительно», «неудовлетворительно»."
   ]
  },
  {
   "cell_type": "markdown",
   "id": "d586c07d",
   "metadata": {},
   "source": [
    "Какое процентное соотношение юношей и девушек писало данный экзамен?"
   ]
  },
  {
   "cell_type": "code",
   "execution_count": 95,
   "id": "5404db9b",
   "metadata": {},
   "outputs": [
    {
     "data": {
      "text/plain": [
       "0.4201377500819941"
      ]
     },
     "execution_count": 95,
     "metadata": {},
     "output_type": "execute_result"
    }
   ],
   "source": [
    "len(df1[df1[\"Пол\"] == \"М\"])/len(df1[\"Пол\"])"
   ]
  },
  {
   "cell_type": "code",
   "execution_count": 42,
   "id": "5cc5ede5",
   "metadata": {},
   "outputs": [
    {
     "data": {
      "text/plain": [
       "0.5795342735323057"
      ]
     },
     "execution_count": 42,
     "metadata": {},
     "output_type": "execute_result"
    }
   ],
   "source": [
    "len(df1[df1[\"Пол\"] == \"Ж\"])/len(df1[\"Пол\"])"
   ]
  },
  {
   "cell_type": "markdown",
   "id": "be9011b8",
   "metadata": {},
   "source": [
    "Сколько школ принимало участие в экзамене?"
   ]
  },
  {
   "cell_type": "code",
   "execution_count": 28,
   "id": "f94939f4",
   "metadata": {},
   "outputs": [
    {
     "data": {
      "text/plain": [
       "25"
      ]
     },
     "execution_count": 28,
     "metadata": {},
     "output_type": "execute_result"
    }
   ],
   "source": [
    "len(pd.unique(df1['№ школы']))"
   ]
  },
  {
   "cell_type": "markdown",
   "id": "899a3093",
   "metadata": {},
   "source": [
    "### Дополнительные задания"
   ]
  },
  {
   "cell_type": "markdown",
   "id": "2a774acf",
   "metadata": {},
   "source": [
    "Сколько всего заданий с кратким ответом? С развернутым ответом?"
   ]
  },
  {
   "cell_type": "code",
   "execution_count": 23,
   "id": "54cc4263",
   "metadata": {},
   "outputs": [
    {
     "data": {
      "text/plain": [
       "25"
      ]
     },
     "execution_count": 23,
     "metadata": {},
     "output_type": "execute_result"
    }
   ],
   "source": [
    "len(df1['Задания с кратким ответом'][2])"
   ]
  },
  {
   "cell_type": "code",
   "execution_count": 132,
   "id": "1c0afe0c",
   "metadata": {},
   "outputs": [
    {
     "data": {
      "text/plain": [
       "12"
      ]
     },
     "execution_count": 132,
     "metadata": {},
     "output_type": "execute_result"
    }
   ],
   "source": [
    "len(df1['Задания с развёрнутым ответом'][2])//4"
   ]
  },
  {
   "cell_type": "markdown",
   "id": "cb7f571c",
   "metadata": {},
   "source": [
    "Пусть задания с кратким ответом будут задания типа В. Соответственно всего по экзамену вопросов класса В: В 1 … В к Посчитайте процент выполненных и невыполненных заданий по каждому вопросу класса В."
   ]
  },
  {
   "cell_type": "code",
   "execution_count": 81,
   "id": "7abfc8b1",
   "metadata": {},
   "outputs": [
    {
     "data": {
      "text/html": [
       "<div>\n",
       "<style scoped>\n",
       "    .dataframe tbody tr th:only-of-type {\n",
       "        vertical-align: middle;\n",
       "    }\n",
       "\n",
       "    .dataframe tbody tr th {\n",
       "        vertical-align: top;\n",
       "    }\n",
       "\n",
       "    .dataframe thead th {\n",
       "        text-align: right;\n",
       "    }\n",
       "</style>\n",
       "<table border=\"1\" class=\"dataframe\">\n",
       "  <thead>\n",
       "    <tr style=\"text-align: right;\">\n",
       "      <th></th>\n",
       "      <th>01-Русский язык</th>\n",
       "      <th>№ школы</th>\n",
       "      <th>Класс</th>\n",
       "      <th>Пол</th>\n",
       "      <th>Номер варианта</th>\n",
       "      <th>Задания с кратким ответом</th>\n",
       "      <th>Задания с развёрнутым ответом</th>\n",
       "      <th>Устная часть</th>\n",
       "      <th>Первичный балл</th>\n",
       "      <th>Балл</th>\n",
       "      <th>Минимальный балл</th>\n",
       "    </tr>\n",
       "  </thead>\n",
       "  <tbody>\n",
       "    <tr>\n",
       "      <th>2</th>\n",
       "      <td>1</td>\n",
       "      <td>117</td>\n",
       "      <td>11</td>\n",
       "      <td>М</td>\n",
       "      <td>341</td>\n",
       "      <td>1+++--1+-++---0---------0</td>\n",
       "      <td>0(1)0(3)0(1)0(3)0(2)0(2)0(3)0(3)0(2)0(2)0(1)0(1)</td>\n",
       "      <td>NaN</td>\n",
       "      <td>8</td>\n",
       "      <td>20</td>\n",
       "      <td>24</td>\n",
       "    </tr>\n",
       "    <tr>\n",
       "      <th>3</th>\n",
       "      <td>2</td>\n",
       "      <td>148</td>\n",
       "      <td>12А</td>\n",
       "      <td>М</td>\n",
       "      <td>338</td>\n",
       "      <td>1+---+0--+---+0----++-+-0</td>\n",
       "      <td>0(1)0(3)0(1)0(3)0(2)0(2)0(3)0(3)0(2)0(2)0(1)0(1)</td>\n",
       "      <td>NaN</td>\n",
       "      <td>8</td>\n",
       "      <td>20</td>\n",
       "      <td>24</td>\n",
       "    </tr>\n",
       "    <tr>\n",
       "      <th>4</th>\n",
       "      <td>3</td>\n",
       "      <td>152</td>\n",
       "      <td>13</td>\n",
       "      <td>Ж</td>\n",
       "      <td>104</td>\n",
       "      <td>2-----0--+----1---------1</td>\n",
       "      <td>0(1)0(3)0(1)0(3)0(2)0(2)0(3)1(3)0(2)1(2)1(1)1(1)</td>\n",
       "      <td>NaN</td>\n",
       "      <td>9</td>\n",
       "      <td>22</td>\n",
       "      <td>24</td>\n",
       "    </tr>\n",
       "    <tr>\n",
       "      <th>5</th>\n",
       "      <td>4</td>\n",
       "      <td>152</td>\n",
       "      <td>13</td>\n",
       "      <td>М</td>\n",
       "      <td>104</td>\n",
       "      <td>1+--+-0++-----2----++---0</td>\n",
       "      <td>0(1)0(3)0(1)0(3)0(2)0(2)0(3)0(3)0(2)0(2)0(1)0(1)</td>\n",
       "      <td>NaN</td>\n",
       "      <td>9</td>\n",
       "      <td>22</td>\n",
       "      <td>24</td>\n",
       "    </tr>\n",
       "    <tr>\n",
       "      <th>6</th>\n",
       "      <td>5</td>\n",
       "      <td>132</td>\n",
       "      <td>11</td>\n",
       "      <td>М</td>\n",
       "      <td>337</td>\n",
       "      <td>1++---0-+++---1----+----2</td>\n",
       "      <td>0(1)0(3)0(1)0(3)0(2)0(2)0(3)0(3)0(2)0(2)0(1)0(1)</td>\n",
       "      <td>NaN</td>\n",
       "      <td>10</td>\n",
       "      <td>24</td>\n",
       "      <td>24</td>\n",
       "    </tr>\n",
       "  </tbody>\n",
       "</table>\n",
       "</div>"
      ],
      "text/plain": [
       "  01-Русский язык № школы Класс Пол Номер варианта  Задания с кратким ответом  \\\n",
       "2               1     117    11   М            341  1+++--1+-++---0---------0   \n",
       "3               2     148   12А   М            338  1+---+0--+---+0----++-+-0   \n",
       "4               3     152    13   Ж            104  2-----0--+----1---------1   \n",
       "5               4     152    13   М            104  1+--+-0++-----2----++---0   \n",
       "6               5     132    11   М            337  1++---0-+++---1----+----2   \n",
       "\n",
       "                      Задания с развёрнутым ответом Устная часть  \\\n",
       "2  0(1)0(3)0(1)0(3)0(2)0(2)0(3)0(3)0(2)0(2)0(1)0(1)          NaN   \n",
       "3  0(1)0(3)0(1)0(3)0(2)0(2)0(3)0(3)0(2)0(2)0(1)0(1)          NaN   \n",
       "4  0(1)0(3)0(1)0(3)0(2)0(2)0(3)1(3)0(2)1(2)1(1)1(1)          NaN   \n",
       "5  0(1)0(3)0(1)0(3)0(2)0(2)0(3)0(3)0(2)0(2)0(1)0(1)          NaN   \n",
       "6  0(1)0(3)0(1)0(3)0(2)0(2)0(3)0(3)0(2)0(2)0(1)0(1)          NaN   \n",
       "\n",
       "  Первичный балл Балл Минимальный балл  \n",
       "2              8   20               24  \n",
       "3              8   20               24  \n",
       "4              9   22               24  \n",
       "5              9   22               24  \n",
       "6             10   24               24  "
      ]
     },
     "execution_count": 81,
     "metadata": {},
     "output_type": "execute_result"
    }
   ],
   "source": [
    "df1.head()"
   ]
  },
  {
   "cell_type": "code",
   "execution_count": 85,
   "id": "374b7c69",
   "metadata": {},
   "outputs": [
    {
     "data": {
      "text/plain": [
       "[0.013119055428009176,\n",
       " 0.07117087569694978,\n",
       " 0.12659888488028856,\n",
       " 0.22695965890455874,\n",
       " 0.4102984585110005,\n",
       " 0.09380124631026561,\n",
       " 0.04952443424073464,\n",
       " 0.24401443096097067,\n",
       " 0.15874057067891104,\n",
       " 0.031157756641521792,\n",
       " 0.06821908822564772,\n",
       " 0.24467038373237113,\n",
       " 0.16857986224991792,\n",
       " 0.29813053460151256,\n",
       " 0.023942276156116746,\n",
       " 0.3102656608724221,\n",
       " 0.3276484093145357,\n",
       " 0.2581174155460812,\n",
       " 0.306329944244019,\n",
       " 0.17251557887832067,\n",
       " 0.28140373893079945,\n",
       " 0.5191866185634858,\n",
       " 0.23450311577566402,\n",
       " 0.7520498524106684,\n",
       " 0.04558871761233189]"
      ]
     },
     "execution_count": 85,
     "metadata": {},
     "output_type": "execute_result"
    }
   ],
   "source": [
    "result = [0 for i in range(0,25)] # генерация пустого массива заданий\n",
    "for i in range(2, len(df1['Задания с кратким ответом'])): # элементы в столбце\n",
    "    for j in range(len(df1['Задания с кратким ответом'][i])): # элементы в строке\n",
    "        task = df1['Задания с кратким ответом'][i][j]\n",
    "        if task == '-' or task == '0':\n",
    "            result[j] += 1/3049 # 3049 количество записей в датафрейме\n",
    "result # % нерешенных заданий с кратким ответом"
   ]
  },
  {
   "cell_type": "code",
   "execution_count": 86,
   "id": "9c9e7480",
   "metadata": {},
   "outputs": [
    {
     "data": {
      "text/plain": [
       "([<matplotlib.patches.Wedge at 0x18e33fad3a0>,\n",
       "  <matplotlib.patches.Wedge at 0x18e33fad880>,\n",
       "  <matplotlib.patches.Wedge at 0x18e33fadd00>,\n",
       "  <matplotlib.patches.Wedge at 0x18e33fbb1c0>,\n",
       "  <matplotlib.patches.Wedge at 0x18e33fbb640>,\n",
       "  <matplotlib.patches.Wedge at 0x18e33fbbaf0>,\n",
       "  <matplotlib.patches.Wedge at 0x18e33fbbf70>,\n",
       "  <matplotlib.patches.Wedge at 0x18e33fc9430>,\n",
       "  <matplotlib.patches.Wedge at 0x18e33fc98b0>,\n",
       "  <matplotlib.patches.Wedge at 0x18e33fc9d30>,\n",
       "  <matplotlib.patches.Wedge at 0x18e33f90040>,\n",
       "  <matplotlib.patches.Wedge at 0x18e33fd6640>,\n",
       "  <matplotlib.patches.Wedge at 0x18e33fd6ac0>,\n",
       "  <matplotlib.patches.Wedge at 0x18e33fd6f40>,\n",
       "  <matplotlib.patches.Wedge at 0x18e33fe3400>,\n",
       "  <matplotlib.patches.Wedge at 0x18e33fe3880>,\n",
       "  <matplotlib.patches.Wedge at 0x18e33fe3d00>,\n",
       "  <matplotlib.patches.Wedge at 0x18e33ff11c0>,\n",
       "  <matplotlib.patches.Wedge at 0x18e33ff1640>,\n",
       "  <matplotlib.patches.Wedge at 0x18e33ff1ac0>,\n",
       "  <matplotlib.patches.Wedge at 0x18e33ff1f40>,\n",
       "  <matplotlib.patches.Wedge at 0x18e33fff400>,\n",
       "  <matplotlib.patches.Wedge at 0x18e33fff8b0>,\n",
       "  <matplotlib.patches.Wedge at 0x18e33fffd30>,\n",
       "  <matplotlib.patches.Wedge at 0x18e3400c1f0>],\n",
       " [Text(1.0999683902603852, 0.008339090356703719, '0'),\n",
       "  Text(1.0982577870961423, 0.061885645206984495, '1'),\n",
       "  Text(1.0840362561964918, 0.18672277646686347, '2'),\n",
       "  Text(1.0236052743169108, 0.4027806380532734, '3'),\n",
       "  Text(0.8099870474205109, 0.7442586801717553, '4'),\n",
       "  Text(0.5621117366779501, 0.9455318056463775, '5'),\n",
       "  Text(0.48196249683303327, 0.9887932805427374, '6'),\n",
       "  Text(0.30812316121470396, 1.0559640701856563, '7'),\n",
       "  Text(0.05626473616839544, 1.0985600936971545, '8'),\n",
       "  Text(-0.06438336714675491, 1.0981141935312768, '9'),\n",
       "  Text(-0.12730349802206864, 1.092608722000399, '10'),\n",
       "  Text(-0.321706455010638, 1.051905393466774, '11'),\n",
       "  Text(-0.5613949458475462, 0.9459575649979395, '12'),\n",
       "  Text(-0.7931413296681885, 0.7621855621646071, '13'),\n",
       "  Text(-0.9204809206472737, 0.6022581462498847, '14'),\n",
       "  Text(-1.0189590123317542, 0.4143941736896118, '15'),\n",
       "  Text(-1.0998291369334687, 0.019387355471584412, '16'),\n",
       "  Text(-1.0438579762580529, -0.3469301448453891, '17'),\n",
       "  Text(-0.8776562108148076, -0.6631135465500567, '18'),\n",
       "  Text(-0.663113207590075, -0.8776564669160721, '19'),\n",
       "  Text(-0.4128486891725767, -1.0195861708793843, '20'),\n",
       "  Text(0.08559861854121265, -1.0966644320410124, '21'),\n",
       "  Text(0.5402825582803802, -0.9581726134773461, '22'),\n",
       "  Text(0.9719745013340161, -0.5150393856361773, '23'),\n",
       "  Text(1.0996183217106739, -0.02897492982219493, '24')])"
      ]
     },
     "execution_count": 86,
     "metadata": {},
     "output_type": "execute_result"
    },
    {
     "data": {
      "image/png": "[encoded data removed]",
      "text/plain": [
       "<Figure size 432x288 with 1 Axes>"
      ]
     },
     "metadata": {},
     "output_type": "display_data"
    }
   ],
   "source": [
    "import matplotlib.pyplot as plt\n",
    "lables = [str(i) for i in range(0,25)]\n",
    "plt.pie(result, labels = lables)"
   ]
  },
  {
   "cell_type": "markdown",
   "id": "6f6f2154",
   "metadata": {},
   "source": [
    "Аналогично и с типом С (ответы с развернутым ответом)"
   ]
  },
  {
   "cell_type": "code",
   "execution_count": 87,
   "id": "134b5428",
   "metadata": {},
   "outputs": [
    {
     "data": {
      "text/plain": [
       "[0.03246966218432271,\n",
       " 0.05280419809773693,\n",
       " 0.05542800918333877,\n",
       " 0.057395867497540144,\n",
       " 0.03542144965562478,\n",
       " 0.025582158084617893,\n",
       " 0.07609052148245322,\n",
       " 0.18497868153492938,\n",
       " 0.15808461790751058,\n",
       " 0.18268284683502778,\n",
       " 0.020006559527713994,\n",
       " 0.15447687766480805]"
      ]
     },
     "execution_count": 87,
     "metadata": {},
     "output_type": "execute_result"
    }
   ],
   "source": [
    "result = [0 for i in range(0,12)] # генерация пустого массива заданий\n",
    "for i in range(2, len(df1['Задания с развёрнутым ответом'])):\n",
    "    for j in range(len(df1['Задания с развёрнутым ответом'][i])):\n",
    "        task = df1['Задания с развёрнутым ответом'][i][j]\n",
    "        if task == '0':\n",
    "            result[j//4] += 1/3049\n",
    "result # % нерешенных заданий с развёрнутым ответом"
   ]
  },
  {
   "cell_type": "code",
   "execution_count": 88,
   "id": "a9be9fe2",
   "metadata": {},
   "outputs": [
    {
     "data": {
      "text/plain": [
       "([<matplotlib.patches.Wedge at 0x18e34048c40>,\n",
       "  <matplotlib.patches.Wedge at 0x18e34055160>,\n",
       "  <matplotlib.patches.Wedge at 0x18e34055610>,\n",
       "  <matplotlib.patches.Wedge at 0x18e34055a30>,\n",
       "  <matplotlib.patches.Wedge at 0x18e34055d90>,\n",
       "  <matplotlib.patches.Wedge at 0x18e34063250>,\n",
       "  <matplotlib.patches.Wedge at 0x18e340636d0>,\n",
       "  <matplotlib.patches.Wedge at 0x18e34063b50>,\n",
       "  <matplotlib.patches.Wedge at 0x18e34063fd0>,\n",
       "  <matplotlib.patches.Wedge at 0x18e34072490>,\n",
       "  <matplotlib.patches.Wedge at 0x18e3402e790>,\n",
       "  <matplotlib.patches.Wedge at 0x18e34072d60>],\n",
       " [Text(1.094666252934104, 0.10819332089925267, '0'),\n",
       "  Text(1.0305490286161003, 0.3846669983484578, '1'),\n",
       "  Text(0.8514171683709484, 0.6964831695046165, '2'),\n",
       "  Text(0.5682246744566738, 0.9418708612854563, '3'),\n",
       "  Text(0.28408413302341, 1.062683492562267, '4'),\n",
       "  Text(0.08365847175322708, 1.0968141410940664, '5'),\n",
       "  Text(-0.25330264623903703, 1.0704381203078959, '6'),\n",
       "  Text(-0.9398860205601165, 0.5715017658377517, '7'),\n",
       "  Text(-0.9681879435649411, -0.5221226924157679, '8'),\n",
       "  Text(-0.04650823571447011, -1.099016371129533, '9'),\n",
       "  Text(0.5960852702605914, -0.9244903193535116, '10'),\n",
       "  Text(0.9813711105573001, -0.4969011404329153, '11')])"
      ]
     },
     "execution_count": 88,
     "metadata": {},
     "output_type": "execute_result"
    },
    {
     "data": {
      "image/png": "[encoded data removed]",
      "text/plain": [
       "<Figure size 432x288 with 1 Axes>"
      ]
     },
     "metadata": {},
     "output_type": "display_data"
    }
   ],
   "source": [
    "import matplotlib.pyplot as plt\n",
    "lables = [str(i) for i in range(0,12)]\n",
    "plt.pie(result, labels = lables)"
   ]
  },
  {
   "cell_type": "markdown",
   "id": "04db4a5a",
   "metadata": {},
   "source": [
    "Сделайте анализ по двум школам:"
   ]
  },
  {
   "cell_type": "code",
   "execution_count": 112,
   "id": "7a731d96",
   "metadata": {},
   "outputs": [],
   "source": [
    "school_1 = pd.DataFrame(df1[df1[\"№ школы\"] == 117]).set_index([pd.Index([i for i in range(0,len(df1[df1[\"№ школы\"] == 117]))])])\n",
    "school_2 = df1[df1[\"№ школы\"] == 152].set_index([pd.Index([i for i in range(0,len(df1[df1[\"№ школы\"] == 152]))])])"
   ]
  },
  {
   "cell_type": "markdown",
   "id": "53fdc408",
   "metadata": {},
   "source": [
    "<li>по всем выполненным заданиям типа В</li>\n",
    "<li>по заданиям типа С больше 50%</li>\n",
    "<li>по среднему баллу юношей и девушек</li>"
   ]
  },
  {
   "cell_type": "code",
   "execution_count": 110,
   "id": "b301a416",
   "metadata": {},
   "outputs": [
    {
     "data": {
      "text/html": [
       "<div>\n",
       "<style scoped>\n",
       "    .dataframe tbody tr th:only-of-type {\n",
       "        vertical-align: middle;\n",
       "    }\n",
       "\n",
       "    .dataframe tbody tr th {\n",
       "        vertical-align: top;\n",
       "    }\n",
       "\n",
       "    .dataframe thead th {\n",
       "        text-align: right;\n",
       "    }\n",
       "</style>\n",
       "<table border=\"1\" class=\"dataframe\">\n",
       "  <thead>\n",
       "    <tr style=\"text-align: right;\">\n",
       "      <th></th>\n",
       "      <th>01-Русский язык</th>\n",
       "      <th>№ школы</th>\n",
       "      <th>Класс</th>\n",
       "      <th>Пол</th>\n",
       "      <th>Номер варианта</th>\n",
       "      <th>Задания с кратким ответом</th>\n",
       "      <th>Задания с развёрнутым ответом</th>\n",
       "      <th>Устная часть</th>\n",
       "      <th>Первичный балл</th>\n",
       "      <th>Балл</th>\n",
       "      <th>Минимальный балл</th>\n",
       "    </tr>\n",
       "  </thead>\n",
       "  <tbody>\n",
       "    <tr>\n",
       "      <th>0</th>\n",
       "      <td>1</td>\n",
       "      <td>117</td>\n",
       "      <td>11</td>\n",
       "      <td>М</td>\n",
       "      <td>341</td>\n",
       "      <td>1+++--1+-++---0---------0</td>\n",
       "      <td>0(1)0(3)0(1)0(3)0(2)0(2)0(3)0(3)0(2)0(2)0(1)0(1)</td>\n",
       "      <td>NaN</td>\n",
       "      <td>8</td>\n",
       "      <td>20</td>\n",
       "      <td>24</td>\n",
       "    </tr>\n",
       "    <tr>\n",
       "      <th>1</th>\n",
       "      <td>22</td>\n",
       "      <td>117</td>\n",
       "      <td>11</td>\n",
       "      <td>М</td>\n",
       "      <td>346</td>\n",
       "      <td>1--+-+4+++-+-+2++-------0</td>\n",
       "      <td>0(1)0(3)0(1)0(3)0(2)0(2)0(3)0(3)0(2)0(2)0(1)0(1)</td>\n",
       "      <td>NaN</td>\n",
       "      <td>16</td>\n",
       "      <td>36</td>\n",
       "      <td>24</td>\n",
       "    </tr>\n",
       "    <tr>\n",
       "      <th>2</th>\n",
       "      <td>31</td>\n",
       "      <td>117</td>\n",
       "      <td>11</td>\n",
       "      <td>М</td>\n",
       "      <td>337</td>\n",
       "      <td>2+++++1-++++--0-++-+----3</td>\n",
       "      <td>0(1)0(3)0(1)0(3)0(2)0(2)0(3)0(3)0(2)0(2)0(1)0(1)</td>\n",
       "      <td>NaN</td>\n",
       "      <td>18</td>\n",
       "      <td>39</td>\n",
       "      <td>24</td>\n",
       "    </tr>\n",
       "    <tr>\n",
       "      <th>3</th>\n",
       "      <td>70</td>\n",
       "      <td>117</td>\n",
       "      <td>11</td>\n",
       "      <td>М</td>\n",
       "      <td>344</td>\n",
       "      <td>2++--+0+-++--+1--++-+---2</td>\n",
       "      <td>1(1)1(3)0(1)0(3)1(2)1(2)0(3)0(3)1(2)0(2)1(1)1(1)</td>\n",
       "      <td>NaN</td>\n",
       "      <td>22</td>\n",
       "      <td>44</td>\n",
       "      <td>24</td>\n",
       "    </tr>\n",
       "    <tr>\n",
       "      <th>4</th>\n",
       "      <td>96</td>\n",
       "      <td>117</td>\n",
       "      <td>11</td>\n",
       "      <td>М</td>\n",
       "      <td>337</td>\n",
       "      <td>1-++-+2-+++---2----+----1</td>\n",
       "      <td>1(1)1(3)1(1)2(3)1(2)1(2)1(3)1(3)0(2)1(2)1(1)0(1)</td>\n",
       "      <td>NaN</td>\n",
       "      <td>24</td>\n",
       "      <td>46</td>\n",
       "      <td>24</td>\n",
       "    </tr>\n",
       "    <tr>\n",
       "      <th>...</th>\n",
       "      <td>...</td>\n",
       "      <td>...</td>\n",
       "      <td>...</td>\n",
       "      <td>...</td>\n",
       "      <td>...</td>\n",
       "      <td>...</td>\n",
       "      <td>...</td>\n",
       "      <td>...</td>\n",
       "      <td>...</td>\n",
       "      <td>...</td>\n",
       "      <td>...</td>\n",
       "    </tr>\n",
       "    <tr>\n",
       "      <th>90</th>\n",
       "      <td>2735</td>\n",
       "      <td>117</td>\n",
       "      <td>11</td>\n",
       "      <td>Ж</td>\n",
       "      <td>345</td>\n",
       "      <td>2+++++5+++++++2++++++++-4</td>\n",
       "      <td>1(1)3(3)1(1)2(3)1(2)2(2)3(3)3(3)1(2)2(2)1(1)1(1)</td>\n",
       "      <td>NaN</td>\n",
       "      <td>54</td>\n",
       "      <td>91</td>\n",
       "      <td>24</td>\n",
       "    </tr>\n",
       "    <tr>\n",
       "      <th>91</th>\n",
       "      <td>2855</td>\n",
       "      <td>117</td>\n",
       "      <td>11</td>\n",
       "      <td>Ж</td>\n",
       "      <td>343</td>\n",
       "      <td>2+++++5+-+++++2++++++-++4</td>\n",
       "      <td>1(1)3(3)1(1)3(3)2(2)2(2)2(3)3(3)2(2)2(2)1(1)1(1)</td>\n",
       "      <td>NaN</td>\n",
       "      <td>55</td>\n",
       "      <td>94</td>\n",
       "      <td>24</td>\n",
       "    </tr>\n",
       "    <tr>\n",
       "      <th>92</th>\n",
       "      <td>2856</td>\n",
       "      <td>117</td>\n",
       "      <td>11</td>\n",
       "      <td>Ж</td>\n",
       "      <td>345</td>\n",
       "      <td>2+++++5+++++++2++++++-++4</td>\n",
       "      <td>1(1)3(3)1(1)3(3)2(2)2(2)3(3)2(3)2(2)1(2)1(1)1(1)</td>\n",
       "      <td>NaN</td>\n",
       "      <td>55</td>\n",
       "      <td>94</td>\n",
       "      <td>24</td>\n",
       "    </tr>\n",
       "    <tr>\n",
       "      <th>93</th>\n",
       "      <td>3006</td>\n",
       "      <td>117</td>\n",
       "      <td>11</td>\n",
       "      <td>Ж</td>\n",
       "      <td>342</td>\n",
       "      <td>2+++++5+++++++2+++++++++4</td>\n",
       "      <td>1(1)3(3)1(1)3(3)2(2)2(2)2(3)3(3)2(2)2(2)1(1)1(1)</td>\n",
       "      <td>NaN</td>\n",
       "      <td>57</td>\n",
       "      <td>98</td>\n",
       "      <td>24</td>\n",
       "    </tr>\n",
       "    <tr>\n",
       "      <th>94</th>\n",
       "      <td>3007</td>\n",
       "      <td>117</td>\n",
       "      <td>11</td>\n",
       "      <td>М</td>\n",
       "      <td>341</td>\n",
       "      <td>2+++++5+++++++2++++++-++4</td>\n",
       "      <td>1(1)3(3)1(1)3(3)2(2)2(2)3(3)3(3)2(2)2(2)1(1)1(1)</td>\n",
       "      <td>NaN</td>\n",
       "      <td>57</td>\n",
       "      <td>98</td>\n",
       "      <td>24</td>\n",
       "    </tr>\n",
       "  </tbody>\n",
       "</table>\n",
       "<p>95 rows × 11 columns</p>\n",
       "</div>"
      ],
      "text/plain": [
       "   01-Русский язык № школы Класс Пол Номер варианта  \\\n",
       "0                1     117    11   М            341   \n",
       "1               22     117    11   М            346   \n",
       "2               31     117    11   М            337   \n",
       "3               70     117    11   М            344   \n",
       "4               96     117    11   М            337   \n",
       "..             ...     ...   ...  ..            ...   \n",
       "90            2735     117    11   Ж            345   \n",
       "91            2855     117    11   Ж            343   \n",
       "92            2856     117    11   Ж            345   \n",
       "93            3006     117    11   Ж            342   \n",
       "94            3007     117    11   М            341   \n",
       "\n",
       "    Задания с кратким ответом  \\\n",
       "0   1+++--1+-++---0---------0   \n",
       "1   1--+-+4+++-+-+2++-------0   \n",
       "2   2+++++1-++++--0-++-+----3   \n",
       "3   2++--+0+-++--+1--++-+---2   \n",
       "4   1-++-+2-+++---2----+----1   \n",
       "..                        ...   \n",
       "90  2+++++5+++++++2++++++++-4   \n",
       "91  2+++++5+-+++++2++++++-++4   \n",
       "92  2+++++5+++++++2++++++-++4   \n",
       "93  2+++++5+++++++2+++++++++4   \n",
       "94  2+++++5+++++++2++++++-++4   \n",
       "\n",
       "                       Задания с развёрнутым ответом Устная часть  \\\n",
       "0   0(1)0(3)0(1)0(3)0(2)0(2)0(3)0(3)0(2)0(2)0(1)0(1)          NaN   \n",
       "1   0(1)0(3)0(1)0(3)0(2)0(2)0(3)0(3)0(2)0(2)0(1)0(1)          NaN   \n",
       "2   0(1)0(3)0(1)0(3)0(2)0(2)0(3)0(3)0(2)0(2)0(1)0(1)          NaN   \n",
       "3   1(1)1(3)0(1)0(3)1(2)1(2)0(3)0(3)1(2)0(2)1(1)1(1)          NaN   \n",
       "4   1(1)1(3)1(1)2(3)1(2)1(2)1(3)1(3)0(2)1(2)1(1)0(1)          NaN   \n",
       "..                                               ...          ...   \n",
       "90  1(1)3(3)1(1)2(3)1(2)2(2)3(3)3(3)1(2)2(2)1(1)1(1)          NaN   \n",
       "91  1(1)3(3)1(1)3(3)2(2)2(2)2(3)3(3)2(2)2(2)1(1)1(1)          NaN   \n",
       "92  1(1)3(3)1(1)3(3)2(2)2(2)3(3)2(3)2(2)1(2)1(1)1(1)          NaN   \n",
       "93  1(1)3(3)1(1)3(3)2(2)2(2)2(3)3(3)2(2)2(2)1(1)1(1)          NaN   \n",
       "94  1(1)3(3)1(1)3(3)2(2)2(2)3(3)3(3)2(2)2(2)1(1)1(1)          NaN   \n",
       "\n",
       "   Первичный балл Балл Минимальный балл  \n",
       "0               8   20               24  \n",
       "1              16   36               24  \n",
       "2              18   39               24  \n",
       "3              22   44               24  \n",
       "4              24   46               24  \n",
       "..            ...  ...              ...  \n",
       "90             54   91               24  \n",
       "91             55   94               24  \n",
       "92             55   94               24  \n",
       "93             57   98               24  \n",
       "94             57   98               24  \n",
       "\n",
       "[95 rows x 11 columns]"
      ]
     },
     "execution_count": 110,
     "metadata": {},
     "output_type": "execute_result"
    }
   ],
   "source": [
    "school_1"
   ]
  },
  {
   "cell_type": "markdown",
   "id": "f70957d0",
   "metadata": {},
   "source": [
    "#### по всем выполненным заданиям типа В"
   ]
  },
  {
   "cell_type": "code",
   "execution_count": 127,
   "id": "845b3a6d",
   "metadata": {},
   "outputs": [
    {
     "data": {
      "text/plain": [
       "[0.9578947368421051,\n",
       " 0.8947368421052628,\n",
       " 0.852631578947368,\n",
       " 0.8421052631578942,\n",
       " 0.6105263157894725,\n",
       " 0.926315789473684,\n",
       " 0.9684210526315788,\n",
       " 0.7789473684210519,\n",
       " 0.8210526315789468,\n",
       " 0.9789473684210526,\n",
       " 0.9578947368421051,\n",
       " 0.6842105263157885,\n",
       " 0.7999999999999994,\n",
       " 0.6631578947368411,\n",
       " 0.9578947368421051,\n",
       " 0.7473684210526308,\n",
       " 0.7578947368421045,\n",
       " 0.7578947368421045,\n",
       " 0.7368421052631571,\n",
       " 0.8736842105263154,\n",
       " 0.6315789473684199,\n",
       " 0.515789473684209,\n",
       " 0.7473684210526308,\n",
       " 0.27368421052631475,\n",
       " 0.9578947368421051]"
      ]
     },
     "execution_count": 127,
     "metadata": {},
     "output_type": "execute_result"
    }
   ],
   "source": [
    "result = [1 for i in range(0,25)] # генерация пустого массива заданий\n",
    "for i in range(2, len(school_1['Задания с кратким ответом'])):\n",
    "#     n_comlite = 0\n",
    "    for j in range(len(school_1['Задания с кратким ответом'][i])):\n",
    "        task = school_1['Задания с кратким ответом'][i][j]\n",
    "        if task == '-' or task == '0':\n",
    "            result[j] -= 1/95\n",
    "result # % решенных заданий с кратким ответом"
   ]
  },
  {
   "cell_type": "code",
   "execution_count": 136,
   "id": "143d1401",
   "metadata": {},
   "outputs": [
    {
     "data": {
      "text/plain": [
       "1.0"
      ]
     },
     "execution_count": 136,
     "metadata": {},
     "output_type": "execute_result"
    }
   ],
   "source": [
    "2/2"
   ]
  },
  {
   "cell_type": "markdown",
   "id": "ae9bc580",
   "metadata": {},
   "source": [
    "#### по заданиям типа С больше 50%"
   ]
  },
  {
   "cell_type": "code",
   "execution_count": 137,
   "id": "559449d1",
   "metadata": {},
   "outputs": [
    {
     "data": {
      "text/plain": [
       "[0.9368421052631588,\n",
       " 0.7894736842105268,\n",
       " 0.9157894736842114,\n",
       " 0.7894736842105268,\n",
       " 0.6526315789473685,\n",
       " 0.1789473684210527,\n",
       " 0.7368421052631582,\n",
       " 0.5052631578947364,\n",
       " 0.3263157894736841,\n",
       " 0.12631578947368424,\n",
       " 0.9578947368421062,\n",
       " 0.8421052631578954]"
      ]
     },
     "execution_count": 137,
     "metadata": {},
     "output_type": "execute_result"
    }
   ],
   "source": [
    "result = [0 for i in range(0,12)] # генерация пустого массива заданий\n",
    "for i in range(2, len(school_1['Задания с развёрнутым ответом'])):\n",
    "    for j in range(len(school_1['Задания с развёрнутым ответом'][i])):\n",
    "        task = school_1['Задания с развёрнутым ответом'][i][j]\n",
    "        if task == '(': # разбиваем числа на 2 элемента слева и справа от скобки\n",
    "            if float(school_1['Задания с развёрнутым ответом'][i][j-1]) > float(school_1['Задания с развёрнутым ответом'][i][j+1])/2:\n",
    "                result[j//4] += 1/95\n",
    "result # % нерешенных заданий с развёрнутым ответом"
   ]
  },
  {
   "cell_type": "markdown",
   "id": "96999a06",
   "metadata": {},
   "source": [
    "#### по среднему баллу юношей и девушек"
   ]
  },
  {
   "cell_type": "code",
   "execution_count": 129,
   "id": "df061af2",
   "metadata": {},
   "outputs": [
    {
     "data": {
      "text/plain": [
       "65.02272727272727"
      ]
     },
     "execution_count": 129,
     "metadata": {},
     "output_type": "execute_result"
    }
   ],
   "source": [
    "school_1[school_1[\"Пол\"] == \"М\"]['Балл'].mean() # берем подвыборку с мужичнами и считаем средний балл"
   ]
  },
  {
   "cell_type": "code",
   "execution_count": 130,
   "id": "852176f6",
   "metadata": {},
   "outputs": [
    {
     "data": {
      "text/plain": [
       "75.68627450980392"
      ]
     },
     "execution_count": 130,
     "metadata": {},
     "output_type": "execute_result"
    }
   ],
   "source": [
    "school_1[school_1[\"Пол\"] == \"Ж\"]['Балл'].mean()"
   ]
  },
  {
   "cell_type": "markdown",
   "id": "c2ba4a3e",
   "metadata": {},
   "source": [
    "### Контрольные вопросы"
   ]
  },
  {
   "cell_type": "markdown",
   "id": "3511321a",
   "metadata": {},
   "source": [
    "<li>Какое свойство содержит количество элементов массива по измерениям?</li>\n",
    "<li>Напишите функцию, создающую ndarray из массива [0, 1, 2, 3, 4]</li>\n",
    "<li>Как создать нулевой 4-мерный вектор?</li>\n",
    "<li>Как создать единичную диагональную матрицу 3х4?</li>\n",
    "<li>Сколько операций умножения матриц существует в numpy?</li>\n",
    "<li>Напишите инструкцию, выбирающую каждый третий элемент массива А начиная с 10-го и заканчивая 45-м</li>\n",
    "<li>Напишите инструкцию создания матрицы 4х3 из плоского массива из 12 элементов</li>"
   ]
  },
  {
   "cell_type": "code",
   "execution_count": null,
   "id": "c25303fa",
   "metadata": {},
   "outputs": [],
   "source": []
  }
 ],
 "metadata": {
  "kernelspec": {
   "display_name": "Python 3",
   "language": "python",
   "name": "python3"
  },
  "language_info": {
   "codemirror_mode": {
    "name": "ipython",
    "version": 3
   },
   "file_extension": ".py",
   "mimetype": "text/x-python",
   "name": "python",
   "nbconvert_exporter": "python",
   "pygments_lexer": "ipython3",
   "version": "3.8.8"
  }
 },
 "nbformat": 4,
 "nbformat_minor": 5
}
