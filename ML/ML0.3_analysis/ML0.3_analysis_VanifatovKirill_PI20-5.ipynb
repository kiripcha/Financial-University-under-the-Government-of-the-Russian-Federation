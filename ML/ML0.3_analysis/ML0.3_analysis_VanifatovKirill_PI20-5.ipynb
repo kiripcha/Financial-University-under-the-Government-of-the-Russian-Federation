{
 "cells": [
  {
   "cell_type": "markdown",
   "id": "4410927d",
   "metadata": {},
   "source": [
    "# 0.3. Простой анализ данных"
   ]
  },
  {
   "cell_type": "markdown",
   "id": "2770077e",
   "metadata": {},
   "source": [
    "## Цель работы\n",
    "Освоить основные приемы работы с библиотекой numpy."
   ]
  },
  {
   "cell_type": "markdown",
   "id": "c4ed923f",
   "metadata": {},
   "source": [
    "## Задания для выполнения\n",
    "Вам даны данные результатов ЕГЭ по различным предметам. Выполните следующие действия:\n"
   ]
  },
  {
   "cell_type": "code",
   "execution_count": 1,
   "id": "7074b3d7",
   "metadata": {},
   "outputs": [],
   "source": [
    "import pandas as pd\n",
    "import numpy as np"
   ]
  },
  {
   "cell_type": "markdown",
   "id": "57482cf0",
   "metadata": {},
   "source": [
    "Загрузите данные в ноутбук"
   ]
  },
  {
   "cell_type": "code",
   "execution_count": 2,
   "id": "01d64e75",
   "metadata": {},
   "outputs": [
    {
     "data": {
      "text/html": [
       "<div>\n",
       "<style scoped>\n",
       "    .dataframe tbody tr th:only-of-type {\n",
       "        vertical-align: middle;\n",
       "    }\n",
       "\n",
       "    .dataframe tbody tr th {\n",
       "        vertical-align: top;\n",
       "    }\n",
       "\n",
       "    .dataframe thead th {\n",
       "        text-align: right;\n",
       "    }\n",
       "</style>\n",
       "<table border=\"1\" class=\"dataframe\">\n",
       "  <thead>\n",
       "    <tr style=\"text-align: right;\">\n",
       "      <th></th>\n",
       "      <th>01-Русский язык</th>\n",
       "      <th>Unnamed: 1</th>\n",
       "      <th>Unnamed: 2</th>\n",
       "      <th>Unnamed: 3</th>\n",
       "      <th>Unnamed: 4</th>\n",
       "      <th>Unnamed: 5</th>\n",
       "      <th>Unnamed: 6</th>\n",
       "      <th>Unnamed: 7</th>\n",
       "      <th>Unnamed: 8</th>\n",
       "      <th>Unnamed: 9</th>\n",
       "      <th>Unnamed: 10</th>\n",
       "    </tr>\n",
       "  </thead>\n",
       "  <tbody>\n",
       "    <tr>\n",
       "      <th>0</th>\n",
       "      <td>NaN</td>\n",
       "      <td>NaN</td>\n",
       "      <td>NaN</td>\n",
       "      <td>NaN</td>\n",
       "      <td>NaN</td>\n",
       "      <td>NaN</td>\n",
       "      <td>NaN</td>\n",
       "      <td>NaN</td>\n",
       "      <td>NaN</td>\n",
       "      <td>NaN</td>\n",
       "      <td>NaN</td>\n",
       "    </tr>\n",
       "    <tr>\n",
       "      <th>1</th>\n",
       "      <td>№</td>\n",
       "      <td>№ школы</td>\n",
       "      <td>Класс</td>\n",
       "      <td>Пол</td>\n",
       "      <td>Номер варианта</td>\n",
       "      <td>Задания с кратким ответом</td>\n",
       "      <td>Задания с развёрнутым ответом</td>\n",
       "      <td>Устная часть</td>\n",
       "      <td>Первичный балл</td>\n",
       "      <td>Балл</td>\n",
       "      <td>Минимальный балл</td>\n",
       "    </tr>\n",
       "    <tr>\n",
       "      <th>2</th>\n",
       "      <td>1</td>\n",
       "      <td>117</td>\n",
       "      <td>11</td>\n",
       "      <td>М</td>\n",
       "      <td>341</td>\n",
       "      <td>1+++--1+-++---0---------0</td>\n",
       "      <td>0(1)0(3)0(1)0(3)0(2)0(2)0(3)0(3)0(2)0(2)0(1)0(1)</td>\n",
       "      <td>NaN</td>\n",
       "      <td>8</td>\n",
       "      <td>20</td>\n",
       "      <td>24</td>\n",
       "    </tr>\n",
       "    <tr>\n",
       "      <th>3</th>\n",
       "      <td>2</td>\n",
       "      <td>148</td>\n",
       "      <td>12А</td>\n",
       "      <td>М</td>\n",
       "      <td>338</td>\n",
       "      <td>1+---+0--+---+0----++-+-0</td>\n",
       "      <td>0(1)0(3)0(1)0(3)0(2)0(2)0(3)0(3)0(2)0(2)0(1)0(1)</td>\n",
       "      <td>NaN</td>\n",
       "      <td>8</td>\n",
       "      <td>20</td>\n",
       "      <td>24</td>\n",
       "    </tr>\n",
       "    <tr>\n",
       "      <th>4</th>\n",
       "      <td>3</td>\n",
       "      <td>152</td>\n",
       "      <td>13</td>\n",
       "      <td>Ж</td>\n",
       "      <td>104</td>\n",
       "      <td>2-----0--+----1---------1</td>\n",
       "      <td>0(1)0(3)0(1)0(3)0(2)0(2)0(3)1(3)0(2)1(2)1(1)1(1)</td>\n",
       "      <td>NaN</td>\n",
       "      <td>9</td>\n",
       "      <td>22</td>\n",
       "      <td>24</td>\n",
       "    </tr>\n",
       "  </tbody>\n",
       "</table>\n",
       "</div>"
      ],
      "text/plain": [
       "  01-Русский язык Unnamed: 1 Unnamed: 2 Unnamed: 3      Unnamed: 4  \\\n",
       "0             NaN        NaN        NaN        NaN             NaN   \n",
       "1               №    № школы      Класс        Пол  Номер варианта   \n",
       "2               1        117         11          М             341   \n",
       "3               2        148        12А          М             338   \n",
       "4               3        152         13          Ж             104   \n",
       "\n",
       "                  Unnamed: 5  \\\n",
       "0                        NaN   \n",
       "1  Задания с кратким ответом   \n",
       "2  1+++--1+-++---0---------0   \n",
       "3  1+---+0--+---+0----++-+-0   \n",
       "4  2-----0--+----1---------1   \n",
       "\n",
       "                                         Unnamed: 6    Unnamed: 7  \\\n",
       "0                                               NaN           NaN   \n",
       "1                     Задания с развёрнутым ответом  Устная часть   \n",
       "2  0(1)0(3)0(1)0(3)0(2)0(2)0(3)0(3)0(2)0(2)0(1)0(1)           NaN   \n",
       "3  0(1)0(3)0(1)0(3)0(2)0(2)0(3)0(3)0(2)0(2)0(1)0(1)           NaN   \n",
       "4  0(1)0(3)0(1)0(3)0(2)0(2)0(3)1(3)0(2)1(2)1(1)1(1)           NaN   \n",
       "\n",
       "       Unnamed: 8 Unnamed: 9       Unnamed: 10  \n",
       "0             NaN        NaN               NaN  \n",
       "1  Первичный балл       Балл  Минимальный балл  \n",
       "2               8         20                24  \n",
       "3               8         20                24  \n",
       "4               9         22                24  "
      ]
     },
     "execution_count": 2,
     "metadata": {},
     "output_type": "execute_result"
    }
   ],
   "source": [
    "df1 = pd.read_excel('Вариант 1.xlsx')\n",
    "df1.head()"
   ]
  },
  {
   "cell_type": "code",
   "execution_count": 24,
   "id": "3e3fd481",
   "metadata": {},
   "outputs": [
    {
     "data": {
      "text/html": [
       "<div>\n",
       "<style scoped>\n",
       "    .dataframe tbody tr th:only-of-type {\n",
       "        vertical-align: middle;\n",
       "    }\n",
       "\n",
       "    .dataframe tbody tr th {\n",
       "        vertical-align: top;\n",
       "    }\n",
       "\n",
       "    .dataframe thead th {\n",
       "        text-align: right;\n",
       "    }\n",
       "</style>\n",
       "<table border=\"1\" class=\"dataframe\">\n",
       "  <thead>\n",
       "    <tr style=\"text-align: right;\">\n",
       "      <th></th>\n",
       "      <th>01-Русский язык</th>\n",
       "      <th>№ школы</th>\n",
       "      <th>Класс</th>\n",
       "      <th>Пол</th>\n",
       "      <th>Номер варианта</th>\n",
       "      <th>Задания с кратким ответом</th>\n",
       "      <th>Задания с развёрнутым ответом</th>\n",
       "      <th>Устная часть</th>\n",
       "      <th>Первичный балл</th>\n",
       "      <th>Балл</th>\n",
       "      <th>Минимальный балл</th>\n",
       "    </tr>\n",
       "  </thead>\n",
       "  <tbody>\n",
       "    <tr>\n",
       "      <th>2</th>\n",
       "      <td>1</td>\n",
       "      <td>117</td>\n",
       "      <td>11</td>\n",
       "      <td>М</td>\n",
       "      <td>341</td>\n",
       "      <td>1+++--1+-++---0---------0</td>\n",
       "      <td>0(1)0(3)0(1)0(3)0(2)0(2)0(3)0(3)0(2)0(2)0(1)0(1)</td>\n",
       "      <td>NaN</td>\n",
       "      <td>8</td>\n",
       "      <td>20</td>\n",
       "      <td>24</td>\n",
       "    </tr>\n",
       "    <tr>\n",
       "      <th>3</th>\n",
       "      <td>2</td>\n",
       "      <td>148</td>\n",
       "      <td>12А</td>\n",
       "      <td>М</td>\n",
       "      <td>338</td>\n",
       "      <td>1+---+0--+---+0----++-+-0</td>\n",
       "      <td>0(1)0(3)0(1)0(3)0(2)0(2)0(3)0(3)0(2)0(2)0(1)0(1)</td>\n",
       "      <td>NaN</td>\n",
       "      <td>8</td>\n",
       "      <td>20</td>\n",
       "      <td>24</td>\n",
       "    </tr>\n",
       "    <tr>\n",
       "      <th>4</th>\n",
       "      <td>3</td>\n",
       "      <td>152</td>\n",
       "      <td>13</td>\n",
       "      <td>Ж</td>\n",
       "      <td>104</td>\n",
       "      <td>2-----0--+----1---------1</td>\n",
       "      <td>0(1)0(3)0(1)0(3)0(2)0(2)0(3)1(3)0(2)1(2)1(1)1(1)</td>\n",
       "      <td>NaN</td>\n",
       "      <td>9</td>\n",
       "      <td>22</td>\n",
       "      <td>24</td>\n",
       "    </tr>\n",
       "    <tr>\n",
       "      <th>5</th>\n",
       "      <td>4</td>\n",
       "      <td>152</td>\n",
       "      <td>13</td>\n",
       "      <td>М</td>\n",
       "      <td>104</td>\n",
       "      <td>1+--+-0++-----2----++---0</td>\n",
       "      <td>0(1)0(3)0(1)0(3)0(2)0(2)0(3)0(3)0(2)0(2)0(1)0(1)</td>\n",
       "      <td>NaN</td>\n",
       "      <td>9</td>\n",
       "      <td>22</td>\n",
       "      <td>24</td>\n",
       "    </tr>\n",
       "    <tr>\n",
       "      <th>6</th>\n",
       "      <td>5</td>\n",
       "      <td>132</td>\n",
       "      <td>11</td>\n",
       "      <td>М</td>\n",
       "      <td>337</td>\n",
       "      <td>1++---0-+++---1----+----2</td>\n",
       "      <td>0(1)0(3)0(1)0(3)0(2)0(2)0(3)0(3)0(2)0(2)0(1)0(1)</td>\n",
       "      <td>NaN</td>\n",
       "      <td>10</td>\n",
       "      <td>24</td>\n",
       "      <td>24</td>\n",
       "    </tr>\n",
       "  </tbody>\n",
       "</table>\n",
       "</div>"
      ],
      "text/plain": [
       "  01-Русский язык № школы Класс Пол Номер варианта  Задания с кратким ответом  \\\n",
       "2               1     117    11   М            341  1+++--1+-++---0---------0   \n",
       "3               2     148   12А   М            338  1+---+0--+---+0----++-+-0   \n",
       "4               3     152    13   Ж            104  2-----0--+----1---------1   \n",
       "5               4     152    13   М            104  1+--+-0++-----2----++---0   \n",
       "6               5     132    11   М            337  1++---0-+++---1----+----2   \n",
       "\n",
       "                      Задания с развёрнутым ответом Устная часть  \\\n",
       "2  0(1)0(3)0(1)0(3)0(2)0(2)0(3)0(3)0(2)0(2)0(1)0(1)          NaN   \n",
       "3  0(1)0(3)0(1)0(3)0(2)0(2)0(3)0(3)0(2)0(2)0(1)0(1)          NaN   \n",
       "4  0(1)0(3)0(1)0(3)0(2)0(2)0(3)1(3)0(2)1(2)1(1)1(1)          NaN   \n",
       "5  0(1)0(3)0(1)0(3)0(2)0(2)0(3)0(3)0(2)0(2)0(1)0(1)          NaN   \n",
       "6  0(1)0(3)0(1)0(3)0(2)0(2)0(3)0(3)0(2)0(2)0(1)0(1)          NaN   \n",
       "\n",
       "  Первичный балл Балл Минимальный балл  \n",
       "2              8   20               24  \n",
       "3              8   20               24  \n",
       "4              9   22               24  \n",
       "5              9   22               24  \n",
       "6             10   24               24  "
      ]
     },
     "execution_count": 24,
     "metadata": {},
     "output_type": "execute_result"
    }
   ],
   "source": [
    "rename = {\n",
    "    \"Unnamed: 1\": \"№ школы\",\n",
    "    \"Unnamed: 2\": \"Класс\",\n",
    "    \"Unnamed: 3\": \"Пол\",\n",
    "    \"Unnamed: 4\": \"Номер варианта\",\n",
    "    \"Unnamed: 5\": \"Задания с кратким ответом\",\n",
    "    \"Unnamed: 6\": \"Задания с развёрнутым ответом\",\n",
    "    \"Unnamed: 7\": \"Устная часть\",\n",
    "    \"Unnamed: 8\": \"Первичный балл\", \n",
    "    \"Unnamed: 9\": \"Балл\",\n",
    "    \"Unnamed: 10\": \"Минимальный балл\"\n",
    "}\n",
    "df1 = df1.rename(columns = rename)\n",
    "df1.drop([0,1], inplace=True)\n",
    "df1.head()"
   ]
  },
  {
   "cell_type": "code",
   "execution_count": 3,
   "id": "3115587a",
   "metadata": {},
   "outputs": [
    {
     "data": {
      "text/html": [
       "<div>\n",
       "<style scoped>\n",
       "    .dataframe tbody tr th:only-of-type {\n",
       "        vertical-align: middle;\n",
       "    }\n",
       "\n",
       "    .dataframe tbody tr th {\n",
       "        vertical-align: top;\n",
       "    }\n",
       "\n",
       "    .dataframe thead th {\n",
       "        text-align: right;\n",
       "    }\n",
       "</style>\n",
       "<table border=\"1\" class=\"dataframe\">\n",
       "  <thead>\n",
       "    <tr style=\"text-align: right;\">\n",
       "      <th></th>\n",
       "      <th>02-Математика профильная</th>\n",
       "      <th>Unnamed: 1</th>\n",
       "      <th>Unnamed: 2</th>\n",
       "      <th>Unnamed: 3</th>\n",
       "      <th>Unnamed: 4</th>\n",
       "      <th>Unnamed: 5</th>\n",
       "      <th>Unnamed: 6</th>\n",
       "      <th>Unnamed: 7</th>\n",
       "      <th>Unnamed: 8</th>\n",
       "      <th>Unnamed: 9</th>\n",
       "      <th>Unnamed: 10</th>\n",
       "    </tr>\n",
       "  </thead>\n",
       "  <tbody>\n",
       "    <tr>\n",
       "      <th>0</th>\n",
       "      <td>NaN</td>\n",
       "      <td>NaN</td>\n",
       "      <td>NaN</td>\n",
       "      <td>NaN</td>\n",
       "      <td>NaN</td>\n",
       "      <td>NaN</td>\n",
       "      <td>NaN</td>\n",
       "      <td>NaN</td>\n",
       "      <td>NaN</td>\n",
       "      <td>NaN</td>\n",
       "      <td>NaN</td>\n",
       "    </tr>\n",
       "    <tr>\n",
       "      <th>1</th>\n",
       "      <td>№</td>\n",
       "      <td>№ школы</td>\n",
       "      <td>Класс</td>\n",
       "      <td>Пол</td>\n",
       "      <td>Номер варианта</td>\n",
       "      <td>Задания с кратким ответом</td>\n",
       "      <td>Задания с развёрнутым ответом</td>\n",
       "      <td>Устная часть</td>\n",
       "      <td>Первичный балл</td>\n",
       "      <td>Балл</td>\n",
       "      <td>Минимальный балл</td>\n",
       "    </tr>\n",
       "    <tr>\n",
       "      <th>2</th>\n",
       "      <td>1</td>\n",
       "      <td>124</td>\n",
       "      <td>11</td>\n",
       "      <td>Ж</td>\n",
       "      <td>341</td>\n",
       "      <td>------+-----</td>\n",
       "      <td>0(2)0(2)0(2)0(3)0(3)0(4)0(4)</td>\n",
       "      <td>NaN</td>\n",
       "      <td>1</td>\n",
       "      <td>5</td>\n",
       "      <td>27</td>\n",
       "    </tr>\n",
       "    <tr>\n",
       "      <th>3</th>\n",
       "      <td>2</td>\n",
       "      <td>128</td>\n",
       "      <td>11</td>\n",
       "      <td>Ж</td>\n",
       "      <td>345</td>\n",
       "      <td>-+----------</td>\n",
       "      <td>0(2)0(2)0(2)0(3)0(3)0(4)0(4)</td>\n",
       "      <td>NaN</td>\n",
       "      <td>1</td>\n",
       "      <td>5</td>\n",
       "      <td>27</td>\n",
       "    </tr>\n",
       "    <tr>\n",
       "      <th>4</th>\n",
       "      <td>3</td>\n",
       "      <td>132</td>\n",
       "      <td>11</td>\n",
       "      <td>Ж</td>\n",
       "      <td>340</td>\n",
       "      <td>-+----------</td>\n",
       "      <td>0(2)0(2)0(2)0(3)0(3)0(4)0(4)</td>\n",
       "      <td>NaN</td>\n",
       "      <td>1</td>\n",
       "      <td>5</td>\n",
       "      <td>27</td>\n",
       "    </tr>\n",
       "  </tbody>\n",
       "</table>\n",
       "</div>"
      ],
      "text/plain": [
       "  02-Математика профильная Unnamed: 1 Unnamed: 2 Unnamed: 3      Unnamed: 4  \\\n",
       "0                      NaN        NaN        NaN        NaN             NaN   \n",
       "1                        №    № школы      Класс        Пол  Номер варианта   \n",
       "2                        1        124         11          Ж             341   \n",
       "3                        2        128         11          Ж             345   \n",
       "4                        3        132         11          Ж             340   \n",
       "\n",
       "                  Unnamed: 5                     Unnamed: 6    Unnamed: 7  \\\n",
       "0                        NaN                            NaN           NaN   \n",
       "1  Задания с кратким ответом  Задания с развёрнутым ответом  Устная часть   \n",
       "2               ------+-----   0(2)0(2)0(2)0(3)0(3)0(4)0(4)           NaN   \n",
       "3               -+----------   0(2)0(2)0(2)0(3)0(3)0(4)0(4)           NaN   \n",
       "4               -+----------   0(2)0(2)0(2)0(3)0(3)0(4)0(4)           NaN   \n",
       "\n",
       "       Unnamed: 8 Unnamed: 9       Unnamed: 10  \n",
       "0             NaN        NaN               NaN  \n",
       "1  Первичный балл       Балл  Минимальный балл  \n",
       "2               1          5                27  \n",
       "3               1          5                27  \n",
       "4               1          5                27  "
      ]
     },
     "execution_count": 3,
     "metadata": {},
     "output_type": "execute_result"
    }
   ],
   "source": [
    "df2 = pd.read_excel('Вариант 2.xlsx')\n",
    "df2.head()"
   ]
  },
  {
   "cell_type": "code",
   "execution_count": 4,
   "id": "3ed15d50",
   "metadata": {},
   "outputs": [
    {
     "data": {
      "text/html": [
       "<div>\n",
       "<style scoped>\n",
       "    .dataframe tbody tr th:only-of-type {\n",
       "        vertical-align: middle;\n",
       "    }\n",
       "\n",
       "    .dataframe tbody tr th {\n",
       "        vertical-align: top;\n",
       "    }\n",
       "\n",
       "    .dataframe thead th {\n",
       "        text-align: right;\n",
       "    }\n",
       "</style>\n",
       "<table border=\"1\" class=\"dataframe\">\n",
       "  <thead>\n",
       "    <tr style=\"text-align: right;\">\n",
       "      <th></th>\n",
       "      <th>03-Физика</th>\n",
       "      <th>Unnamed: 1</th>\n",
       "      <th>Unnamed: 2</th>\n",
       "      <th>Unnamed: 3</th>\n",
       "      <th>Unnamed: 4</th>\n",
       "      <th>Unnamed: 5</th>\n",
       "      <th>Unnamed: 6</th>\n",
       "      <th>Unnamed: 7</th>\n",
       "      <th>Unnamed: 8</th>\n",
       "      <th>Unnamed: 9</th>\n",
       "      <th>Unnamed: 10</th>\n",
       "    </tr>\n",
       "  </thead>\n",
       "  <tbody>\n",
       "    <tr>\n",
       "      <th>0</th>\n",
       "      <td>NaN</td>\n",
       "      <td>NaN</td>\n",
       "      <td>NaN</td>\n",
       "      <td>NaN</td>\n",
       "      <td>NaN</td>\n",
       "      <td>NaN</td>\n",
       "      <td>NaN</td>\n",
       "      <td>NaN</td>\n",
       "      <td>NaN</td>\n",
       "      <td>NaN</td>\n",
       "      <td>NaN</td>\n",
       "    </tr>\n",
       "    <tr>\n",
       "      <th>1</th>\n",
       "      <td>№</td>\n",
       "      <td>№ школы</td>\n",
       "      <td>Класс</td>\n",
       "      <td>Пол</td>\n",
       "      <td>Номер варианта</td>\n",
       "      <td>Задания с кратким ответом</td>\n",
       "      <td>Задания с развёрнутым ответом</td>\n",
       "      <td>Устная часть</td>\n",
       "      <td>Первичный балл</td>\n",
       "      <td>Балл</td>\n",
       "      <td>Минимальный балл</td>\n",
       "    </tr>\n",
       "    <tr>\n",
       "      <th>2</th>\n",
       "      <td>1</td>\n",
       "      <td>152</td>\n",
       "      <td>11</td>\n",
       "      <td>М</td>\n",
       "      <td>333</td>\n",
       "      <td>----001---00---000--1-+0---</td>\n",
       "      <td>0(3)0(3)0(3)0(3)0(3)</td>\n",
       "      <td>NaN</td>\n",
       "      <td>3</td>\n",
       "      <td>10</td>\n",
       "      <td>36</td>\n",
       "    </tr>\n",
       "    <tr>\n",
       "      <th>3</th>\n",
       "      <td>2</td>\n",
       "      <td>140</td>\n",
       "      <td>12</td>\n",
       "      <td>Ж</td>\n",
       "      <td>332</td>\n",
       "      <td>----100---01-+-000--0--1---</td>\n",
       "      <td>0(3)0(3)0(3)0(3)0(3)</td>\n",
       "      <td>NaN</td>\n",
       "      <td>4</td>\n",
       "      <td>14</td>\n",
       "      <td>36</td>\n",
       "    </tr>\n",
       "    <tr>\n",
       "      <th>4</th>\n",
       "      <td>3</td>\n",
       "      <td>137</td>\n",
       "      <td>11</td>\n",
       "      <td>М</td>\n",
       "      <td>328</td>\n",
       "      <td>--+-010---00---101--0--1---</td>\n",
       "      <td>0(3)0(3)0(3)0(3)0(3)</td>\n",
       "      <td>NaN</td>\n",
       "      <td>5</td>\n",
       "      <td>17</td>\n",
       "      <td>36</td>\n",
       "    </tr>\n",
       "  </tbody>\n",
       "</table>\n",
       "</div>"
      ],
      "text/plain": [
       "  03-Физика Unnamed: 1 Unnamed: 2 Unnamed: 3      Unnamed: 4  \\\n",
       "0       NaN        NaN        NaN        NaN             NaN   \n",
       "1         №    № школы      Класс        Пол  Номер варианта   \n",
       "2         1        152         11          М             333   \n",
       "3         2        140         12          Ж             332   \n",
       "4         3        137         11          М             328   \n",
       "\n",
       "                    Unnamed: 5                     Unnamed: 6    Unnamed: 7  \\\n",
       "0                          NaN                            NaN           NaN   \n",
       "1    Задания с кратким ответом  Задания с развёрнутым ответом  Устная часть   \n",
       "2  ----001---00---000--1-+0---           0(3)0(3)0(3)0(3)0(3)           NaN   \n",
       "3  ----100---01-+-000--0--1---           0(3)0(3)0(3)0(3)0(3)           NaN   \n",
       "4  --+-010---00---101--0--1---           0(3)0(3)0(3)0(3)0(3)           NaN   \n",
       "\n",
       "       Unnamed: 8 Unnamed: 9       Unnamed: 10  \n",
       "0             NaN        NaN               NaN  \n",
       "1  Первичный балл       Балл  Минимальный балл  \n",
       "2               3         10                36  \n",
       "3               4         14                36  \n",
       "4               5         17                36  "
      ]
     },
     "execution_count": 4,
     "metadata": {},
     "output_type": "execute_result"
    }
   ],
   "source": [
    "df3 = pd.read_excel('Вариант 3.xlsx')\n",
    "df3.head()"
   ]
  },
  {
   "cell_type": "code",
   "execution_count": 5,
   "id": "f467d779",
   "metadata": {},
   "outputs": [
    {
     "data": {
      "text/html": [
       "<div>\n",
       "<style scoped>\n",
       "    .dataframe tbody tr th:only-of-type {\n",
       "        vertical-align: middle;\n",
       "    }\n",
       "\n",
       "    .dataframe tbody tr th {\n",
       "        vertical-align: top;\n",
       "    }\n",
       "\n",
       "    .dataframe thead th {\n",
       "        text-align: right;\n",
       "    }\n",
       "</style>\n",
       "<table border=\"1\" class=\"dataframe\">\n",
       "  <thead>\n",
       "    <tr style=\"text-align: right;\">\n",
       "      <th></th>\n",
       "      <th>05-Информатика и ИКТ</th>\n",
       "      <th>Unnamed: 1</th>\n",
       "      <th>Unnamed: 2</th>\n",
       "      <th>Unnamed: 3</th>\n",
       "      <th>Unnamed: 4</th>\n",
       "      <th>Unnamed: 5</th>\n",
       "      <th>Unnamed: 6</th>\n",
       "      <th>Unnamed: 7</th>\n",
       "      <th>Unnamed: 8</th>\n",
       "      <th>Unnamed: 9</th>\n",
       "      <th>Unnamed: 10</th>\n",
       "    </tr>\n",
       "  </thead>\n",
       "  <tbody>\n",
       "    <tr>\n",
       "      <th>0</th>\n",
       "      <td>NaN</td>\n",
       "      <td>NaN</td>\n",
       "      <td>NaN</td>\n",
       "      <td>NaN</td>\n",
       "      <td>NaN</td>\n",
       "      <td>NaN</td>\n",
       "      <td>NaN</td>\n",
       "      <td>NaN</td>\n",
       "      <td>NaN</td>\n",
       "      <td>NaN</td>\n",
       "      <td>NaN</td>\n",
       "    </tr>\n",
       "    <tr>\n",
       "      <th>1</th>\n",
       "      <td>№</td>\n",
       "      <td>№ школы</td>\n",
       "      <td>Класс</td>\n",
       "      <td>Пол</td>\n",
       "      <td>Номер варианта</td>\n",
       "      <td>Задания с кратким ответом</td>\n",
       "      <td>Задания с развёрнутым ответом</td>\n",
       "      <td>Устная часть</td>\n",
       "      <td>Первичный балл</td>\n",
       "      <td>Балл</td>\n",
       "      <td>Минимальный балл</td>\n",
       "    </tr>\n",
       "    <tr>\n",
       "      <th>2</th>\n",
       "      <td>1</td>\n",
       "      <td>148</td>\n",
       "      <td>13</td>\n",
       "      <td>М</td>\n",
       "      <td>505</td>\n",
       "      <td>-----------------------</td>\n",
       "      <td>0(3)0(2)0(3)0(4)</td>\n",
       "      <td>NaN</td>\n",
       "      <td>0</td>\n",
       "      <td>0</td>\n",
       "      <td>40</td>\n",
       "    </tr>\n",
       "    <tr>\n",
       "      <th>3</th>\n",
       "      <td>2</td>\n",
       "      <td>147</td>\n",
       "      <td>11</td>\n",
       "      <td>М</td>\n",
       "      <td>328</td>\n",
       "      <td>-----------------------</td>\n",
       "      <td>0(3)0(2)0(3)0(4)</td>\n",
       "      <td>NaN</td>\n",
       "      <td>0</td>\n",
       "      <td>0</td>\n",
       "      <td>40</td>\n",
       "    </tr>\n",
       "    <tr>\n",
       "      <th>4</th>\n",
       "      <td>3</td>\n",
       "      <td>111</td>\n",
       "      <td>11</td>\n",
       "      <td>М</td>\n",
       "      <td>330</td>\n",
       "      <td>---+---+-+-------------</td>\n",
       "      <td>0(3)0(2)0(3)0(4)</td>\n",
       "      <td>NaN</td>\n",
       "      <td>3</td>\n",
       "      <td>20</td>\n",
       "      <td>40</td>\n",
       "    </tr>\n",
       "  </tbody>\n",
       "</table>\n",
       "</div>"
      ],
      "text/plain": [
       "  05-Информатика и ИКТ Unnamed: 1 Unnamed: 2 Unnamed: 3      Unnamed: 4  \\\n",
       "0                  NaN        NaN        NaN        NaN             NaN   \n",
       "1                    №    № школы      Класс        Пол  Номер варианта   \n",
       "2                    1        148         13          М             505   \n",
       "3                    2        147         11          М             328   \n",
       "4                    3        111         11          М             330   \n",
       "\n",
       "                  Unnamed: 5                     Unnamed: 6    Unnamed: 7  \\\n",
       "0                        NaN                            NaN           NaN   \n",
       "1  Задания с кратким ответом  Задания с развёрнутым ответом  Устная часть   \n",
       "2    -----------------------               0(3)0(2)0(3)0(4)           NaN   \n",
       "3    -----------------------               0(3)0(2)0(3)0(4)           NaN   \n",
       "4    ---+---+-+-------------               0(3)0(2)0(3)0(4)           NaN   \n",
       "\n",
       "       Unnamed: 8 Unnamed: 9       Unnamed: 10  \n",
       "0             NaN        NaN               NaN  \n",
       "1  Первичный балл       Балл  Минимальный балл  \n",
       "2               0          0                40  \n",
       "3               0          0                40  \n",
       "4               3         20                40  "
      ]
     },
     "execution_count": 5,
     "metadata": {},
     "output_type": "execute_result"
    }
   ],
   "source": [
    "df4 = pd.read_excel('Вариант 4.xlsx')\n",
    "df4.head()"
   ]
  },
  {
   "cell_type": "code",
   "execution_count": null,
   "id": "c5ebde42",
   "metadata": {},
   "outputs": [],
   "source": []
  },
  {
   "cell_type": "code",
   "execution_count": 6,
   "id": "ab5e4393",
   "metadata": {},
   "outputs": [
    {
     "data": {
      "text/plain": [
       "(144, 11)"
      ]
     },
     "execution_count": 6,
     "metadata": {},
     "output_type": "execute_result"
    }
   ],
   "source": [
    "df4.shape"
   ]
  },
  {
   "cell_type": "markdown",
   "id": "153e93bf",
   "metadata": {},
   "source": [
    "Сделайте описательную статистику по набранному баллу"
   ]
  },
  {
   "cell_type": "code",
   "execution_count": 26,
   "id": "814b1814",
   "metadata": {},
   "outputs": [
    {
     "data": {
      "text/plain": [
       "count     3049.0\n",
       "unique      52.0\n",
       "top         80.0\n",
       "freq       158.0\n",
       "Name: Балл, dtype: float64"
      ]
     },
     "execution_count": 26,
     "metadata": {},
     "output_type": "execute_result"
    }
   ],
   "source": [
    "df1['Балл'].describe()"
   ]
  },
  {
   "cell_type": "markdown",
   "id": "883eb9a6",
   "metadata": {},
   "source": [
    "Найдите процент учащихся, выполнивших работу ниже среднего"
   ]
  },
  {
   "cell_type": "code",
   "execution_count": 27,
   "id": "55965ac8",
   "metadata": {},
   "outputs": [
    {
     "data": {
      "text/plain": [
       "2    20\n",
       "3    20\n",
       "4    22\n",
       "5    22\n",
       "6    24\n",
       "Name: Балл, dtype: object"
      ]
     },
     "execution_count": 27,
     "metadata": {},
     "output_type": "execute_result"
    }
   ],
   "source": [
    "df1[\"Балл\"].head()"
   ]
  },
  {
   "cell_type": "code",
   "execution_count": 43,
   "id": "00ba68df",
   "metadata": {},
   "outputs": [
    {
     "data": {
      "text/plain": [
       "0.5126270908494588"
      ]
     },
     "execution_count": 43,
     "metadata": {},
     "output_type": "execute_result"
    }
   ],
   "source": [
    "len(df1[df1[\"Балл\"] < df1[\"Балл\"].mean()])/len(df1[\"Балл\"])"
   ]
  },
  {
   "cell_type": "markdown",
   "id": "bfa7283b",
   "metadata": {},
   "source": [
    "Найти процент учащихся не сдавших экзамен"
   ]
  },
  {
   "cell_type": "code",
   "execution_count": 40,
   "id": "c6296c39",
   "metadata": {},
   "outputs": [
    {
     "data": {
      "text/plain": [
       "0.0013119055428009183"
      ]
     },
     "execution_count": 40,
     "metadata": {},
     "output_type": "execute_result"
    }
   ],
   "source": [
    "len(df1[df1[\"Балл\"] < df1[\"Минимальный балл\"]])/len(df1[\"Балл\"])"
   ]
  },
  {
   "cell_type": "markdown",
   "id": "89b9dd1e",
   "metadata": {},
   "source": [
    "Постройте круговую диаграмму, показывающую распределение сдавших и не сдавших экзамен"
   ]
  },
  {
   "cell_type": "code",
   "execution_count": 47,
   "id": "169375cf",
   "metadata": {},
   "outputs": [],
   "source": [
    "from matplotlib import pyplot as plt\n",
    "import seaborn as sns"
   ]
  },
  {
   "cell_type": "code",
   "execution_count": 46,
   "id": "4f1b979d",
   "metadata": {},
   "outputs": [
    {
     "data": {
      "text/plain": [
       "[Text(0.5, 1.0, 'сдавшие/не сдавшие')]"
      ]
     },
     "execution_count": 46,
     "metadata": {},
     "output_type": "execute_result"
    },
    {
     "data": {
      "image/png": "[encoded data removed]",
      "text/plain": [
       "<Figure size 432x288 with 1 Axes>"
      ]
     },
     "metadata": {},
     "output_type": "display_data"
    }
   ],
   "source": [
    "s = (df1['Балл'] >= df1['Минимальный балл']).value_counts()\n",
    "s.index = s.index.map({False: 'Не сдал', True: 'Сдал'})\n",
    "s.plot.pie(autopct='%1.2f%%').set(title=\"сдавшие/не сдавшие\")"
   ]
  },
  {
   "cell_type": "markdown",
   "id": "35e8d1e1",
   "metadata": {},
   "source": [
    "Постройте ядерную оценку плотности распределению баллов за экзамен"
   ]
  },
  {
   "cell_type": "code",
   "execution_count": 53,
   "id": "1589d433",
   "metadata": {},
   "outputs": [],
   "source": [
    "import seaborn as sns"
   ]
  },
  {
   "cell_type": "code",
   "execution_count": 61,
   "id": "8d8afe76",
   "metadata": {},
   "outputs": [
    {
     "name": "stderr",
     "output_type": "stream",
     "text": [
      "D:\\anaconda\\lib\\site-packages\\seaborn\\distributions.py:2557: FutureWarning: `distplot` is a deprecated function and will be removed in a future version. Please adapt your code to use either `displot` (a figure-level function with similar flexibility) or `histplot` (an axes-level function for histograms).\n",
      "  warnings.warn(msg, FutureWarning)\n"
     ]
    },
    {
     "data": {
      "text/plain": [
       "<AxesSubplot:ylabel='Density'>"
      ]
     },
     "execution_count": 61,
     "metadata": {},
     "output_type": "execute_result"
    },
    {
     "data": {
      "image/png": "[encoded data removed]",
      "text/plain": [
       "<Figure size 432x288 with 1 Axes>"
      ]
     },
     "metadata": {},
     "output_type": "display_data"
    }
   ],
   "source": [
    "sns.distplot(x=df1['Балл'], ax=plt.subplots()[1])"
   ]
  },
  {
   "cell_type": "markdown",
   "id": "2cdb7b26",
   "metadata": {},
   "source": [
    "Найдите процентное соотношение учащихся, сдавших экзамен на «отлично», «хорошо», «удовлетворительно», «неудовлетворительно»."
   ]
  },
  {
   "cell_type": "markdown",
   "id": "d586c07d",
   "metadata": {},
   "source": [
    "Какое процентное соотношение юношей и девушек писало данный экзамен?"
   ]
  },
  {
   "cell_type": "code",
   "execution_count": 41,
   "id": "5404db9b",
   "metadata": {},
   "outputs": [
    {
     "data": {
      "text/plain": [
       "0.4201377500819941"
      ]
     },
     "execution_count": 41,
     "metadata": {},
     "output_type": "execute_result"
    }
   ],
   "source": [
    "len(df1[df1[\"Пол\"] == \"М\"])/len(df1[\"Пол\"])"
   ]
  },
  {
   "cell_type": "code",
   "execution_count": 42,
   "id": "5cc5ede5",
   "metadata": {},
   "outputs": [
    {
     "data": {
      "text/plain": [
       "0.5795342735323057"
      ]
     },
     "execution_count": 42,
     "metadata": {},
     "output_type": "execute_result"
    }
   ],
   "source": [
    "len(df1[df1[\"Пол\"] == \"Ж\"])/len(df1[\"Пол\"])"
   ]
  },
  {
   "cell_type": "markdown",
   "id": "be9011b8",
   "metadata": {},
   "source": [
    "Сколько школ принимало участие в экзамене?"
   ]
  },
  {
   "cell_type": "code",
   "execution_count": 28,
   "id": "f94939f4",
   "metadata": {},
   "outputs": [
    {
     "data": {
      "text/plain": [
       "25"
      ]
     },
     "execution_count": 28,
     "metadata": {},
     "output_type": "execute_result"
    }
   ],
   "source": [
    "len(pd.unique(df1['№ школы']))"
   ]
  },
  {
   "cell_type": "markdown",
   "id": "899a3093",
   "metadata": {},
   "source": [
    "### Дополнительные задания"
   ]
  },
  {
   "cell_type": "markdown",
   "id": "2a774acf",
   "metadata": {},
   "source": [
    "Сколько всего заданий с кратким ответом? С развернутым ответом?"
   ]
  },
  {
   "cell_type": "markdown",
   "id": "cb7f571c",
   "metadata": {},
   "source": [
    "Пусть задания с кратким ответом будут задания типа В. Соответственно всего по экзамену вопросов класса В: В 1 … В к Посчитайте процент выполненных и невыполненных заданий по каждому вопросу класса В."
   ]
  },
  {
   "cell_type": "markdown",
   "id": "6f6f2154",
   "metadata": {},
   "source": [
    "Аналогично и с типом С (ответы с развернутым ответом)"
   ]
  },
  {
   "cell_type": "markdown",
   "id": "04db4a5a",
   "metadata": {},
   "source": [
    "Сделайте анализ по двум школам:"
   ]
  },
  {
   "cell_type": "markdown",
   "id": "53fdc408",
   "metadata": {},
   "source": [
    "<li>по всем выполненным заданиям типа В</li>\n",
    "<li>по заданиям типа С больше 50%</li>\n",
    "<li>по среднему баллу юношей и девушек</li>"
   ]
  },
  {
   "cell_type": "markdown",
   "id": "c2ba4a3e",
   "metadata": {},
   "source": [
    "### Контрольные вопросы"
   ]
  },
  {
   "cell_type": "markdown",
   "id": "3511321a",
   "metadata": {},
   "source": [
    "<li>Какое свойство содержит количество элементов массива по измерениям?</li>\n",
    "<li>Напишите функцию, создающую ndarray из массива [0, 1, 2, 3, 4]</li>\n",
    "<li>Как создать нулевой 4-мерный вектор?</li>\n",
    "<li>Как создать единичную диагональную матрицу 3х4?</li>\n",
    "<li>Сколько операций умножения матриц существует в numpy?</li>\n",
    "<li>Напишите инструкцию, выбирающую каждый третий элемент массива А начиная с 10-го и заканчивая 45-м</li>\n",
    "<li>Напишите инструкцию создания матрицы 4х3 из плоского массива из 12 элементов</li>"
   ]
  },
  {
   "cell_type": "code",
   "execution_count": null,
   "id": "c25303fa",
   "metadata": {},
   "outputs": [],
   "source": []
  }
 ],
 "metadata": {
  "kernelspec": {
   "display_name": "Python 3",
   "language": "python",
   "name": "python3"
  },
  "language_info": {
   "codemirror_mode": {
    "name": "ipython",
    "version": 3
   },
   "file_extension": ".py",
   "mimetype": "text/x-python",
   "name": "python",
   "nbconvert_exporter": "python",
   "pygments_lexer": "ipython3",
   "version": "3.8.8"
  }
 },
 "nbformat": 4,
 "nbformat_minor": 5
}
