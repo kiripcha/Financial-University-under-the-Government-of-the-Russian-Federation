{
 "cells": [
  {
   "cell_type": "markdown",
   "id": "03b0a7e4",
   "metadata": {},
   "source": [
    "### Парная линейная регрессия\n",
    "\n",
    "\n",
    "#### Цель работы\n",
    "\n",
    "Познакомиться с основными понятиями задачи регрессии и метода градиентного спуска.\n",
    "\n",
    "\n",
    "#### Задания для выполнения\n",
    "\n",
    "\n",
    "\n",
    "1. Загрузить данные о котировках нескольких инструментов с сайта РТС (следите за тем, чтобы периоды выгрузки совпадали, иначе весь наш анализ не будет иметь смысла).\n",
    "    1. Можно взять не очень актуальные, но готовые данные в приложении (папка data).\n",
    "2. Построить модель парной линейной регрессии с использованием метода градиентного спуска.\n",
    "3. Оценить на графике качество построенной модели.\n",
    "4. Построить кривые обучения.\n",
    "\n",
    "\n",
    "#### Методические указания\n",
    "\n",
    "Для полноценной работы с регрессионным анализом данных на потребуются следующие библиотеки языка Python:\n",
    "\n",
    "```py\n",
    "import numpy as np\n",
    "import pandas as pd\n",
    "import matplotlib.pyplot as plt\n",
    "```\n",
    "\n",
    "Для начала считаем данные о котировке двух инструментов из csv-файла, полученного при импорте с сайта биржи в объект Pandas DataFrame:\n",
    "\n",
    "```py\n",
    "mvid = pd.read_csv('data/MVID_101001_171001.txt')\n",
    "sber = pd.read_csv('data/SBER_101001_171001.txt')\n",
    "```\n",
    "\n",
    "Посмотрим формат файла с данными - состав и названия полей:\n",
    "\n",
    "```py\n",
    "sber.head()\n",
    "```\n",
    "\n",
    "<table>\n",
    "  <tr>\n",
    "   <td><code>&lt;TICKER></code>\n",
    "   </td>\n",
    "   <td><code>&lt;PER></code>\n",
    "   </td>\n",
    "   <td><code>&lt;DATE></code>\n",
    "   </td>\n",
    "   <td><code>&lt;TIME></code>\n",
    "   </td>\n",
    "   <td><code>&lt;CLOSE></code>\n",
    "   </td>\n",
    "   <td><code>&lt;VOL></code>\n",
    "   </td>\n",
    "   <td>\n",
    "   </td>\n",
    "  </tr>\n",
    "  <tr>\n",
    "   <td><code>0</code>\n",
    "   </td>\n",
    "   <td><code>SBER</code>\n",
    "   </td>\n",
    "   <td><code>D</code>\n",
    "   </td>\n",
    "   <td><code>20101001</code>\n",
    "   </td>\n",
    "   <td><code>0</code>\n",
    "   </td>\n",
    "   <td><code>89.09</code>\n",
    "   </td>\n",
    "   <td><code>332429890</code>\n",
    "   </td>\n",
    "  </tr>\n",
    "  <tr>\n",
    "   <td><code>1</code>\n",
    "   </td>\n",
    "   <td><code>SBER</code>\n",
    "   </td>\n",
    "   <td><code>D</code>\n",
    "   </td>\n",
    "   <td><code>20101004</code>\n",
    "   </td>\n",
    "   <td><code>0</code>\n",
    "   </td>\n",
    "   <td><code>89.88</code>\n",
    "   </td>\n",
    "   <td><code>194032721</code>\n",
    "   </td>\n",
    "  </tr>\n",
    "  <tr>\n",
    "   <td><code>2</code>\n",
    "   </td>\n",
    "   <td><code>SBER</code>\n",
    "   </td>\n",
    "   <td><code>D</code>\n",
    "   </td>\n",
    "   <td><code>20101005</code>\n",
    "   </td>\n",
    "   <td><code>0</code>\n",
    "   </td>\n",
    "   <td><code>91.97</code>\n",
    "   </td>\n",
    "   <td><code>198775753</code>\n",
    "   </td>\n",
    "  </tr>\n",
    "  <tr>\n",
    "   <td><code>3</code>\n",
    "   </td>\n",
    "   <td><code>SBER</code>\n",
    "   </td>\n",
    "   <td><code>D</code>\n",
    "   </td>\n",
    "   <td><code>20101006</code>\n",
    "   </td>\n",
    "   <td><code>0</code>\n",
    "   </td>\n",
    "   <td><code>91.20</code>\n",
    "   </td>\n",
    "   <td><code>210406027</code>\n",
    "   </td>\n",
    "  </tr>\n",
    "  <tr>\n",
    "   <td><code>4</code>\n",
    "   </td>\n",
    "   <td><code>SBER</code>\n",
    "   </td>\n",
    "   <td><code>D</code>\n",
    "   </td>\n",
    "   <td><code>20101007</code>\n",
    "   </td>\n",
    "   <td><code>0</code>\n",
    "   </td>\n",
    "   <td><code>90.40</code>\n",
    "   </td>\n",
    "   <td><code>145137617</code>\n",
    "   </td>\n",
    "  </tr>\n",
    "</table>\n",
    "\n",
    "\n",
    "Если проанализировать два этих объекта внимательнее мы увидим, что они имеют разную длину - разное количество наблюдений. Как это может быть, если выгрузка производилась за одинаковый период времени? Проблема в том, что инструмент в определенные периоды может не торговаться. Поэтому, данные в каждом файле могут в части дней отсутствовать. Таким образом, метки времени в двух файлах не обязательно должны идти одинаково последовательно. Как раз для выявления таких проблем с данными и необходимо проводить первоначальный визуальный анализ данных. \n",
    "\n",
    "Для разрешения нашей проблемы воспользуемся функцией merge из библиотеки pandas, которая и предназначена для соединения (в реляционном смысле) нескольких датасетов по ключевому полю:\n",
    "\n",
    "```py\n",
    "res = pd.merge(sber, mvid, on='&lt;DATE>')\n",
    "res.head()\n",
    "```\n",
    "\n",
    "Затем выделим из получившегося объединенного датасета результативный и факторный признак. В нашем случае это будут цены закрытия двух этих инструментов:\n",
    "\n",
    "```py\n",
    "x = res['&lt;CLOSE>_x']\n",
    "y = res['&lt;CLOSE>_y']\n",
    "```\n",
    "\n",
    "Для визуального представления совместного распределения значений используемых переменных построим график зависимости одной переменной от другой:\n",
    "\n",
    "```py\n",
    "plt.figure()\n",
    "plt.scatter(x, y)\n",
    "plt.show()\n",
    "```\n",
    "\n",
    "Мы видим, что в общем и целом, линейная зависимость прослеживается в данных. Значит, мы можем продолжать и использовать парную линейную регрессию.\n",
    "\n",
    "Начнем строить класс, который будет реализовывать метод парной линейной регрессии:\n",
    "\n",
    "```py\n",
    "class hypothesis(object):\n",
    "    \"\"\"Модель парной линейной регрессии\"\"\"\n",
    "    def __init__(self):\n",
    "        self.b0 = 0\n",
    "        self.b1 = 0\n",
    "```\n",
    "\n",
    "Здесь мы определили конструктор класса, который запоминает в полях экземпляра параметры регрессии. В дальнейшем мы сможем расширять функциональность этого класса сколь угодно много. \n",
    "\n",
    "Реализуем метод, который принимает значение входной переменной и возвращает теоретическое значение выходной - это прямое действие нашей регрессии - метод предсказания результата по факторам (в случае парной регрессии - по одному фактору): \n",
    "\n",
    "```py\n",
    "    def predict(self, x):\n",
    "        return self.b0 + self.b1 * x\n",
    "```\n",
    "\n",
    "Теперь зададим функцию ошибки:\n",
    "\n",
    "```py\n",
    "    def error(self, X, Y):    \n",
    "        return sum((self.predict(X) - Y)**2) / (2 * len(X)) \n",
    "```\n",
    "\n",
    "В данном случае мы используем простую функцию ошибки - среднеквадратическое отклонение (mean squared error, MSE). Можно использовать и другие функции ошибки. Именно вид функции ошибки будет определять то, какой вид регрессии мы реализуем. Существует много разных вариаций простого алгоритма регрессии. О большинстве распространенных методах регрессии можно почитать в официальной документации sklearn. \n",
    "\n",
    "Теперь реализуем метод градиентного спуска. Он должен принимать массив X и массив Y и обновлять параметры регрессии в соответствии в формулами градиентного спуска:\n",
    "\n",
    "```py\n",
    "    def BGD(self, X, Y):  \n",
    "        alpha = 0.00005\n",
    "        dJ0 = sum(self.predict(X) - Y) /len(X)\n",
    "        dJ1 = sum((self.predict(X) - Y) * X) /len(X)\n",
    "        self.b0 -= alpha * dJ0\n",
    "        self.b1 -= alpha * dJ1\n",
    "```\n",
    "\n",
    "О выборе конкретного значения alpha - скорости обучения мы еще поговорим позднее.\n",
    "\n",
    "Давайте создадим объект регрессии и проверим начальное значение ошибки:\n",
    "\n",
    "```py\n",
    "hyp = hypothesis()\n",
    "print(hyp.predict(0))\n",
    "print(hyp.predict(100))\n",
    "J = hyp.error(x, y)\n",
    "print(\"initial error:\", J)\n",
    "0 \n",
    "0 \n",
    "initial error: 36271.58344889084\n",
    "```\n",
    "\n",
    "Как мы видим, для начала оба параметра регрессии равны нулю. Конечно, такая модель не дает надежных предсказаний, но в этом и состоит метод градиентного спуска: начиная с любого решения мы постепенно его улучшаем и приходим к оптимальному решению.\n",
    "\n",
    "Теперь изобразим нашу регрессию на графике:\n",
    "\n",
    "```py\n",
    "X0 = np.linspace(60, 180, 100)\n",
    "Y0 = hyp.predict(X0)\n",
    "plt.figure()\n",
    "plt.scatter(x, y)\n",
    "plt.plot(X0, Y0, 'r')\n",
    "plt.show()\n",
    "```\n",
    "\n",
    "Теперь все готово к запуску градиентного спуска. \n",
    "\n",
    "```py\n",
    "hyp.BGD(x, y)\n",
    "J = hyp.error(x, y)\n",
    "print(\"error after gradient descent:\", J)\n",
    "error after gradient descent: 6734.135540194945\n",
    "X0 = np.linspace(60, 180, 100)\n",
    "Y0 = hyp.predict(X0)\n",
    "plt.figure()\n",
    "plt.scatter(x, y)\n",
    "plt.plot(X0, Y0, 'r')\n",
    "plt.show()\n",
    "```\n",
    "\n",
    "Как мы видим, численное значение ошибки значительно уменьшилось. Да и линия на графике существенно приблизилось к точкам. Конечно, наша модель еще далека от совершенства. Мы прошли всего лишь одну итерацию градиентного спуска. Модифицируем метод так, чтобы он запускался в цикле пока ошибка не перестанет меняться существенно:\n",
    "\n",
    "```py\n",
    "    def BGD(self, X, Y, alpha=0.000005, accuracy=0.01, max_steps=5000):\n",
    "        steps, errors = [], []\n",
    "        step = 0        \n",
    "        old_err = hyp.error(X, Y)\n",
    "        new_err = hyp.error(X, Y) - 1\n",
    "        dJ = 1\n",
    "        while (dJ > accuracy) and (step&lt;max_steps):\n",
    "            dJ0 = sum(self.predict(X) - Y) /len(X)\n",
    "            dJ1 = sum((self.predict(X) - Y) * X) /len(X)\n",
    "            self.b0 -= alpha * dJ0\n",
    "            self.b1 -= alpha * dJ1            \n",
    "            old_err = new_err\n",
    "            new_err = hyp.error(X, Y)\n",
    "            dJ = abs(old_err - new_err) \n",
    "            step += 1            \n",
    "            steps.append(step)\n",
    "            errors.append(new_err)\n",
    "        return steps, errors\n",
    "```\n",
    "\n",
    "Заодно мы расширили функциональность этого метода так, чтобы он возвращал массив ошибок на каждой итерации спуска и номер итерации. Это будет нам полезно для построения кривых обучения.\n",
    "\n",
    "Запустим наш градиентный спуск:\n",
    "\n",
    "```py\n",
    "hyp = hypothesis()\n",
    "steps, errors = hyp.BGD(x, y)\n",
    "J = hyp.error(x, y)\n",
    "print(\"error after gradient descent:\", J)\n",
    "error after gradient descent: 298.76881676471504\n",
    "```\n",
    "\n",
    "Как мы видим, теперь ошибка снизилась гораздо больше. Однако, она все еще не достигла нуля. Заметим, что нулевая ошибка не всегда возможна в принципе из-за того, что точки данных не всегда будут располагаться на одной линии. Нужно стремиться не к нулевой, а к минимально возможной ошибке. \n",
    "\n",
    "Посмотрим, как теперь наша регрессия выглядит на графике:\n",
    "\n",
    "```py\n",
    "X0 = np.linspace(60, 180, 100)\n",
    "Y0 = hyp.predict(X0)\n",
    "plt.figure()\n",
    "plt.scatter(x, y)\n",
    "plt.plot(X0, Y0, 'r')\n",
    "plt.show()\n",
    "```\n",
    "\n",
    "Уже значительно лучше. Линия регрессии довольно похожа на оптимальную. Так ли это на самом деле, глядя на график, сказать сложно, для этого нужно проанализировать, как ошибка регрессии менялась со временем:\n",
    "\n",
    "```py\n",
    "plt.figure()\n",
    "plt.plot(steps, errors, 'g')\n",
    "plt.show()\n",
    "```\n",
    "\n",
    "На графике наглядно видно, что в начале обучения ошибка падала быстро, но в ходе градиентного спуска она вышла на плато. Учитывая, что мы используем гладкую функцию ошибки второго порядка, это свидетельствует о том, что мы достигли локального оптимума и дальнейшее повторение алгоритма не принесет улучшения модели.\n",
    "\n",
    "#### Контрольные вопросы\n",
    "\n",
    "1. Сформулируйте задачу регрессии.\n",
    "2. Что такое метод наименьших квадратов?\n",
    "3. Какие функции ошибки используются в регрессионных моделях? Расскажите про три самые популярные.\n",
    "4. Что показывает конкретное значение ошибки регрессии?\n",
    "5. Зачем нужно строить кривые обучения?\n",
    "\n",
    "\n",
    "#### Дополнительные задания\n",
    "\n",
    "1. Реализуйте механизм адаптивной скорости обучения.\n",
    "2. Постройте модель регрессии на другой паре инструментов.\n",
    "3. Модифицируйте класс регрессии так, чтобы он проводил обучение только на случайно выделенной части данных (обучающей выборке). Историю динамики ошибки отслеживать отдельно по обучающей и по тестовой выборке. \n",
    "4. Научиться использовать библиотеку sklearn для построения парной линейной регрессии:\n",
    "    1. Изучить официальную документацию библиотеки sklearn: [http://scikit-learn.org/stable/modules/generated/sklearn.linear_model.LinearRegression.html](http://scikit-learn.org/stable/modules/generated/sklearn.linear_model.LinearRegression.html)\n",
    "    2. По примеру программы регрессии, рассмотренной на семинаре, построить модель регрессии с использованием библиотечных средств\n",
    "    3. Сравнить результаты регрессии с использованием библиотечной функции и написанной самостоятельно.\n"
   ]
  },
  {
   "cell_type": "code",
   "execution_count": 4,
   "id": "92ddae24",
   "metadata": {},
   "outputs": [],
   "source": [
    "import numpy as np\n",
    "import pandas as pd\n",
    "import matplotlib.pyplot as plt"
   ]
  },
  {
   "cell_type": "code",
   "execution_count": 239,
   "id": "d9aab87b",
   "metadata": {},
   "outputs": [],
   "source": [
    "mvid = pd.read_csv('MVID_101001_171001.txt')\n",
    "sber = pd.read_csv('SBER_101001_171001.txt')"
   ]
  },
  {
   "cell_type": "code",
   "execution_count": 240,
   "id": "b74abeb7",
   "metadata": {},
   "outputs": [
    {
     "data": {
      "text/html": [
       "<div>\n",
       "<style scoped>\n",
       "    .dataframe tbody tr th:only-of-type {\n",
       "        vertical-align: middle;\n",
       "    }\n",
       "\n",
       "    .dataframe tbody tr th {\n",
       "        vertical-align: top;\n",
       "    }\n",
       "\n",
       "    .dataframe thead th {\n",
       "        text-align: right;\n",
       "    }\n",
       "</style>\n",
       "<table border=\"1\" class=\"dataframe\">\n",
       "  <thead>\n",
       "    <tr style=\"text-align: right;\">\n",
       "      <th></th>\n",
       "      <th>&lt;TICKER&gt;</th>\n",
       "      <th>&lt;PER&gt;</th>\n",
       "      <th>&lt;DATE&gt;</th>\n",
       "      <th>&lt;TIME&gt;</th>\n",
       "      <th>&lt;CLOSE&gt;</th>\n",
       "      <th>&lt;VOL&gt;</th>\n",
       "    </tr>\n",
       "  </thead>\n",
       "  <tbody>\n",
       "    <tr>\n",
       "      <th>0</th>\n",
       "      <td>MVID</td>\n",
       "      <td>D</td>\n",
       "      <td>20101001</td>\n",
       "      <td>0</td>\n",
       "      <td>194.38</td>\n",
       "      <td>19406</td>\n",
       "    </tr>\n",
       "    <tr>\n",
       "      <th>1</th>\n",
       "      <td>MVID</td>\n",
       "      <td>D</td>\n",
       "      <td>20101004</td>\n",
       "      <td>0</td>\n",
       "      <td>190.00</td>\n",
       "      <td>31039</td>\n",
       "    </tr>\n",
       "    <tr>\n",
       "      <th>2</th>\n",
       "      <td>MVID</td>\n",
       "      <td>D</td>\n",
       "      <td>20101005</td>\n",
       "      <td>0</td>\n",
       "      <td>187.00</td>\n",
       "      <td>17651</td>\n",
       "    </tr>\n",
       "    <tr>\n",
       "      <th>3</th>\n",
       "      <td>MVID</td>\n",
       "      <td>D</td>\n",
       "      <td>20101006</td>\n",
       "      <td>0</td>\n",
       "      <td>190.04</td>\n",
       "      <td>36482</td>\n",
       "    </tr>\n",
       "    <tr>\n",
       "      <th>4</th>\n",
       "      <td>MVID</td>\n",
       "      <td>D</td>\n",
       "      <td>20101007</td>\n",
       "      <td>0</td>\n",
       "      <td>199.85</td>\n",
       "      <td>204248</td>\n",
       "    </tr>\n",
       "  </tbody>\n",
       "</table>\n",
       "</div>"
      ],
      "text/plain": [
       "  <TICKER> <PER>    <DATE>  <TIME>  <CLOSE>   <VOL>\n",
       "0     MVID     D  20101001       0   194.38   19406\n",
       "1     MVID     D  20101004       0   190.00   31039\n",
       "2     MVID     D  20101005       0   187.00   17651\n",
       "3     MVID     D  20101006       0   190.04   36482\n",
       "4     MVID     D  20101007       0   199.85  204248"
      ]
     },
     "execution_count": 240,
     "metadata": {},
     "output_type": "execute_result"
    }
   ],
   "source": [
    "mvid.head()"
   ]
  },
  {
   "cell_type": "code",
   "execution_count": 241,
   "id": "217c5f6f",
   "metadata": {},
   "outputs": [
    {
     "name": "stdout",
     "output_type": "stream",
     "text": [
      "<class 'pandas.core.frame.DataFrame'>\n",
      "RangeIndex: 1758 entries, 0 to 1757\n",
      "Data columns (total 6 columns):\n",
      " #   Column    Non-Null Count  Dtype  \n",
      "---  ------    --------------  -----  \n",
      " 0   <TICKER>  1758 non-null   object \n",
      " 1   <PER>     1758 non-null   object \n",
      " 2   <DATE>    1758 non-null   int64  \n",
      " 3   <TIME>    1758 non-null   int64  \n",
      " 4   <CLOSE>   1758 non-null   float64\n",
      " 5   <VOL>     1758 non-null   int64  \n",
      "dtypes: float64(1), int64(3), object(2)\n",
      "memory usage: 82.5+ KB\n"
     ]
    }
   ],
   "source": [
    "mvid.info()"
   ]
  },
  {
   "cell_type": "code",
   "execution_count": 242,
   "id": "e4f6cb15",
   "metadata": {},
   "outputs": [
    {
     "data": {
      "text/html": [
       "<div>\n",
       "<style scoped>\n",
       "    .dataframe tbody tr th:only-of-type {\n",
       "        vertical-align: middle;\n",
       "    }\n",
       "\n",
       "    .dataframe tbody tr th {\n",
       "        vertical-align: top;\n",
       "    }\n",
       "\n",
       "    .dataframe thead th {\n",
       "        text-align: right;\n",
       "    }\n",
       "</style>\n",
       "<table border=\"1\" class=\"dataframe\">\n",
       "  <thead>\n",
       "    <tr style=\"text-align: right;\">\n",
       "      <th></th>\n",
       "      <th>&lt;TICKER&gt;_x</th>\n",
       "      <th>&lt;PER&gt;_x</th>\n",
       "      <th>&lt;DATE&gt;</th>\n",
       "      <th>&lt;TIME&gt;_x</th>\n",
       "      <th>&lt;CLOSE&gt;_x</th>\n",
       "      <th>&lt;VOL&gt;_x</th>\n",
       "      <th>&lt;TICKER&gt;_y</th>\n",
       "      <th>&lt;PER&gt;_y</th>\n",
       "      <th>&lt;TIME&gt;_y</th>\n",
       "      <th>&lt;CLOSE&gt;_y</th>\n",
       "      <th>&lt;VOL&gt;_y</th>\n",
       "    </tr>\n",
       "  </thead>\n",
       "  <tbody>\n",
       "    <tr>\n",
       "      <th>0</th>\n",
       "      <td>SBER</td>\n",
       "      <td>D</td>\n",
       "      <td>20101001</td>\n",
       "      <td>0</td>\n",
       "      <td>89.09</td>\n",
       "      <td>332429890</td>\n",
       "      <td>MVID</td>\n",
       "      <td>D</td>\n",
       "      <td>0</td>\n",
       "      <td>194.38</td>\n",
       "      <td>19406</td>\n",
       "    </tr>\n",
       "    <tr>\n",
       "      <th>1</th>\n",
       "      <td>SBER</td>\n",
       "      <td>D</td>\n",
       "      <td>20101004</td>\n",
       "      <td>0</td>\n",
       "      <td>89.88</td>\n",
       "      <td>194032721</td>\n",
       "      <td>MVID</td>\n",
       "      <td>D</td>\n",
       "      <td>0</td>\n",
       "      <td>190.00</td>\n",
       "      <td>31039</td>\n",
       "    </tr>\n",
       "    <tr>\n",
       "      <th>2</th>\n",
       "      <td>SBER</td>\n",
       "      <td>D</td>\n",
       "      <td>20101005</td>\n",
       "      <td>0</td>\n",
       "      <td>91.97</td>\n",
       "      <td>198775753</td>\n",
       "      <td>MVID</td>\n",
       "      <td>D</td>\n",
       "      <td>0</td>\n",
       "      <td>187.00</td>\n",
       "      <td>17651</td>\n",
       "    </tr>\n",
       "    <tr>\n",
       "      <th>3</th>\n",
       "      <td>SBER</td>\n",
       "      <td>D</td>\n",
       "      <td>20101006</td>\n",
       "      <td>0</td>\n",
       "      <td>91.20</td>\n",
       "      <td>210406027</td>\n",
       "      <td>MVID</td>\n",
       "      <td>D</td>\n",
       "      <td>0</td>\n",
       "      <td>190.04</td>\n",
       "      <td>36482</td>\n",
       "    </tr>\n",
       "    <tr>\n",
       "      <th>4</th>\n",
       "      <td>SBER</td>\n",
       "      <td>D</td>\n",
       "      <td>20101007</td>\n",
       "      <td>0</td>\n",
       "      <td>90.40</td>\n",
       "      <td>145137617</td>\n",
       "      <td>MVID</td>\n",
       "      <td>D</td>\n",
       "      <td>0</td>\n",
       "      <td>199.85</td>\n",
       "      <td>204248</td>\n",
       "    </tr>\n",
       "  </tbody>\n",
       "</table>\n",
       "</div>"
      ],
      "text/plain": [
       "  <TICKER>_x <PER>_x    <DATE>  <TIME>_x  <CLOSE>_x    <VOL>_x <TICKER>_y  \\\n",
       "0       SBER       D  20101001         0      89.09  332429890       MVID   \n",
       "1       SBER       D  20101004         0      89.88  194032721       MVID   \n",
       "2       SBER       D  20101005         0      91.97  198775753       MVID   \n",
       "3       SBER       D  20101006         0      91.20  210406027       MVID   \n",
       "4       SBER       D  20101007         0      90.40  145137617       MVID   \n",
       "\n",
       "  <PER>_y  <TIME>_y  <CLOSE>_y  <VOL>_y  \n",
       "0       D         0     194.38    19406  \n",
       "1       D         0     190.00    31039  \n",
       "2       D         0     187.00    17651  \n",
       "3       D         0     190.04    36482  \n",
       "4       D         0     199.85   204248  "
      ]
     },
     "execution_count": 242,
     "metadata": {},
     "output_type": "execute_result"
    }
   ],
   "source": [
    "# join, merge\n",
    "res = pd.merge(sber,mvid, on='<DATE>')\n",
    "res.head()"
   ]
  },
  {
   "cell_type": "code",
   "execution_count": 243,
   "id": "6452fdea",
   "metadata": {},
   "outputs": [],
   "source": [
    "x = res['<CLOSE>_x']\n",
    "y = res['<CLOSE>_y']"
   ]
  },
  {
   "cell_type": "code",
   "execution_count": 10,
   "id": "718a08fb",
   "metadata": {},
   "outputs": [
    {
     "data": {
      "text/plain": [
       "<matplotlib.collections.PathCollection at 0x2342ffa3850>"
      ]
     },
     "execution_count": 10,
     "metadata": {},
     "output_type": "execute_result"
    },
    {
     "data": {
      "image/png": "[encoded data removed]",
      "text/plain": [
       "<Figure size 432x288 with 1 Axes>"
      ]
     },
     "metadata": {
      "needs_background": "light"
     },
     "output_type": "display_data"
    }
   ],
   "source": [
    "plt.scatter(x,y)"
   ]
  },
  {
   "cell_type": "markdown",
   "id": "1f106956",
   "metadata": {},
   "source": [
    "# линейная регрессия"
   ]
  },
  {
   "cell_type": "code",
   "execution_count": 197,
   "id": "b777002b",
   "metadata": {},
   "outputs": [],
   "source": [
    "class Model:\n",
    "    def __init__(self):\n",
    "        self.b0 = 0 # поля классов\n",
    "        self.b1 = 0\n",
    "    def predict(self,x):\n",
    "        return self.b0 + self.b1*x\n",
    "    def error(self, x, y):\n",
    "        return sum(((self.predict(x) - y)**2)) / (2*len(y))\n",
    "    def fit(self, x, y):\n",
    "        alpha = 0.00001\n",
    "        errors = []\n",
    "        steps = []\n",
    "        for i in range(100):\n",
    "            steps.append(i)\n",
    "            errors.append(self.error(x,y))\n",
    "            dJ0 = sum((self.predict(x) - y)) / len(y) # градиент\n",
    "            dJ1 = sum(((self.predict(x) - y)*x)) / len(y) # градиент\n",
    "            self.b0 -= dJ0 * alpha\n",
    "            self.b1 -= dJ1 * alpha\n",
    "        return steps, errors"
   ]
  },
  {
   "cell_type": "code",
   "execution_count": 198,
   "id": "f59c5dea",
   "metadata": {},
   "outputs": [
    {
     "data": {
      "text/plain": [
       "36271.58344889084"
      ]
     },
     "execution_count": 198,
     "metadata": {},
     "output_type": "execute_result"
    }
   ],
   "source": [
    "model = Model()\n",
    "model.error(x,y)"
   ]
  },
  {
   "cell_type": "code",
   "execution_count": 199,
   "id": "e3819b4c",
   "metadata": {},
   "outputs": [
    {
     "data": {
      "text/plain": [
       "[<matplotlib.lines.Line2D at 0x23430966730>]"
      ]
     },
     "execution_count": 199,
     "metadata": {},
     "output_type": "execute_result"
    },
    {
     "data": {
      "image/png": "[encoded data removed]",
      "text/plain": [
       "<Figure size 432x288 with 1 Axes>"
      ]
     },
     "metadata": {
      "needs_background": "light"
     },
     "output_type": "display_data"
    }
   ],
   "source": [
    "model = Model()\n",
    "\n",
    "steps, errors = model.fit(x,y)\n",
    "\n",
    "plt.plot(steps,errors)"
   ]
  },
  {
   "cell_type": "code",
   "execution_count": 13,
   "id": "a8826238",
   "metadata": {},
   "outputs": [
    {
     "name": "stdout",
     "output_type": "stream",
     "text": [
      "298.6847812094617\n"
     ]
    },
    {
     "data": {
      "image/png": "[encoded data removed]",
      "text/plain": [
       "<Figure size 432x288 with 1 Axes>"
      ]
     },
     "metadata": {
      "needs_background": "light"
     },
     "output_type": "display_data"
    }
   ],
   "source": [
    "model = Model()\n",
    "model.fit(x,y)\n",
    "\n",
    "plt.scatter(x, y)\n",
    "plt.plot(x, model.predict(x), color = 'r')\n",
    "\n",
    "print(model.error(x,y))"
   ]
  },
  {
   "cell_type": "markdown",
   "id": "c778d47e",
   "metadata": {},
   "source": [
    "# Дополнительные задания"
   ]
  },
  {
   "cell_type": "markdown",
   "id": "6e081a36",
   "metadata": {},
   "source": [
    "Реализуйте механизм адаптивной скорости обучения."
   ]
  },
  {
   "cell_type": "code",
   "execution_count": 11,
   "id": "964fc0ac",
   "metadata": {},
   "outputs": [],
   "source": [
    "import numpy as np\n",
    "\n",
    "class GradientDescentLinearRegression:\n",
    "    \"\"\"\n",
    "    Linear Regression with gradient-based optimization.\n",
    "    Parameters\n",
    "    ----------\n",
    "    learning_rate : float\n",
    "        Learning rate for the gradient descent algorithm.\n",
    "    max_iterations : int\n",
    "        Maximum number of iteration for the gradient descent algorithm.\n",
    "    eps : float\n",
    "        Tolerance level for the Euclidean norm between model parameters in two \n",
    "        consequitive iterations. The algorithm is stopped when the norm becomes \n",
    "        less than the tolerance level.\n",
    "    \"\"\"\n",
    "    \n",
    "    def __init__(self, learning_rate=1, max_iterations=10000, eps=1e-6):\n",
    "        self.learning_rate = learning_rate\n",
    "        self.max_iterations = max_iterations\n",
    "        self.eps = eps\n",
    "        \n",
    "    def predict(self, X):\n",
    "        \"\"\"Returns predictions array of shape [n_samples,1]\"\"\"\n",
    "        return np.dot(X, self.w.T)\n",
    "    \n",
    "    def cost(self, X, y):\n",
    "        \"\"\"Returns the value of the cost function as a scalar real number\"\"\"\n",
    "        y_pred = self.predict(X)\n",
    "        loss = (y - y_pred)**2\n",
    "        return np.mean(loss)\n",
    "\n",
    "    def grad(self, X, y):\n",
    "        \"\"\"Returns the gradient vector\"\"\"\n",
    "        y_pred = self.predict(X)\n",
    "        d_intercept = -2*sum(y - y_pred)                    # dJ/d w_0.\n",
    "        d_x = -2*sum(X[:,1:] * (y - y_pred).reshape(-1,1))  # dJ/d w_i.\n",
    "        g = np.append(np.array(d_intercept), d_x)           # Gradient.\n",
    "        return g / X.shape[0]                               # Average over training samples.\n",
    "\n",
    "    def adagrad(self, g):\n",
    "        self.G += g**2                                     # Update cache.\n",
    "        step = self.learning_rate / (np.sqrt(self.G + self.eps)) * g\n",
    "        return step\n",
    "        \n",
    "    def fit(self, X, y, method = \"adagrad\", verbose = True):\n",
    "        \"\"\"\n",
    "        Fit linear model with gradient descent.\n",
    "        \n",
    "        Parameters\n",
    "        ----------\n",
    "        X : numpy array or sparse matrix of shape [n_samples,n_predictors]\n",
    "            Training data\n",
    "        y : numpy array of shape [n_samples,1]\n",
    "            Target values.\n",
    "        method : string\n",
    "                 Defines the variant of gradient descent to use. \n",
    "                 Possible values: \"standard\", \"adagrad\".\n",
    "        verbose: boolean\n",
    "                 If True, print the gradient, parameters and the cost function \n",
    "                 for each iteration.\n",
    "        \n",
    "        Returns\n",
    "        -------\n",
    "        self : returns an instance of self.\n",
    "        \"\"\"\n",
    "        \n",
    "        self.w = np.zeros(X.shape[1])                     # Initialization of params.\n",
    "        if method == \"adagrad\":\n",
    "            self.G = np.zeros(X.shape[1])                 # Initialization of cache for AdaGrad.\n",
    "        w_hist = [self.w]                                 # History of params.\n",
    "        cost_hist = [self.cost(X, y)]                     # History of cost.      \n",
    "        \n",
    "        for iter in range(self.max_iterations):\n",
    "            \n",
    "            g = self.grad(X, y)                           # Calculate the gradient.\n",
    "            if method == \"standard\":\n",
    "                step = self.learning_rate * g             # Calculate standard gradient step.\n",
    "            elif method == \"adagrad\":\n",
    "                step = self.adagrad(g)                    # Calculate AdaGrad step.\n",
    "            else:\n",
    "                raise ValueError(\"Method not supported.\")\n",
    "            self.w = self.w - step                        # Update parameters.\n",
    "            w_hist.append(self.w)                         # Save to history.\n",
    "            \n",
    "            J = self.cost(X, y)                           # Calculate the cost.\n",
    "            cost_hist.append(J)                           # Save to history.\n",
    "            \n",
    "            if verbose:\n",
    "                print(f\"Iter: {iter}, gradient: {g}, params: {self.w}, cost: {J}\")\n",
    "            \n",
    "            # Stop if update is small enough.\n",
    "            if np.linalg.norm(w_hist[-1] - w_hist[-2]) < self.eps:\n",
    "                break\n",
    "        \n",
    "        # Final updates before finishing.\n",
    "        self.iterations = iter + 1                       # Due to zero-based indexing.\n",
    "        self.w_hist = w_hist\n",
    "        self.cost_hist = cost_hist\n",
    "        self.method = method\n",
    "        \n",
    "        return self"
   ]
  },
  {
   "cell_type": "code",
   "execution_count": 304,
   "id": "7bc5106a",
   "metadata": {},
   "outputs": [],
   "source": [
    "class Model:\n",
    "    def __init__(self):\n",
    "        self.b0 = 0 # поля классов\n",
    "        self.b1 = 0\n",
    "        \n",
    "    def predict(self,x):\n",
    "        return self.b0 + self.b1 * ((x - self.min) / self.wide)\n",
    "    \n",
    "    def error(self, x, y):\n",
    "        return sum(((self.predict(x) - y)**2)) / (2*len(y))\n",
    "    \n",
    "    def fit(self, x, y):\n",
    "        alpha = 0.8 # начальное альфа\n",
    "        errors = []\n",
    "        steps = []\n",
    "        \n",
    "        self.wide = x.max(axis=0) - x.min(axis=0) # нормализация\n",
    "        self.min = x.min(axis=0)\n",
    "        \n",
    "        for i in range(100):\n",
    "            steps.append(i)\n",
    "            errors.append(self.error(x,y))\n",
    "            dJ0 = sum(self.predict(x) - y) / len(y) # градиент\n",
    "            dJ1 = sum((self.predict(x) - y) * (x - self.min) / self.wide) / len(y) # градиент с нормализацией\n",
    "            self.b0 -= dJ0 * alpha\n",
    "            self.b1 -= dJ1 * alpha\n",
    "            if self.error(x,y) > errors[-1]:\n",
    "                alpha /= 2 # уменьшение альфы со временем позволяет увеличить точность\n",
    "                self.__init__()\n",
    "        return steps, errors"
   ]
  },
  {
   "cell_type": "code",
   "execution_count": 305,
   "id": "cf51afb6",
   "metadata": {},
   "outputs": [
    {
     "name": "stdout",
     "output_type": "stream",
     "text": [
      "177.00853047716507\n"
     ]
    },
    {
     "data": {
      "image/png": "[encoded data removed]",
      "text/plain": [
       "<Figure size 432x288 with 1 Axes>"
      ]
     },
     "metadata": {
      "needs_background": "light"
     },
     "output_type": "display_data"
    }
   ],
   "source": [
    "model = Model()\n",
    "\n",
    "mvid = pd.read_csv('MVID_101001_171001.txt')\n",
    "sber = pd.read_csv('SBER_101001_171001.txt')\n",
    "res = pd.merge(sber,mvid, on='<DATE>')\n",
    "\n",
    "x = res['<CLOSE>_x']\n",
    "y = res['<CLOSE>_y']\n",
    "\n",
    "model.fit(x,y)\n",
    "\n",
    "plt.scatter(x, y)\n",
    "plt.plot(x, model.predict(x), color = 'r')\n",
    "\n",
    "print(model.error(x,y))"
   ]
  },
  {
   "cell_type": "markdown",
   "id": "a8f0afed",
   "metadata": {},
   "source": [
    "Постройте модель регрессии на другой паре инструментов."
   ]
  },
  {
   "cell_type": "code",
   "execution_count": 302,
   "id": "977c1f8f",
   "metadata": {
    "scrolled": true
   },
   "outputs": [
    {
     "name": "stdout",
     "output_type": "stream",
     "text": [
      "27097.205414701595\n"
     ]
    },
    {
     "data": {
      "image/png": "[encoded data removed]",
      "text/plain": [
       "<Figure size 432x288 with 1 Axes>"
      ]
     },
     "metadata": {
      "needs_background": "light"
     },
     "output_type": "display_data"
    }
   ],
   "source": [
    "model = Model()\n",
    "\n",
    "mvid = pd.read_csv('YNDX_101001_171001.txt')\n",
    "sber = pd.read_csv('GAZP_101001_171001.txt')\n",
    "res = pd.merge(sber,mvid, on='<DATE>')\n",
    "\n",
    "x = res['<CLOSE>_x']\n",
    "y = res['<CLOSE>_y']\n",
    "\n",
    "model.fit(x,y)\n",
    "\n",
    "plt.scatter(x, y)\n",
    "plt.plot(x, model.predict(x), color = 'r')\n",
    "\n",
    "print(model.error(x,y))"
   ]
  },
  {
   "cell_type": "markdown",
   "id": "11115cd3",
   "metadata": {},
   "source": [
    "Модифицируйте класс регрессии так, чтобы он проводил обучение только на случайно выделенной части данных (обучающей выборке). "
   ]
  },
  {
   "cell_type": "code",
   "execution_count": 280,
   "id": "8e947b43",
   "metadata": {},
   "outputs": [],
   "source": [
    "# chosen_x = np.random.choice(x, replace=False, size=50)\n",
    "# chosen_x"
   ]
  },
  {
   "cell_type": "code",
   "execution_count": 285,
   "id": "c21cc834",
   "metadata": {},
   "outputs": [],
   "source": [
    "class Model:\n",
    "    def __init__(self):\n",
    "        self.b0 = 0 # поля классов\n",
    "        self.b1 = 0\n",
    "    def predict(self,x):\n",
    "#         chosen_x = np.random.choice(x, replace=False, size=50)\n",
    "        return self.b0 + self.b1*x\n",
    "    def error(self, x, y):\n",
    "#         chosen_x = np.random.choice(x, replace=False, size=50)\n",
    "#         chosen_y = np.random.choice(y, replace=False, size=50)\n",
    "        return sum(((self.predict(x) - y)**2)) / (2*len(y))\n",
    "    def fit(self, x, y):\n",
    "#         chosen_x = np.random.choice(x, replace=False, size=50)\n",
    "#         chosen_y = np.random.choice(y, replace=False, size=50)\n",
    "        alpha = 0.00001 # начальное альфа\n",
    "        errors = []\n",
    "        steps = []\n",
    "        for i in range(10):\n",
    "            steps.append(i)\n",
    "            errors.append(self.error(x, y))\n",
    "            dJ0 = sum((self.predict(x) - y)) / len(y) # градиент\n",
    "            dJ1 = sum(((self.predict(x) - y)*x)) / len(y) # градиент\n",
    "            self.b0 -= dJ0 * alpha\n",
    "            self.b1 -= dJ1 * alpha\n",
    "            if i > 0:\n",
    "                if errors[-2] < errors[-1]:\n",
    "                    alpha /= 10 # уменьшение альфы со временем позволяет увеличить точность\n",
    "        return steps, errors"
   ]
  },
  {
   "cell_type": "code",
   "execution_count": 286,
   "id": "8f5a730c",
   "metadata": {},
   "outputs": [
    {
     "name": "stdout",
     "output_type": "stream",
     "text": [
      "0      125.00\n",
      "1      151.65\n",
      "2      143.20\n",
      "3      134.95\n",
      "4      136.90\n",
      "        ...  \n",
      "295    133.95\n",
      "296    122.34\n",
      "297    143.60\n",
      "298    135.00\n",
      "299    136.50\n",
      "Length: 300, dtype: float64\n",
      "58924.01352727309\n"
     ]
    },
    {
     "data": {
      "image/png": "[encoded data removed]",
      "text/plain": [
       "<Figure size 432x288 with 1 Axes>"
      ]
     },
     "metadata": {
      "needs_background": "light"
     },
     "output_type": "display_data"
    }
   ],
   "source": [
    "model = Model()\n",
    "\n",
    "x = res['<CLOSE>_x']\n",
    "y = res['<CLOSE>_y']\n",
    "\n",
    "chosen = np.random.choice(len(x), replace=False, size=300)\n",
    "chosen_y = []\n",
    "chosen_x = []\n",
    "for index in chosen:\n",
    "    chosen_y.append(y[index])\n",
    "    chosen_x.append(x[index])\n",
    "chosen_y = pd.Series(chosen_y)\n",
    "chosen_x = pd.Series(chosen_x)\n",
    "\n",
    "print(chosen_x)\n",
    "    \n",
    "model.fit(x,y)\n",
    "\n",
    "plt.scatter(chosen_x, chosen_y)\n",
    "plt.plot(chosen_x, model.predict(chosen_x), color = 'r')\n",
    "\n",
    "print(model.error(chosen_x,chosen_y))"
   ]
  },
  {
   "cell_type": "markdown",
   "id": "ea02273e",
   "metadata": {},
   "source": [
    "Историю динамики ошибки отслеживать отдельно по обучающей и по тестовой выборке."
   ]
  },
  {
   "cell_type": "code",
   "execution_count": 283,
   "id": "328c32ab",
   "metadata": {},
   "outputs": [
    {
     "data": {
      "text/plain": [
       "[<matplotlib.lines.Line2D at 0x2342feff2b0>]"
      ]
     },
     "execution_count": 283,
     "metadata": {},
     "output_type": "execute_result"
    },
    {
     "data": {
      "image/png": "[encoded data removed]",
      "text/plain": [
       "<Figure size 432x288 with 1 Axes>"
      ]
     },
     "metadata": {
      "needs_background": "light"
     },
     "output_type": "display_data"
    }
   ],
   "source": [
    "model = Model()\n",
    "\n",
    "x = res['<CLOSE>_x']\n",
    "y = res['<CLOSE>_y']\n",
    "\n",
    "steps, errors = model.fit(x,y)\n",
    "\n",
    "plt.plot(steps,errors)"
   ]
  },
  {
   "cell_type": "code",
   "execution_count": 216,
   "id": "69754ae4",
   "metadata": {},
   "outputs": [
    {
     "name": "stdout",
     "output_type": "stream",
     "text": [
      "[154.55 147.43 146.3  134.65 148.1  146.6  141.84 134.07 142.75 115.75\n",
      " 143.59 145.5  120.6  144.5  139.25 140.4  134.88 136.25 131.01 137.15\n",
      " 135.94 133.4  147.5  143.94 135.05 141.8  135.26 134.61 132.41 148.11\n",
      " 139.49 138.54 144.5  144.7  147.44 136.5  140.62 135.3  150.15 139.5\n",
      " 141.8  137.49 142.75 119.05 145.5  142.54 153.65 142.7  138.7  140.88]\n"
     ]
    },
    {
     "data": {
      "image/png": "[encoded data removed]",
      "text/plain": [
       "<Figure size 432x288 with 1 Axes>"
      ]
     },
     "metadata": {
      "needs_background": "light"
     },
     "output_type": "display_data"
    }
   ],
   "source": [
    "model = Model()\n",
    "\n",
    "x = res['<CLOSE>_x']\n",
    "y = res['<CLOSE>_y']\n",
    "chosen_x = np.random.choice(x, replace=False, size=50)\n",
    "chosen_y = np.random.choice(y, replace=False, size=50)\n",
    "\n",
    "steps, errors = model.fit(chosen_x,chosen_y)\n",
    "\n",
    "plt.plot(steps,errors)\n",
    "\n",
    "print(chosen_x)"
   ]
  },
  {
   "cell_type": "markdown",
   "id": "994a466f",
   "metadata": {},
   "source": [
    "Научиться использовать библиотеку sklearn для построения парной линейной регрессии:"
   ]
  },
  {
   "cell_type": "code",
   "execution_count": 217,
   "id": "6f8dde28",
   "metadata": {},
   "outputs": [],
   "source": [
    "import sklearn as sk\n",
    "from sklearn import linear_model\n",
    "from sklearn.metrics import mean_squared_error, r2_score\n",
    "\n",
    "x3 = np.array(res['<CLOSE>_x'])\n",
    "y3 = np.array(res['<CLOSE>_y'])"
   ]
  },
  {
   "cell_type": "code",
   "execution_count": 218,
   "id": "20b8f821",
   "metadata": {},
   "outputs": [
    {
     "name": "stdout",
     "output_type": "stream",
     "text": [
      "0.24092152512857645\n"
     ]
    }
   ],
   "source": [
    "x3 = x3.reshape((-1,1))\n",
    "# x = x.reshape((-1, 1))\n",
    "reg=linear_model.LinearRegression()\n",
    "reg.fit(x3,y3)\n",
    "print(reg.score(x3,y3))"
   ]
  },
  {
   "cell_type": "code",
   "execution_count": 264,
   "id": "536686e6",
   "metadata": {},
   "outputs": [
    {
     "name": "stdout",
     "output_type": "stream",
     "text": [
      "Коэффициент alpha: \n",
      " [-12.75716657]\n",
      "Среднеквадратичная ошибка: 53872.88\n",
      "Коэффициент детерминации: 0.24\n"
     ]
    },
    {
     "data": {
      "image/png": "[encoded data removed]",
      "text/plain": [
       "<Figure size 864x648 with 1 Axes>"
      ]
     },
     "metadata": {
      "needs_background": "light"
     },
     "output_type": "display_data"
    }
   ],
   "source": [
    "y_pred = reg.predict(x3)\n",
    "y_pred = y_pred.reshape((-1, 1))\n",
    "                        \n",
    "print(\"Коэффициент alpha: \\n\", reg.coef_)\n",
    "print(\"Среднеквадратичная ошибка: %.2f\" % mean_squared_error(y3, y_pred))\n",
    "print(\"Коэффициент детерминации: %.2f\" % r2_score(y3, y_pred))\n",
    "\n",
    "plt.figure(figsize=(12, 9))\n",
    "plt.scatter(x3, y3, color=\"black\")\n",
    "plt.plot(x3, y_pred, color=\"blue\", linewidth=3)\n",
    "plt.show()"
   ]
  },
  {
   "cell_type": "markdown",
   "id": "f6ebe3c8",
   "metadata": {},
   "source": [
    "Изучить официальную документацию библиотеки sklearn: http://scikit-learn.org/stable/modules/generated/sklearn.linear_model.LinearRegression.html\n",
    "По примеру программы регрессии, рассмотренной на семинаре, построить модель регрессии с использованием библиотечных средств\n",
    "Сравнить результаты регрессии с использованием библиотечной функции и написанной самостоятельно."
   ]
  },
  {
   "cell_type": "code",
   "execution_count": null,
   "id": "7cfe1b8a",
   "metadata": {},
   "outputs": [],
   "source": []
  }
 ],
 "metadata": {
  "kernelspec": {
   "display_name": "Python 3",
   "language": "python",
   "name": "python3"
  },
  "language_info": {
   "codemirror_mode": {
    "name": "ipython",
    "version": 3
   },
   "file_extension": ".py",
   "mimetype": "text/x-python",
   "name": "python",
   "nbconvert_exporter": "python",
   "pygments_lexer": "ipython3",
   "version": "3.8.8"
  }
 },
 "nbformat": 4,
 "nbformat_minor": 5
}
