{
 "cells": [
  {
   "cell_type": "markdown",
   "id": "9f67ce79",
   "metadata": {},
   "source": [
    "# Множественная линейная регрессия на чистых данных\n",
    "### Цель работы\n",
    "Познакомиться с основными приемами работы с множественными регрессионными моделями с использованием библиотеки sklearn.\n",
    "\n",
    "### Задания для выполнения\n",
    "- Ваша задача - построить предиктивную модель предсказания целевой переменной в зависимости от значения нескольких факторов (признаков).\n",
    "- Загрузите датасет из приложения. Вам понадобится два файла - отдельно с признаками (помечен x) и значениями целевой переменной (помечен y). Файлы не содержат заголовков столбцов и строк.\n",
    "- Сделайте количественное описание датасета: количество точек данных, признаков, статистику по каждому признаку.\n",
    "- Разделите все наблюдения на обучающую и тестовую выборки в соотношении 80-20.\n",
    "- Для целевой и каждого из признаков постройте парную регрессионную модель. Визуализируйте линию регрессии и исходные данные на графике. При помощи коэффициентов оцените силу связи.\n",
    "- Постройте модель множественной линейной регрессии целевой переменной от всех показателей. Оцените качество регрессии, сделайте вывод.\n",
    "\n",
    "### Методические указания\n",
    "\n",
    "- Отчет по лабораторной работе сдается в виде файла интерактивного ноутбука Jupyter notebook и должен включать весь программный код, реализующий задания лабораторной работы, подробные пояснения, обоснования и выводы там, где это требуется в виде текстовых ячеек.\n",
    "- Для сведения статистических данных можно воспользоваться средствами библиотек sklearn, numpy и pandas, либо табличным редактором Microsoft Excel. В любом случае, к отчету по лабораторной работе следует приложить как исходные данные без обработки, так и итоговый датасет, использующийся при обучении.\n",
    "- Для диагностики обучения регрессионных моделей рекомендуется строить кривые обучения. Используйте пример из документации sklearn как образец.\n",
    "- Для оценки качества построенной регрессии можно использовать целый ряд показателей. Одним из самых простых и универсальных является коэффициент детерминации (R2-score). Как использовать его читайте в официальной документации sklearn.\n",
    "\n",
    "#### Приведем пример создания модели парной линейной регрессии средствами библиотеки scikit learn:\n",
    "\n",
    "\n"
   ]
  },
  {
   "cell_type": "code",
   "execution_count": 1,
   "id": "7a832b64",
   "metadata": {},
   "outputs": [],
   "source": [
    "import numpy as np\n",
    "import pandas as pd\n",
    "from sklearn import linear_model\n",
    "import matplotlib.pyplot as plt\n",
    "from sklearn.preprocessing import PolynomialFeatures\n",
    "from sklearn.linear_model import LinearRegression\n",
    "from sklearn.pipeline import Pipeline"
   ]
  },
  {
   "cell_type": "markdown",
   "id": "3a977053",
   "metadata": {},
   "source": [
    "Ваша задача - построить предиктивную модель предсказания целевой переменной в зависимости от значения нескольких факторов (признаков)."
   ]
  },
  {
   "cell_type": "markdown",
   "id": "7bf49742",
   "metadata": {},
   "source": [
    "полиномиальная регрессия — это линейная модель https://data36.com/polynomial-regression-python-scikit-learn/"
   ]
  },
  {
   "cell_type": "markdown",
   "id": "0073d4b0",
   "metadata": {},
   "source": [
    "Загрузите датасет из приложения. Вам понадобится два файла - отдельно с признаками (помечен x) и значениями целевой переменной (помечен y). Файлы не содержат заголовков столбцов и строк."
   ]
  },
  {
   "cell_type": "code",
   "execution_count": 3,
   "id": "593ef516",
   "metadata": {},
   "outputs": [
    {
     "data": {
      "text/html": [
       "<div>\n",
       "<style scoped>\n",
       "    .dataframe tbody tr th:only-of-type {\n",
       "        vertical-align: middle;\n",
       "    }\n",
       "\n",
       "    .dataframe tbody tr th {\n",
       "        vertical-align: top;\n",
       "    }\n",
       "\n",
       "    .dataframe thead th {\n",
       "        text-align: right;\n",
       "    }\n",
       "</style>\n",
       "<table border=\"1\" class=\"dataframe\">\n",
       "  <thead>\n",
       "    <tr style=\"text-align: right;\">\n",
       "      <th></th>\n",
       "      <th>x1</th>\n",
       "      <th>x2</th>\n",
       "      <th>x3</th>\n",
       "      <th>x4</th>\n",
       "      <th>x5</th>\n",
       "      <th>x6</th>\n",
       "      <th>x7</th>\n",
       "    </tr>\n",
       "  </thead>\n",
       "  <tbody>\n",
       "    <tr>\n",
       "      <th>0</th>\n",
       "      <td>-1.867913</td>\n",
       "      <td>-1.433816</td>\n",
       "      <td>0.275502</td>\n",
       "      <td>-2.366622</td>\n",
       "      <td>1.125262</td>\n",
       "      <td>1.074012</td>\n",
       "      <td>0.016971</td>\n",
       "    </tr>\n",
       "    <tr>\n",
       "      <th>1</th>\n",
       "      <td>-1.175679</td>\n",
       "      <td>0.680621</td>\n",
       "      <td>2.186182</td>\n",
       "      <td>-0.039128</td>\n",
       "      <td>-0.452769</td>\n",
       "      <td>1.250471</td>\n",
       "      <td>0.009887</td>\n",
       "    </tr>\n",
       "    <tr>\n",
       "      <th>2</th>\n",
       "      <td>1.112509</td>\n",
       "      <td>-0.364019</td>\n",
       "      <td>0.364768</td>\n",
       "      <td>-0.173030</td>\n",
       "      <td>-0.262987</td>\n",
       "      <td>-0.056980</td>\n",
       "      <td>1.064893</td>\n",
       "    </tr>\n",
       "    <tr>\n",
       "      <th>3</th>\n",
       "      <td>-0.769247</td>\n",
       "      <td>0.543090</td>\n",
       "      <td>0.405199</td>\n",
       "      <td>-1.942138</td>\n",
       "      <td>-0.174536</td>\n",
       "      <td>-0.042914</td>\n",
       "      <td>-1.430231</td>\n",
       "    </tr>\n",
       "    <tr>\n",
       "      <th>4</th>\n",
       "      <td>2.309512</td>\n",
       "      <td>0.420265</td>\n",
       "      <td>0.654373</td>\n",
       "      <td>0.182173</td>\n",
       "      <td>0.996858</td>\n",
       "      <td>0.128028</td>\n",
       "      <td>0.848242</td>\n",
       "    </tr>\n",
       "  </tbody>\n",
       "</table>\n",
       "</div>"
      ],
      "text/plain": [
       "         x1        x2        x3        x4        x5        x6        x7\n",
       "0 -1.867913 -1.433816  0.275502 -2.366622  1.125262  1.074012  0.016971\n",
       "1 -1.175679  0.680621  2.186182 -0.039128 -0.452769  1.250471  0.009887\n",
       "2  1.112509 -0.364019  0.364768 -0.173030 -0.262987 -0.056980  1.064893\n",
       "3 -0.769247  0.543090  0.405199 -1.942138 -0.174536 -0.042914 -1.430231\n",
       "4  2.309512  0.420265  0.654373  0.182173  0.996858  0.128028  0.848242"
      ]
     },
     "execution_count": 3,
     "metadata": {},
     "output_type": "execute_result"
    }
   ],
   "source": [
    "x = pd.read_csv('4_x.csv')\n",
    "x.columns = [\"x1\", \"x2\", \"x3\", \"x4\",\"x5\",\"x6\",\"x7\"]  # adding a row\n",
    "x.head()"
   ]
  },
  {
   "cell_type": "code",
   "execution_count": 6,
   "id": "e5492c35",
   "metadata": {},
   "outputs": [
    {
     "data": {
      "text/html": [
       "<div>\n",
       "<style scoped>\n",
       "    .dataframe tbody tr th:only-of-type {\n",
       "        vertical-align: middle;\n",
       "    }\n",
       "\n",
       "    .dataframe tbody tr th {\n",
       "        vertical-align: top;\n",
       "    }\n",
       "\n",
       "    .dataframe thead th {\n",
       "        text-align: right;\n",
       "    }\n",
       "</style>\n",
       "<table border=\"1\" class=\"dataframe\">\n",
       "  <thead>\n",
       "    <tr style=\"text-align: right;\">\n",
       "      <th></th>\n",
       "      <th>y1</th>\n",
       "    </tr>\n",
       "  </thead>\n",
       "  <tbody>\n",
       "    <tr>\n",
       "      <th>0</th>\n",
       "      <td>-176.891099</td>\n",
       "    </tr>\n",
       "    <tr>\n",
       "      <th>1</th>\n",
       "      <td>88.285473</td>\n",
       "    </tr>\n",
       "    <tr>\n",
       "      <th>2</th>\n",
       "      <td>66.530021</td>\n",
       "    </tr>\n",
       "    <tr>\n",
       "      <th>3</th>\n",
       "      <td>-165.442003</td>\n",
       "    </tr>\n",
       "    <tr>\n",
       "      <th>4</th>\n",
       "      <td>112.356082</td>\n",
       "    </tr>\n",
       "  </tbody>\n",
       "</table>\n",
       "</div>"
      ],
      "text/plain": [
       "           y1\n",
       "0 -176.891099\n",
       "1   88.285473\n",
       "2   66.530021\n",
       "3 -165.442003\n",
       "4  112.356082"
      ]
     },
     "execution_count": 6,
     "metadata": {},
     "output_type": "execute_result"
    }
   ],
   "source": [
    "y = pd.read_csv('4_y.csv')\n",
    "y.columns = [\"y1\"]  # adding a row\n",
    "y.head()"
   ]
  },
  {
   "cell_type": "markdown",
   "id": "ea9c7e07",
   "metadata": {},
   "source": [
    "Сделайте количественное описание датасета: количество точек данных, признаков, статистику по каждому признаку."
   ]
  },
  {
   "cell_type": "code",
   "execution_count": 7,
   "id": "aafe1e8c",
   "metadata": {},
   "outputs": [
    {
     "name": "stdout",
     "output_type": "stream",
     "text": [
      "<class 'pandas.core.frame.DataFrame'>\n",
      "RangeIndex: 278 entries, 0 to 277\n",
      "Data columns (total 7 columns):\n",
      " #   Column  Non-Null Count  Dtype  \n",
      "---  ------  --------------  -----  \n",
      " 0   x1      278 non-null    float64\n",
      " 1   x2      278 non-null    float64\n",
      " 2   x3      278 non-null    float64\n",
      " 3   x4      278 non-null    float64\n",
      " 4   x5      278 non-null    float64\n",
      " 5   x6      278 non-null    float64\n",
      " 6   x7      278 non-null    float64\n",
      "dtypes: float64(7)\n",
      "memory usage: 15.3 KB\n"
     ]
    }
   ],
   "source": [
    "x.info()"
   ]
  },
  {
   "cell_type": "code",
   "execution_count": 8,
   "id": "0e5b1241",
   "metadata": {},
   "outputs": [
    {
     "data": {
      "text/html": [
       "<div>\n",
       "<style scoped>\n",
       "    .dataframe tbody tr th:only-of-type {\n",
       "        vertical-align: middle;\n",
       "    }\n",
       "\n",
       "    .dataframe tbody tr th {\n",
       "        vertical-align: top;\n",
       "    }\n",
       "\n",
       "    .dataframe thead th {\n",
       "        text-align: right;\n",
       "    }\n",
       "</style>\n",
       "<table border=\"1\" class=\"dataframe\">\n",
       "  <thead>\n",
       "    <tr style=\"text-align: right;\">\n",
       "      <th></th>\n",
       "      <th>x1</th>\n",
       "      <th>x2</th>\n",
       "      <th>x3</th>\n",
       "      <th>x4</th>\n",
       "      <th>x5</th>\n",
       "      <th>x6</th>\n",
       "      <th>x7</th>\n",
       "    </tr>\n",
       "  </thead>\n",
       "  <tbody>\n",
       "    <tr>\n",
       "      <th>count</th>\n",
       "      <td>278.000000</td>\n",
       "      <td>278.000000</td>\n",
       "      <td>278.000000</td>\n",
       "      <td>278.000000</td>\n",
       "      <td>278.000000</td>\n",
       "      <td>278.000000</td>\n",
       "      <td>278.000000</td>\n",
       "    </tr>\n",
       "    <tr>\n",
       "      <th>mean</th>\n",
       "      <td>-0.028506</td>\n",
       "      <td>-0.057365</td>\n",
       "      <td>0.043554</td>\n",
       "      <td>0.006929</td>\n",
       "      <td>-0.023000</td>\n",
       "      <td>-0.123977</td>\n",
       "      <td>-0.097490</td>\n",
       "    </tr>\n",
       "    <tr>\n",
       "      <th>std</th>\n",
       "      <td>0.956758</td>\n",
       "      <td>0.976323</td>\n",
       "      <td>1.033626</td>\n",
       "      <td>0.967814</td>\n",
       "      <td>1.061743</td>\n",
       "      <td>1.016295</td>\n",
       "      <td>1.086858</td>\n",
       "    </tr>\n",
       "    <tr>\n",
       "      <th>min</th>\n",
       "      <td>-2.688418</td>\n",
       "      <td>-2.484836</td>\n",
       "      <td>-2.353402</td>\n",
       "      <td>-2.568608</td>\n",
       "      <td>-3.223146</td>\n",
       "      <td>-3.428457</td>\n",
       "      <td>-2.725946</td>\n",
       "    </tr>\n",
       "    <tr>\n",
       "      <th>25%</th>\n",
       "      <td>-0.667908</td>\n",
       "      <td>-0.793305</td>\n",
       "      <td>-0.654445</td>\n",
       "      <td>-0.637426</td>\n",
       "      <td>-0.725398</td>\n",
       "      <td>-0.742766</td>\n",
       "      <td>-0.755606</td>\n",
       "    </tr>\n",
       "    <tr>\n",
       "      <th>50%</th>\n",
       "      <td>-0.097655</td>\n",
       "      <td>-0.079433</td>\n",
       "      <td>0.011180</td>\n",
       "      <td>0.028078</td>\n",
       "      <td>-0.004792</td>\n",
       "      <td>-0.118305</td>\n",
       "      <td>-0.121610</td>\n",
       "    </tr>\n",
       "    <tr>\n",
       "      <th>75%</th>\n",
       "      <td>0.703862</td>\n",
       "      <td>0.654602</td>\n",
       "      <td>0.725865</td>\n",
       "      <td>0.643254</td>\n",
       "      <td>0.703252</td>\n",
       "      <td>0.584428</td>\n",
       "      <td>0.690014</td>\n",
       "    </tr>\n",
       "    <tr>\n",
       "      <th>max</th>\n",
       "      <td>2.929506</td>\n",
       "      <td>2.743678</td>\n",
       "      <td>2.728819</td>\n",
       "      <td>2.725308</td>\n",
       "      <td>3.686425</td>\n",
       "      <td>2.443725</td>\n",
       "      <td>2.704077</td>\n",
       "    </tr>\n",
       "  </tbody>\n",
       "</table>\n",
       "</div>"
      ],
      "text/plain": [
       "               x1          x2          x3          x4          x5          x6  \\\n",
       "count  278.000000  278.000000  278.000000  278.000000  278.000000  278.000000   \n",
       "mean    -0.028506   -0.057365    0.043554    0.006929   -0.023000   -0.123977   \n",
       "std      0.956758    0.976323    1.033626    0.967814    1.061743    1.016295   \n",
       "min     -2.688418   -2.484836   -2.353402   -2.568608   -3.223146   -3.428457   \n",
       "25%     -0.667908   -0.793305   -0.654445   -0.637426   -0.725398   -0.742766   \n",
       "50%     -0.097655   -0.079433    0.011180    0.028078   -0.004792   -0.118305   \n",
       "75%      0.703862    0.654602    0.725865    0.643254    0.703252    0.584428   \n",
       "max      2.929506    2.743678    2.728819    2.725308    3.686425    2.443725   \n",
       "\n",
       "               x7  \n",
       "count  278.000000  \n",
       "mean    -0.097490  \n",
       "std      1.086858  \n",
       "min     -2.725946  \n",
       "25%     -0.755606  \n",
       "50%     -0.121610  \n",
       "75%      0.690014  \n",
       "max      2.704077  "
      ]
     },
     "execution_count": 8,
     "metadata": {},
     "output_type": "execute_result"
    }
   ],
   "source": [
    "x.describe()"
   ]
  },
  {
   "cell_type": "code",
   "execution_count": 9,
   "id": "f880880e",
   "metadata": {},
   "outputs": [
    {
     "name": "stdout",
     "output_type": "stream",
     "text": [
      "<class 'pandas.core.frame.DataFrame'>\n",
      "RangeIndex: 278 entries, 0 to 277\n",
      "Data columns (total 1 columns):\n",
      " #   Column  Non-Null Count  Dtype  \n",
      "---  ------  --------------  -----  \n",
      " 0   y1      278 non-null    float64\n",
      "dtypes: float64(1)\n",
      "memory usage: 2.3 KB\n"
     ]
    }
   ],
   "source": [
    "y.info()"
   ]
  },
  {
   "cell_type": "markdown",
   "id": "f858c540",
   "metadata": {},
   "source": [
    "Разделите все наблюдения на обучающую и тестовую выборки в соотношении 80-20."
   ]
  },
  {
   "cell_type": "code",
   "execution_count": 10,
   "id": "8b455195",
   "metadata": {},
   "outputs": [],
   "source": [
    "from sklearn.model_selection import train_test_split\n",
    "from sklearn.metrics import mean_squared_error, r2_score\n",
    "\n",
    "x1 = np.array(x['x1'])\n",
    "x2 = np.array(x['x2'])\n",
    "x3 = np.array(x['x3'])\n",
    "x4 = np.array(x['x4'])\n",
    "x5 = np.array(x['x5'])\n",
    "x6 = np.array(x['x6'])\n",
    "x7 = np.array(x['x7'])\n",
    "y1 = np.array(y)\n",
    "\n",
    "x1_train, x1_test, y_train, y_test = train_test_split(x1, y1, train_size=0.8, random_state=42)\n",
    "x2_train, x2_test = train_test_split(x2, train_size=0.8, random_state=42)\n",
    "x3_train, x3_test = train_test_split(x3, train_size=0.8, random_state=42)\n",
    "x4_train, x4_test = train_test_split(x4, train_size=0.8, random_state=42)\n",
    "x5_train, x5_test = train_test_split(x5, train_size=0.8, random_state=42)\n",
    "x6_train, x6_test = train_test_split(x6, train_size=0.8, random_state=42)\n",
    "x7_train, x7_test = train_test_split(x7, train_size=0.8, random_state=42)"
   ]
  },
  {
   "cell_type": "markdown",
   "id": "5b0bc9ad",
   "metadata": {},
   "source": [
    "Для целевой и каждого из признаков постройте парную регрессионную модель. Визуализируйте линию регрессии и исходные данные на графике. При помощи коэффициентов оцените силу связи."
   ]
  },
  {
   "cell_type": "markdown",
   "id": "7ca988d6",
   "metadata": {},
   "source": [
    "Постройте модель множественной линейной регрессии целевой переменной от всех показателей. Оцените качество регрессии, сделайте вывод."
   ]
  },
  {
   "cell_type": "code",
   "execution_count": 16,
   "id": "a5304595",
   "metadata": {},
   "outputs": [],
   "source": [
    "def plotting_predictions(x_predicted, y_predicted, degree):\n",
    "    \"\"\"\n",
    "    \n",
    "    \"\"\"\n",
    "    plt.figure(figsize=(10,5))\n",
    "    plt.scatter(x_predicted,y_predicted,s=15)\n",
    "\n",
    "    Input=[('polynomial',PolynomialFeatures(degree=degree)),('modal',LinearRegression())]\n",
    "    pipe=Pipeline(Input)\n",
    "    pipe.fit(x_predicted.reshape(-1,1),y_predicted.reshape(-1,1))\n",
    "    \n",
    "    poly_pred=pipe.predict(x_predicted.reshape(-1,1))\n",
    "    sorted_zip = sorted(zip(x_predicted,poly_pred))\n",
    "    x_poly, poly_pred = zip(*sorted_zip)\n",
    "\n",
    "    lm=LinearRegression()\n",
    "    lm.fit(x_predicted.reshape(-1,1),y_predicted.reshape(-1,1))\n",
    "    y_pred=lm.predict(x_predicted.reshape(-1,1))\n",
    "\n",
    "    plt.plot(x_predicted,y_pred,color='r',label='Linear Regression')\n",
    "    plt.plot(x_poly,poly_pred,color='g',label='Polynomial Regression')\n",
    "\n",
    "    plt.xlabel('Predictor',fontsize=16)\n",
    "    plt.ylabel('Target',fontsize=16)\n",
    "    plt.legend()\n",
    "    plt.show()\n",
    "    \n",
    "    print('RMSE for Polynomial Regression',np.sqrt(mean_squared_error(y_predicted,poly_pred)))\n",
    "    print(\"MSE for Polynomial Regression \", mean_squared_error(y_predicted, poly_pred))\n",
    "    print(\"R2 for Polynomial Regression \", r2_score(y_predicted, poly_pred))\n",
    "    print('RMSE for Linear Regression',np.sqrt(mean_squared_error(y_predicted,y_pred)))\n",
    "    print(\"MSE for Linear Regression \", mean_squared_error(y_predicted, y_pred))\n",
    "    print(\"R2 for Linear Regression \", r2_score(y_predicted, y_pred))"
   ]
  },
  {
   "cell_type": "code",
   "execution_count": 27,
   "id": "bb60227e",
   "metadata": {},
   "outputs": [
    {
     "data": {
      "image/png": "[encoded data removed]",
      "text/plain": [
       "<Figure size 720x360 with 1 Axes>"
      ]
     },
     "metadata": {
      "needs_background": "light"
     },
     "output_type": "display_data"
    },
    {
     "name": "stdout",
     "output_type": "stream",
     "text": [
      "RMSE for Polynomial Regression 114.04547996575371\n",
      "MSE for Polynomial Regression  13006.37150061913\n",
      "R2 for Polynomial Regression  -0.002587021378403831\n",
      "RMSE for Linear Regression 113.83247076448609\n",
      "MSE for Linear Regression  12957.83140034758\n",
      "R2 for Linear Regression  0.0011546581935156786\n"
     ]
    }
   ],
   "source": [
    "plotting_predictions(x1, y1, 2)"
   ]
  },
  {
   "cell_type": "markdown",
   "id": "3c0eeb09",
   "metadata": {},
   "source": [
    "### Многомерная линейная регрессия"
   ]
  },
  {
   "cell_type": "code",
   "execution_count": 11,
   "id": "f5471374",
   "metadata": {},
   "outputs": [],
   "source": [
    "def calculation_linear_predictions(x_predicted, y_predicted, flag):\n",
    "    \"\"\"\n",
    "    6 задание из главной части\n",
    "    \"\"\"\n",
    "    \n",
    "    model = LinearRegression()\n",
    "    model.fit(x_predicted,y_predicted)\n",
    "    poly_pred = model.predict(x_predicted)\n",
    "    \n",
    "    return r2_score(y_predicted,poly_pred) if flag==True else mean_squared_error(y_predicted,poly_pred)"
   ]
  },
  {
   "cell_type": "code",
   "execution_count": 359,
   "id": "8c749988",
   "metadata": {},
   "outputs": [],
   "source": [
    "x_train, x_test, y_train, y_test = train_test_split(x, y, train_size=0.8, random_state=42)"
   ]
  },
  {
   "cell_type": "code",
   "execution_count": 360,
   "id": "b2340e63",
   "metadata": {},
   "outputs": [
    {
     "data": {
      "text/html": [
       "<div>\n",
       "<style scoped>\n",
       "    .dataframe tbody tr th:only-of-type {\n",
       "        vertical-align: middle;\n",
       "    }\n",
       "\n",
       "    .dataframe tbody tr th {\n",
       "        vertical-align: top;\n",
       "    }\n",
       "\n",
       "    .dataframe thead th {\n",
       "        text-align: right;\n",
       "    }\n",
       "</style>\n",
       "<table border=\"1\" class=\"dataframe\">\n",
       "  <thead>\n",
       "    <tr style=\"text-align: right;\">\n",
       "      <th></th>\n",
       "      <th>Linear</th>\n",
       "    </tr>\n",
       "  </thead>\n",
       "  <tbody>\n",
       "    <tr>\n",
       "      <th>train</th>\n",
       "      <td>0.992519</td>\n",
       "    </tr>\n",
       "    <tr>\n",
       "      <th>test</th>\n",
       "      <td>0.992509</td>\n",
       "    </tr>\n",
       "  </tbody>\n",
       "</table>\n",
       "</div>"
      ],
      "text/plain": [
       "         Linear\n",
       "train  0.992519\n",
       "test   0.992509"
      ]
     },
     "execution_count": 360,
     "metadata": {},
     "output_type": "execute_result"
    }
   ],
   "source": [
    "df = pd.DataFrame([[calculation_predictions(x_train, y_train, True)], \n",
    "                   [calculation_predictions(x_test, y_test, True)]], \n",
    "                   columns = ['Linear'], index=['train', 'test'])\n",
    "df # r2_score коэф детерминации"
   ]
  },
  {
   "cell_type": "code",
   "execution_count": 361,
   "id": "d9d05113",
   "metadata": {},
   "outputs": [
    {
     "data": {
      "text/html": [
       "<div>\n",
       "<style scoped>\n",
       "    .dataframe tbody tr th:only-of-type {\n",
       "        vertical-align: middle;\n",
       "    }\n",
       "\n",
       "    .dataframe tbody tr th {\n",
       "        vertical-align: top;\n",
       "    }\n",
       "\n",
       "    .dataframe thead th {\n",
       "        text-align: right;\n",
       "    }\n",
       "</style>\n",
       "<table border=\"1\" class=\"dataframe\">\n",
       "  <thead>\n",
       "    <tr style=\"text-align: right;\">\n",
       "      <th></th>\n",
       "      <th>Linear</th>\n",
       "    </tr>\n",
       "  </thead>\n",
       "  <tbody>\n",
       "    <tr>\n",
       "      <th>train</th>\n",
       "      <td>97.219338</td>\n",
       "    </tr>\n",
       "    <tr>\n",
       "      <th>test</th>\n",
       "      <td>95.934128</td>\n",
       "    </tr>\n",
       "  </tbody>\n",
       "</table>\n",
       "</div>"
      ],
      "text/plain": [
       "          Linear\n",
       "train  97.219338\n",
       "test   95.934128"
      ]
     },
     "execution_count": 361,
     "metadata": {},
     "output_type": "execute_result"
    }
   ],
   "source": [
    "df = pd.DataFrame([[calculation_predictions(x_train, y_train, False)], \n",
    "                   [calculation_predictions(x_test, y_test, False)]], \n",
    "                   columns = ['Linear'], index=['train', 'test'])\n",
    "df # mean_squared_error метод средних квадратов"
   ]
  },
  {
   "cell_type": "markdown",
   "id": "1568743d",
   "metadata": {},
   "source": [
    "### Контрольные вопросы\n",
    "- Чем множественная регрессия отличается от парной?\n",
    "- Какую функцию ошибки использует модель линейной регрессии?\n",
    "- Какие метрики эффективности можно применять для оценки регрессионных моделей?\n",
    "- Какие еще регрессоры есть в библиотеке sklearn?\n",
    "\n",
    "\n",
    "\n"
   ]
  },
  {
   "cell_type": "code",
   "execution_count": 202,
   "id": "9671a5cc",
   "metadata": {},
   "outputs": [
    {
     "data": {
      "image/png": "[encoded data removed]",
      "text/plain": [
       "<Figure size 720x360 with 1 Axes>"
      ]
     },
     "metadata": {
      "needs_background": "light"
     },
     "output_type": "display_data"
    }
   ],
   "source": [
    "# importing libraries\n",
    "import numpy as np\n",
    "import matplotlib.pyplot as plt\n",
    "import pandas as pd\n",
    "\n",
    "# for calculating mean_squared error\n",
    "from sklearn.metrics import mean_squared_error\n",
    "\n",
    "# creating a dataset with curvilinear relationship\n",
    "x=10*np.random.normal(0,1,70)\n",
    "y=10*(-x**2)+np.random.normal(-100,100,70)\n",
    "\n",
    "# plotting dataset\n",
    "plt.figure(figsize=(10,5))\n",
    "plt.scatter(x,y,s=15)\n",
    "plt.xlabel('Predictor',fontsize=16)\n",
    "plt.ylabel('Target',fontsize=16)\n",
    "plt.show()"
   ]
  },
  {
   "cell_type": "code",
   "execution_count": 204,
   "id": "7889c27a",
   "metadata": {},
   "outputs": [
    {
     "data": {
      "text/plain": [
       "LinearRegression()"
      ]
     },
     "execution_count": 204,
     "metadata": {},
     "output_type": "execute_result"
    }
   ],
   "source": [
    "# Importing Linear Regression\n",
    "from sklearn.linear_model import LinearRegression\n",
    "\n",
    "# Training Model\n",
    "lm=LinearRegression()\n",
    "lm.fit(x.reshape(-1,1),y.reshape(-1,1))"
   ]
  },
  {
   "cell_type": "code",
   "execution_count": 205,
   "id": "4a093226",
   "metadata": {},
   "outputs": [
    {
     "data": {
      "image/png": "[encoded data removed]",
      "text/plain": [
       "<Figure size 720x360 with 1 Axes>"
      ]
     },
     "metadata": {
      "needs_background": "light"
     },
     "output_type": "display_data"
    }
   ],
   "source": [
    "y_pred=lm.predict(x.reshape(-1,1))\n",
    "\n",
    "# plotting predictions\n",
    "plt.figure(figsize=(10,5))\n",
    "plt.scatter(x,y,s=15)\n",
    "plt.plot(x,y_pred,color='r')\n",
    "plt.xlabel('Predictor',fontsize=16)\n",
    "plt.ylabel('Target',fontsize=16)\n",
    "plt.show()"
   ]
  },
  {
   "cell_type": "code",
   "execution_count": 206,
   "id": "c743cac5",
   "metadata": {},
   "outputs": [
    {
     "name": "stdout",
     "output_type": "stream",
     "text": [
      "RMSE for Linear Regression=> 804.6345622123675\n"
     ]
    }
   ],
   "source": [
    "print('RMSE for Linear Regression=>',np.sqrt(mean_squared_error(y,y_pred)))"
   ]
  },
  {
   "cell_type": "code",
   "execution_count": 207,
   "id": "485d20b4",
   "metadata": {},
   "outputs": [
    {
     "name": "stdout",
     "output_type": "stream",
     "text": [
      "<class 'numpy.ndarray'>\n"
     ]
    }
   ],
   "source": [
    "# importing libraries for polynomial transform\n",
    "from sklearn.preprocessing import PolynomialFeatures\n",
    "# for creating pipeline\n",
    "from sklearn.pipeline import Pipeline\n",
    "# creating pipeline and fitting it on data\n",
    "Input=[('polynomial',PolynomialFeatures(degree=2)),('modal',LinearRegression())]\n",
    "pipe=Pipeline(Input)\n",
    "pipe.fit(x.reshape(-1,1),y.reshape(-1,1))\n",
    "print(type(x))"
   ]
  },
  {
   "cell_type": "code",
   "execution_count": 208,
   "id": "86c35e8e",
   "metadata": {},
   "outputs": [
    {
     "data": {
      "image/png": "[encoded data removed]",
      "text/plain": [
       "<Figure size 720x432 with 1 Axes>"
      ]
     },
     "metadata": {
      "needs_background": "light"
     },
     "output_type": "display_data"
    }
   ],
   "source": [
    "poly_pred=pipe.predict(x.reshape(-1,1))\n",
    "#sorting predicted values with respect to predictor\n",
    "sorted_zip = sorted(zip(x,poly_pred))\n",
    "x_poly, poly_pred = zip(*sorted_zip)\n",
    "#plotting predictions\n",
    "plt.figure(figsize=(10,6))\n",
    "plt.scatter(x,y,s=15)\n",
    "plt.plot(x,y_pred,color='r',label='Linear Regression')\n",
    "plt.plot(x_poly,poly_pred,color='g',label='Polynomial Regression')\n",
    "\n",
    "plt.xlabel('Predictor',fontsize=16)\n",
    "plt.ylabel('Target',fontsize=16)\n",
    "plt.legend()\n",
    "plt.show()"
   ]
  },
  {
   "cell_type": "code",
   "execution_count": 209,
   "id": "4ad5ebc6",
   "metadata": {},
   "outputs": [
    {
     "name": "stdout",
     "output_type": "stream",
     "text": [
      "RMSE for Polynomial Regression=> 1075.3644886802392\n"
     ]
    }
   ],
   "source": [
    "print('RMSE for Polynomial Regression=>',np.sqrt(mean_squared_error(y,poly_pred)))"
   ]
  },
  {
   "cell_type": "markdown",
   "id": "350c1d2e",
   "metadata": {},
   "source": [
    "### Дополнительные задания\n",
    "Для целевой переменной и каждого из признаков постройте полиномиальную регрессию второго, третьего и десятого порядков. Сделайте вывод о значимости регрессии."
   ]
  },
  {
   "cell_type": "code",
   "execution_count": 61,
   "id": "994ebf01",
   "metadata": {},
   "outputs": [],
   "source": [
    "x = pd.read_csv('4_x.csv')\n",
    "x.columns = [\"x1\", \"x2\", \"x3\", \"x4\",\"x5\",\"x6\",\"x7\"]  # adding a row\n",
    "y = pd.read_csv('4_y.csv')\n",
    "y.columns = [\"y1\"]  # adding a row\n",
    "\n",
    "# x1 = x['x1'].tolist()\n",
    "x1 = np.array(x['x1'])\n",
    "x2 = np.array(x['x2'])\n",
    "x3 = np.array(x['x3'])\n",
    "x4 = np.array(x['x4'])\n",
    "x5 = np.array(x['x5'])\n",
    "x6 = np.array(x['x6'])\n",
    "x7 = np.array(x['x7'])\n",
    "y1 = np.array(y)"
   ]
  },
  {
   "cell_type": "code",
   "execution_count": 62,
   "id": "57b014e9",
   "metadata": {},
   "outputs": [],
   "source": [
    "def plotting_predictions(x_predicted, y_predicted, degree):\n",
    "    \"\"\"\n",
    "    \n",
    "    \"\"\"\n",
    "    plt.figure(figsize=(10,5))\n",
    "    plt.scatter(x_predicted,y_predicted,s=15)\n",
    "\n",
    "    Input=[('polynomial',PolynomialFeatures(degree=degree)),('modal',LinearRegression())]\n",
    "    pipe=Pipeline(Input)\n",
    "    pipe.fit(x_predicted.reshape(-1,1),y_predicted.reshape(-1,1))\n",
    "    \n",
    "    poly_pred=pipe.predict(x_predicted.reshape(-1,1))\n",
    "    sorted_zip = sorted(zip(x_predicted,poly_pred))\n",
    "    x_poly, poly_pred = zip(*sorted_zip)\n",
    "\n",
    "    lm=LinearRegression()\n",
    "    lm.fit(x_predicted.reshape(-1,1),y_predicted.reshape(-1,1))\n",
    "    y_pred=lm.predict(x_predicted.reshape(-1,1))\n",
    "\n",
    "    plt.plot(x_predicted,y_pred,color='r',label='Linear Regression')\n",
    "    plt.plot(x_poly,poly_pred,color='g',label='Polynomial Regression')\n",
    "\n",
    "    plt.xlabel('Predictor',fontsize=16)\n",
    "    plt.ylabel('Target',fontsize=16)\n",
    "    plt.legend()\n",
    "    plt.show()\n",
    "    \n",
    "    print('RMSE for Polynomial Regression',np.sqrt(mean_squared_error(y_predicted,poly_pred)))\n",
    "    print('RMSE for Linear Regression',np.sqrt(mean_squared_error(y_predicted,y_pred)))\n",
    "    \n",
    "#     print('MSE train: {:.3f}, test: {:.3f}'.format(\n",
    "#         mean_squared_error(y_train_scaled, y_train_pred),\n",
    "#         mean_squared_error(y_test_scaled, y_test_pred)))\n",
    "#     print('R^2 train: {:.3f}, test: {:.3f}'.format(\n",
    "#         r2_score(y_train_scaled, y_train_pred),\n",
    "#         r2_score(y_test_scaled, y_test_pred)))"
   ]
  },
  {
   "cell_type": "code",
   "execution_count": 63,
   "id": "85f6fa88",
   "metadata": {},
   "outputs": [
    {
     "data": {
      "image/png": "[encoded data removed]",
      "text/plain": [
       "<Figure size 720x360 with 1 Axes>"
      ]
     },
     "metadata": {
      "needs_background": "light"
     },
     "output_type": "display_data"
    },
    {
     "name": "stdout",
     "output_type": "stream",
     "text": [
      "RMSE for Polynomial Regression 114.04547996575371\n",
      "RMSE for Linear Regression 113.83247076448609\n"
     ]
    }
   ],
   "source": [
    "plotting_predictions(x1, y1, 2)"
   ]
  },
  {
   "cell_type": "markdown",
   "id": "9a6c6d4e",
   "metadata": {},
   "source": [
    "Постройте сводную таблицу показателей точности всех построенных моделей по тестовой и обучающей выборке. Сделайте вывод, какие модели переобученнные, какие - недообученные."
   ]
  },
  {
   "cell_type": "code",
   "execution_count": 65,
   "id": "70b50f7c",
   "metadata": {},
   "outputs": [],
   "source": [
    "# # Что выведет на экран ячейка с кодом:\n",
    "# import xlwings as xw\n",
    "# import numpy as np\n",
    "\n",
    "# wb = xw.Book()\n",
    "# sht = wb.sheets['Лист1']\n",
    "# sht.range((1, 1)).value = np.arange(12, dtype=np.int).reshape((3,4))\n",
    "\n",
    "# fml = sht.range('A4').formula = '=SUM($A$1:A2)'\n",
    "# sht.range('A4:C4').formulа = fml\n",
    "\n",
    "# print(sht.range('A4').expand('right').value)"
   ]
  },
  {
   "cell_type": "code",
   "execution_count": 66,
   "id": "7e17a354",
   "metadata": {},
   "outputs": [],
   "source": [
    "from sklearn.model_selection import train_test_split\n",
    "from sklearn.metrics import mean_squared_error, r2_score\n",
    "\n",
    "x1_train, x1_test, y_train, y_test = train_test_split(x1, y1, train_size=0.67, random_state=42)\n",
    "x2_train, x2_test = train_test_split(x2, train_size=0.67, random_state=42)\n",
    "x3_train, x3_test = train_test_split(x3, train_size=0.67, random_state=42)\n",
    "x4_train, x4_test = train_test_split(x4, train_size=0.67, random_state=42)\n",
    "x5_train, x5_test = train_test_split(x5, train_size=0.67, random_state=42)\n",
    "x6_train, x6_test = train_test_split(x6, train_size=0.67, random_state=42)\n",
    "x7_train, x7_test = train_test_split(x7, train_size=0.67, random_state=42)"
   ]
  },
  {
   "cell_type": "code",
   "execution_count": 29,
   "id": "516780f5",
   "metadata": {},
   "outputs": [],
   "source": [
    "def calculation_predictions(x_predicted, y_predicted, degree, flag):\n",
    "    \"\"\"\n",
    "    \n",
    "    \"\"\"\n",
    "\n",
    "    Input=[('polynomial',PolynomialFeatures(degree=degree)),('modal',LinearRegression())]\n",
    "    pipe=Pipeline(Input)\n",
    "    pipe.fit(x_predicted.reshape(-1,1),y_predicted.reshape(-1,1))\n",
    "    \n",
    "    poly_pred=pipe.predict(x_predicted.reshape(-1,1))\n",
    "    sorted_zip = sorted(zip(x_predicted,poly_pred))\n",
    "    x_poly, poly_pred = zip(*sorted_zip)\n",
    "    \n",
    "    return r2_score(y_predicted,poly_pred) if flag==True else mean_squared_error(y_predicted,poly_pred)"
   ]
  },
  {
   "cell_type": "code",
   "execution_count": 68,
   "id": "f9f3ff69",
   "metadata": {},
   "outputs": [
    {
     "data": {
      "text/html": [
       "<div>\n",
       "<style scoped>\n",
       "    .dataframe tbody tr th:only-of-type {\n",
       "        vertical-align: middle;\n",
       "    }\n",
       "\n",
       "    .dataframe tbody tr th {\n",
       "        vertical-align: top;\n",
       "    }\n",
       "\n",
       "    .dataframe thead th {\n",
       "        text-align: right;\n",
       "    }\n",
       "</style>\n",
       "<table border=\"1\" class=\"dataframe\">\n",
       "  <thead>\n",
       "    <tr style=\"text-align: right;\">\n",
       "      <th></th>\n",
       "      <th>2 degree</th>\n",
       "      <th>3 degree</th>\n",
       "      <th>10 degree</th>\n",
       "    </tr>\n",
       "  </thead>\n",
       "  <tbody>\n",
       "    <tr>\n",
       "      <th>train</th>\n",
       "      <td>-0.002327</td>\n",
       "      <td>-0.037765</td>\n",
       "      <td>-0.149054</td>\n",
       "    </tr>\n",
       "    <tr>\n",
       "      <th>test</th>\n",
       "      <td>-0.040736</td>\n",
       "      <td>-0.031846</td>\n",
       "      <td>0.047934</td>\n",
       "    </tr>\n",
       "  </tbody>\n",
       "</table>\n",
       "</div>"
      ],
      "text/plain": [
       "       2 degree  3 degree  10 degree\n",
       "train -0.002327 -0.037765  -0.149054\n",
       "test  -0.040736 -0.031846   0.047934"
      ]
     },
     "execution_count": 68,
     "metadata": {},
     "output_type": "execute_result"
    }
   ],
   "source": [
    "df = pd.DataFrame([[calculation_predictions(x1_train, y_train, 2, True), calculation_predictions(x1_train, y_train, 3, True), calculation_predictions(x1_train, y_train, 10, True)], \n",
    "                   [calculation_predictions(x1_test, y_test, 2, True), calculation_predictions(x1_test, y_test, 3, True), calculation_predictions(x1_test, y_test, 10, True)]], \n",
    "                   columns = ['2 degree', '3 degree', '10 degree'], index=['train', 'test'])\n",
    "df # коэф детерминации"
   ]
  },
  {
   "cell_type": "code",
   "execution_count": 69,
   "id": "e5771365",
   "metadata": {},
   "outputs": [
    {
     "data": {
      "text/plain": [
       "<AxesSubplot:>"
      ]
     },
     "execution_count": 69,
     "metadata": {},
     "output_type": "execute_result"
    },
    {
     "data": {
      "image/png": "[encoded data removed]",
      "text/plain": [
       "<Figure size 432x288 with 2 Axes>"
      ]
     },
     "metadata": {
      "needs_background": "light"
     },
     "output_type": "display_data"
    }
   ],
   "source": [
    "import seaborn as sns\n",
    "\n",
    "sns.heatmap(df, annot = True, vmin=-1, vmax=1, center= 0)"
   ]
  },
  {
   "cell_type": "markdown",
   "id": "4f03d9fd",
   "metadata": {},
   "source": [
    "- Лучший возможный балл-1.0,и он может быть отрицательным (потому что модель может быть произвольно хуже).Константная модель,которая всегда предсказывает ожидаемое значение y,без учета входных характеристик,получит оценку R^2 в 0.0."
   ]
  },
  {
   "cell_type": "markdown",
   "id": "50e36237",
   "metadata": {},
   "source": [
    "- Коэффициент детерминации R2, или R-квадрат, варьируется в интервале между 0 и 1 и обозначает объяснительную мощность линейной регрессионной модели. Он вычисляет объясненную долю изменчивости в зависимой переменной.\n",
    "\n",
    "- Обычно, чем ближе R2 к 1, тем лучше линия регрессии подогнана к точкам данных и больше изменчивости в Y объясняется независимой переменной X."
   ]
  },
  {
   "cell_type": "markdown",
   "id": "2522559d",
   "metadata": {},
   "source": [
    "Используйте другие метрики качества регрессионной модели в дополнение к коэффициенту детерминации.\n"
   ]
  },
  {
   "cell_type": "code",
   "execution_count": 70,
   "id": "33079dcf",
   "metadata": {},
   "outputs": [
    {
     "data": {
      "text/html": [
       "<div>\n",
       "<style scoped>\n",
       "    .dataframe tbody tr th:only-of-type {\n",
       "        vertical-align: middle;\n",
       "    }\n",
       "\n",
       "    .dataframe tbody tr th {\n",
       "        vertical-align: top;\n",
       "    }\n",
       "\n",
       "    .dataframe thead th {\n",
       "        text-align: right;\n",
       "    }\n",
       "</style>\n",
       "<table border=\"1\" class=\"dataframe\">\n",
       "  <thead>\n",
       "    <tr style=\"text-align: right;\">\n",
       "      <th></th>\n",
       "      <th>2 degree</th>\n",
       "      <th>3 degree</th>\n",
       "      <th>10 degree</th>\n",
       "    </tr>\n",
       "  </thead>\n",
       "  <tbody>\n",
       "    <tr>\n",
       "      <th>train</th>\n",
       "      <td>13405.969786</td>\n",
       "      <td>13879.945524</td>\n",
       "      <td>15368.422087</td>\n",
       "    </tr>\n",
       "    <tr>\n",
       "      <th>test</th>\n",
       "      <td>12649.363342</td>\n",
       "      <td>12541.306990</td>\n",
       "      <td>11571.646390</td>\n",
       "    </tr>\n",
       "  </tbody>\n",
       "</table>\n",
       "</div>"
      ],
      "text/plain": [
       "           2 degree      3 degree     10 degree\n",
       "train  13405.969786  13879.945524  15368.422087\n",
       "test   12649.363342  12541.306990  11571.646390"
      ]
     },
     "execution_count": 70,
     "metadata": {},
     "output_type": "execute_result"
    }
   ],
   "source": [
    "df = pd.DataFrame([[calculation_predictions(x1_train, y_train, 2, False), calculation_predictions(x1_train, y_train, 3, False), calculation_predictions(x1_train, y_train, 10, False)], \n",
    "                   [calculation_predictions(x1_test, y_test, 2, False), calculation_predictions(x1_test, y_test, 3, False), calculation_predictions(x1_test, y_test, 10, False)]], \n",
    "                   columns = ['2 degree', '3 degree', '10 degree'], index=['train', 'test'])\n",
    "df # метод средних квадратов\n",
    "# если ошибка на трейне меньше, чем на тесте, то модель переобучена"
   ]
  },
  {
   "cell_type": "code",
   "execution_count": 71,
   "id": "559a9df9",
   "metadata": {},
   "outputs": [
    {
     "data": {
      "text/plain": [
       "<AxesSubplot:>"
      ]
     },
     "execution_count": 71,
     "metadata": {},
     "output_type": "execute_result"
    },
    {
     "data": {
      "image/png": "[encoded data removed]",
      "text/plain": [
       "<Figure size 432x288 with 2 Axes>"
      ]
     },
     "metadata": {
      "needs_background": "light"
     },
     "output_type": "display_data"
    }
   ],
   "source": [
    "sns.heatmap(df, annot = True, vmin= 0)"
   ]
  },
  {
   "cell_type": "markdown",
   "id": "19f3ca45",
   "metadata": {},
   "source": [
    "(*) Замерьте время обучения на разных объемах данных и количестве признаков. Сделайте вывод о зависимости скорости обучения от объема обучающей выборки."
   ]
  },
  {
   "cell_type": "code",
   "execution_count": 72,
   "id": "c44b91c4",
   "metadata": {},
   "outputs": [],
   "source": [
    "import time\n",
    "\n",
    "def amount_of_time(x_predicted, y_predicted, degree):\n",
    "    \"\"\"\n",
    "    \n",
    "    \"\"\"\n",
    "    start = time.time() # точка отсчета времени\n",
    "    \n",
    "    Input=[('polynomial',PolynomialFeatures(degree=degree)),('modal',LinearRegression())]\n",
    "    pipe=Pipeline(Input)\n",
    "    pipe.fit(x_predicted.reshape(-1,1),y_predicted.reshape(-1,1))\n",
    "    \n",
    "    poly_pred=pipe.predict(x_predicted.reshape(-1,1))\n",
    "    sorted_zip = sorted(zip(x_predicted,poly_pred))\n",
    "    x_poly, poly_pred = zip(*sorted_zip)\n",
    "    \n",
    "    end = time.time() - start # собственно время работы программы\n",
    "    \n",
    "    return end # вывод времени"
   ]
  },
  {
   "cell_type": "code",
   "execution_count": 73,
   "id": "3fa6ed2e",
   "metadata": {},
   "outputs": [
    {
     "data": {
      "text/html": [
       "<div>\n",
       "<style scoped>\n",
       "    .dataframe tbody tr th:only-of-type {\n",
       "        vertical-align: middle;\n",
       "    }\n",
       "\n",
       "    .dataframe tbody tr th {\n",
       "        vertical-align: top;\n",
       "    }\n",
       "\n",
       "    .dataframe thead th {\n",
       "        text-align: right;\n",
       "    }\n",
       "</style>\n",
       "<table border=\"1\" class=\"dataframe\">\n",
       "  <thead>\n",
       "    <tr style=\"text-align: right;\">\n",
       "      <th></th>\n",
       "      <th>2 degree</th>\n",
       "      <th>3 degree</th>\n",
       "      <th>10 degree</th>\n",
       "    </tr>\n",
       "  </thead>\n",
       "  <tbody>\n",
       "    <tr>\n",
       "      <th>train</th>\n",
       "      <td>0.001940</td>\n",
       "      <td>0.000995</td>\n",
       "      <td>0.000909</td>\n",
       "    </tr>\n",
       "    <tr>\n",
       "      <th>test</th>\n",
       "      <td>0.001987</td>\n",
       "      <td>0.000000</td>\n",
       "      <td>0.001994</td>\n",
       "    </tr>\n",
       "  </tbody>\n",
       "</table>\n",
       "</div>"
      ],
      "text/plain": [
       "       2 degree  3 degree  10 degree\n",
       "train  0.001940  0.000995   0.000909\n",
       "test   0.001987  0.000000   0.001994"
      ]
     },
     "execution_count": 73,
     "metadata": {},
     "output_type": "execute_result"
    }
   ],
   "source": [
    "df = pd.DataFrame([[amount_of_time(x1_train, y_train, 2), amount_of_time(x1_train, y_train, 3), amount_of_time(x1_train, y_train, 10)], \n",
    "                   [amount_of_time(x1_test, y_test, 2), amount_of_time(x1_test, y_test, 3), amount_of_time(x1_test, y_test, 10)]], \n",
    "                   columns = ['2 degree', '3 degree', '10 degree'], index=['train', 'test'])\n",
    "df"
   ]
  },
  {
   "cell_type": "code",
   "execution_count": 74,
   "id": "62d8369a",
   "metadata": {},
   "outputs": [
    {
     "data": {
      "text/plain": [
       "<AxesSubplot:>"
      ]
     },
     "execution_count": 74,
     "metadata": {},
     "output_type": "execute_result"
    },
    {
     "data": {
      "image/png": "[encoded data removed]",
      "text/plain": [
       "<Figure size 432x288 with 2 Axes>"
      ]
     },
     "metadata": {
      "needs_background": "light"
     },
     "output_type": "display_data"
    }
   ],
   "source": [
    "sns.heatmap(df, annot = True, vmin= 0)"
   ]
  },
  {
   "cell_type": "markdown",
   "id": "d4a49a5a",
   "metadata": {},
   "source": [
    "- Тестовая выборка, объемом в 2 раза меньшим, чем обучающая, обучается также примерно в 2 раза быстрее. \n",
    "- по 3 признакам выборка почему то обучается быстрее, чем по 2. В 10-мерном признаковом простарнстве скорость соответственно убывает."
   ]
  },
  {
   "cell_type": "code",
   "execution_count": null,
   "id": "1e9ac037",
   "metadata": {},
   "outputs": [],
   "source": []
  }
 ],
 "metadata": {
  "kernelspec": {
   "display_name": "Python 3",
   "language": "python",
   "name": "python3"
  },
  "language_info": {
   "codemirror_mode": {
    "name": "ipython",
    "version": 3
   },
   "file_extension": ".py",
   "mimetype": "text/x-python",
   "name": "python",
   "nbconvert_exporter": "python",
   "pygments_lexer": "ipython3",
   "version": "3.8.8"
  }
 },
 "nbformat": 4,
 "nbformat_minor": 5
}
