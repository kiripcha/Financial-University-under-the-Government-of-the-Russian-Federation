{
 "cells": [
  {
   "cell_type": "markdown",
   "id": "9f67ce79",
   "metadata": {},
   "source": [
    "# Множественная линейная регрессия на чистых данных\n",
    "### Цель работы\n",
    "Познакомиться с основными приемами работы с множественными регрессионными моделями с использованием библиотеки sklearn.\n",
    "\n",
    "### Задания для выполнения\n",
    "- Ваша задача - построить предиктивную модель предсказания целевой переменной в зависимости от значения нескольких факторов (признаков).\n",
    "- Загрузите датасет из приложения. Вам понадобится два файла - отдельно с признаками (помечен x) и значениями целевой переменной (помечен y). Файлы не содержат заголовков столбцов и строк.\n",
    "- Сделайте количественное описание датасета: количество точек данных, признаков, статистику по каждому признаку.\n",
    "- Разделите все наблюдения на обучающую и тестовую выборки в соотношении 80-20.\n",
    "- Для целевой и каждого из признаков постройте парную регрессионную модель. Визуализируйте линию регрессии и исходные данные на графике. При помощи коэффициентов оцените силу связи.\n",
    "- Постройте модель множественной линейной регрессии целевой переменной от всех показателей. Оцените качество регрессии, сделайте вывод.\n",
    "\n",
    "### Методические указания\n",
    "\n",
    "- Отчет по лабораторной работе сдается в виде файла интерактивного ноутбука Jupyter notebook и должен включать весь программный код, реализующий задания лабораторной работы, подробные пояснения, обоснования и выводы там, где это требуется в виде текстовых ячеек.\n",
    "- Для сведения статистических данных можно воспользоваться средствами библиотек sklearn, numpy и pandas, либо табличным редактором Microsoft Excel. В любом случае, к отчету по лабораторной работе следует приложить как исходные данные без обработки, так и итоговый датасет, использующийся при обучении.\n",
    "- Для диагностики обучения регрессионных моделей рекомендуется строить кривые обучения. Используйте пример из документации sklearn как образец.\n",
    "- Для оценки качества построенной регрессии можно использовать целый ряд показателей. Одним из самых простых и универсальных является коэффициент детерминации (R2-score). Как использовать его читайте в официальной документации sklearn.\n",
    "\n",
    "#### Приведем пример создания модели парной линейной регрессии средствами библиотеки scikit learn:\n",
    "\n",
    "\n"
   ]
  },
  {
   "cell_type": "code",
   "execution_count": 135,
   "id": "7a832b64",
   "metadata": {},
   "outputs": [],
   "source": [
    "import numpy as np\n",
    "import pandas as pd\n",
    "from sklearn import linear_model"
   ]
  },
  {
   "cell_type": "code",
   "execution_count": 162,
   "id": "593ef516",
   "metadata": {},
   "outputs": [
    {
     "data": {
      "text/html": [
       "<div>\n",
       "<style scoped>\n",
       "    .dataframe tbody tr th:only-of-type {\n",
       "        vertical-align: middle;\n",
       "    }\n",
       "\n",
       "    .dataframe tbody tr th {\n",
       "        vertical-align: top;\n",
       "    }\n",
       "\n",
       "    .dataframe thead th {\n",
       "        text-align: right;\n",
       "    }\n",
       "</style>\n",
       "<table border=\"1\" class=\"dataframe\">\n",
       "  <thead>\n",
       "    <tr style=\"text-align: right;\">\n",
       "      <th></th>\n",
       "      <th>x1</th>\n",
       "      <th>x2</th>\n",
       "      <th>x3</th>\n",
       "      <th>x4</th>\n",
       "      <th>x5</th>\n",
       "      <th>x6</th>\n",
       "      <th>x7</th>\n",
       "    </tr>\n",
       "  </thead>\n",
       "  <tbody>\n",
       "    <tr>\n",
       "      <th>0</th>\n",
       "      <td>-1.867913</td>\n",
       "      <td>-1.433816</td>\n",
       "      <td>0.275502</td>\n",
       "      <td>-2.366622</td>\n",
       "      <td>1.125262</td>\n",
       "      <td>1.074012</td>\n",
       "      <td>0.016971</td>\n",
       "    </tr>\n",
       "    <tr>\n",
       "      <th>1</th>\n",
       "      <td>-1.175679</td>\n",
       "      <td>0.680621</td>\n",
       "      <td>2.186182</td>\n",
       "      <td>-0.039128</td>\n",
       "      <td>-0.452769</td>\n",
       "      <td>1.250471</td>\n",
       "      <td>0.009887</td>\n",
       "    </tr>\n",
       "    <tr>\n",
       "      <th>2</th>\n",
       "      <td>1.112509</td>\n",
       "      <td>-0.364019</td>\n",
       "      <td>0.364768</td>\n",
       "      <td>-0.173030</td>\n",
       "      <td>-0.262987</td>\n",
       "      <td>-0.056980</td>\n",
       "      <td>1.064893</td>\n",
       "    </tr>\n",
       "    <tr>\n",
       "      <th>3</th>\n",
       "      <td>-0.769247</td>\n",
       "      <td>0.543090</td>\n",
       "      <td>0.405199</td>\n",
       "      <td>-1.942138</td>\n",
       "      <td>-0.174536</td>\n",
       "      <td>-0.042914</td>\n",
       "      <td>-1.430231</td>\n",
       "    </tr>\n",
       "    <tr>\n",
       "      <th>4</th>\n",
       "      <td>2.309512</td>\n",
       "      <td>0.420265</td>\n",
       "      <td>0.654373</td>\n",
       "      <td>0.182173</td>\n",
       "      <td>0.996858</td>\n",
       "      <td>0.128028</td>\n",
       "      <td>0.848242</td>\n",
       "    </tr>\n",
       "  </tbody>\n",
       "</table>\n",
       "</div>"
      ],
      "text/plain": [
       "         x1        x2        x3        x4        x5        x6        x7\n",
       "0 -1.867913 -1.433816  0.275502 -2.366622  1.125262  1.074012  0.016971\n",
       "1 -1.175679  0.680621  2.186182 -0.039128 -0.452769  1.250471  0.009887\n",
       "2  1.112509 -0.364019  0.364768 -0.173030 -0.262987 -0.056980  1.064893\n",
       "3 -0.769247  0.543090  0.405199 -1.942138 -0.174536 -0.042914 -1.430231\n",
       "4  2.309512  0.420265  0.654373  0.182173  0.996858  0.128028  0.848242"
      ]
     },
     "execution_count": 162,
     "metadata": {},
     "output_type": "execute_result"
    }
   ],
   "source": [
    "x = pd.read_csv('4_x.csv')\n",
    "x.columns = [\"x1\", \"x2\", \"x3\", \"x4\",\"x5\",\"x6\",\"x7\"]  # adding a row\n",
    "x.head()"
   ]
  },
  {
   "cell_type": "code",
   "execution_count": 163,
   "id": "e5492c35",
   "metadata": {},
   "outputs": [
    {
     "data": {
      "text/html": [
       "<div>\n",
       "<style scoped>\n",
       "    .dataframe tbody tr th:only-of-type {\n",
       "        vertical-align: middle;\n",
       "    }\n",
       "\n",
       "    .dataframe tbody tr th {\n",
       "        vertical-align: top;\n",
       "    }\n",
       "\n",
       "    .dataframe thead th {\n",
       "        text-align: right;\n",
       "    }\n",
       "</style>\n",
       "<table border=\"1\" class=\"dataframe\">\n",
       "  <thead>\n",
       "    <tr style=\"text-align: right;\">\n",
       "      <th></th>\n",
       "      <th>y1</th>\n",
       "    </tr>\n",
       "  </thead>\n",
       "  <tbody>\n",
       "    <tr>\n",
       "      <th>0</th>\n",
       "      <td>-176.891099</td>\n",
       "    </tr>\n",
       "    <tr>\n",
       "      <th>1</th>\n",
       "      <td>88.285473</td>\n",
       "    </tr>\n",
       "    <tr>\n",
       "      <th>2</th>\n",
       "      <td>66.530021</td>\n",
       "    </tr>\n",
       "    <tr>\n",
       "      <th>3</th>\n",
       "      <td>-165.442003</td>\n",
       "    </tr>\n",
       "    <tr>\n",
       "      <th>4</th>\n",
       "      <td>112.356082</td>\n",
       "    </tr>\n",
       "  </tbody>\n",
       "</table>\n",
       "</div>"
      ],
      "text/plain": [
       "           y1\n",
       "0 -176.891099\n",
       "1   88.285473\n",
       "2   66.530021\n",
       "3 -165.442003\n",
       "4  112.356082"
      ]
     },
     "execution_count": 163,
     "metadata": {},
     "output_type": "execute_result"
    }
   ],
   "source": [
    "y = pd.read_csv('4_y.csv')\n",
    "y.columns = [\"y1\"]  # adding a row\n",
    "y.head()"
   ]
  },
  {
   "cell_type": "code",
   "execution_count": 138,
   "id": "f87ce25d",
   "metadata": {},
   "outputs": [],
   "source": [
    "#Создаем пустую модель:\n",
    "\n",
    "reg = linear_model.LinearRegression()"
   ]
  },
  {
   "cell_type": "code",
   "execution_count": 139,
   "id": "c23fdd76",
   "metadata": {},
   "outputs": [
    {
     "data": {
      "text/plain": [
       "LinearRegression()"
      ]
     },
     "execution_count": 139,
     "metadata": {},
     "output_type": "execute_result"
    }
   ],
   "source": [
    "#Обучение машины с помощью метода fit(X, Y) - расчет параметров для указанных данных:\n",
    "\n",
    "reg.fit(X, Y)"
   ]
  },
  {
   "cell_type": "code",
   "execution_count": 140,
   "id": "ccf8522a",
   "metadata": {},
   "outputs": [
    {
     "data": {
      "text/plain": [
       "array([[-0.50056953, 51.94068383, 25.4517986 , 41.2840065 ,  0.69826899,\n",
       "        -1.2142031 , 82.65143425]])"
      ]
     },
     "execution_count": 140,
     "metadata": {},
     "output_type": "execute_result"
    }
   ],
   "source": [
    "# Получаем коэффициенты bn:\n",
    "\n",
    "reg.coef_"
   ]
  },
  {
   "cell_type": "code",
   "execution_count": 141,
   "id": "dd61139b",
   "metadata": {},
   "outputs": [
    {
     "ename": "ValueError",
     "evalue": "matmul: Input operand 1 has a mismatch in its core dimension 0, with gufunc signature (n?,k),(k,m?)->(n?,m?) (size 7 is different from 2)",
     "output_type": "error",
     "traceback": [
      "\u001b[1;31m---------------------------------------------------------------------------\u001b[0m",
      "\u001b[1;31mValueError\u001b[0m                                Traceback (most recent call last)",
      "\u001b[1;32m<ipython-input-141-5094491f8fff>\u001b[0m in \u001b[0;36m<module>\u001b[1;34m\u001b[0m\n\u001b[0;32m      1\u001b[0m \u001b[1;31m#Метод predict() рассчитывает теоретические значения признака\u001b[0m\u001b[1;33m\u001b[0m\u001b[1;33m\u001b[0m\u001b[1;33m\u001b[0m\u001b[0m\n\u001b[0;32m      2\u001b[0m \u001b[1;33m\u001b[0m\u001b[0m\n\u001b[1;32m----> 3\u001b[1;33m \u001b[0mreg\u001b[0m\u001b[1;33m.\u001b[0m\u001b[0mpredict\u001b[0m\u001b[1;33m(\u001b[0m\u001b[1;33m[\u001b[0m\u001b[1;33m[\u001b[0m\u001b[0mx\u001b[0m\u001b[1;33m[\u001b[0m\u001b[1;34m'x1'\u001b[0m\u001b[1;33m]\u001b[0m\u001b[1;33m[\u001b[0m\u001b[1;36m1\u001b[0m\u001b[1;33m]\u001b[0m\u001b[1;33m,\u001b[0m \u001b[0mx\u001b[0m\u001b[1;33m[\u001b[0m\u001b[1;34m'x2'\u001b[0m\u001b[1;33m]\u001b[0m\u001b[1;33m[\u001b[0m\u001b[1;36m3\u001b[0m\u001b[1;33m]\u001b[0m\u001b[1;33m]\u001b[0m\u001b[1;33m]\u001b[0m\u001b[1;33m)\u001b[0m\u001b[1;33m\u001b[0m\u001b[1;33m\u001b[0m\u001b[0m\n\u001b[0m",
      "\u001b[1;32mD:\\anaconda\\lib\\site-packages\\sklearn\\linear_model\\_base.py\u001b[0m in \u001b[0;36mpredict\u001b[1;34m(self, X)\u001b[0m\n\u001b[0;32m    236\u001b[0m             \u001b[0mReturns\u001b[0m \u001b[0mpredicted\u001b[0m \u001b[0mvalues\u001b[0m\u001b[1;33m.\u001b[0m\u001b[1;33m\u001b[0m\u001b[1;33m\u001b[0m\u001b[0m\n\u001b[0;32m    237\u001b[0m         \"\"\"\n\u001b[1;32m--> 238\u001b[1;33m         \u001b[1;32mreturn\u001b[0m \u001b[0mself\u001b[0m\u001b[1;33m.\u001b[0m\u001b[0m_decision_function\u001b[0m\u001b[1;33m(\u001b[0m\u001b[0mX\u001b[0m\u001b[1;33m)\u001b[0m\u001b[1;33m\u001b[0m\u001b[1;33m\u001b[0m\u001b[0m\n\u001b[0m\u001b[0;32m    239\u001b[0m \u001b[1;33m\u001b[0m\u001b[0m\n\u001b[0;32m    240\u001b[0m     \u001b[0m_preprocess_data\u001b[0m \u001b[1;33m=\u001b[0m \u001b[0mstaticmethod\u001b[0m\u001b[1;33m(\u001b[0m\u001b[0m_preprocess_data\u001b[0m\u001b[1;33m)\u001b[0m\u001b[1;33m\u001b[0m\u001b[1;33m\u001b[0m\u001b[0m\n",
      "\u001b[1;32mD:\\anaconda\\lib\\site-packages\\sklearn\\linear_model\\_base.py\u001b[0m in \u001b[0;36m_decision_function\u001b[1;34m(self, X)\u001b[0m\n\u001b[0;32m    219\u001b[0m \u001b[1;33m\u001b[0m\u001b[0m\n\u001b[0;32m    220\u001b[0m         \u001b[0mX\u001b[0m \u001b[1;33m=\u001b[0m \u001b[0mcheck_array\u001b[0m\u001b[1;33m(\u001b[0m\u001b[0mX\u001b[0m\u001b[1;33m,\u001b[0m \u001b[0maccept_sparse\u001b[0m\u001b[1;33m=\u001b[0m\u001b[1;33m[\u001b[0m\u001b[1;34m'csr'\u001b[0m\u001b[1;33m,\u001b[0m \u001b[1;34m'csc'\u001b[0m\u001b[1;33m,\u001b[0m \u001b[1;34m'coo'\u001b[0m\u001b[1;33m]\u001b[0m\u001b[1;33m)\u001b[0m\u001b[1;33m\u001b[0m\u001b[1;33m\u001b[0m\u001b[0m\n\u001b[1;32m--> 221\u001b[1;33m         return safe_sparse_dot(X, self.coef_.T,\n\u001b[0m\u001b[0;32m    222\u001b[0m                                dense_output=True) + self.intercept_\n\u001b[0;32m    223\u001b[0m \u001b[1;33m\u001b[0m\u001b[0m\n",
      "\u001b[1;32mD:\\anaconda\\lib\\site-packages\\sklearn\\utils\\validation.py\u001b[0m in \u001b[0;36minner_f\u001b[1;34m(*args, **kwargs)\u001b[0m\n\u001b[0;32m     61\u001b[0m             \u001b[0mextra_args\u001b[0m \u001b[1;33m=\u001b[0m \u001b[0mlen\u001b[0m\u001b[1;33m(\u001b[0m\u001b[0margs\u001b[0m\u001b[1;33m)\u001b[0m \u001b[1;33m-\u001b[0m \u001b[0mlen\u001b[0m\u001b[1;33m(\u001b[0m\u001b[0mall_args\u001b[0m\u001b[1;33m)\u001b[0m\u001b[1;33m\u001b[0m\u001b[1;33m\u001b[0m\u001b[0m\n\u001b[0;32m     62\u001b[0m             \u001b[1;32mif\u001b[0m \u001b[0mextra_args\u001b[0m \u001b[1;33m<=\u001b[0m \u001b[1;36m0\u001b[0m\u001b[1;33m:\u001b[0m\u001b[1;33m\u001b[0m\u001b[1;33m\u001b[0m\u001b[0m\n\u001b[1;32m---> 63\u001b[1;33m                 \u001b[1;32mreturn\u001b[0m \u001b[0mf\u001b[0m\u001b[1;33m(\u001b[0m\u001b[1;33m*\u001b[0m\u001b[0margs\u001b[0m\u001b[1;33m,\u001b[0m \u001b[1;33m**\u001b[0m\u001b[0mkwargs\u001b[0m\u001b[1;33m)\u001b[0m\u001b[1;33m\u001b[0m\u001b[1;33m\u001b[0m\u001b[0m\n\u001b[0m\u001b[0;32m     64\u001b[0m \u001b[1;33m\u001b[0m\u001b[0m\n\u001b[0;32m     65\u001b[0m             \u001b[1;31m# extra_args > 0\u001b[0m\u001b[1;33m\u001b[0m\u001b[1;33m\u001b[0m\u001b[1;33m\u001b[0m\u001b[0m\n",
      "\u001b[1;32mD:\\anaconda\\lib\\site-packages\\sklearn\\utils\\extmath.py\u001b[0m in \u001b[0;36msafe_sparse_dot\u001b[1;34m(a, b, dense_output)\u001b[0m\n\u001b[0;32m    150\u001b[0m             \u001b[0mret\u001b[0m \u001b[1;33m=\u001b[0m \u001b[0mnp\u001b[0m\u001b[1;33m.\u001b[0m\u001b[0mdot\u001b[0m\u001b[1;33m(\u001b[0m\u001b[0ma\u001b[0m\u001b[1;33m,\u001b[0m \u001b[0mb\u001b[0m\u001b[1;33m)\u001b[0m\u001b[1;33m\u001b[0m\u001b[1;33m\u001b[0m\u001b[0m\n\u001b[0;32m    151\u001b[0m     \u001b[1;32melse\u001b[0m\u001b[1;33m:\u001b[0m\u001b[1;33m\u001b[0m\u001b[1;33m\u001b[0m\u001b[0m\n\u001b[1;32m--> 152\u001b[1;33m         \u001b[0mret\u001b[0m \u001b[1;33m=\u001b[0m \u001b[0ma\u001b[0m \u001b[1;33m@\u001b[0m \u001b[0mb\u001b[0m\u001b[1;33m\u001b[0m\u001b[1;33m\u001b[0m\u001b[0m\n\u001b[0m\u001b[0;32m    153\u001b[0m \u001b[1;33m\u001b[0m\u001b[0m\n\u001b[0;32m    154\u001b[0m     if (sparse.issparse(a) and sparse.issparse(b)\n",
      "\u001b[1;31mValueError\u001b[0m: matmul: Input operand 1 has a mismatch in its core dimension 0, with gufunc signature (n?,k),(k,m?)->(n?,m?) (size 7 is different from 2)"
     ]
    }
   ],
   "source": [
    "#Метод predict() рассчитывает теоретические значения признака\n",
    "\n",
    "reg.predict([[x['x1'][1], x['x2'][3]]])"
   ]
  },
  {
   "cell_type": "code",
   "execution_count": 142,
   "id": "2367afcf",
   "metadata": {},
   "outputs": [
    {
     "data": {
      "text/plain": [
       "0.9923302631030653"
      ]
     },
     "execution_count": 142,
     "metadata": {},
     "output_type": "execute_result"
    }
   ],
   "source": [
    "#Методом score можно узнать значение метрики эффективности полученной модели:\n",
    "\n",
    "reg.score(X, Y)"
   ]
  },
  {
   "cell_type": "markdown",
   "id": "1568743d",
   "metadata": {},
   "source": [
    "### Контрольные вопросы\n",
    "- Чем множественная регрессия отличается от парной?\n",
    "- Какую функцию ошибки использует модель линейной регрессии?\n",
    "- Какие метрики эффективности можно применять для оценки регрессионных моделей?\n",
    "- Какие еще регрессоры есть в библиотеке sklearn?\n",
    "\n",
    "\n",
    "\n"
   ]
  },
  {
   "cell_type": "code",
   "execution_count": 202,
   "id": "9671a5cc",
   "metadata": {},
   "outputs": [
    {
     "data": {
      "image/png": "[encoded data removed]",
      "text/plain": [
       "<Figure size 720x360 with 1 Axes>"
      ]
     },
     "metadata": {
      "needs_background": "light"
     },
     "output_type": "display_data"
    }
   ],
   "source": [
    "# importing libraries\n",
    "import numpy as np\n",
    "import matplotlib.pyplot as plt\n",
    "import pandas as pd\n",
    "\n",
    "# for calculating mean_squared error\n",
    "from sklearn.metrics import mean_squared_error\n",
    "\n",
    "# creating a dataset with curvilinear relationship\n",
    "x=10*np.random.normal(0,1,70)\n",
    "y=10*(-x**2)+np.random.normal(-100,100,70)\n",
    "\n",
    "# plotting dataset\n",
    "plt.figure(figsize=(10,5))\n",
    "plt.scatter(x,y,s=15)\n",
    "plt.xlabel('Predictor',fontsize=16)\n",
    "plt.ylabel('Target',fontsize=16)\n",
    "plt.show()"
   ]
  },
  {
   "cell_type": "code",
   "execution_count": 204,
   "id": "7889c27a",
   "metadata": {},
   "outputs": [
    {
     "data": {
      "text/plain": [
       "LinearRegression()"
      ]
     },
     "execution_count": 204,
     "metadata": {},
     "output_type": "execute_result"
    }
   ],
   "source": [
    "# Importing Linear Regression\n",
    "from sklearn.linear_model import LinearRegression\n",
    "\n",
    "# Training Model\n",
    "lm=LinearRegression()\n",
    "lm.fit(x.reshape(-1,1),y.reshape(-1,1))"
   ]
  },
  {
   "cell_type": "code",
   "execution_count": 205,
   "id": "4a093226",
   "metadata": {},
   "outputs": [
    {
     "data": {
      "image/png": "[encoded data removed]",
      "text/plain": [
       "<Figure size 720x360 with 1 Axes>"
      ]
     },
     "metadata": {
      "needs_background": "light"
     },
     "output_type": "display_data"
    }
   ],
   "source": [
    "y_pred=lm.predict(x.reshape(-1,1))\n",
    "\n",
    "# plotting predictions\n",
    "plt.figure(figsize=(10,5))\n",
    "plt.scatter(x,y,s=15)\n",
    "plt.plot(x,y_pred,color='r')\n",
    "plt.xlabel('Predictor',fontsize=16)\n",
    "plt.ylabel('Target',fontsize=16)\n",
    "plt.show()"
   ]
  },
  {
   "cell_type": "code",
   "execution_count": 206,
   "id": "c743cac5",
   "metadata": {},
   "outputs": [
    {
     "name": "stdout",
     "output_type": "stream",
     "text": [
      "RMSE for Linear Regression=> 804.6345622123675\n"
     ]
    }
   ],
   "source": [
    "print('RMSE for Linear Regression=>',np.sqrt(mean_squared_error(y,y_pred)))"
   ]
  },
  {
   "cell_type": "code",
   "execution_count": 207,
   "id": "485d20b4",
   "metadata": {},
   "outputs": [
    {
     "name": "stdout",
     "output_type": "stream",
     "text": [
      "<class 'numpy.ndarray'>\n"
     ]
    }
   ],
   "source": [
    "# importing libraries for polynomial transform\n",
    "from sklearn.preprocessing import PolynomialFeatures\n",
    "# for creating pipeline\n",
    "from sklearn.pipeline import Pipeline\n",
    "# creating pipeline and fitting it on data\n",
    "Input=[('polynomial',PolynomialFeatures(degree=2)),('modal',LinearRegression())]\n",
    "pipe=Pipeline(Input)\n",
    "pipe.fit(x.reshape(-1,1),y.reshape(-1,1))\n",
    "print(type(x))"
   ]
  },
  {
   "cell_type": "code",
   "execution_count": 208,
   "id": "86c35e8e",
   "metadata": {},
   "outputs": [
    {
     "data": {
      "image/png": "[encoded data removed]",
      "text/plain": [
       "<Figure size 720x432 with 1 Axes>"
      ]
     },
     "metadata": {
      "needs_background": "light"
     },
     "output_type": "display_data"
    }
   ],
   "source": [
    "poly_pred=pipe.predict(x.reshape(-1,1))\n",
    "#sorting predicted values with respect to predictor\n",
    "sorted_zip = sorted(zip(x,poly_pred))\n",
    "x_poly, poly_pred = zip(*sorted_zip)\n",
    "#plotting predictions\n",
    "plt.figure(figsize=(10,6))\n",
    "plt.scatter(x,y,s=15)\n",
    "plt.plot(x,y_pred,color='r',label='Linear Regression')\n",
    "plt.plot(x_poly,poly_pred,color='g',label='Polynomial Regression')\n",
    "\n",
    "plt.xlabel('Predictor',fontsize=16)\n",
    "plt.ylabel('Target',fontsize=16)\n",
    "plt.legend()\n",
    "plt.show()"
   ]
  },
  {
   "cell_type": "code",
   "execution_count": 209,
   "id": "4ad5ebc6",
   "metadata": {},
   "outputs": [
    {
     "name": "stdout",
     "output_type": "stream",
     "text": [
      "RMSE for Polynomial Regression=> 1075.3644886802392\n"
     ]
    }
   ],
   "source": [
    "print('RMSE for Polynomial Regression=>',np.sqrt(mean_squared_error(y,poly_pred)))"
   ]
  },
  {
   "cell_type": "markdown",
   "id": "350c1d2e",
   "metadata": {},
   "source": [
    "### Дополнительные задания\n",
    "Для целевой переменной и каждого из признаков постройте полиномиальную регрессию второго, третьего и десятого порядков. Сделайте вывод о значимости регрессии."
   ]
  },
  {
   "cell_type": "code",
   "execution_count": 217,
   "id": "994ebf01",
   "metadata": {},
   "outputs": [],
   "source": [
    "x = pd.read_csv('4_x.csv')\n",
    "x.columns = [\"x1\", \"x2\", \"x3\", \"x4\",\"x5\",\"x6\",\"x7\"]  # adding a row\n",
    "y = pd.read_csv('4_y.csv')\n",
    "y.columns = [\"y1\"]  # adding a row\n",
    "\n",
    "# x1 = x['x1'].tolist()\n",
    "x1 = np.array(x['x1'])\n",
    "x2 = np.array(x['x2'])\n",
    "x3 = np.array(x['x3'])\n",
    "x4 = np.array(x['x4'])\n",
    "x5 = np.array(x['x5'])\n",
    "x6 = np.array(x['x6'])\n",
    "x7 = np.array(x['x7'])\n",
    "y1 = np.array(y)"
   ]
  },
  {
   "cell_type": "code",
   "execution_count": 224,
   "id": "57b014e9",
   "metadata": {},
   "outputs": [],
   "source": [
    "def plotting_predictions(x_predicted, y_predicted, degree):\n",
    "    \"\"\"\n",
    "    \n",
    "    \"\"\"\n",
    "    plt.figure(figsize=(10,5))\n",
    "    plt.scatter(x_predicted,y_predicted,s=15)\n",
    "\n",
    "    Input=[('polynomial',PolynomialFeatures(degree=degree)),('modal',LinearRegression())]\n",
    "    pipe=Pipeline(Input)\n",
    "    pipe.fit(x_predicted.reshape(-1,1),y_predicted.reshape(-1,1))\n",
    "    \n",
    "    poly_pred=pipe.predict(x_predicted.reshape(-1,1))\n",
    "    sorted_zip = sorted(zip(x_predicted,poly_pred))\n",
    "    x_poly, poly_pred = zip(*sorted_zip)\n",
    "\n",
    "    lm=LinearRegression()\n",
    "    lm.fit(x_predicted.reshape(-1,1),y_predicted.reshape(-1,1))\n",
    "    y_pred=lm.predict(x_predicted.reshape(-1,1))\n",
    "\n",
    "    plt.plot(x_predicted,y_pred,color='r',label='Linear Regression')\n",
    "    plt.plot(x_poly,poly_pred,color='g',label='Polynomial Regression')\n",
    "\n",
    "    plt.xlabel('Predictor',fontsize=16)\n",
    "    plt.ylabel('Target',fontsize=16)\n",
    "    plt.legend()\n",
    "    plt.show()\n",
    "    \n",
    "    print('RMSE for Polynomial Regression',np.sqrt(mean_squared_error(y_predicted,poly_pred)))\n",
    "    print('RMSE for Linear Regression',np.sqrt(mean_squared_error(y_predicted,y_pred)))\n",
    "    \n",
    "#     print('MSE train: {:.3f}, test: {:.3f}'.format(\n",
    "#         mean_squared_error(y_train_scaled, y_train_pred),\n",
    "#         mean_squared_error(y_test_scaled, y_test_pred)))\n",
    "#     print('R^2 train: {:.3f}, test: {:.3f}'.format(\n",
    "#         r2_score(y_train_scaled, y_train_pred),\n",
    "#         r2_score(y_test_scaled, y_test_pred)))"
   ]
  },
  {
   "cell_type": "code",
   "execution_count": 225,
   "id": "85f6fa88",
   "metadata": {},
   "outputs": [
    {
     "data": {
      "image/png": "[encoded data removed]",
      "text/plain": [
       "<Figure size 720x360 with 1 Axes>"
      ]
     },
     "metadata": {
      "needs_background": "light"
     },
     "output_type": "display_data"
    },
    {
     "name": "stdout",
     "output_type": "stream",
     "text": [
      "RMSE for Polynomial Regression 118.30184211948226\n",
      "RMSE for Linear Regression 113.83247076448609\n"
     ]
    }
   ],
   "source": [
    "plotting_predictions(x1, y1, 10)"
   ]
  },
  {
   "cell_type": "markdown",
   "id": "9a6c6d4e",
   "metadata": {},
   "source": [
    "Постройте сводную таблицу показателей точности всех построенных моделей по тестовой и обучающей выборке. Сделайте вывод, какие модели переобученнные, какие - недообученные."
   ]
  },
  {
   "cell_type": "code",
   "execution_count": 240,
   "id": "7e17a354",
   "metadata": {},
   "outputs": [],
   "source": [
    "from sklearn.model_selection import train_test_split\n",
    "from sklearn.metrics import mean_squared_error, r2_score\n",
    "\n",
    "x1_train, x1_test, y_train, y_test = train_test_split(x1, y1, train_size=0.67, random_state=42)\n",
    "x2_train, x2_test = train_test_split(x2, train_size=0.67, random_state=42)\n",
    "x3_train, x3_test = train_test_split(x3, train_size=0.67, random_state=42)\n",
    "x4_train, x4_test = train_test_split(x4, train_size=0.67, random_state=42)\n",
    "x5_train, x5_test = train_test_split(x5, train_size=0.67, random_state=42)\n",
    "x6_train, x6_test = train_test_split(x6, train_size=0.67, random_state=42)\n",
    "x7_train, x7_test = train_test_split(x7, train_size=0.67, random_state=42)"
   ]
  },
  {
   "cell_type": "code",
   "execution_count": 259,
   "id": "516780f5",
   "metadata": {},
   "outputs": [],
   "source": [
    "def calculation_predictions(x_predicted, y_predicted, degree, flag):\n",
    "    \"\"\"\n",
    "    \n",
    "    \"\"\"\n",
    "\n",
    "    Input=[('polynomial',PolynomialFeatures(degree=degree)),('modal',LinearRegression())]\n",
    "    pipe=Pipeline(Input)\n",
    "    pipe.fit(x_predicted.reshape(-1,1),y_predicted.reshape(-1,1))\n",
    "    \n",
    "    poly_pred=pipe.predict(x_predicted.reshape(-1,1))\n",
    "    sorted_zip = sorted(zip(x_predicted,poly_pred))\n",
    "    x_poly, poly_pred = zip(*sorted_zip)\n",
    "    \n",
    "    return r2_score(y_predicted,poly_pred) if flag==True else mean_squared_error(y_predicted,poly_pred)"
   ]
  },
  {
   "cell_type": "code",
   "execution_count": 248,
   "id": "2fd8f268",
   "metadata": {},
   "outputs": [
    {
     "data": {
      "text/plain": [
       "-0.002587021378403831"
      ]
     },
     "execution_count": 248,
     "metadata": {},
     "output_type": "execute_result"
    }
   ],
   "source": [
    "calculation_predictions(x1, y1, 2)"
   ]
  },
  {
   "cell_type": "code",
   "execution_count": 260,
   "id": "f9f3ff69",
   "metadata": {},
   "outputs": [
    {
     "data": {
      "text/html": [
       "<div>\n",
       "<style scoped>\n",
       "    .dataframe tbody tr th:only-of-type {\n",
       "        vertical-align: middle;\n",
       "    }\n",
       "\n",
       "    .dataframe tbody tr th {\n",
       "        vertical-align: top;\n",
       "    }\n",
       "\n",
       "    .dataframe thead th {\n",
       "        text-align: right;\n",
       "    }\n",
       "</style>\n",
       "<table border=\"1\" class=\"dataframe\">\n",
       "  <thead>\n",
       "    <tr style=\"text-align: right;\">\n",
       "      <th></th>\n",
       "      <th>2 degree</th>\n",
       "      <th>3 degree</th>\n",
       "      <th>10 degree</th>\n",
       "    </tr>\n",
       "  </thead>\n",
       "  <tbody>\n",
       "    <tr>\n",
       "      <th>train</th>\n",
       "      <td>-0.002327</td>\n",
       "      <td>-0.037765</td>\n",
       "      <td>-0.149054</td>\n",
       "    </tr>\n",
       "    <tr>\n",
       "      <th>test</th>\n",
       "      <td>-0.040736</td>\n",
       "      <td>-0.031846</td>\n",
       "      <td>0.047934</td>\n",
       "    </tr>\n",
       "  </tbody>\n",
       "</table>\n",
       "</div>"
      ],
      "text/plain": [
       "       2 degree  3 degree  10 degree\n",
       "train -0.002327 -0.037765  -0.149054\n",
       "test  -0.040736 -0.031846   0.047934"
      ]
     },
     "execution_count": 260,
     "metadata": {},
     "output_type": "execute_result"
    }
   ],
   "source": [
    "df = pd.DataFrame([[calculation_predictions(x1_train, y_train, 2, True), calculation_predictions(x1_train, y_train, 3, True), calculation_predictions(x1_train, y_train, 10, True)], \n",
    "                   [calculation_predictions(x1_test, y_test, 2, True), calculation_predictions(x1_test, y_test, 3, True), calculation_predictions(x1_test, y_test, 10, True)]], \n",
    "                   columns = ['2 degree', '3 degree', '10 degree'], index=['train', 'test'])\n",
    "df"
   ]
  },
  {
   "cell_type": "code",
   "execution_count": 261,
   "id": "e5771365",
   "metadata": {},
   "outputs": [
    {
     "data": {
      "text/plain": [
       "<AxesSubplot:>"
      ]
     },
     "execution_count": 261,
     "metadata": {},
     "output_type": "execute_result"
    },
    {
     "data": {
      "image/png": "[encoded data removed]",
      "text/plain": [
       "<Figure size 432x288 with 2 Axes>"
      ]
     },
     "metadata": {
      "needs_background": "light"
     },
     "output_type": "display_data"
    }
   ],
   "source": [
    "import seaborn as sns\n",
    "\n",
    "sns.heatmap(df, annot = True, vmin=-1, vmax=1, center= 0)"
   ]
  },
  {
   "cell_type": "markdown",
   "id": "4f03d9fd",
   "metadata": {},
   "source": [
    "- Лучший возможный балл-1.0,и он может быть отрицательным (потому что модель может быть произвольно хуже).Константная модель,которая всегда предсказывает ожидаемое значение y,без учета входных характеристик,получит оценку R^2 в 0.0."
   ]
  },
  {
   "cell_type": "markdown",
   "id": "50e36237",
   "metadata": {},
   "source": [
    "- Коэффициент детерминации R2, или R-квадрат, варьируется в интервале между 0 и 1 и обозначает объяснительную мощность линейной регрессионной модели. Он вычисляет объясненную долю изменчивости в зависимой переменной.\n",
    "\n",
    "- Обычно, чем ближе R2 к 1, тем лучше линия регрессии подогнана к точкам данных и больше изменчивости в Y объясняется независимой переменной X."
   ]
  },
  {
   "cell_type": "markdown",
   "id": "2522559d",
   "metadata": {},
   "source": [
    "Используйте другие метрики качества регрессионной модели в дополнение к коэффициенту детерминации.\n"
   ]
  },
  {
   "cell_type": "code",
   "execution_count": 262,
   "id": "33079dcf",
   "metadata": {},
   "outputs": [
    {
     "data": {
      "text/html": [
       "<div>\n",
       "<style scoped>\n",
       "    .dataframe tbody tr th:only-of-type {\n",
       "        vertical-align: middle;\n",
       "    }\n",
       "\n",
       "    .dataframe tbody tr th {\n",
       "        vertical-align: top;\n",
       "    }\n",
       "\n",
       "    .dataframe thead th {\n",
       "        text-align: right;\n",
       "    }\n",
       "</style>\n",
       "<table border=\"1\" class=\"dataframe\">\n",
       "  <thead>\n",
       "    <tr style=\"text-align: right;\">\n",
       "      <th></th>\n",
       "      <th>2 degree</th>\n",
       "      <th>3 degree</th>\n",
       "      <th>10 degree</th>\n",
       "    </tr>\n",
       "  </thead>\n",
       "  <tbody>\n",
       "    <tr>\n",
       "      <th>train</th>\n",
       "      <td>13405.969786</td>\n",
       "      <td>13879.945524</td>\n",
       "      <td>15368.422087</td>\n",
       "    </tr>\n",
       "    <tr>\n",
       "      <th>test</th>\n",
       "      <td>12649.363342</td>\n",
       "      <td>12541.306990</td>\n",
       "      <td>11571.646390</td>\n",
       "    </tr>\n",
       "  </tbody>\n",
       "</table>\n",
       "</div>"
      ],
      "text/plain": [
       "           2 degree      3 degree     10 degree\n",
       "train  13405.969786  13879.945524  15368.422087\n",
       "test   12649.363342  12541.306990  11571.646390"
      ]
     },
     "execution_count": 262,
     "metadata": {},
     "output_type": "execute_result"
    }
   ],
   "source": [
    "df = pd.DataFrame([[calculation_predictions(x1_train, y_train, 2, False), calculation_predictions(x1_train, y_train, 3, False), calculation_predictions(x1_train, y_train, 10, False)], \n",
    "                   [calculation_predictions(x1_test, y_test, 2, False), calculation_predictions(x1_test, y_test, 3, False), calculation_predictions(x1_test, y_test, 10, False)]], \n",
    "                   columns = ['2 degree', '3 degree', '10 degree'], index=['train', 'test'])\n",
    "df"
   ]
  },
  {
   "cell_type": "code",
   "execution_count": 264,
   "id": "559a9df9",
   "metadata": {},
   "outputs": [
    {
     "data": {
      "text/plain": [
       "<AxesSubplot:>"
      ]
     },
     "execution_count": 264,
     "metadata": {},
     "output_type": "execute_result"
    },
    {
     "data": {
      "image/png": "[encoded data removed]",
      "text/plain": [
       "<Figure size 432x288 with 2 Axes>"
      ]
     },
     "metadata": {
      "needs_background": "light"
     },
     "output_type": "display_data"
    }
   ],
   "source": [
    "sns.heatmap(df, annot = True, vmin= 0)"
   ]
  },
  {
   "cell_type": "markdown",
   "id": "19f3ca45",
   "metadata": {},
   "source": [
    "(*) Замерьте время обучения на разных объемах данных и количестве признаков. Сделайте вывод о зависимости скорости обучения от объема обучающей выборки."
   ]
  },
  {
   "cell_type": "code",
   "execution_count": 266,
   "id": "c44b91c4",
   "metadata": {},
   "outputs": [],
   "source": [
    "import time\n",
    "\n",
    "def amount_of_time(x_predicted, y_predicted, degree):\n",
    "    \"\"\"\n",
    "    \n",
    "    \"\"\"\n",
    "    start = time.time() # точка отсчета времени\n",
    "    \n",
    "    Input=[('polynomial',PolynomialFeatures(degree=degree)),('modal',LinearRegression())]\n",
    "    pipe=Pipeline(Input)\n",
    "    pipe.fit(x_predicted.reshape(-1,1),y_predicted.reshape(-1,1))\n",
    "    \n",
    "    poly_pred=pipe.predict(x_predicted.reshape(-1,1))\n",
    "    sorted_zip = sorted(zip(x_predicted,poly_pred))\n",
    "    x_poly, poly_pred = zip(*sorted_zip)\n",
    "    \n",
    "    end = time.time() - start # собственно время работы программы\n",
    "    \n",
    "    return end # вывод времени"
   ]
  },
  {
   "cell_type": "code",
   "execution_count": 267,
   "id": "3fa6ed2e",
   "metadata": {},
   "outputs": [
    {
     "data": {
      "text/html": [
       "<div>\n",
       "<style scoped>\n",
       "    .dataframe tbody tr th:only-of-type {\n",
       "        vertical-align: middle;\n",
       "    }\n",
       "\n",
       "    .dataframe tbody tr th {\n",
       "        vertical-align: top;\n",
       "    }\n",
       "\n",
       "    .dataframe thead th {\n",
       "        text-align: right;\n",
       "    }\n",
       "</style>\n",
       "<table border=\"1\" class=\"dataframe\">\n",
       "  <thead>\n",
       "    <tr style=\"text-align: right;\">\n",
       "      <th></th>\n",
       "      <th>2 degree</th>\n",
       "      <th>3 degree</th>\n",
       "      <th>10 degree</th>\n",
       "    </tr>\n",
       "  </thead>\n",
       "  <tbody>\n",
       "    <tr>\n",
       "      <th>train</th>\n",
       "      <td>0.011767</td>\n",
       "      <td>0.008894</td>\n",
       "      <td>0.010030</td>\n",
       "    </tr>\n",
       "    <tr>\n",
       "      <th>test</th>\n",
       "      <td>0.006988</td>\n",
       "      <td>0.004297</td>\n",
       "      <td>0.012455</td>\n",
       "    </tr>\n",
       "  </tbody>\n",
       "</table>\n",
       "</div>"
      ],
      "text/plain": [
       "       2 degree  3 degree  10 degree\n",
       "train  0.011767  0.008894   0.010030\n",
       "test   0.006988  0.004297   0.012455"
      ]
     },
     "execution_count": 267,
     "metadata": {},
     "output_type": "execute_result"
    }
   ],
   "source": [
    "df = pd.DataFrame([[amount_of_time(x1_train, y_train, 2), amount_of_time(x1_train, y_train, 3), amount_of_time(x1_train, y_train, 10)], \n",
    "                   [amount_of_time(x1_test, y_test, 2), amount_of_time(x1_test, y_test, 3), amount_of_time(x1_test, y_test, 10)]], \n",
    "                   columns = ['2 degree', '3 degree', '10 degree'], index=['train', 'test'])\n",
    "df"
   ]
  },
  {
   "cell_type": "code",
   "execution_count": 268,
   "id": "62d8369a",
   "metadata": {},
   "outputs": [
    {
     "data": {
      "text/plain": [
       "<AxesSubplot:>"
      ]
     },
     "execution_count": 268,
     "metadata": {},
     "output_type": "execute_result"
    },
    {
     "data": {
      "image/png": "[encoded data removed]",
      "text/plain": [
       "<Figure size 432x288 with 2 Axes>"
      ]
     },
     "metadata": {
      "needs_background": "light"
     },
     "output_type": "display_data"
    }
   ],
   "source": [
    "sns.heatmap(df, annot = True, vmin= 0)"
   ]
  },
  {
   "cell_type": "markdown",
   "id": "d4a49a5a",
   "metadata": {},
   "source": [
    "- Тестовая выборка, объемом в 2 раза меньшим, чем обучающая, обучается также примерно в 2 раза быстрее. \n",
    "- по 3 признакам выборка почему то обучается быстрее, чем по 2. В 10-мерном признаковом простарнстве скорость соответственно убывает."
   ]
  },
  {
   "cell_type": "code",
   "execution_count": null,
   "id": "cd97d846",
   "metadata": {},
   "outputs": [],
   "source": []
  }
 ],
 "metadata": {
  "kernelspec": {
   "display_name": "Python 3",
   "language": "python",
   "name": "python3"
  },
  "language_info": {
   "codemirror_mode": {
    "name": "ipython",
    "version": 3
   },
   "file_extension": ".py",
   "mimetype": "text/x-python",
   "name": "python",
   "nbconvert_exporter": "python",
   "pygments_lexer": "ipython3",
   "version": "3.8.8"
  }
 },
 "nbformat": 4,
 "nbformat_minor": 5
}
