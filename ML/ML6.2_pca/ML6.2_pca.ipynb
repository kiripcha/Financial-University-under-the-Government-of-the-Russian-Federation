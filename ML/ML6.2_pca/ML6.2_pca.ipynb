{
 "cells": [
  {
   "cell_type": "markdown",
   "id": "ab777081",
   "metadata": {},
   "source": [
    "### Понижение размерности\n",
    "\n",
    "Автор - Т. Вильданов\n",
    "\n",
    "#### Цель работы\n",
    "\n",
    "Применить методы понижения размерности для решения задач машинного обучения.\n",
    "\n",
    "#### Задания для выполнения\n",
    "\n",
    "1. Загрузите прилагающийся датасет credit_data.\n",
    "2. Проверьте датасет на наличие текстовых атрибутов. Замените текстовые атрибуты на числовые без потери качества данных.\n",
    "3. Выведите информацию о количественных параметрах датасета;\n",
    "4. Разделите эти данные на тестовую и обучающую выборки;\n",
    "5. Обучите модель случайных лесов на обучающей выборке. Проверьте точность предсказаний.\n",
    "6. Оцените полученную модель с помощью метрик.\n",
    "7. Понизьте размерность данных с помощью метода главных компонент.\n",
    "8. Обучите заново модель случайных лесов и оцените ее эффективность с помощью метрик.\n",
    "9. Постройте график зависимости точности модели от размерности данных.\n",
    "10. Сделайте вывод о применимости модели.\n",
    "\n",
    "#### Методические указания\n",
    "\n",
    "Для начала работы нам потребуется импортировать необходимые библиотеки:\n",
    "\n",
    "```py\n",
    "%matplotlib inline\n",
    "import matplotlib.pyplot as plt\n",
    "import seaborn as sns; sns.set()\n",
    "import numpy as np\n",
    "import pandas as pd\n",
    "from sklearn.ensemble import RandomForestClassifier\n",
    "from sklearn import metrics\n",
    "```\n",
    "\n",
    "В первую очередь загрузим датасет, выведем количество пустых значений в каждом столбце:\n",
    "\n",
    "```py\n",
    "data = pd.read_csv(r'.../credit_data.csv',delimiter=',')\n",
    "print(data.isna().sum())\n",
    "```\n",
    "\n",
    "Удалим столбцы не несущие какой-либо полезной информации, а также вынесем метки строк в отдельный массив target:\n",
    "\n",
    "```py\n",
    "target = data['Risk']\n",
    "data = data.drop(['Risk','Unnamed: 0', 'Purpose'], axis=1)\n",
    "```\n",
    "\n",
    "Заменим текстовые категориальные признаки на числовые с помощью функции map. Пустые значения в столбцах заменим на 0.\n",
    "\n",
    "```py\n",
    "data['Saving accounts'] = data['Saving accounts'].map({\"little\":1,\"moderate\":2,\"quite rich\":3 ,\"rich\":4 });\n",
    "data['Checking account'] = data['Checking account'].map({\"little\":1,\"moderate\":2,\"rich\":3 });\n",
    "target = target.map({\"good\":1,\"bad\":0});\n",
    "data['Saving accounts'] = data['Saving accounts'].fillna(0)\n",
    "data['Checking account'] = data['Checking account'].fillna(0)\n",
    "```\n",
    "\n",
    "Заменим полученные категориальные признаки на индикаторы с помощью метода get_dummies. Это необходимо поскольку модель случайных лесов плохо работает с категориальными признаками, но неплохо обучается с индикаторами.\n",
    "\n",
    "```py\n",
    "new_data = pd.get_dummies(data)\n",
    "new_data.head()\n",
    "```\n",
    "\n",
    "Нормализуем данные и понизим размерность данных до 2-х атрибутов.\n",
    "\n",
    "```py\n",
    "from sklearn.cluster import KMeans;\n",
    "from sklearn.decomposition import PCA;\n",
    "from sklearn.preprocessing import normalize;\n",
    "y = KMeans().fit_predict(new_data)\n",
    "X = normalize(new_data);\n",
    "x_PCA = PCA(n_components=2).fit_transform(X,2);\n",
    "print(x_PCA.shape)\n",
    "```\n",
    "\n",
    "Построим график на основе полученных атрибутов:\n",
    "\n",
    "```py\n",
    "plt.scatter(x_PCA[:,0], x_PCA[:,1], c=target, cmap='Spectral')\n",
    "plt.figure()\n",
    "```\n"
   ]
  },
  {
   "cell_type": "markdown",
   "id": "51641f3a",
   "metadata": {},
   "source": [
    "#### Задания для выполнения\n",
    "\n"
   ]
  },
  {
   "cell_type": "code",
   "execution_count": 73,
   "id": "56c80c95",
   "metadata": {},
   "outputs": [],
   "source": [
    "# https://habr.com/ru/company/ruvds/blog/488342/"
   ]
  },
  {
   "cell_type": "code",
   "execution_count": 74,
   "id": "1b4d0119",
   "metadata": {},
   "outputs": [],
   "source": [
    "import pandas as pd\n",
    "import numpy as np"
   ]
  },
  {
   "cell_type": "markdown",
   "id": "9bb8a6ab",
   "metadata": {},
   "source": [
    "1. Загрузите прилагающийся датасет credit_data.\n"
   ]
  },
  {
   "cell_type": "code",
   "execution_count": 75,
   "id": "bae88f9f",
   "metadata": {},
   "outputs": [
    {
     "data": {
      "text/html": [
       "<div>\n",
       "<style scoped>\n",
       "    .dataframe tbody tr th:only-of-type {\n",
       "        vertical-align: middle;\n",
       "    }\n",
       "\n",
       "    .dataframe tbody tr th {\n",
       "        vertical-align: top;\n",
       "    }\n",
       "\n",
       "    .dataframe thead th {\n",
       "        text-align: right;\n",
       "    }\n",
       "</style>\n",
       "<table border=\"1\" class=\"dataframe\">\n",
       "  <thead>\n",
       "    <tr style=\"text-align: right;\">\n",
       "      <th></th>\n",
       "      <th>Age</th>\n",
       "      <th>Sex</th>\n",
       "      <th>Job</th>\n",
       "      <th>Housing</th>\n",
       "      <th>Saving accounts</th>\n",
       "      <th>Checking account</th>\n",
       "      <th>Credit amount</th>\n",
       "      <th>Duration</th>\n",
       "      <th>Purpose</th>\n",
       "      <th>Risk</th>\n",
       "    </tr>\n",
       "  </thead>\n",
       "  <tbody>\n",
       "    <tr>\n",
       "      <th>0</th>\n",
       "      <td>67</td>\n",
       "      <td>male</td>\n",
       "      <td>2</td>\n",
       "      <td>own</td>\n",
       "      <td>NaN</td>\n",
       "      <td>little</td>\n",
       "      <td>1169</td>\n",
       "      <td>6</td>\n",
       "      <td>radio/TV</td>\n",
       "      <td>good</td>\n",
       "    </tr>\n",
       "    <tr>\n",
       "      <th>1</th>\n",
       "      <td>22</td>\n",
       "      <td>female</td>\n",
       "      <td>2</td>\n",
       "      <td>own</td>\n",
       "      <td>little</td>\n",
       "      <td>moderate</td>\n",
       "      <td>5951</td>\n",
       "      <td>48</td>\n",
       "      <td>radio/TV</td>\n",
       "      <td>bad</td>\n",
       "    </tr>\n",
       "    <tr>\n",
       "      <th>2</th>\n",
       "      <td>49</td>\n",
       "      <td>male</td>\n",
       "      <td>1</td>\n",
       "      <td>own</td>\n",
       "      <td>little</td>\n",
       "      <td>NaN</td>\n",
       "      <td>2096</td>\n",
       "      <td>12</td>\n",
       "      <td>education</td>\n",
       "      <td>good</td>\n",
       "    </tr>\n",
       "    <tr>\n",
       "      <th>3</th>\n",
       "      <td>45</td>\n",
       "      <td>male</td>\n",
       "      <td>2</td>\n",
       "      <td>free</td>\n",
       "      <td>little</td>\n",
       "      <td>little</td>\n",
       "      <td>7882</td>\n",
       "      <td>42</td>\n",
       "      <td>furniture/equipment</td>\n",
       "      <td>good</td>\n",
       "    </tr>\n",
       "    <tr>\n",
       "      <th>4</th>\n",
       "      <td>53</td>\n",
       "      <td>male</td>\n",
       "      <td>2</td>\n",
       "      <td>free</td>\n",
       "      <td>little</td>\n",
       "      <td>little</td>\n",
       "      <td>4870</td>\n",
       "      <td>24</td>\n",
       "      <td>car</td>\n",
       "      <td>bad</td>\n",
       "    </tr>\n",
       "  </tbody>\n",
       "</table>\n",
       "</div>"
      ],
      "text/plain": [
       "   Age     Sex  Job Housing Saving accounts Checking account  Credit amount  \\\n",
       "0   67    male    2     own             NaN           little           1169   \n",
       "1   22  female    2     own          little         moderate           5951   \n",
       "2   49    male    1     own          little              NaN           2096   \n",
       "3   45    male    2    free          little           little           7882   \n",
       "4   53    male    2    free          little           little           4870   \n",
       "\n",
       "   Duration              Purpose  Risk  \n",
       "0         6             radio/TV  good  \n",
       "1        48             radio/TV   bad  \n",
       "2        12            education  good  \n",
       "3        42  furniture/equipment  good  \n",
       "4        24                  car   bad  "
      ]
     },
     "execution_count": 75,
     "metadata": {},
     "output_type": "execute_result"
    }
   ],
   "source": [
    "data = pd.read_csv('credit_data.csv')\n",
    "data.drop(columns = ['Unnamed: 0'], axis = 1, inplace=True )\n",
    "data.head()"
   ]
  },
  {
   "cell_type": "code",
   "execution_count": 76,
   "id": "7362da7d",
   "metadata": {},
   "outputs": [
    {
     "name": "stdout",
     "output_type": "stream",
     "text": [
      "<class 'pandas.core.frame.DataFrame'>\n",
      "RangeIndex: 1000 entries, 0 to 999\n",
      "Data columns (total 10 columns):\n",
      " #   Column            Non-Null Count  Dtype \n",
      "---  ------            --------------  ----- \n",
      " 0   Age               1000 non-null   int64 \n",
      " 1   Sex               1000 non-null   object\n",
      " 2   Job               1000 non-null   int64 \n",
      " 3   Housing           1000 non-null   object\n",
      " 4   Saving accounts   817 non-null    object\n",
      " 5   Checking account  606 non-null    object\n",
      " 6   Credit amount     1000 non-null   int64 \n",
      " 7   Duration          1000 non-null   int64 \n",
      " 8   Purpose           1000 non-null   object\n",
      " 9   Risk              1000 non-null   object\n",
      "dtypes: int64(4), object(6)\n",
      "memory usage: 78.2+ KB\n"
     ]
    }
   ],
   "source": [
    "data.info()"
   ]
  },
  {
   "cell_type": "code",
   "execution_count": 112,
   "id": "31962cac",
   "metadata": {},
   "outputs": [
    {
     "data": {
      "text/html": [
       "<div>\n",
       "<style scoped>\n",
       "    .dataframe tbody tr th:only-of-type {\n",
       "        vertical-align: middle;\n",
       "    }\n",
       "\n",
       "    .dataframe tbody tr th {\n",
       "        vertical-align: top;\n",
       "    }\n",
       "\n",
       "    .dataframe thead th {\n",
       "        text-align: right;\n",
       "    }\n",
       "</style>\n",
       "<table border=\"1\" class=\"dataframe\">\n",
       "  <thead>\n",
       "    <tr style=\"text-align: right;\">\n",
       "      <th></th>\n",
       "      <th>Age</th>\n",
       "      <th>Sex</th>\n",
       "      <th>Job</th>\n",
       "      <th>Housing</th>\n",
       "      <th>Saving accounts</th>\n",
       "      <th>Checking account</th>\n",
       "      <th>Credit amount</th>\n",
       "      <th>Duration</th>\n",
       "      <th>Purpose</th>\n",
       "    </tr>\n",
       "  </thead>\n",
       "  <tbody>\n",
       "    <tr>\n",
       "      <th>0</th>\n",
       "      <td>67</td>\n",
       "      <td>1</td>\n",
       "      <td>2</td>\n",
       "      <td>1</td>\n",
       "      <td>1.0</td>\n",
       "      <td>1.0</td>\n",
       "      <td>1169</td>\n",
       "      <td>6</td>\n",
       "      <td>1</td>\n",
       "    </tr>\n",
       "    <tr>\n",
       "      <th>1</th>\n",
       "      <td>22</td>\n",
       "      <td>2</td>\n",
       "      <td>2</td>\n",
       "      <td>1</td>\n",
       "      <td>1.0</td>\n",
       "      <td>2.0</td>\n",
       "      <td>5951</td>\n",
       "      <td>48</td>\n",
       "      <td>1</td>\n",
       "    </tr>\n",
       "    <tr>\n",
       "      <th>2</th>\n",
       "      <td>49</td>\n",
       "      <td>1</td>\n",
       "      <td>1</td>\n",
       "      <td>1</td>\n",
       "      <td>1.0</td>\n",
       "      <td>1.0</td>\n",
       "      <td>2096</td>\n",
       "      <td>12</td>\n",
       "      <td>2</td>\n",
       "    </tr>\n",
       "    <tr>\n",
       "      <th>3</th>\n",
       "      <td>45</td>\n",
       "      <td>1</td>\n",
       "      <td>2</td>\n",
       "      <td>2</td>\n",
       "      <td>1.0</td>\n",
       "      <td>1.0</td>\n",
       "      <td>7882</td>\n",
       "      <td>42</td>\n",
       "      <td>3</td>\n",
       "    </tr>\n",
       "    <tr>\n",
       "      <th>4</th>\n",
       "      <td>53</td>\n",
       "      <td>1</td>\n",
       "      <td>2</td>\n",
       "      <td>2</td>\n",
       "      <td>1.0</td>\n",
       "      <td>1.0</td>\n",
       "      <td>4870</td>\n",
       "      <td>24</td>\n",
       "      <td>4</td>\n",
       "    </tr>\n",
       "  </tbody>\n",
       "</table>\n",
       "</div>"
      ],
      "text/plain": [
       "   Age  Sex  Job  Housing  Saving accounts  Checking account  Credit amount  \\\n",
       "0   67    1    2        1              1.0               1.0           1169   \n",
       "1   22    2    2        1              1.0               2.0           5951   \n",
       "2   49    1    1        1              1.0               1.0           2096   \n",
       "3   45    1    2        2              1.0               1.0           7882   \n",
       "4   53    1    2        2              1.0               1.0           4870   \n",
       "\n",
       "   Duration  Purpose  \n",
       "0         6        1  \n",
       "1        48        1  \n",
       "2        12        2  \n",
       "3        42        3  \n",
       "4        24        4  "
      ]
     },
     "execution_count": 112,
     "metadata": {},
     "output_type": "execute_result"
    }
   ],
   "source": [
    "new_data = pd.get_dummies(data)\n",
    "new_data.head()"
   ]
  },
  {
   "cell_type": "markdown",
   "id": "0f5b8959",
   "metadata": {},
   "source": [
    "2. Проверьте датасет на наличие текстовых атрибутов. Замените текстовые атрибуты на числовые без потери качества данных.\n"
   ]
  },
  {
   "cell_type": "code",
   "execution_count": 77,
   "id": "b1be8256",
   "metadata": {},
   "outputs": [
    {
     "data": {
      "text/plain": [
       "Age                  53\n",
       "Sex                   2\n",
       "Job                   4\n",
       "Housing               3\n",
       "Saving accounts       4\n",
       "Checking account      3\n",
       "Credit amount       921\n",
       "Duration             33\n",
       "Purpose               8\n",
       "Risk                  2\n",
       "dtype: int64"
      ]
     },
     "execution_count": 77,
     "metadata": {},
     "output_type": "execute_result"
    }
   ],
   "source": [
    "data.nunique()"
   ]
  },
  {
   "cell_type": "code",
   "execution_count": 78,
   "id": "b736b1ad",
   "metadata": {},
   "outputs": [
    {
     "data": {
      "text/plain": [
       "array(['good', 'bad'], dtype=object)"
      ]
     },
     "execution_count": 78,
     "metadata": {},
     "output_type": "execute_result"
    }
   ],
   "source": [
    "data['Risk'].unique()"
   ]
  },
  {
   "cell_type": "code",
   "execution_count": 79,
   "id": "b4d2057a",
   "metadata": {},
   "outputs": [],
   "source": [
    "# заменяем текстовые значения на присвоенные числа для дальнейшего обучения\n",
    "data = data.replace({'Sex':{'male':1, 'female':2}})\n",
    "data = data.replace({'Housing':{'own':1, 'free':2, 'rent':3}})\n",
    "data = data.replace({'Saving accounts':{'little':1, 'quite rich':2, 'rich':3, 'moderate':4}})\n",
    "data = data.replace({'Checking account':{'little':1, 'moderate':2, 'rich':3}})\n",
    "data = data.replace({'Purpose':{'radio/TV':1, 'education':2, 'furniture/equipment':3, 'car':4, 'business':5, 'domestic appliances':6, 'repairs':7, 'vacation/others':8}})\n",
    "data = data.replace({'Risk':{'good':0, 'bad':1}})\n"
   ]
  },
  {
   "cell_type": "markdown",
   "id": "eacdea6e",
   "metadata": {},
   "source": [
    "Заполнение отсутсвующих значений"
   ]
  },
  {
   "cell_type": "code",
   "execution_count": 80,
   "id": "e0d85cfa",
   "metadata": {},
   "outputs": [
    {
     "data": {
      "text/plain": [
       "Age                   0\n",
       "Sex                   0\n",
       "Job                   0\n",
       "Housing               0\n",
       "Saving accounts     183\n",
       "Checking account    394\n",
       "Credit amount         0\n",
       "Duration              0\n",
       "Purpose               0\n",
       "Risk                  0\n",
       "dtype: int64"
      ]
     },
     "execution_count": 80,
     "metadata": {},
     "output_type": "execute_result"
    }
   ],
   "source": [
    "data.isna().sum()"
   ]
  },
  {
   "cell_type": "code",
   "execution_count": 81,
   "id": "3a4b1974",
   "metadata": {},
   "outputs": [],
   "source": [
    "data['Saving accounts'].fillna(data['Saving accounts'].mode()[0], inplace=True)\n",
    "data['Checking account'].fillna(data['Checking account'].mode()[0], inplace=True)"
   ]
  },
  {
   "cell_type": "code",
   "execution_count": 82,
   "id": "fef30620",
   "metadata": {},
   "outputs": [
    {
     "data": {
      "text/plain": [
       "Age                 0\n",
       "Sex                 0\n",
       "Job                 0\n",
       "Housing             0\n",
       "Saving accounts     0\n",
       "Checking account    0\n",
       "Credit amount       0\n",
       "Duration            0\n",
       "Purpose             0\n",
       "Risk                0\n",
       "dtype: int64"
      ]
     },
     "execution_count": 82,
     "metadata": {},
     "output_type": "execute_result"
    }
   ],
   "source": [
    "data.isna().sum()"
   ]
  },
  {
   "cell_type": "markdown",
   "id": "dd5188d8",
   "metadata": {},
   "source": [
    "3. Выведите информацию о количественных параметрах датасета;\n"
   ]
  },
  {
   "cell_type": "code",
   "execution_count": 83,
   "id": "3890f70f",
   "metadata": {},
   "outputs": [
    {
     "name": "stdout",
     "output_type": "stream",
     "text": [
      "<class 'pandas.core.frame.DataFrame'>\n",
      "RangeIndex: 1000 entries, 0 to 999\n",
      "Data columns (total 10 columns):\n",
      " #   Column            Non-Null Count  Dtype  \n",
      "---  ------            --------------  -----  \n",
      " 0   Age               1000 non-null   int64  \n",
      " 1   Sex               1000 non-null   int64  \n",
      " 2   Job               1000 non-null   int64  \n",
      " 3   Housing           1000 non-null   int64  \n",
      " 4   Saving accounts   1000 non-null   float64\n",
      " 5   Checking account  1000 non-null   float64\n",
      " 6   Credit amount     1000 non-null   int64  \n",
      " 7   Duration          1000 non-null   int64  \n",
      " 8   Purpose           1000 non-null   int64  \n",
      " 9   Risk              1000 non-null   int64  \n",
      "dtypes: float64(2), int64(8)\n",
      "memory usage: 78.2 KB\n"
     ]
    }
   ],
   "source": [
    "data.info()"
   ]
  },
  {
   "cell_type": "code",
   "execution_count": 84,
   "id": "8e1a539b",
   "metadata": {},
   "outputs": [
    {
     "data": {
      "text/html": [
       "<div>\n",
       "<style scoped>\n",
       "    .dataframe tbody tr th:only-of-type {\n",
       "        vertical-align: middle;\n",
       "    }\n",
       "\n",
       "    .dataframe tbody tr th {\n",
       "        vertical-align: top;\n",
       "    }\n",
       "\n",
       "    .dataframe thead th {\n",
       "        text-align: right;\n",
       "    }\n",
       "</style>\n",
       "<table border=\"1\" class=\"dataframe\">\n",
       "  <thead>\n",
       "    <tr style=\"text-align: right;\">\n",
       "      <th></th>\n",
       "      <th>Age</th>\n",
       "      <th>Sex</th>\n",
       "      <th>Job</th>\n",
       "      <th>Housing</th>\n",
       "      <th>Saving accounts</th>\n",
       "      <th>Checking account</th>\n",
       "      <th>Credit amount</th>\n",
       "      <th>Duration</th>\n",
       "      <th>Purpose</th>\n",
       "      <th>Risk</th>\n",
       "    </tr>\n",
       "  </thead>\n",
       "  <tbody>\n",
       "    <tr>\n",
       "      <th>count</th>\n",
       "      <td>1000.000000</td>\n",
       "      <td>1000.000000</td>\n",
       "      <td>1000.000000</td>\n",
       "      <td>1000.000000</td>\n",
       "      <td>1000.000000</td>\n",
       "      <td>1000.000000</td>\n",
       "      <td>1000.000000</td>\n",
       "      <td>1000.000000</td>\n",
       "      <td>1000.000000</td>\n",
       "      <td>1000.000000</td>\n",
       "    </tr>\n",
       "    <tr>\n",
       "      <th>mean</th>\n",
       "      <td>35.546000</td>\n",
       "      <td>1.310000</td>\n",
       "      <td>1.904000</td>\n",
       "      <td>1.466000</td>\n",
       "      <td>1.468000</td>\n",
       "      <td>1.395000</td>\n",
       "      <td>3271.258000</td>\n",
       "      <td>20.903000</td>\n",
       "      <td>3.096000</td>\n",
       "      <td>0.300000</td>\n",
       "    </tr>\n",
       "    <tr>\n",
       "      <th>std</th>\n",
       "      <td>11.375469</td>\n",
       "      <td>0.462725</td>\n",
       "      <td>0.653614</td>\n",
       "      <td>0.779392</td>\n",
       "      <td>0.981804</td>\n",
       "      <td>0.604434</td>\n",
       "      <td>2822.736876</td>\n",
       "      <td>12.058814</td>\n",
       "      <td>1.630166</td>\n",
       "      <td>0.458487</td>\n",
       "    </tr>\n",
       "    <tr>\n",
       "      <th>min</th>\n",
       "      <td>19.000000</td>\n",
       "      <td>1.000000</td>\n",
       "      <td>0.000000</td>\n",
       "      <td>1.000000</td>\n",
       "      <td>1.000000</td>\n",
       "      <td>1.000000</td>\n",
       "      <td>250.000000</td>\n",
       "      <td>4.000000</td>\n",
       "      <td>1.000000</td>\n",
       "      <td>0.000000</td>\n",
       "    </tr>\n",
       "    <tr>\n",
       "      <th>25%</th>\n",
       "      <td>27.000000</td>\n",
       "      <td>1.000000</td>\n",
       "      <td>2.000000</td>\n",
       "      <td>1.000000</td>\n",
       "      <td>1.000000</td>\n",
       "      <td>1.000000</td>\n",
       "      <td>1365.500000</td>\n",
       "      <td>12.000000</td>\n",
       "      <td>1.000000</td>\n",
       "      <td>0.000000</td>\n",
       "    </tr>\n",
       "    <tr>\n",
       "      <th>50%</th>\n",
       "      <td>33.000000</td>\n",
       "      <td>1.000000</td>\n",
       "      <td>2.000000</td>\n",
       "      <td>1.000000</td>\n",
       "      <td>1.000000</td>\n",
       "      <td>1.000000</td>\n",
       "      <td>2319.500000</td>\n",
       "      <td>18.000000</td>\n",
       "      <td>3.000000</td>\n",
       "      <td>0.000000</td>\n",
       "    </tr>\n",
       "    <tr>\n",
       "      <th>75%</th>\n",
       "      <td>42.000000</td>\n",
       "      <td>2.000000</td>\n",
       "      <td>2.000000</td>\n",
       "      <td>2.000000</td>\n",
       "      <td>1.000000</td>\n",
       "      <td>2.000000</td>\n",
       "      <td>3972.250000</td>\n",
       "      <td>24.000000</td>\n",
       "      <td>4.000000</td>\n",
       "      <td>1.000000</td>\n",
       "    </tr>\n",
       "    <tr>\n",
       "      <th>max</th>\n",
       "      <td>75.000000</td>\n",
       "      <td>2.000000</td>\n",
       "      <td>3.000000</td>\n",
       "      <td>3.000000</td>\n",
       "      <td>4.000000</td>\n",
       "      <td>3.000000</td>\n",
       "      <td>18424.000000</td>\n",
       "      <td>72.000000</td>\n",
       "      <td>8.000000</td>\n",
       "      <td>1.000000</td>\n",
       "    </tr>\n",
       "  </tbody>\n",
       "</table>\n",
       "</div>"
      ],
      "text/plain": [
       "               Age          Sex          Job      Housing  Saving accounts  \\\n",
       "count  1000.000000  1000.000000  1000.000000  1000.000000      1000.000000   \n",
       "mean     35.546000     1.310000     1.904000     1.466000         1.468000   \n",
       "std      11.375469     0.462725     0.653614     0.779392         0.981804   \n",
       "min      19.000000     1.000000     0.000000     1.000000         1.000000   \n",
       "25%      27.000000     1.000000     2.000000     1.000000         1.000000   \n",
       "50%      33.000000     1.000000     2.000000     1.000000         1.000000   \n",
       "75%      42.000000     2.000000     2.000000     2.000000         1.000000   \n",
       "max      75.000000     2.000000     3.000000     3.000000         4.000000   \n",
       "\n",
       "       Checking account  Credit amount     Duration      Purpose         Risk  \n",
       "count       1000.000000    1000.000000  1000.000000  1000.000000  1000.000000  \n",
       "mean           1.395000    3271.258000    20.903000     3.096000     0.300000  \n",
       "std            0.604434    2822.736876    12.058814     1.630166     0.458487  \n",
       "min            1.000000     250.000000     4.000000     1.000000     0.000000  \n",
       "25%            1.000000    1365.500000    12.000000     1.000000     0.000000  \n",
       "50%            1.000000    2319.500000    18.000000     3.000000     0.000000  \n",
       "75%            2.000000    3972.250000    24.000000     4.000000     1.000000  \n",
       "max            3.000000   18424.000000    72.000000     8.000000     1.000000  "
      ]
     },
     "execution_count": 84,
     "metadata": {},
     "output_type": "execute_result"
    }
   ],
   "source": [
    "data.describe()"
   ]
  },
  {
   "cell_type": "markdown",
   "id": "c66ce7b8",
   "metadata": {},
   "source": [
    "4. Разделите эти данные на тестовую и обучающую выборки;\n"
   ]
  },
  {
   "cell_type": "code",
   "execution_count": 85,
   "id": "c0e0bd79",
   "metadata": {},
   "outputs": [],
   "source": [
    "# выделяем целевую переменную\n",
    "target = data['Risk']\n",
    "data.drop(columns = ['Risk'], axis = 1, inplace=True )"
   ]
  },
  {
   "cell_type": "code",
   "execution_count": 117,
   "id": "f9f098a9",
   "metadata": {},
   "outputs": [],
   "source": [
    "from sklearn.model_selection import train_test_split\n",
    "\n",
    "x_train, x_test, y_train, y_test = train_test_split(data, target, test_size=0.2, random_state=42) # test new_data"
   ]
  },
  {
   "cell_type": "code",
   "execution_count": 118,
   "id": "c8a4411f",
   "metadata": {},
   "outputs": [],
   "source": [
    "from sklearn.preprocessing import StandardScaler\n",
    "\n",
    "# масштабирование признаков\n",
    "ss = StandardScaler()\n",
    "x_train_scaled = ss.fit_transform(x_train)\n",
    "x_test_scaled = ss.transform(x_test)\n",
    "y_train = np.array(y_train)"
   ]
  },
  {
   "cell_type": "markdown",
   "id": "48a9a99c",
   "metadata": {},
   "source": [
    "5. Обучите модель случайных лесов на обучающей выборке. Проверьте точность предсказаний.\n"
   ]
  },
  {
   "cell_type": "code",
   "execution_count": 88,
   "id": "1ac7574f",
   "metadata": {},
   "outputs": [],
   "source": [
    "# Random Forest случайный лес\n",
    "# Principal Component Analysis Метод главных компонент\n",
    "# Hyperparameter Tuning оптимизация гиперпараметров\n",
    "\n",
    "scores = pd.DataFrame(\n",
    "    columns=['accuracy', 'precision', 'recall', 'f1_score', 'time'],\n",
    "    index=[\n",
    "        'RF',\n",
    "        'RF + PCA',\n",
    "        'RF + PCA + HT'\n",
    "    ]\n",
    ")"
   ]
  },
  {
   "cell_type": "code",
   "execution_count": 89,
   "id": "1f6ceba6",
   "metadata": {},
   "outputs": [],
   "source": [
    "from sklearn import metrics\n",
    "\n",
    "def get_metrics(y_test, y_pred):\n",
    "    accuracy = metrics.accuracy_score(y_test, y_pred)\n",
    "    precision = metrics.precision_score(y_test, y_pred)\n",
    "    recall = metrics.recall_score(y_test, y_pred)\n",
    "    f1_score = metrics.f1_score(y_test, y_pred)\n",
    "    return pd.Series(\n",
    "        (accuracy, precision, recall, f1_score),\n",
    "        index=['accuracy', 'precision', 'recall', 'f1_score']\n",
    "    )"
   ]
  },
  {
   "cell_type": "code",
   "execution_count": 90,
   "id": "eaa72d69",
   "metadata": {},
   "outputs": [],
   "source": [
    "import time\n",
    "\n",
    "def model_and_metrics(model, x_train, y_train, x_test, y_test):\n",
    "    start = time.time() # точка отсчета времени\n",
    "    model.fit(x_train, y_train)\n",
    "    y_pred = model.predict(x_test)  \n",
    "    end = time.time() - start # время работы программы\n",
    "    returned = get_metrics(y_test, y_pred).append(pd.Series((end), index = ['time']))\n",
    "    return returned"
   ]
  },
  {
   "cell_type": "code",
   "execution_count": 91,
   "id": "4495a779",
   "metadata": {},
   "outputs": [],
   "source": [
    "from sklearn.ensemble import RandomForestClassifier\n",
    "\n",
    "scores.iloc[0] = model_and_metrics(RandomForestClassifier(), x_train_scaled, y_train, x_test_scaled, y_test)"
   ]
  },
  {
   "cell_type": "code",
   "execution_count": 92,
   "id": "7e55405e",
   "metadata": {},
   "outputs": [
    {
     "data": {
      "image/png": "[encoded data removed]",
      "text/plain": [
       "<Figure size 2160x1080 with 1 Axes>"
      ]
     },
     "metadata": {},
     "output_type": "display_data"
    },
    {
     "data": {
      "text/plain": [
       "None"
      ]
     },
     "metadata": {},
     "output_type": "display_data"
    },
    {
     "data": {
      "text/html": [
       "<div>\n",
       "<style scoped>\n",
       "    .dataframe tbody tr th:only-of-type {\n",
       "        vertical-align: middle;\n",
       "    }\n",
       "\n",
       "    .dataframe tbody tr th {\n",
       "        vertical-align: top;\n",
       "    }\n",
       "\n",
       "    .dataframe thead th {\n",
       "        text-align: right;\n",
       "    }\n",
       "</style>\n",
       "<table border=\"1\" class=\"dataframe\">\n",
       "  <thead>\n",
       "    <tr style=\"text-align: right;\">\n",
       "      <th></th>\n",
       "      <th>Features</th>\n",
       "      <th>Gini-Importance</th>\n",
       "    </tr>\n",
       "  </thead>\n",
       "  <tbody>\n",
       "    <tr>\n",
       "      <th>0</th>\n",
       "      <td>Sex</td>\n",
       "      <td>0.156339</td>\n",
       "    </tr>\n",
       "    <tr>\n",
       "      <th>1</th>\n",
       "      <td>Age</td>\n",
       "      <td>0.132537</td>\n",
       "    </tr>\n",
       "    <tr>\n",
       "      <th>2</th>\n",
       "      <td>Credit amount</td>\n",
       "      <td>0.121539</td>\n",
       "    </tr>\n",
       "    <tr>\n",
       "      <th>3</th>\n",
       "      <td>Saving accounts</td>\n",
       "      <td>0.120859</td>\n",
       "    </tr>\n",
       "    <tr>\n",
       "      <th>4</th>\n",
       "      <td>Job</td>\n",
       "      <td>0.120847</td>\n",
       "    </tr>\n",
       "    <tr>\n",
       "      <th>5</th>\n",
       "      <td>Checking account</td>\n",
       "      <td>0.119630</td>\n",
       "    </tr>\n",
       "    <tr>\n",
       "      <th>6</th>\n",
       "      <td>Duration</td>\n",
       "      <td>0.116317</td>\n",
       "    </tr>\n",
       "    <tr>\n",
       "      <th>7</th>\n",
       "      <td>Housing</td>\n",
       "      <td>0.111932</td>\n",
       "    </tr>\n",
       "  </tbody>\n",
       "</table>\n",
       "</div>"
      ],
      "text/plain": [
       "           Features  Gini-Importance\n",
       "0               Sex         0.156339\n",
       "1               Age         0.132537\n",
       "2     Credit amount         0.121539\n",
       "3   Saving accounts         0.120859\n",
       "4               Job         0.120847\n",
       "5  Checking account         0.119630\n",
       "6          Duration         0.116317\n",
       "7           Housing         0.111932"
      ]
     },
     "metadata": {},
     "output_type": "display_data"
    }
   ],
   "source": [
    "import seaborn as sns\n",
    "import matplotlib.pyplot as plt\n",
    "\n",
    "# какие признаки являются самыми важными для RF-модели\n",
    "\n",
    "feats = {}\n",
    "for feature, importance in zip(data.columns, model.feature_importances_):\n",
    "    feats[feature] = importance\n",
    "importances = pd.DataFrame.from_dict(feats, orient='index').rename(columns={0: 'Gini-Importance'})\n",
    "importances = importances.sort_values(by='Gini-Importance', ascending=False)\n",
    "importances = importances.reset_index()\n",
    "importances = importances.rename(columns={'index': 'Features'})\n",
    "sns.set(font_scale = 5)\n",
    "sns.set(style=\"whitegrid\", color_codes=True, font_scale = 1.7)\n",
    "fig, ax = plt.subplots()\n",
    "fig.set_size_inches(30,15)\n",
    "sns.barplot(x=importances['Gini-Importance'], y=importances['Features'], data=importances, color='skyblue')\n",
    "plt.xlabel('Importance', fontsize=25, weight = 'bold')\n",
    "plt.ylabel('Features', fontsize=25, weight = 'bold')\n",
    "plt.title('Feature Importance', fontsize=25, weight = 'bold')\n",
    "display(plt.show())\n",
    "display(importances)"
   ]
  },
  {
   "cell_type": "markdown",
   "id": "da387c86",
   "metadata": {},
   "source": [
    "6. Оцените полученную модель с помощью метрик.\n"
   ]
  },
  {
   "cell_type": "code",
   "execution_count": 93,
   "id": "2bc91a60",
   "metadata": {},
   "outputs": [
    {
     "data": {
      "text/html": [
       "<div>\n",
       "<style scoped>\n",
       "    .dataframe tbody tr th:only-of-type {\n",
       "        vertical-align: middle;\n",
       "    }\n",
       "\n",
       "    .dataframe tbody tr th {\n",
       "        vertical-align: top;\n",
       "    }\n",
       "\n",
       "    .dataframe thead th {\n",
       "        text-align: right;\n",
       "    }\n",
       "</style>\n",
       "<table border=\"1\" class=\"dataframe\">\n",
       "  <thead>\n",
       "    <tr style=\"text-align: right;\">\n",
       "      <th></th>\n",
       "      <th>accuracy</th>\n",
       "      <th>precision</th>\n",
       "      <th>recall</th>\n",
       "      <th>f1_score</th>\n",
       "      <th>time</th>\n",
       "    </tr>\n",
       "  </thead>\n",
       "  <tbody>\n",
       "    <tr>\n",
       "      <th>RF</th>\n",
       "      <td>0.7</td>\n",
       "      <td>0.478261</td>\n",
       "      <td>0.186441</td>\n",
       "      <td>0.268293</td>\n",
       "      <td>0.513842</td>\n",
       "    </tr>\n",
       "    <tr>\n",
       "      <th>RF + PCA</th>\n",
       "      <td>NaN</td>\n",
       "      <td>NaN</td>\n",
       "      <td>NaN</td>\n",
       "      <td>NaN</td>\n",
       "      <td>NaN</td>\n",
       "    </tr>\n",
       "    <tr>\n",
       "      <th>RF + PCA + HT</th>\n",
       "      <td>NaN</td>\n",
       "      <td>NaN</td>\n",
       "      <td>NaN</td>\n",
       "      <td>NaN</td>\n",
       "      <td>NaN</td>\n",
       "    </tr>\n",
       "  </tbody>\n",
       "</table>\n",
       "</div>"
      ],
      "text/plain": [
       "              accuracy precision    recall  f1_score      time\n",
       "RF                 0.7  0.478261  0.186441  0.268293  0.513842\n",
       "RF + PCA           NaN       NaN       NaN       NaN       NaN\n",
       "RF + PCA + HT      NaN       NaN       NaN       NaN       NaN"
      ]
     },
     "execution_count": 93,
     "metadata": {},
     "output_type": "execute_result"
    }
   ],
   "source": [
    "scores"
   ]
  },
  {
   "cell_type": "markdown",
   "id": "ba53e9c4",
   "metadata": {},
   "source": [
    "7. Понизьте размерность данных с помощью метода главных компонент.\n"
   ]
  },
  {
   "cell_type": "code",
   "execution_count": 120,
   "id": "c2b34564",
   "metadata": {},
   "outputs": [
    {
     "data": {
      "image/png": "[encoded data removed]",
      "text/plain": [
       "<Figure size 432x288 with 1 Axes>"
      ]
     },
     "metadata": {},
     "output_type": "display_data"
    },
    {
     "data": {
      "text/plain": [
       "None"
      ]
     },
     "metadata": {},
     "output_type": "display_data"
    },
    {
     "data": {
      "text/html": [
       "<div>\n",
       "<style scoped>\n",
       "    .dataframe tbody tr th:only-of-type {\n",
       "        vertical-align: middle;\n",
       "    }\n",
       "\n",
       "    .dataframe tbody tr th {\n",
       "        vertical-align: top;\n",
       "    }\n",
       "\n",
       "    .dataframe thead th {\n",
       "        text-align: right;\n",
       "    }\n",
       "</style>\n",
       "<table border=\"1\" class=\"dataframe\">\n",
       "  <thead>\n",
       "    <tr style=\"text-align: right;\">\n",
       "      <th></th>\n",
       "      <th>Cumulative Variance Ratio</th>\n",
       "      <th>Explained Variance Ratio</th>\n",
       "    </tr>\n",
       "  </thead>\n",
       "  <tbody>\n",
       "    <tr>\n",
       "      <th>0</th>\n",
       "      <td>0.207612</td>\n",
       "      <td>0.207612</td>\n",
       "    </tr>\n",
       "    <tr>\n",
       "      <th>1</th>\n",
       "      <td>0.353709</td>\n",
       "      <td>0.146097</td>\n",
       "    </tr>\n",
       "    <tr>\n",
       "      <th>2</th>\n",
       "      <td>0.474429</td>\n",
       "      <td>0.120720</td>\n",
       "    </tr>\n",
       "    <tr>\n",
       "      <th>3</th>\n",
       "      <td>0.586076</td>\n",
       "      <td>0.111648</td>\n",
       "    </tr>\n",
       "    <tr>\n",
       "      <th>4</th>\n",
       "      <td>0.688995</td>\n",
       "      <td>0.102919</td>\n",
       "    </tr>\n",
       "    <tr>\n",
       "      <th>5</th>\n",
       "      <td>0.788625</td>\n",
       "      <td>0.099630</td>\n",
       "    </tr>\n",
       "    <tr>\n",
       "      <th>6</th>\n",
       "      <td>0.877020</td>\n",
       "      <td>0.088395</td>\n",
       "    </tr>\n",
       "    <tr>\n",
       "      <th>7</th>\n",
       "      <td>0.961094</td>\n",
       "      <td>0.084074</td>\n",
       "    </tr>\n",
       "    <tr>\n",
       "      <th>8</th>\n",
       "      <td>1.000000</td>\n",
       "      <td>0.038906</td>\n",
       "    </tr>\n",
       "  </tbody>\n",
       "</table>\n",
       "</div>"
      ],
      "text/plain": [
       "   Cumulative Variance Ratio  Explained Variance Ratio\n",
       "0                   0.207612                  0.207612\n",
       "1                   0.353709                  0.146097\n",
       "2                   0.474429                  0.120720\n",
       "3                   0.586076                  0.111648\n",
       "4                   0.688995                  0.102919\n",
       "5                   0.788625                  0.099630\n",
       "6                   0.877020                  0.088395\n",
       "7                   0.961094                  0.084074\n",
       "8                   1.000000                  0.038906"
      ]
     },
     "metadata": {},
     "output_type": "display_data"
    }
   ],
   "source": [
    "import matplotlib.pyplot as plt\n",
    "import seaborn as sns\n",
    "from sklearn.decomposition import PCA\n",
    "\n",
    "pca_test = PCA(n_components=9)\n",
    "pca_test.fit(x_train_scaled)\n",
    "\n",
    "sns.set(style='whitegrid')\n",
    "plt.plot(np.cumsum(pca_test.explained_variance_ratio_))\n",
    "plt.xlabel('number of components')\n",
    "plt.ylabel('cumulative explained variance')\n",
    "plt.axvline(2, color='r', linestyle = '--')\n",
    "display(plt.show())\n",
    "\n",
    "evr = pca_test.explained_variance_ratio_\n",
    "cvr = np.cumsum(pca_test.explained_variance_ratio_)\n",
    "pca_df = pd.DataFrame()\n",
    "pca_df['Cumulative Variance Ratio'] = cvr\n",
    "pca_df['Explained Variance Ratio'] = evr\n",
    "display(pca_df.head(10))"
   ]
  },
  {
   "cell_type": "markdown",
   "id": "cf3caa47",
   "metadata": {},
   "source": [
    "воспользуемся PCA для уменьшения числа компонент с 9 до 7"
   ]
  },
  {
   "cell_type": "code",
   "execution_count": 121,
   "id": "8aef49cc",
   "metadata": {},
   "outputs": [],
   "source": [
    "pca = PCA(n_components=2)\n",
    "pca.fit(x_train_scaled)\n",
    "x_train_scaled_pca = pca.transform(x_train_scaled)\n",
    "x_test_scaled_pca = pca.transform(x_test_scaled)"
   ]
  },
  {
   "cell_type": "markdown",
   "id": "b57bea19",
   "metadata": {},
   "source": [
    "8. Обучите заново модель случайных лесов и оцените ее эффективность с помощью метрик.\n"
   ]
  },
  {
   "cell_type": "code",
   "execution_count": 122,
   "id": "834ea081",
   "metadata": {},
   "outputs": [],
   "source": [
    "scores.iloc[1] = model_and_metrics(RandomForestClassifier(), x_train_scaled_pca, y_train, x_test_scaled_pca, y_test)"
   ]
  },
  {
   "cell_type": "markdown",
   "id": "d9c17d23",
   "metadata": {},
   "source": [
    "9. Постройте график зависимости точности модели от размерности данных.\n"
   ]
  },
  {
   "cell_type": "code",
   "execution_count": 111,
   "id": "c7ce5809",
   "metadata": {},
   "outputs": [],
   "source": [
    "results = pd.DataFrame(columns=[\"N_attributes\", \"accuracy\", \"precision\",\"recall\"])"
   ]
  },
  {
   "cell_type": "code",
   "execution_count": 114,
   "id": "507b1baf",
   "metadata": {},
   "outputs": [],
   "source": [
    "from sklearn.preprocessing import normalize\n",
    "\n",
    "for N in range(2, new_data.shape[1]):\n",
    "    X = normalize(new_data);\n",
    "    x_PCA = PCA(n_components=2).fit_transform(X,N);\n",
    "    X_train, X_test, y_train, y_test = train_test_split(x_PCA, target, test_size=0.2)\n",
    "    model = RandomForestClassifier()\n",
    "    model.fit(X_train, y_train)\n",
    "    y_pred = model.predict(X_test)\n",
    "    res = pd.DataFrame(\n",
    "        [[\n",
    "            \n",
    "            N,\n",
    "            metrics.accuracy_score(y_test, y_pred),\n",
    "            metrics.precision_score(y_test, y_pred),\n",
    "            metrics.recall_score(y_test, y_pred)\n",
    "        ]],\n",
    "        columns=results.columns\n",
    "    )\n",
    "    results = pd.concat([results, res], ignore_index=True)"
   ]
  },
  {
   "cell_type": "code",
   "execution_count": 115,
   "id": "11ef3827",
   "metadata": {},
   "outputs": [
    {
     "data": {
      "text/html": [
       "<div>\n",
       "<style scoped>\n",
       "    .dataframe tbody tr th:only-of-type {\n",
       "        vertical-align: middle;\n",
       "    }\n",
       "\n",
       "    .dataframe tbody tr th {\n",
       "        vertical-align: top;\n",
       "    }\n",
       "\n",
       "    .dataframe thead th {\n",
       "        text-align: right;\n",
       "    }\n",
       "</style>\n",
       "<table border=\"1\" class=\"dataframe\">\n",
       "  <thead>\n",
       "    <tr style=\"text-align: right;\">\n",
       "      <th></th>\n",
       "      <th>N_attributes</th>\n",
       "      <th>accuracy</th>\n",
       "      <th>precision</th>\n",
       "      <th>recall</th>\n",
       "    </tr>\n",
       "  </thead>\n",
       "  <tbody>\n",
       "    <tr>\n",
       "      <th>0</th>\n",
       "      <td>2</td>\n",
       "      <td>0.690</td>\n",
       "      <td>0.428571</td>\n",
       "      <td>0.263158</td>\n",
       "    </tr>\n",
       "    <tr>\n",
       "      <th>1</th>\n",
       "      <td>3</td>\n",
       "      <td>0.685</td>\n",
       "      <td>0.352941</td>\n",
       "      <td>0.226415</td>\n",
       "    </tr>\n",
       "    <tr>\n",
       "      <th>2</th>\n",
       "      <td>4</td>\n",
       "      <td>0.640</td>\n",
       "      <td>0.428571</td>\n",
       "      <td>0.272727</td>\n",
       "    </tr>\n",
       "    <tr>\n",
       "      <th>3</th>\n",
       "      <td>5</td>\n",
       "      <td>0.685</td>\n",
       "      <td>0.333333</td>\n",
       "      <td>0.340426</td>\n",
       "    </tr>\n",
       "    <tr>\n",
       "      <th>4</th>\n",
       "      <td>6</td>\n",
       "      <td>0.680</td>\n",
       "      <td>0.392857</td>\n",
       "      <td>0.189655</td>\n",
       "    </tr>\n",
       "    <tr>\n",
       "      <th>5</th>\n",
       "      <td>7</td>\n",
       "      <td>0.655</td>\n",
       "      <td>0.275000</td>\n",
       "      <td>0.215686</td>\n",
       "    </tr>\n",
       "    <tr>\n",
       "      <th>6</th>\n",
       "      <td>8</td>\n",
       "      <td>0.705</td>\n",
       "      <td>0.444444</td>\n",
       "      <td>0.370370</td>\n",
       "    </tr>\n",
       "  </tbody>\n",
       "</table>\n",
       "</div>"
      ],
      "text/plain": [
       "  N_attributes  accuracy  precision    recall\n",
       "0            2     0.690   0.428571  0.263158\n",
       "1            3     0.685   0.352941  0.226415\n",
       "2            4     0.640   0.428571  0.272727\n",
       "3            5     0.685   0.333333  0.340426\n",
       "4            6     0.680   0.392857  0.189655\n",
       "5            7     0.655   0.275000  0.215686\n",
       "6            8     0.705   0.444444  0.370370"
      ]
     },
     "execution_count": 115,
     "metadata": {},
     "output_type": "execute_result"
    }
   ],
   "source": [
    "results"
   ]
  },
  {
   "cell_type": "code",
   "execution_count": 124,
   "id": "c355c8d1",
   "metadata": {},
   "outputs": [
    {
     "data": {
      "text/plain": [
       "Text(0, 0.5, 'Значение метрики')"
      ]
     },
     "execution_count": 124,
     "metadata": {},
     "output_type": "execute_result"
    },
    {
     "data": {
      "image/png": "[encoded data removed]",
      "text/plain": [
       "<Figure size 1080x504 with 1 Axes>"
      ]
     },
     "metadata": {},
     "output_type": "display_data"
    }
   ],
   "source": [
    "plt.figure(figsize=(15,7))\n",
    "plt.plot(results.N_attributes, results.accuracy, label=\"ACCURACY\")\n",
    "plt.plot(results.N_attributes, results.precision, label=\"PRECISION\")\n",
    "plt.plot(results.N_attributes, results.recall, label=\"RECALL\")\n",
    "plt.legend();\n",
    "plt.xlabel('N признаков')\n",
    "plt.ylabel('Значение метрики')"
   ]
  },
  {
   "cell_type": "markdown",
   "id": "011563db",
   "metadata": {},
   "source": [
    "10.(*) Оптимизируйте гиперпараметры модели"
   ]
  },
  {
   "cell_type": "markdown",
   "id": "78a25dc0",
   "metadata": {},
   "source": [
    "Подбор гиперпараметров: \n",
    "- n_estimators — число «деревьев» в «случайном лесу».\n",
    "- max_features — число признаков для выбора расщепления.\n",
    "- max_depth — максимальная глубина деревьев.\n",
    "- min_samples_split — минимальное число объектов, необходимое для того, чтобы узел дерева мог бы расщепиться.\n",
    "- min_samples_leaf — минимальное число объектов в листьях.\n",
    "- bootstrap — использование для построения деревьев подвыборки с возвращением."
   ]
  },
  {
   "cell_type": "code",
   "execution_count": 95,
   "id": "009b7a39",
   "metadata": {},
   "outputs": [
    {
     "name": "stdout",
     "output_type": "stream",
     "text": [
      "Fitting 5 folds for each of 100 candidates, totalling 500 fits\n"
     ]
    },
    {
     "data": {
      "text/plain": [
       "{'n_estimators': 100,\n",
       " 'min_samples_split': 12,\n",
       " 'min_samples_leaf': 34,\n",
       " 'max_features': 'log2',\n",
       " 'max_depth': 12,\n",
       " 'bootstrap': False}"
      ]
     },
     "execution_count": 95,
     "metadata": {},
     "output_type": "execute_result"
    }
   ],
   "source": [
    "from sklearn.model_selection import RandomizedSearchCV\n",
    "\n",
    "# генерируем все возможные виды гиперпараметров\n",
    "n_estimators = [int(x) for x in np.linspace(start = 100, stop = 1000, num = 10)]\n",
    "max_features = ['log2', 'sqrt']\n",
    "max_depth = [int(x) for x in np.linspace(start = 1, stop = 15, num = 15)]\n",
    "min_samples_split = [int(x) for x in np.linspace(start = 2, stop = 50, num = 10)]\n",
    "min_samples_leaf = [int(x) for x in np.linspace(start = 2, stop = 50, num = 10)]\n",
    "bootstrap = [True, False]\n",
    "\n",
    "# создаем словарь параметров\n",
    "param_dist = {'n_estimators': n_estimators,\n",
    "               'max_features': max_features,\n",
    "               'max_depth': max_depth,\n",
    "               'min_samples_split': min_samples_split,\n",
    "               'min_samples_leaf': min_samples_leaf,\n",
    "               'bootstrap': bootstrap}\n",
    "\n",
    "model = RandomForestClassifier()\n",
    "\n",
    "# инициализируем функцию подбора параметров\n",
    "rs = RandomizedSearchCV(model, \n",
    "                        param_dist, \n",
    "                        n_iter = 100,  \n",
    "                        verbose = 1, # уровень детализации\n",
    "                        n_jobs=-1, # использование всех процессов для параллельного выполнения\n",
    "                        random_state=0)\n",
    "\n",
    "rs.fit(x_train_scaled_pca, y_train)\n",
    "rs.best_params_"
   ]
  },
  {
   "cell_type": "markdown",
   "id": "b969ef62",
   "metadata": {},
   "source": [
    "результаты работы RandomizedSearchCV"
   ]
  },
  {
   "cell_type": "code",
   "execution_count": 96,
   "id": "d5432e8a",
   "metadata": {},
   "outputs": [
    {
     "data": {
      "text/html": [
       "<div>\n",
       "<style scoped>\n",
       "    .dataframe tbody tr th:only-of-type {\n",
       "        vertical-align: middle;\n",
       "    }\n",
       "\n",
       "    .dataframe tbody tr th {\n",
       "        vertical-align: top;\n",
       "    }\n",
       "\n",
       "    .dataframe thead th {\n",
       "        text-align: right;\n",
       "    }\n",
       "</style>\n",
       "<table border=\"1\" class=\"dataframe\">\n",
       "  <thead>\n",
       "    <tr style=\"text-align: right;\">\n",
       "      <th></th>\n",
       "      <th>param_n_estimators</th>\n",
       "      <th>param_min_samples_split</th>\n",
       "      <th>param_min_samples_leaf</th>\n",
       "      <th>param_max_features</th>\n",
       "      <th>param_max_depth</th>\n",
       "      <th>param_bootstrap</th>\n",
       "      <th>split3_test_score</th>\n",
       "      <th>split4_test_score</th>\n",
       "      <th>mean_test_score</th>\n",
       "      <th>rank_test_score</th>\n",
       "    </tr>\n",
       "  </thead>\n",
       "  <tbody>\n",
       "    <tr>\n",
       "      <th>0</th>\n",
       "      <td>100</td>\n",
       "      <td>12</td>\n",
       "      <td>34</td>\n",
       "      <td>log2</td>\n",
       "      <td>12</td>\n",
       "      <td>False</td>\n",
       "      <td>0.70625</td>\n",
       "      <td>0.72500</td>\n",
       "      <td>0.71000</td>\n",
       "      <td>1</td>\n",
       "    </tr>\n",
       "    <tr>\n",
       "      <th>1</th>\n",
       "      <td>400</td>\n",
       "      <td>2</td>\n",
       "      <td>7</td>\n",
       "      <td>log2</td>\n",
       "      <td>2</td>\n",
       "      <td>False</td>\n",
       "      <td>0.72500</td>\n",
       "      <td>0.70000</td>\n",
       "      <td>0.71000</td>\n",
       "      <td>2</td>\n",
       "    </tr>\n",
       "    <tr>\n",
       "      <th>2</th>\n",
       "      <td>300</td>\n",
       "      <td>39</td>\n",
       "      <td>18</td>\n",
       "      <td>log2</td>\n",
       "      <td>7</td>\n",
       "      <td>True</td>\n",
       "      <td>0.70000</td>\n",
       "      <td>0.71250</td>\n",
       "      <td>0.70625</td>\n",
       "      <td>3</td>\n",
       "    </tr>\n",
       "    <tr>\n",
       "      <th>3</th>\n",
       "      <td>1000</td>\n",
       "      <td>44</td>\n",
       "      <td>2</td>\n",
       "      <td>sqrt</td>\n",
       "      <td>9</td>\n",
       "      <td>True</td>\n",
       "      <td>0.69375</td>\n",
       "      <td>0.70625</td>\n",
       "      <td>0.70500</td>\n",
       "      <td>4</td>\n",
       "    </tr>\n",
       "    <tr>\n",
       "      <th>4</th>\n",
       "      <td>400</td>\n",
       "      <td>34</td>\n",
       "      <td>7</td>\n",
       "      <td>log2</td>\n",
       "      <td>2</td>\n",
       "      <td>True</td>\n",
       "      <td>0.71875</td>\n",
       "      <td>0.70625</td>\n",
       "      <td>0.70500</td>\n",
       "      <td>4</td>\n",
       "    </tr>\n",
       "    <tr>\n",
       "      <th>5</th>\n",
       "      <td>200</td>\n",
       "      <td>12</td>\n",
       "      <td>18</td>\n",
       "      <td>log2</td>\n",
       "      <td>9</td>\n",
       "      <td>True</td>\n",
       "      <td>0.69375</td>\n",
       "      <td>0.71250</td>\n",
       "      <td>0.70500</td>\n",
       "      <td>6</td>\n",
       "    </tr>\n",
       "    <tr>\n",
       "      <th>6</th>\n",
       "      <td>400</td>\n",
       "      <td>7</td>\n",
       "      <td>34</td>\n",
       "      <td>log2</td>\n",
       "      <td>7</td>\n",
       "      <td>False</td>\n",
       "      <td>0.70000</td>\n",
       "      <td>0.71250</td>\n",
       "      <td>0.70375</td>\n",
       "      <td>7</td>\n",
       "    </tr>\n",
       "    <tr>\n",
       "      <th>7</th>\n",
       "      <td>100</td>\n",
       "      <td>18</td>\n",
       "      <td>23</td>\n",
       "      <td>log2</td>\n",
       "      <td>10</td>\n",
       "      <td>True</td>\n",
       "      <td>0.71875</td>\n",
       "      <td>0.69375</td>\n",
       "      <td>0.70375</td>\n",
       "      <td>7</td>\n",
       "    </tr>\n",
       "    <tr>\n",
       "      <th>8</th>\n",
       "      <td>300</td>\n",
       "      <td>39</td>\n",
       "      <td>2</td>\n",
       "      <td>sqrt</td>\n",
       "      <td>3</td>\n",
       "      <td>True</td>\n",
       "      <td>0.72500</td>\n",
       "      <td>0.70625</td>\n",
       "      <td>0.70375</td>\n",
       "      <td>9</td>\n",
       "    </tr>\n",
       "    <tr>\n",
       "      <th>9</th>\n",
       "      <td>100</td>\n",
       "      <td>18</td>\n",
       "      <td>12</td>\n",
       "      <td>log2</td>\n",
       "      <td>2</td>\n",
       "      <td>False</td>\n",
       "      <td>0.71875</td>\n",
       "      <td>0.70625</td>\n",
       "      <td>0.70375</td>\n",
       "      <td>9</td>\n",
       "    </tr>\n",
       "  </tbody>\n",
       "</table>\n",
       "</div>"
      ],
      "text/plain": [
       "  param_n_estimators param_min_samples_split param_min_samples_leaf  \\\n",
       "0                100                      12                     34   \n",
       "1                400                       2                      7   \n",
       "2                300                      39                     18   \n",
       "3               1000                      44                      2   \n",
       "4                400                      34                      7   \n",
       "5                200                      12                     18   \n",
       "6                400                       7                     34   \n",
       "7                100                      18                     23   \n",
       "8                300                      39                      2   \n",
       "9                100                      18                     12   \n",
       "\n",
       "  param_max_features param_max_depth param_bootstrap  split3_test_score  \\\n",
       "0               log2              12           False            0.70625   \n",
       "1               log2               2           False            0.72500   \n",
       "2               log2               7            True            0.70000   \n",
       "3               sqrt               9            True            0.69375   \n",
       "4               log2               2            True            0.71875   \n",
       "5               log2               9            True            0.69375   \n",
       "6               log2               7           False            0.70000   \n",
       "7               log2              10            True            0.71875   \n",
       "8               sqrt               3            True            0.72500   \n",
       "9               log2               2           False            0.71875   \n",
       "\n",
       "   split4_test_score  mean_test_score  rank_test_score  \n",
       "0            0.72500          0.71000                1  \n",
       "1            0.70000          0.71000                2  \n",
       "2            0.71250          0.70625                3  \n",
       "3            0.70625          0.70500                4  \n",
       "4            0.70625          0.70500                4  \n",
       "5            0.71250          0.70500                6  \n",
       "6            0.71250          0.70375                7  \n",
       "7            0.69375          0.70375                7  \n",
       "8            0.70625          0.70375                9  \n",
       "9            0.70625          0.70375                9  "
      ]
     },
     "execution_count": 96,
     "metadata": {},
     "output_type": "execute_result"
    }
   ],
   "source": [
    "rs_df = pd.DataFrame(rs.cv_results_).sort_values('rank_test_score').reset_index(drop=True)\n",
    "rs_df = rs_df.drop([\n",
    "            'mean_fit_time', \n",
    "            'std_fit_time', \n",
    "            'mean_score_time',\n",
    "            'std_score_time', \n",
    "            'params', \n",
    "            'split0_test_score', \n",
    "            'split1_test_score', \n",
    "            'split2_test_score', \n",
    "            'std_test_score'],\n",
    "            axis=1)\n",
    "rs_df.head(10)"
   ]
  },
  {
   "cell_type": "markdown",
   "id": "cb4c1268",
   "metadata": {},
   "source": [
    "Теперь создадим столбчатые графики, на которых, по оси Х, расположены значения гиперпараметров, а по оси Y — средние значения, показываемые моделями. Это позволит понять то, какие значения гиперпараметров, в среднем, лучше всего себя показывают."
   ]
  },
  {
   "cell_type": "code",
   "execution_count": 97,
   "id": "188270d7",
   "metadata": {},
   "outputs": [
    {
     "data": {
      "image/png": "[encoded data removed]",
      "text/plain": [
       "<Figure size 2160x1800 with 6 Axes>"
      ]
     },
     "metadata": {},
     "output_type": "display_data"
    }
   ],
   "source": [
    "fig, axs = plt.subplots(ncols=3, nrows=2)\n",
    "sns.set(style=\"whitegrid\", color_codes=True, font_scale = 2)\n",
    "fig.set_size_inches(30,25)\n",
    "\n",
    "sns.barplot(x='param_n_estimators', y='mean_test_score', data=rs_df, ax=axs[0,0], color='lightgrey')\n",
    "axs[0,0].set_ylim([.68,.72])\n",
    "axs[0,0].set_title(label = 'n_estimators', size=30, weight='bold')\n",
    "sns.barplot(x='param_min_samples_split', y='mean_test_score', data=rs_df, ax=axs[0,1], color='coral')\n",
    "axs[0,1].set_ylim([.68,.72])\n",
    "axs[0,1].set_title(label = 'min_samples_split', size=30, weight='bold')\n",
    "sns.barplot(x='param_min_samples_leaf', y='mean_test_score', data=rs_df, ax=axs[0,2], color='lightgreen')\n",
    "axs[0,2].set_ylim([.68,.72])\n",
    "axs[0,2].set_title(label = 'min_samples_leaf', size=30, weight='bold')\n",
    "sns.barplot(x='param_max_features', y='mean_test_score', data=rs_df, ax=axs[1,0], color='wheat')\n",
    "axs[1,0].set_ylim([.68,.72])\n",
    "axs[1,0].set_title(label = 'max_features', size=30, weight='bold')\n",
    "sns.barplot(x='param_max_depth', y='mean_test_score', data=rs_df, ax=axs[1,1], color='lightpink')\n",
    "axs[1,1].set_ylim([.68,.72])\n",
    "axs[1,1].set_title(label = 'max_depth', size=30, weight='bold')\n",
    "sns.barplot(x='param_bootstrap',y='mean_test_score', data=rs_df, ax=axs[1,2], color='skyblue')\n",
    "axs[1,2].set_ylim([.68,.72])\n",
    "axs[1,2].set_title(label = 'bootstrap', size=30, weight='bold')\n",
    "plt.show()"
   ]
  },
  {
   "cell_type": "markdown",
   "id": "5ea299b0",
   "metadata": {},
   "source": [
    "Для более точного подбора гиперпараметров воспользуемся GridSearchCV. В нем прогоняются все возможные коминации гиперпараметров, в отличии от RandomizedSearchCV, где мы самостоятельно задаем количесвто итераций поиска."
   ]
  },
  {
   "cell_type": "code",
   "execution_count": 98,
   "id": "4af2d9de",
   "metadata": {},
   "outputs": [
    {
     "name": "stdout",
     "output_type": "stream",
     "text": [
      "Fitting 5 folds for each of 144 candidates, totalling 720 fits\n",
      "RandomForestClassifier(max_depth=9, max_features='log2', min_samples_leaf=23,\n",
      "                       min_samples_split=39, n_estimators=200)\n",
      "{'bootstrap': True, 'max_depth': 9, 'max_features': 'log2', 'min_samples_leaf': 23, 'min_samples_split': 39, 'n_estimators': 200}\n"
     ]
    }
   ],
   "source": [
    "from sklearn.model_selection import GridSearchCV\n",
    "\n",
    "# записываем лучшие подобранные параметры\n",
    "n_estimators = [100,200,300]\n",
    "min_samples_split = [18,28,39,2]\n",
    "min_samples_leaf = [12,23,28,34]\n",
    "max_features = ['log2']\n",
    "max_depth = [2,3,9]\n",
    "bootstrap = [True]\n",
    "\n",
    "# создаем словарь параметров\n",
    "param_grid = {'n_estimators': n_estimators,\n",
    "               'max_features': max_features,\n",
    "               'max_depth': max_depth,\n",
    "               'min_samples_split': min_samples_split,\n",
    "               'min_samples_leaf': min_samples_leaf,\n",
    "               'bootstrap': bootstrap}\n",
    "\n",
    "model = RandomForestClassifier()\n",
    "\n",
    "# инициализируем функцию подбора параметров\n",
    "gs = GridSearchCV(model, \n",
    "                  param_grid, \n",
    "                  verbose = 1, # уровень детализации\n",
    "                  n_jobs=-1) # использование всех процессов для параллельного выполнения\n",
    "\n",
    "gs.fit(x_train_scaled_pca, y_train)\n",
    "print(gs.best_estimator_)\n",
    "print(gs.best_params_)"
   ]
  },
  {
   "cell_type": "markdown",
   "id": "0eb21216",
   "metadata": {},
   "source": [
    "Обучаем модель и смотрим на результаты"
   ]
  },
  {
   "cell_type": "code",
   "execution_count": 99,
   "id": "f6fbcb6a",
   "metadata": {},
   "outputs": [],
   "source": [
    "model = RandomForestClassifier()\n",
    "\n",
    "start = time.time() # точка отсчета времени\n",
    "model.fit(x_train_scaled_pca, y_train)\n",
    "y_pred_gs = gs.best_estimator_.predict(x_test_scaled_pca)\n",
    "end = time.time() - start # время работы программы\n",
    "returned = get_metrics(y_test, y_pred_gs).append(pd.Series((end), index = ['time']))"
   ]
  },
  {
   "cell_type": "code",
   "execution_count": 100,
   "id": "3b674b84",
   "metadata": {},
   "outputs": [],
   "source": [
    "scores.iloc[2] = returned"
   ]
  },
  {
   "cell_type": "markdown",
   "id": "2033a76b",
   "metadata": {},
   "source": [
    "11. Сделайте вывод о применимости модели."
   ]
  },
  {
   "cell_type": "code",
   "execution_count": 123,
   "id": "57162d34",
   "metadata": {},
   "outputs": [
    {
     "data": {
      "text/html": [
       "<div>\n",
       "<style scoped>\n",
       "    .dataframe tbody tr th:only-of-type {\n",
       "        vertical-align: middle;\n",
       "    }\n",
       "\n",
       "    .dataframe tbody tr th {\n",
       "        vertical-align: top;\n",
       "    }\n",
       "\n",
       "    .dataframe thead th {\n",
       "        text-align: right;\n",
       "    }\n",
       "</style>\n",
       "<table border=\"1\" class=\"dataframe\">\n",
       "  <thead>\n",
       "    <tr style=\"text-align: right;\">\n",
       "      <th></th>\n",
       "      <th>accuracy</th>\n",
       "      <th>precision</th>\n",
       "      <th>recall</th>\n",
       "      <th>f1_score</th>\n",
       "      <th>time</th>\n",
       "    </tr>\n",
       "  </thead>\n",
       "  <tbody>\n",
       "    <tr>\n",
       "      <th>RF</th>\n",
       "      <td>0.7</td>\n",
       "      <td>0.478261</td>\n",
       "      <td>0.186441</td>\n",
       "      <td>0.268293</td>\n",
       "      <td>0.513842</td>\n",
       "    </tr>\n",
       "    <tr>\n",
       "      <th>RF + PCA</th>\n",
       "      <td>0.68</td>\n",
       "      <td>0.419355</td>\n",
       "      <td>0.220339</td>\n",
       "      <td>0.288889</td>\n",
       "      <td>0.170626</td>\n",
       "    </tr>\n",
       "    <tr>\n",
       "      <th>RF + PCA + HT</th>\n",
       "      <td>0.72</td>\n",
       "      <td>0.636364</td>\n",
       "      <td>0.118644</td>\n",
       "      <td>0.2</td>\n",
       "      <td>0.829654</td>\n",
       "    </tr>\n",
       "  </tbody>\n",
       "</table>\n",
       "</div>"
      ],
      "text/plain": [
       "              accuracy precision    recall  f1_score      time\n",
       "RF                 0.7  0.478261  0.186441  0.268293  0.513842\n",
       "RF + PCA          0.68  0.419355  0.220339  0.288889  0.170626\n",
       "RF + PCA + HT     0.72  0.636364  0.118644       0.2  0.829654"
      ]
     },
     "execution_count": 123,
     "metadata": {},
     "output_type": "execute_result"
    }
   ],
   "source": [
    "scores"
   ]
  },
  {
   "cell_type": "code",
   "execution_count": null,
   "id": "b01badcc",
   "metadata": {},
   "outputs": [],
   "source": []
  }
 ],
 "metadata": {
  "kernelspec": {
   "display_name": "Python 3",
   "language": "python",
   "name": "python3"
  },
  "language_info": {
   "codemirror_mode": {
    "name": "ipython",
    "version": 3
   },
   "file_extension": ".py",
   "mimetype": "text/x-python",
   "name": "python",
   "nbconvert_exporter": "python",
   "pygments_lexer": "ipython3",
   "version": "3.8.8"
  }
 },
 "nbformat": 4,
 "nbformat_minor": 5
}
