{
  "cells": [
    {
      "cell_type": "code",
      "execution_count": 4,
      "id": "20e59758",
      "metadata": {
        "id": "20e59758"
      },
      "outputs": [],
      "source": [
        "import torch.optim as optim\n",
        "import torch\n",
        "import numpy as np\n",
        "import matplotlib.pyplot as plt\n",
        "import random\n",
        "import warnings\n",
        "warnings.filterwarnings(\"ignore\")"
      ]
    },
    {
      "cell_type": "code",
      "execution_count": null,
      "id": "687ac26c",
      "metadata": {
        "id": "687ac26c"
      },
      "outputs": [],
      "source": [
        "import re\n",
        "import nltk\n",
        "import torch\n",
        "from torch.utils.data import Dataset, DataLoader\n",
        "import torch.nn as nn\n",
        "import torch.optim as optim\n",
        "import pandas as pd\n",
        "from sklearn.model_selection import train_test_split\n",
        "from sklearn.metrics import accuracy_score, confusion_matrix, classification_report\n",
        "from nltk.tokenize import word_tokenize\n",
        "from sklearn.preprocessing import LabelEncoder\n",
        "# nltk.download('punkt')\n",
        "import numpy as np\n",
        "from copy import deepcopy\n",
        "import seaborn as sns"
      ]
    },
    {
      "cell_type": "code",
      "execution_count": null,
      "id": "e0b9007f",
      "metadata": {
        "id": "e0b9007f",
        "outputId": "ced32b24-db6f-4e15-c6e1-07cb1920ad30"
      },
      "outputs": [
        {
          "data": {
            "text/html": [
              "<div>\n",
              "<style scoped>\n",
              "    .dataframe tbody tr th:only-of-type {\n",
              "        vertical-align: middle;\n",
              "    }\n",
              "\n",
              "    .dataframe tbody tr th {\n",
              "        vertical-align: top;\n",
              "    }\n",
              "\n",
              "    .dataframe thead th {\n",
              "        text-align: right;\n",
              "    }\n",
              "</style>\n",
              "<table border=\"1\" class=\"dataframe\">\n",
              "  <thead>\n",
              "    <tr style=\"text-align: right;\">\n",
              "      <th></th>\n",
              "      <th>Class Index</th>\n",
              "      <th>Title</th>\n",
              "      <th>Description</th>\n",
              "    </tr>\n",
              "  </thead>\n",
              "  <tbody>\n",
              "    <tr>\n",
              "      <th>0</th>\n",
              "      <td>2</td>\n",
              "      <td>Iowa Expecting Capital One Invitation (AP)</td>\n",
              "      <td>AP - Here's some advice from the Capital One B...</td>\n",
              "    </tr>\n",
              "    <tr>\n",
              "      <th>1</th>\n",
              "      <td>1</td>\n",
              "      <td>106 mainland enterprises listed outside mainla...</td>\n",
              "      <td>By the end of August 2004, a total of 106 Chin...</td>\n",
              "    </tr>\n",
              "  </tbody>\n",
              "</table>\n",
              "</div>"
            ],
            "text/plain": [
              "   Class Index                                              Title  \\\n",
              "0            2         Iowa Expecting Capital One Invitation (AP)   \n",
              "1            1  106 mainland enterprises listed outside mainla...   \n",
              "\n",
              "                                         Description  \n",
              "0  AP - Here's some advice from the Capital One B...  \n",
              "1  By the end of August 2004, a total of 106 Chin...  "
            ]
          },
          "execution_count": 19,
          "metadata": {},
          "output_type": "execute_result"
        }
      ],
      "source": [
        "df = pd.read_csv(\"news.csv\")\n",
        "df.head(2)"
      ]
    },
    {
      "cell_type": "code",
      "execution_count": null,
      "id": "0df840a4",
      "metadata": {
        "id": "0df840a4"
      },
      "outputs": [],
      "source": [
        "X = df[\"Title\"]\n",
        "y = df[\"Class Index\"]"
      ]
    },
    {
      "cell_type": "code",
      "execution_count": null,
      "id": "d288f7d3",
      "metadata": {
        "id": "d288f7d3",
        "outputId": "076e10dc-5df4-474b-8750-1360f563ada4"
      },
      "outputs": [
        {
          "data": {
            "image/png": "[encoded data removed]",
            "text/plain": [
              "<Figure size 432x288 with 1 Axes>"
            ]
          },
          "metadata": {
            "needs_background": "light"
          },
          "output_type": "display_data"
        }
      ],
      "source": [
        "#Сбалансирована\n",
        "plt.bar(x=range(4), height=y.value_counts());"
      ]
    },
    {
      "cell_type": "code",
      "execution_count": null,
      "id": "dce8feb4",
      "metadata": {
        "id": "dce8feb4"
      },
      "outputs": [],
      "source": [
        "# nltk.download('punkt')\n",
        "from string import punctuation\n",
        "pattern = re.compile(r\"[a-zA-Z]+\")\n",
        "\n",
        "def to_words(text):\n",
        "    text = text.lower()\n",
        "    words = [pattern.search(word).group() for word in word_tokenize(text) if word not in punctuation and pattern.search(word)]\n",
        "    return words"
      ]
    },
    {
      "cell_type": "code",
      "execution_count": null,
      "id": "4a4e4c59",
      "metadata": {
        "id": "4a4e4c59"
      },
      "outputs": [],
      "source": [
        "for i in range(X.shape[0]):\n",
        "    X[i] = to_words(X[i])"
      ]
    },
    {
      "cell_type": "code",
      "execution_count": null,
      "id": "ae1418ae",
      "metadata": {
        "id": "ae1418ae"
      },
      "outputs": [],
      "source": [
        "encoder = LabelEncoder()\n",
        "y = encoder.fit_transform(y)"
      ]
    },
    {
      "cell_type": "code",
      "execution_count": null,
      "id": "1743c474",
      "metadata": {
        "id": "1743c474"
      },
      "outputs": [],
      "source": [
        "class Vocab:\n",
        "    def __init__(self, data):\n",
        "        self.max_seq_len = data.apply(len).max()\n",
        "        tokens = set()\n",
        "        for item in data:\n",
        "            tokens.update(item)\n",
        "\n",
        "        self.idx_to_token = dict(enumerate(tokens, 1))\n",
        "        self.idx_to_token[0] = \"<PAD>\"\n",
        "        self.token_to_idx = {token: idx for idx, token in self.idx_to_token.items()}\n",
        "        self.vocab_len = len(self.idx_to_token)"
      ]
    },
    {
      "cell_type": "code",
      "execution_count": null,
      "id": "e5d3882a",
      "metadata": {
        "id": "e5d3882a"
      },
      "outputs": [],
      "source": [
        "class TextDataset(Dataset):\n",
        "    def __init__(self, X, y, vocab: Vocab):\n",
        "        self.X = X\n",
        "        self.y = torch.LongTensor(y)\n",
        "        self.vocab = vocab\n",
        "\n",
        "    def vectorize(self, text):\n",
        "        sent_t = torch.zeros(self.vocab.max_seq_len).long()\n",
        "        for i, token in enumerate(text):\n",
        "            sent_t[i] = self.vocab.token_to_idx[token]\n",
        "        return sent_t\n",
        "\n",
        "    def __len__(self):\n",
        "        return len(self.X)\n",
        "\n",
        "    def __getitem__(self, idx):\n",
        "        return self.vectorize(self.X.iloc[idx]), self.y[idx]"
      ]
    },
    {
      "cell_type": "code",
      "execution_count": null,
      "id": "eea3bc34",
      "metadata": {
        "id": "eea3bc34"
      },
      "outputs": [],
      "source": [
        "batch_size = 64\n",
        "X_train, X_test, y_train, y_test = train_test_split(X, y, test_size=0.2)\n",
        "vocab = Vocab(X)\n",
        "trainset = TextDataset(X_train, y_train, vocab)\n",
        "testset = TextDataset(X_test, y_test, vocab)\n",
        "trainloader = DataLoader(trainset, batch_size=batch_size)\n",
        "testloader = DataLoader(testset, batch_size=batch_size)"
      ]
    },
    {
      "cell_type": "code",
      "execution_count": null,
      "id": "999e3fe2",
      "metadata": {
        "id": "999e3fe2"
      },
      "outputs": [],
      "source": [
        "class MyModel(nn.Module):\n",
        "    def __init__(self, input_size, hidden_size, vocab_len, pad_idx, num_classes):\n",
        "        super(MyModel, self).__init__()\n",
        "        self.lstm = nn.LSTM(input_size, hidden_size, batch_first=True)\n",
        "        self.emb = nn.Embedding(\n",
        "            num_embeddings=vocab_len,\n",
        "            embedding_dim=input_size,\n",
        "            padding_idx=pad_idx\n",
        "        )\n",
        "        self.fc = nn.Linear(in_features=hidden_size, out_features=num_classes)\n",
        "\n",
        "    def forward(self, x):\n",
        "        x = self.emb(x)\n",
        "        output, _ = self.lstm(x)\n",
        "        x = self.fc(output[:,-1,:])\n",
        "        return x"
      ]
    },
    {
      "cell_type": "code",
      "execution_count": null,
      "id": "d64a315b",
      "metadata": {
        "id": "d64a315b"
      },
      "outputs": [],
      "source": [
        "model = MyModel(\n",
        "    input_size=64,\n",
        "    hidden_size=64,\n",
        "    vocab_len=vocab.vocab_len,\n",
        "    pad_idx=0,\n",
        "    num_classes=4\n",
        ")\n",
        "criterion = nn.CrossEntropyLoss()\n",
        "optimizer = optim.Adam(params=model.parameters(), lr=0.01)"
      ]
    },
    {
      "cell_type": "code",
      "execution_count": null,
      "id": "c1c06b12",
      "metadata": {
        "id": "c1c06b12",
        "outputId": "f67f70f5-a024-449b-ea3a-f05aed1022bd"
      },
      "outputs": [
        {
          "name": "stdout",
          "output_type": "stream",
          "text": [
            "#0 train loss: 1.3734 train acc: 0.2731 test loss: 1.2812 test acc: 0.3665\n",
            "#2 train loss: 0.9307 train acc: 0.5455 test loss: 1.0216 test acc: 0.5560\n",
            "#4 train loss: 0.4051 train acc: 0.8595 test loss: 0.9734 test acc: 0.6895\n",
            "#6 train loss: 0.1827 train acc: 0.9465 test loss: 1.0424 test acc: 0.6955\n",
            "#8 train loss: 0.1023 train acc: 0.9714 test loss: 1.3431 test acc: 0.6985\n",
            "#10 train loss: 0.0944 train acc: 0.9734 test loss: 1.4237 test acc: 0.6800\n"
          ]
        }
      ],
      "source": [
        "n_epochs = 11\n",
        "epoch_step = 2\n",
        "res = np.zeros((4, n_epochs))\n",
        "\n",
        "for epoch in range(n_epochs):\n",
        "    y_pred = torch.empty(0)\n",
        "    y_true = torch.empty(0, dtype=torch.long)\n",
        "    model.train()\n",
        "    for X_batch, y_batch in trainloader:\n",
        "        optimizer.zero_grad()\n",
        "        predictions = model(X_batch)\n",
        "        loss = criterion(predictions, y_batch)\n",
        "        loss.backward()\n",
        "        optimizer.step()\n",
        "        with torch.no_grad():\n",
        "            y_true = torch.cat((y_true, y_batch))\n",
        "            y_pred = torch.cat((y_pred, predictions))\n",
        "    with torch.no_grad():\n",
        "        train_acc = accuracy_score(y_true, y_pred.argmax(dim=1)).item()\n",
        "        train_loss = criterion(y_pred, y_true).item()\n",
        "\n",
        "    model.eval()\n",
        "    with torch.no_grad():\n",
        "        y_pred = torch.empty(0)\n",
        "        y_true = torch.empty(0, dtype=torch.long)\n",
        "        for X_batch, y_batch in testloader:\n",
        "            predictions = model(X_batch)\n",
        "            y_true = torch.cat((y_true, y_batch))\n",
        "            y_pred = torch.cat((y_pred, predictions))\n",
        "        val_acc = accuracy_score(y_true, y_pred.argmax(dim=1)).item()\n",
        "        val_loss = criterion(y_pred, y_true).item()\n",
        "\n",
        "        if epoch % epoch_step == 0:\n",
        "            print(f'#{epoch} train loss: {train_loss:6.4f} train acc:\\\n",
        " {train_acc:6.4f} test loss: {val_loss:6.4f} test acc: {val_acc:6.4f}')\n",
        "    res[:, epoch] = train_loss, train_acc, val_loss, val_acc"
      ]
    },
    {
      "cell_type": "code",
      "execution_count": null,
      "id": "ce22f25d",
      "metadata": {
        "id": "ce22f25d",
        "outputId": "fc7742d9-71d7-4fd4-f63c-381ba59d8372"
      },
      "outputs": [
        {
          "data": {
            "image/png": "[encoded data removed]",
            "text/plain": [
              "<Figure size 576x360 with 1 Axes>"
            ]
          },
          "metadata": {
            "needs_background": "light"
          },
          "output_type": "display_data"
        }
      ],
      "source": [
        "plt.figure(figsize=(8,5))\n",
        "plt.title(\"Ошибка на тренировочном множестве\")\n",
        "plt.plot(range(n_epochs), res[0]);"
      ]
    },
    {
      "cell_type": "code",
      "execution_count": null,
      "id": "567d0aef",
      "metadata": {
        "id": "567d0aef",
        "outputId": "f89f221c-3d4e-42a3-902a-49fb3c9a82af"
      },
      "outputs": [
        {
          "data": {
            "image/png": "[encoded data removed]",
            "text/plain": [
              "<Figure size 432x288 with 2 Axes>"
            ]
          },
          "metadata": {
            "needs_background": "light"
          },
          "output_type": "display_data"
        }
      ],
      "source": [
        "sns.heatmap(confusion_matrix(y_true, y_pred.argmax(dim=1)), annot=True, fmt=\"2d\");"
      ]
    },
    {
      "cell_type": "code",
      "execution_count": null,
      "id": "c566e560",
      "metadata": {
        "id": "c566e560",
        "outputId": "75d22da4-1ce9-47c4-f4e2-78239e041545"
      },
      "outputs": [
        {
          "name": "stdout",
          "output_type": "stream",
          "text": [
            "              precision    recall  f1-score   support\n",
            "\n",
            "           0       0.80      0.72      0.76       516\n",
            "           1       0.74      0.64      0.69       511\n",
            "           2       0.55      0.70      0.62       497\n",
            "           3       0.68      0.65      0.67       476\n",
            "\n",
            "    accuracy                           0.68      2000\n",
            "   macro avg       0.69      0.68      0.68      2000\n",
            "weighted avg       0.69      0.68      0.68      2000\n",
            "\n"
          ]
        }
      ],
      "source": [
        "print(classification_report(y_true, y_pred.argmax(dim=1)))"
      ]
    },
    {
      "cell_type": "markdown",
      "source": [
        "поиск экстремума"
      ],
      "metadata": {
        "id": "zYfEZ9IVLVcq"
      },
      "id": "zYfEZ9IVLVcq"
    },
    {
      "cell_type": "code",
      "execution_count": 5,
      "id": "0fbccd78",
      "metadata": {
        "id": "0fbccd78",
        "outputId": "0f73bc62-a04e-4b95-f58f-74dc7d9833ef",
        "colab": {
          "base_uri": "https://localhost:8080/",
          "height": 430
        }
      },
      "outputs": [
        {
          "output_type": "display_data",
          "data": {
            "text/plain": [
              "<Figure size 640x480 with 1 Axes>"
            ],
            "image/png": "[encoded data removed]"
          },
          "metadata": {}
        }
      ],
      "source": [
        "def function(x):\n",
        "    return 4*x - 5*torch.log(x+11)+12\n",
        "array_x = torch.linspace(-10.75, -9, 100)\n",
        "array_y = []\n",
        "for x in array_x:\n",
        "    array_y.append(function(x))\n",
        "plt.plot(array_x, array_y);"
      ]
    },
    {
      "cell_type": "code",
      "execution_count": 7,
      "id": "3d9bcbb0",
      "metadata": {
        "scrolled": true,
        "id": "3d9bcbb0",
        "outputId": "79237f68-12bf-41a5-a374-bbbc719c2c21",
        "colab": {
          "base_uri": "https://localhost:8080/",
          "height": 447
        }
      },
      "outputs": [
        {
          "output_type": "stream",
          "name": "stdout",
          "text": [
            "x min = -9.75 при y min = -28.12\n"
          ]
        },
        {
          "output_type": "display_data",
          "data": {
            "text/plain": [
              "<Figure size 640x480 with 1 Axes>"
            ],
            "image/png": "[encoded data removed]"
          },
          "metadata": {}
        }
      ],
      "source": [
        "list_x, list_y = [], []\n",
        "current_x = random.sample(list(array_x[~np.isnan(array_x)]), 1)\n",
        "current_x = torch.tensor(current_x, requires_grad=True)\n",
        "e = 0.0001\n",
        "prev = 10000\n",
        "optimizer = optim.Adagrad((current_x, ), lr=1)\n",
        "while abs(prev-current_x) > e:\n",
        "    prev = current_x.item()\n",
        "    current_y = function(current_x)\n",
        "    list_x.append(current_x.item())\n",
        "    list_y.append(current_y.item())\n",
        "    current_y.backward()\n",
        "    optimizer.step()\n",
        "    optimizer.zero_grad()\n",
        "\n",
        "print(f\"x min = {list_x[-1]:.2f} при y min = {list_y[-1]:.2f}\")\n",
        "plt.plot(array_x, array_y)\n",
        "plt.plot(list_x, list_y, c=\"red\", marker=\"*\");"
      ]
    },
    {
      "cell_type": "code",
      "source": [],
      "metadata": {
        "id": "Ei0m638ULXzg"
      },
      "id": "Ei0m638ULXzg",
      "execution_count": null,
      "outputs": []
    }
  ],
  "metadata": {
    "kernelspec": {
      "display_name": "Python 3 (ipykernel)",
      "language": "python",
      "name": "python3"
    },
    "language_info": {
      "codemirror_mode": {
        "name": "ipython",
        "version": 3
      },
      "file_extension": ".py",
      "mimetype": "text/x-python",
      "name": "python",
      "nbconvert_exporter": "python",
      "pygments_lexer": "ipython3",
      "version": "3.9.7"
    },
    "colab": {
      "provenance": []
    }
  },
  "nbformat": 4,
  "nbformat_minor": 5
}