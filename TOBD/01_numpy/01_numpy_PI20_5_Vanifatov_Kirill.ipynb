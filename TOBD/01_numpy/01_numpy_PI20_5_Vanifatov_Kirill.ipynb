{
 "cells": [
  {
   "cell_type": "markdown",
   "metadata": {
    "id": "36Qx9eHdXZky"
   },
   "source": [
    "# Numpy"
   ]
  },
  {
   "cell_type": "markdown",
   "metadata": {
    "id": "sW3qeSZEXZk0"
   },
   "source": [
    "Материалы:\n",
    "* Макрушин С.В. \"Лекция 1: Библиотека Numpy\"\n",
    "* https://numpy.org/doc/stable/user/index.html\n",
    "* https://numpy.org/doc/stable/reference/index.html"
   ]
  },
  {
   "cell_type": "markdown",
   "metadata": {
    "id": "QLu2-i7SXZk1"
   },
   "source": [
    "## Задачи для совместного разбора"
   ]
  },
  {
   "cell_type": "markdown",
   "metadata": {
    "id": "8zQsIi8fXZk1"
   },
   "source": [
    "1. Сгенерировать двухмерный массив `arr` размерности (4, 7), состоящий из случайных действительных чисел, равномерно распределенных в диапазоне от 0 до 20. Нормализовать значения массива с помощью преобразования вида  $𝑎𝑥+𝑏$  так, что после нормализации максимальный элемент масcива будет равен 1.0, минимальный 0.0"
   ]
  },
  {
   "cell_type": "code",
   "execution_count": 6,
   "metadata": {},
   "outputs": [],
   "source": [
    "import numpy as np\n",
    "import csv"
   ]
  },
  {
   "cell_type": "code",
   "execution_count": 7,
   "metadata": {
    "id": "t1ZVRPNJXZk2"
   },
   "outputs": [
    {
     "data": {
      "text/plain": [
       "array([[ 0,  1,  2,  3,  4],\n",
       "       [ 5,  6,  7,  8,  9],\n",
       "       [10, 11, 12, 13, 14],\n",
       "       [10, 11, 12, 13, 14]])"
      ]
     },
     "execution_count": 7,
     "metadata": {},
     "output_type": "execute_result"
    }
   ],
   "source": [
    "# заполнение массива 4 строки 7 столбцов рандомом в диапазоне от 0 до 20\n",
    "\n",
    "arr = np.array([[0, 1, 2, 3, 4], [5, 6, 7, 8, 9], [10, 11, 12, 13, 14], [10, 11, 12, 13, 14]])\n",
    "arr"
   ]
  },
  {
   "cell_type": "markdown",
   "metadata": {
    "id": "6HFan2EWXZk2"
   },
   "source": [
    "2. Создать матрицу 8 на 10 из случайных целых (используя модуль `numpy.random`) чисел из диапозона от 0 до 10 и найти в ней строку (ее индекс и вывести саму строку), в которой сумма значений минимальна."
   ]
  },
  {
   "cell_type": "code",
   "execution_count": 39,
   "metadata": {},
   "outputs": [
    {
     "data": {
      "text/plain": [
       "array([[1, 0, 7, 9, 7, 7, 1, 0, 8, 8],\n",
       "       [1, 4, 9, 6, 8, 8, 4, 8, 7, 8],\n",
       "       [7, 0, 1, 7, 8, 1, 3, 6, 7, 1],\n",
       "       [5, 4, 8, 7, 9, 3, 1, 2, 2, 2],\n",
       "       [7, 8, 1, 9, 3, 2, 4, 6, 6, 7],\n",
       "       [2, 5, 6, 9, 9, 0, 1, 0, 2, 2],\n",
       "       [9, 7, 4, 2, 0, 6, 5, 1, 2, 9],\n",
       "       [9, 1, 2, 1, 1, 1, 1, 9, 1, 8]])"
      ]
     },
     "execution_count": 39,
     "metadata": {},
     "output_type": "execute_result"
    }
   ],
   "source": [
    "arr = np.random.randint(0, 10, size=(8, 10))\n",
    "arr"
   ]
  },
  {
   "cell_type": "code",
   "execution_count": 36,
   "metadata": {},
   "outputs": [
    {
     "name": "stdout",
     "output_type": "stream",
     "text": [
      "1\n"
     ]
    },
    {
     "data": {
      "text/plain": [
       "array([3, 3, 5, 7, 0, 8, 0, 0, 0, 5])"
      ]
     },
     "execution_count": 36,
     "metadata": {},
     "output_type": "execute_result"
    }
   ],
   "source": [
    "min_index = np.argmin(arr.sum(axis=1))\n",
    "print(min_index)\n",
    "arr[min_index, :]"
   ]
  },
  {
   "cell_type": "markdown",
   "metadata": {
    "id": "Hk4SGXbUXZk3"
   },
   "source": [
    "3. Найти евклидово расстояние между двумя одномерными векторами одинаковой размерности."
   ]
  },
  {
   "cell_type": "code",
   "execution_count": 37,
   "metadata": {},
   "outputs": [
    {
     "name": "stdout",
     "output_type": "stream",
     "text": [
      "[9 4 1 4 8 3 3 3 6 5]\n",
      "[7 7 4 4 8 4 1 0 6 6]\n",
      "6.082762530298219\n",
      "6.082762530298219\n",
      "True\n"
     ]
    }
   ],
   "source": [
    "arr1 = np.random.randint(0, 10, size=10)\n",
    "print(arr1)\n",
    "arr2 = np.random.randint(0, 10, size=10)\n",
    "print(arr2)\n",
    "dist_auto = np.linalg.norm(arr1-arr2)\n",
    "print(dist_auto)\n",
    "\n",
    "dist_manual = np.sum((arr1-arr2) ** 2) ** (1/2)\n",
    "print(dist_manual)\n",
    "\n",
    "print(dist_auto == dist_manual)"
   ]
  },
  {
   "cell_type": "markdown",
   "metadata": {
    "id": "yYxUlXEpXZk3"
   },
   "source": [
    "4. Решить матричное уравнение `A*X*B=-C` - найти матрицу `X`. Где `A = [[-1, 2, 4], [-3, 1, 2], [-3, 0, 1]]`, `B=[[3, -1], [2, 1]]`, `C=[[7, 21], [11, 8], [8, 4]]`."
   ]
  },
  {
   "cell_type": "code",
   "execution_count": 38,
   "metadata": {},
   "outputs": [
    {
     "data": {
      "text/plain": [
       "matrix([[ 1.00000000e+00,  1.11022302e-15],\n",
       "        [-2.00000000e+00,  1.00000000e+00],\n",
       "        [ 3.00000000e+00, -4.00000000e+00]])"
      ]
     },
     "execution_count": 38,
     "metadata": {},
     "output_type": "execute_result"
    }
   ],
   "source": [
    "a = np.matrix([[-1, 2, 4], [-3, 1, 2], [-3, 0, 1]])\n",
    "b = np.matrix([[3, -1], [2, 1]])\n",
    "c = np.matrix([[7, 21], [11, 8], [8, 4]])\n",
    "\n",
    "\"\"\"\n",
    "A*X*B=-C, при выражении X получаем:\n",
    "X=A^-1*(-C)*B^-1\n",
    "\"\"\"\n",
    "result1 = np.linalg.inv(a) @ -c @ np.linalg.inv(b)\n",
    "result1"
   ]
  },
  {
   "cell_type": "markdown",
   "metadata": {
    "id": "xw3ddSkiXZk4"
   },
   "source": [
    "## Лабораторная работа №1"
   ]
  },
  {
   "cell_type": "markdown",
   "metadata": {
    "id": "1sg-poU1XZk4"
   },
   "source": [
    "Замечание: при решении данных задач не подразумевается использования циклов или генераторов Python, если в задании не сказано обратного. Решение должно опираться на использования функционала библиотеки `numpy`."
   ]
  },
  {
   "cell_type": "markdown",
   "metadata": {
    "id": "4sH6zWa_XZk4"
   },
   "source": [
    "1. Файл `minutes_n_ingredients.csv` содержит информацию об идентификаторе рецепта, времени его выполнения в минутах и количестве необходимых ингредиентов. Считайте данные из этого файла в виде массива `numpy` типа `int32`, используя `np.loadtxt`. Выведите на экран первые 5 строк массива."
   ]
  },
  {
   "cell_type": "code",
   "execution_count": 8,
   "metadata": {},
   "outputs": [
    {
     "data": {
      "text/plain": [
       "array([[127244,     60,     16],\n",
       "       [ 23891,     25,      7],\n",
       "       [ 94746,     10,      6],\n",
       "       ...,\n",
       "       [498432,     65,     15],\n",
       "       [370915,      5,      4],\n",
       "       [ 81993,    140,     14]])"
      ]
     },
     "metadata": {},
     "output_type": "display_data"
    }
   ],
   "source": [
    "# using loadtxt()\n",
    "# delimiter=\",\" - разделитель\n",
    "# skiprows=1 - пропуск первой строки в датасете\n",
    "array_dataset = np.loadtxt(\"minutes_n_ingredients.csv\",\n",
    "                 delimiter=\",\",skiprows=1, dtype=np.int32)\n",
    "display(array_dataset)"
   ]
  },
  {
   "cell_type": "markdown",
   "metadata": {
    "id": "UvLrPmfcXZk5"
   },
   "source": [
    "2. Вычислите среднее значение, минимум, максимум и медиану по каждому из столбцов, кроме первого."
   ]
  },
  {
   "cell_type": "code",
   "execution_count": 9,
   "metadata": {},
   "outputs": [
    {
     "name": "stdout",
     "output_type": "stream",
     "text": [
      "среднее [2.16010017e+04 9.05528000e+00]\n",
      "минимум [0 1]\n",
      "максимум [2147483647         39]\n",
      "медиана [40.  9.]\n"
     ]
    }
   ],
   "source": [
    "# mean - среднее знач\n",
    "print(\"среднее\",array_dataset[:,1:].mean(axis=0))\n",
    "# min\n",
    "print(\"минимум\", array_dataset[:,1:].min(axis=0))\n",
    "#max\n",
    "print(\"максимум\", array_dataset[:,1:].max(axis=0))\n",
    "\n",
    "#median - медиана\n",
    "print(\"медиана\", np.median(array_dataset[:,1:],axis=0))\n"
   ]
  },
  {
   "cell_type": "markdown",
   "metadata": {
    "id": "VJvegQ0vXZk5"
   },
   "source": [
    "3. Ограничьте сверху значения продолжительности выполнения рецепта значением квантиля $q_{0.75}$. "
   ]
  },
  {
   "cell_type": "code",
   "execution_count": 10,
   "metadata": {},
   "outputs": [
    {
     "name": "stdout",
     "output_type": "stream",
     "text": [
      "[[127244     60     16]\n",
      " [ 23891     25      7]\n",
      " [ 94746     10      6]\n",
      " ...\n",
      " [ 43407     35      7]\n",
      " [498432     65     15]\n",
      " [370915      5      4]]\n"
     ]
    }
   ],
   "source": [
    "#np.quantile - вычисление квантиля в дата сете\n",
    "quant = np.quantile(array_dataset[:,1], 0.75)\n",
    "print(array_dataset[array_dataset[:,1] <= quant])"
   ]
  },
  {
   "cell_type": "markdown",
   "metadata": {
    "id": "Yo8oF1CRXZk5"
   },
   "source": [
    "4. Посчитайте, для скольких рецептов указана продолжительность, равная нулю. Замените для таких строк значение в данном столбце на 1."
   ]
  },
  {
   "cell_type": "code",
   "execution_count": 11,
   "metadata": {},
   "outputs": [
    {
     "name": "stdout",
     "output_type": "stream",
     "text": [
      "(479, 3)\n"
     ]
    }
   ],
   "source": [
    "print(array_dataset[array_dataset[:,1]==0].shape) # проверка для скольких рецептов указана продолжительность равна нулю\n",
    "array_dataset[array_dataset[:,1]==0, 1] = 1 # замена на единицы"
   ]
  },
  {
   "cell_type": "markdown",
   "metadata": {
    "id": "MfxfaYUDXZk5"
   },
   "source": [
    "5. Посчитайте, сколько уникальных рецептов находится в датасете."
   ]
  },
  {
   "cell_type": "code",
   "execution_count": 12,
   "metadata": {},
   "outputs": [
    {
     "data": {
      "text/plain": [
       "100000"
      ]
     },
     "execution_count": 12,
     "metadata": {},
     "output_type": "execute_result"
    }
   ],
   "source": [
    "len(np.unique(array_dataset[:,0]))"
   ]
  },
  {
   "cell_type": "markdown",
   "metadata": {
    "id": "TeXHXuxsXZk5"
   },
   "source": [
    "6. Сколько и каких различных значений кол-ва ингредиентов присутвует в рецептах из датасета?"
   ]
  },
  {
   "cell_type": "code",
   "execution_count": 15,
   "metadata": {},
   "outputs": [
    {
     "name": "stdout",
     "output_type": "stream",
     "text": [
      "[ 1  2  3  4  5  6  7  8  9 10 11 12 13 14 15 16 17 18 19 20 21 22 23 24\n",
      " 25 26 27 28 29 30 31 32 33 34 35 37 39]\n"
     ]
    },
    {
     "data": {
      "text/plain": [
       "37"
      ]
     },
     "execution_count": 15,
     "metadata": {},
     "output_type": "execute_result"
    }
   ],
   "source": [
    "#np.unique - находит уникальные элементы в массиве (столбец ингредиентов)\n",
    "print(np.unique(array_dataset[:, 2]))\n",
    "len(np.unique(array_dataset[:, 2]))"
   ]
  },
  {
   "cell_type": "markdown",
   "metadata": {
    "id": "yq0TYtc7XZk6"
   },
   "source": [
    "7. Создайте версию массива, содержащую информацию только о рецептах, состоящих не более чем из 5 ингредиентов."
   ]
  },
  {
   "cell_type": "code",
   "execution_count": 16,
   "metadata": {},
   "outputs": [
    {
     "data": {
      "text/plain": [
       "array([[446597,     15,      5],\n",
       "       [204134,      5,      3],\n",
       "       [ 25623,      6,      4],\n",
       "       ...,\n",
       "       [ 52088,     60,      5],\n",
       "       [128811,     15,      4],\n",
       "       [370915,      5,      4]])"
      ]
     },
     "execution_count": 16,
     "metadata": {},
     "output_type": "execute_result"
    }
   ],
   "source": [
    "# сортировка массива по 2 столбцу (столбец ингредиентов)\n",
    "array_dataset[array_dataset[:, 2]<=5]"
   ]
  },
  {
   "cell_type": "markdown",
   "metadata": {
    "id": "feEvfsiFXZk6"
   },
   "source": [
    "8. Для каждого рецепта посчитайте, сколько в среднем ингредиентов приходится на одну минуту рецепта. Найдите максимальное значение этой величины для всего датасета"
   ]
  },
  {
   "cell_type": "code",
   "execution_count": 17,
   "metadata": {},
   "outputs": [
    {
     "data": {
      "text/plain": [
       "array([0.26666667, 0.28      , 0.6       , ..., 0.23076923, 0.8       ,\n",
       "       0.1       ])"
      ]
     },
     "execution_count": 17,
     "metadata": {},
     "output_type": "execute_result"
    }
   ],
   "source": [
    "array_dataset[:,2] / array_dataset[:,1]"
   ]
  },
  {
   "cell_type": "code",
   "execution_count": 18,
   "metadata": {},
   "outputs": [
    {
     "data": {
      "text/plain": [
       "24.0"
      ]
     },
     "execution_count": 18,
     "metadata": {},
     "output_type": "execute_result"
    }
   ],
   "source": [
    "(array_dataset[:,2] / array_dataset[:,1]).max()"
   ]
  },
  {
   "cell_type": "markdown",
   "metadata": {
    "id": "_VhDQ2SSXZk6"
   },
   "source": [
    "9. Вычислите среднее количество ингредиентов для топ-100 рецептов с наибольшей продолжительностью"
   ]
  },
  {
   "cell_type": "code",
   "execution_count": 68,
   "metadata": {},
   "outputs": [
    {
     "data": {
      "text/plain": [
       "6.61"
      ]
     },
     "execution_count": 68,
     "metadata": {},
     "output_type": "execute_result"
    }
   ],
   "source": [
    "# сортировка по столбцу игридиентов (1 столбец датасета)\n",
    "rows = array_dataset[:, 1].argsort()[-100:]\n",
    "# определение среднего количества\n",
    "array_dataset[rows,2].mean()"
   ]
  },
  {
   "cell_type": "markdown",
   "metadata": {
    "id": "bhjRc3opXZk6"
   },
   "source": [
    "10. Выберите случайным образом и выведите информацию о 10 различных рецептах"
   ]
  },
  {
   "cell_type": "code",
   "execution_count": 69,
   "metadata": {},
   "outputs": [
    {
     "data": {
      "text/plain": [
       "array([[201538,    210,     16],\n",
       "       [118561,    184,      8],\n",
       "       [283702,    375,     11],\n",
       "       [245515,      5,      8],\n",
       "       [ 27508,     50,      7],\n",
       "       [286311,     90,     14],\n",
       "       [ 67950,     10,      3],\n",
       "       [429056,     23,      6],\n",
       "       [109104,    210,      9],\n",
       "       [  8698,     65,      9]])"
      ]
     },
     "execution_count": 69,
     "metadata": {},
     "output_type": "execute_result"
    }
   ],
   "source": [
    "array_dataset[np.random.randint(0, len(array_dataset), 10)] # с помощью рандома выбираем 10 рецептов"
   ]
  },
  {
   "cell_type": "markdown",
   "metadata": {
    "id": "Ro9WjaJHXZk7"
   },
   "source": [
    "11. Выведите процент рецептов, кол-во ингредиентов в которых меньше среднего."
   ]
  },
  {
   "cell_type": "code",
   "execution_count": 70,
   "metadata": {},
   "outputs": [
    {
     "data": {
      "text/plain": [
       "0.58802"
      ]
     },
     "execution_count": 70,
     "metadata": {},
     "output_type": "execute_result"
    }
   ],
   "source": [
    "# сортировка по 2 столбцу датасета \n",
    "# mean - вычисление среднего\n",
    "len(array_dataset[array_dataset[:,2] < array_dataset[:,2].mean()]) / len(array_dataset)"
   ]
  },
  {
   "cell_type": "markdown",
   "metadata": {
    "id": "3Ly5pNySXZk7"
   },
   "source": [
    "12. Назовем \"простым\" такой рецепт, длительность выполнения которого не больше 20 минут и кол-во ингредиентов в котором не больше 5. Создайте версию датасета с дополнительным столбцом, значениями которого являются 1, если рецепт простой, и 0 в противном случае."
   ]
  },
  {
   "cell_type": "code",
   "execution_count": 34,
   "metadata": {},
   "outputs": [
    {
     "name": "stdout",
     "output_type": "stream",
     "text": [
      "(100000, 4)\n"
     ]
    },
    {
     "data": {
      "text/plain": [
       "array([[127244,     60,     16,      0],\n",
       "       [ 23891,     25,      7,      0],\n",
       "       [ 94746,     10,      6,      0],\n",
       "       ...,\n",
       "       [498432,     65,     15,      0],\n",
       "       [370915,      5,      4,      1],\n",
       "       [ 81993,    140,     14,      0]])"
      ]
     },
     "execution_count": 34,
     "metadata": {},
     "output_type": "execute_result"
    }
   ],
   "source": [
    "#np.zeros - создает матрицу заполненую нулями\n",
    "#.astype(np.int32) - преобразование к указанному типу массива\n",
    "array_dataset_2 = np.zeros((len(array_dataset),4), dtype=np.int32)\n",
    "array_dataset_2[:,:3] = array_dataset\n",
    "array_dataset_2[:,3] =(array_dataset[:,1]<=20) & (array_dataset[:,2]<= 5).astype(np.int32)\n",
    "print(array_dataset_2.shape)\n",
    "array_dataset_2"
   ]
  },
  {
   "cell_type": "markdown",
   "metadata": {
    "id": "1h4cig32XZk7"
   },
   "source": [
    "13. Выведите процент \"простых\" рецептов в датасете"
   ]
  },
  {
   "cell_type": "code",
   "execution_count": 72,
   "metadata": {},
   "outputs": [
    {
     "data": {
      "text/plain": [
       "(0.09552, 0.90448)"
      ]
     },
     "execution_count": 72,
     "metadata": {},
     "output_type": "execute_result"
    }
   ],
   "source": [
    "easy_one_recipes = (array_dataset_2[:,-1] == 1).sum()\n",
    "easy_one_recipes/len(array_dataset_2), 1 - easy_one_recipes/len(array_dataset_2)\n",
    "\n",
    "# первое число в скобках показывает процент простых рецептов\n",
    "# второе число показывает процент сложных рецептов 1 - easy_one_recipes/len(....)"
   ]
  },
  {
   "cell_type": "markdown",
   "metadata": {
    "id": "qR4lVThaXZk7"
   },
   "source": [
    "14. Разделим рецепты на группы по следующему правилу. Назовем рецепты короткими, если их продолжительность составляет менее 10 минут; стандартными, если их продолжительность составляет более 10, но менее 20 минут; и длинными, если их продолжительность составляет не менее 20 минут. Создайте трехмерный массив, где нулевая ось отвечает за номер группы (короткий, стандартный или длинный рецепт), первая ось - за сам рецепт и вторая ось - за характеристики рецепта. Выберите максимальное количество рецептов из каждой группы таким образом, чтобы было возможно сформировать трехмерный массив. Выведите форму полученного массива."
   ]
  },
  {
   "cell_type": "code",
   "execution_count": 30,
   "metadata": {
    "id": "gFQ0zKqMXZk8"
   },
   "outputs": [],
   "source": [
    "shorten = array_dataset[array_dataset[:,1]<10]\n",
    "standartnie = array_dataset[array_dataset[:,1]>=10 & (array_dataset[:,1]<20)]\n",
    "dlinnie = array_dataset[array_dataset[:,1]>=20]"
   ]
  },
  {
   "cell_type": "code",
   "execution_count": 31,
   "metadata": {},
   "outputs": [],
   "source": [
    "max_number = min(len(shorten),len(standartnie),len(dlinnie))\n",
    "massive = np.stack([shorten[:max_number], standartnie[:max_number], dlinnie[:max_number]])"
   ]
  },
  {
   "cell_type": "code",
   "execution_count": 32,
   "metadata": {},
   "outputs": [
    {
     "data": {
      "text/plain": [
       "(3, 7588, 3)"
      ]
     },
     "execution_count": 32,
     "metadata": {},
     "output_type": "execute_result"
    }
   ],
   "source": [
    "massive.shape"
   ]
  }
 ],
 "metadata": {
  "colab": {
   "provenance": []
  },
  "kernelspec": {
   "display_name": "Python 3",
   "language": "python",
   "name": "python3"
  },
  "language_info": {
   "codemirror_mode": {
    "name": "ipython",
    "version": 3
   },
   "file_extension": ".py",
   "mimetype": "text/x-python",
   "name": "python",
   "nbconvert_exporter": "python",
   "pygments_lexer": "ipython3",
   "version": "3.8.8"
  }
 },
 "nbformat": 4,
 "nbformat_minor": 1
}
