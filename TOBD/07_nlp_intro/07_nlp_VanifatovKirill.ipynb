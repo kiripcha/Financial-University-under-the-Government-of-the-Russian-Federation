{
 "cells": [
  {
   "cell_type": "markdown",
   "metadata": {},
   "source": [
    "# Введение в обработку текста на естественном языке"
   ]
  },
  {
   "cell_type": "markdown",
   "metadata": {},
   "source": [
    "__Автор задач: Блохин Н.В. (NVBlokhin@fa.ru)__\n",
    "\n",
    "Материалы:\n",
    "* Макрушин С.В. Лекция \"Введение в обработку текста на естественном языке\"\n",
    "* https://www.nltk.org/api/nltk.metrics.distance.html\n",
    "* https://pymorphy2.readthedocs.io/en/stable/user/guide.html\n",
    "* https://realpython.com/nltk-nlp-python/\n",
    "* https://scikit-learn.org/stable/modules/feature_extraction.html"
   ]
  },
  {
   "cell_type": "markdown",
   "metadata": {},
   "source": [
    "## Задачи для совместного разбора"
   ]
  },
  {
   "cell_type": "code",
   "execution_count": 1,
   "metadata": {},
   "outputs": [
    {
     "name": "stdout",
     "output_type": "stream",
     "text": [
      "Collecting pymorphy2\n",
      "  Downloading pymorphy2-0.9.1-py3-none-any.whl (55 kB)\n",
      "Collecting docopt>=0.6\n",
      "  Downloading docopt-0.6.2.tar.gz (25 kB)\n",
      "Collecting dawg-python>=0.7.1\n",
      "  Downloading DAWG_Python-0.7.2-py2.py3-none-any.whl (11 kB)\n",
      "Collecting pymorphy2-dicts-ru<3.0,>=2.4\n",
      "  Downloading pymorphy2_dicts_ru-2.4.417127.4579844-py2.py3-none-any.whl (8.2 MB)\n",
      "Building wheels for collected packages: docopt\n",
      "  Building wheel for docopt (setup.py): started\n",
      "  Building wheel for docopt (setup.py): finished with status 'done'\n",
      "  Created wheel for docopt: filename=docopt-0.6.2-py2.py3-none-any.whl size=13705 sha256=f216a456d0617373cb19b9df195c1c7a39b1adb8bade33fb3bd438afe65cfd0e\n",
      "  Stored in directory: c:\\users\\vanif\\appdata\\local\\pip\\cache\\wheels\\56\\ea\\58\\ead137b087d9e326852a851351d1debf4ada529b6ac0ec4e8c\n",
      "Successfully built docopt\n",
      "Installing collected packages: pymorphy2-dicts-ru, docopt, dawg-python, pymorphy2\n",
      "Successfully installed dawg-python-0.7.2 docopt-0.6.2 pymorphy2-0.9.1 pymorphy2-dicts-ru-2.4.417127.4579844\n"
     ]
    }
   ],
   "source": [
    "!pip install pymorphy2"
   ]
  },
  {
   "cell_type": "code",
   "execution_count": 2,
   "metadata": {},
   "outputs": [
    {
     "name": "stderr",
     "output_type": "stream",
     "text": [
      "[nltk_data] Downloading package punkt to\n",
      "[nltk_data]     C:\\Users\\vanif\\AppData\\Roaming\\nltk_data...\n",
      "[nltk_data]   Package punkt is already up-to-date!\n"
     ]
    },
    {
     "data": {
      "text/plain": [
       "True"
      ]
     },
     "execution_count": 2,
     "metadata": {},
     "output_type": "execute_result"
    }
   ],
   "source": [
    "import nltk\n",
    "nltk.download('punkt')"
   ]
  },
  {
   "cell_type": "markdown",
   "metadata": {},
   "source": [
    "1. Считайте слова из файла `litw-win.txt` и запишите их в список `words`. При помощи расстояния Левенштейна иправьте опечатку в слове \"велечайшим\"."
   ]
  },
  {
   "cell_type": "code",
   "execution_count": 1,
   "metadata": {},
   "outputs": [],
   "source": [
    "from nltk import edit_distance"
   ]
  },
  {
   "cell_type": "code",
   "execution_count": 2,
   "metadata": {},
   "outputs": [
    {
     "data": {
      "text/plain": [
       "162166"
      ]
     },
     "execution_count": 2,
     "metadata": {},
     "output_type": "execute_result"
    }
   ],
   "source": [
    "words = []\n",
    "with open('litw-win.txt') as file:\n",
    "    while True:\n",
    "        line = file.readline()\n",
    "        if not line:\n",
    "            break\n",
    "        words.append(line[8:].strip())\n",
    "len(words)"
   ]
  },
  {
   "cell_type": "code",
   "execution_count": 3,
   "metadata": {},
   "outputs": [
    {
     "data": {
      "text/plain": [
       "'величайшим'"
      ]
     },
     "execution_count": 3,
     "metadata": {},
     "output_type": "execute_result"
    }
   ],
   "source": [
    "distance = [edit_distance('велечайшим', word, substitution_cost=2) for word in words]\n",
    "words[distance.index(min(distance))]"
   ]
  },
  {
   "cell_type": "markdown",
   "metadata": {},
   "source": [
    "2. Разбейте текст из формулировки второго задания на слова. Проведите стемминг и лемматизацию слов."
   ]
  },
  {
   "cell_type": "code",
   "execution_count": 4,
   "metadata": {},
   "outputs": [],
   "source": [
    "from nltk.stem import SnowballStemmer\n",
    "from nltk import word_tokenize\n",
    "import pymorphy2\n",
    "import re"
   ]
  },
  {
   "cell_type": "code",
   "execution_count": 5,
   "metadata": {},
   "outputs": [
    {
     "data": {
      "text/plain": [
       "['разб',\n",
       " 'текст',\n",
       " 'из',\n",
       " 'формулировк',\n",
       " 'втор',\n",
       " 'задан',\n",
       " 'на',\n",
       " 'слов',\n",
       " 'провед',\n",
       " 'стемминг',\n",
       " 'и',\n",
       " 'лемматизац',\n",
       " 'слов']"
      ]
     },
     "execution_count": 5,
     "metadata": {},
     "output_type": "execute_result"
    }
   ],
   "source": [
    "text = '''Разбейте текст из формулировки второго задания на слова. Проведите стемминг и лемматизацию слов.'''\n",
    "snb_stemmer_ru = SnowballStemmer('russian')\n",
    "\n",
    "w = re.compile('^[а-яА-ЯёЁ]*$')\n",
    "[snb_stemmer_ru.stem(word) for word in word_tokenize(text) if w.search(word)]"
   ]
  },
  {
   "cell_type": "code",
   "execution_count": 6,
   "metadata": {},
   "outputs": [
    {
     "data": {
      "text/plain": [
       "['разбить',\n",
       " 'текст',\n",
       " 'из',\n",
       " 'формулировка',\n",
       " 'второй',\n",
       " 'задание',\n",
       " 'на',\n",
       " 'слово',\n",
       " 'провести',\n",
       " 'стемминг',\n",
       " 'и',\n",
       " 'лемматизация',\n",
       " 'слово']"
      ]
     },
     "execution_count": 6,
     "metadata": {},
     "output_type": "execute_result"
    }
   ],
   "source": [
    "morph = pymorphy2.MorphAnalyzer()\n",
    "pt = [morph.parse(word) for word in word_tokenize(text) if w.search(word)] \n",
    "[word[0].normalized.word for word in pt]"
   ]
  },
  {
   "cell_type": "markdown",
   "metadata": {},
   "source": [
    "3. Преобразуйте предложения из формулировки задания 2 в векторы при помощи `CountVectorizer`. Выведите на экран словарь обученного токенизатора."
   ]
  },
  {
   "cell_type": "code",
   "execution_count": 7,
   "metadata": {},
   "outputs": [],
   "source": [
    "from sklearn.feature_extraction.text import CountVectorizer\n",
    "from nltk import sent_tokenize"
   ]
  },
  {
   "cell_type": "code",
   "execution_count": 8,
   "metadata": {},
   "outputs": [
    {
     "data": {
      "text/plain": [
       "array(['второго', 'задания', 'из', 'лемматизацию', 'на', 'проведите',\n",
       "       'разбейте', 'слов', 'слова', 'стемминг', 'текст', 'формулировки'],\n",
       "      dtype=object)"
      ]
     },
     "execution_count": 8,
     "metadata": {},
     "output_type": "execute_result"
    }
   ],
   "source": [
    "text = '''Разбейте текст из формулировки второго задания на слова. Проведите стемминг и лемматизацию слов.'''\n",
    "sentences = sent_tokenize(text)\n",
    "vectorizer = CountVectorizer()\n",
    "vectors = vectorizer.fit_transform(sentences)\n",
    "vectorizer.get_feature_names_out()"
   ]
  },
  {
   "cell_type": "markdown",
   "metadata": {},
   "source": [
    "## Лабораторная работа 7"
   ]
  },
  {
   "cell_type": "markdown",
   "metadata": {},
   "source": [
    "1\\. Загрузите данные из файла `ru_recipes_sample.csv` в виде `pd.DataFrame` `recipes` Используя регулярные выражения, удалите из описаний (столбец `description`) все символы, кроме русских букв, цифр и пробелов. Приведите все слова в описании к нижнему регистру. Сохраните полученный результат в столбец `description`."
   ]
  },
  {
   "cell_type": "code",
   "execution_count": 9,
   "metadata": {},
   "outputs": [],
   "source": [
    "import pandas as pd\n",
    "import numpy as np"
   ]
  },
  {
   "cell_type": "code",
   "execution_count": 10,
   "metadata": {},
   "outputs": [
    {
     "data": {
      "text/plain": [
       "'этот коктейль готовлю из замороженной клубники. если клубника свежая, то добавляю перепелиное яйцо, благодаря этому коктейль получается устойчиво густым.'"
      ]
     },
     "execution_count": 10,
     "metadata": {},
     "output_type": "execute_result"
    }
   ],
   "source": [
    "recipes = pd.read_csv('ru_recipes_sample.csv')\n",
    "w = re.compile('[а-яА-ЯёЁ0-9 ]+')\n",
    "recipes.description[0].lower()"
   ]
  },
  {
   "cell_type": "code",
   "execution_count": 11,
   "metadata": {},
   "outputs": [
    {
     "data": {
      "text/html": [
       "<div>\n",
       "<style scoped>\n",
       "    .dataframe tbody tr th:only-of-type {\n",
       "        vertical-align: middle;\n",
       "    }\n",
       "\n",
       "    .dataframe tbody tr th {\n",
       "        vertical-align: top;\n",
       "    }\n",
       "\n",
       "    .dataframe thead th {\n",
       "        text-align: right;\n",
       "    }\n",
       "</style>\n",
       "<table border=\"1\" class=\"dataframe\">\n",
       "  <thead>\n",
       "    <tr style=\"text-align: right;\">\n",
       "      <th></th>\n",
       "      <th>url</th>\n",
       "      <th>name</th>\n",
       "      <th>ingredients</th>\n",
       "      <th>description</th>\n",
       "    </tr>\n",
       "  </thead>\n",
       "  <tbody>\n",
       "    <tr>\n",
       "      <th>0</th>\n",
       "      <td>https://www.povarenok.ru/recipes/show/164365/</td>\n",
       "      <td>Густой молочно-клубничный коктейль</td>\n",
       "      <td>{'Молоко': '250 мл', 'Клубника': '200 г', 'Сах...</td>\n",
       "      <td>этот коктейль готовлю из замороженной клубники...</td>\n",
       "    </tr>\n",
       "    <tr>\n",
       "      <th>1</th>\n",
       "      <td>https://www.povarenok.ru/recipes/show/1306/</td>\n",
       "      <td>Рулетики</td>\n",
       "      <td>{'Сыр твердый': None, 'Чеснок': None, 'Яйцо ку...</td>\n",
       "      <td>быстро и вкусно</td>\n",
       "    </tr>\n",
       "    <tr>\n",
       "      <th>2</th>\n",
       "      <td>https://www.povarenok.ru/recipes/show/10625/</td>\n",
       "      <td>Салат \"Баклажанчик\"</td>\n",
       "      <td>{'Баклажан': '3 шт', 'Лук репчатый': '2 шт', '...</td>\n",
       "      <td>сытный овощной салатик пальчики оближете</td>\n",
       "    </tr>\n",
       "    <tr>\n",
       "      <th>3</th>\n",
       "      <td>https://www.povarenok.ru/recipes/show/167337/</td>\n",
       "      <td>Куриные котлеты с картофельным пюре в духовке</td>\n",
       "      <td>{'Фарш куриный': '800 г', 'Пюре картофельное':...</td>\n",
       "      <td>картофельное пюре и куриные котлеты вкусная кл...</td>\n",
       "    </tr>\n",
       "    <tr>\n",
       "      <th>4</th>\n",
       "      <td>https://www.povarenok.ru/recipes/show/91919/</td>\n",
       "      <td>Рецепт вишневой наливки</td>\n",
       "      <td>{'Вишня': '1 кг', 'Водка': '1 л', 'Сахар': '30...</td>\n",
       "      <td>вишневая наливка имеет яркий вишневый вкус кот...</td>\n",
       "    </tr>\n",
       "  </tbody>\n",
       "</table>\n",
       "</div>"
      ],
      "text/plain": [
       "                                             url  \\\n",
       "0  https://www.povarenok.ru/recipes/show/164365/   \n",
       "1    https://www.povarenok.ru/recipes/show/1306/   \n",
       "2   https://www.povarenok.ru/recipes/show/10625/   \n",
       "3  https://www.povarenok.ru/recipes/show/167337/   \n",
       "4   https://www.povarenok.ru/recipes/show/91919/   \n",
       "\n",
       "                                            name  \\\n",
       "0             Густой молочно-клубничный коктейль   \n",
       "1                                       Рулетики   \n",
       "2                            Салат \"Баклажанчик\"   \n",
       "3  Куриные котлеты с картофельным пюре в духовке   \n",
       "4                        Рецепт вишневой наливки   \n",
       "\n",
       "                                         ingredients  \\\n",
       "0  {'Молоко': '250 мл', 'Клубника': '200 г', 'Сах...   \n",
       "1  {'Сыр твердый': None, 'Чеснок': None, 'Яйцо ку...   \n",
       "2  {'Баклажан': '3 шт', 'Лук репчатый': '2 шт', '...   \n",
       "3  {'Фарш куриный': '800 г', 'Пюре картофельное':...   \n",
       "4  {'Вишня': '1 кг', 'Водка': '1 л', 'Сахар': '30...   \n",
       "\n",
       "                                         description  \n",
       "0  этот коктейль готовлю из замороженной клубники...  \n",
       "1                                    быстро и вкусно  \n",
       "2           сытный овощной салатик пальчики оближете  \n",
       "3  картофельное пюре и куриные котлеты вкусная кл...  \n",
       "4  вишневая наливка имеет яркий вишневый вкус кот...  "
      ]
     },
     "execution_count": 11,
     "metadata": {},
     "output_type": "execute_result"
    }
   ],
   "source": [
    "new_descr = recipes.description.apply(lambda text: \" \".join([part.strip() for part in w.findall(text.lower())]))\n",
    "recipes.description = new_descr\n",
    "recipes.head()"
   ]
  },
  {
   "cell_type": "markdown",
   "metadata": {},
   "source": [
    "### Расстояние редактирования"
   ]
  },
  {
   "cell_type": "markdown",
   "metadata": {},
   "source": [
    "2\\. Получите набор уникальных слов `words`, содержащихся в текстах описаний рецептов (воспользуйтесь `word_tokenize` из `nltk`). Сгенерируйте 5 пар случайно выбранных слов и посчитайте между ними расстояние Левенштейна. Выведите на экран результат в следующем виде:\n",
    "\n",
    "```\n",
    "d(word1, word2) = x\n",
    "```"
   ]
  },
  {
   "cell_type": "code",
   "execution_count": 12,
   "metadata": {},
   "outputs": [],
   "source": [
    "words = list(set([word for desc in recipes.description.apply(lambda descr: word_tokenize(descr)) for word in desc]))"
   ]
  },
  {
   "cell_type": "code",
   "execution_count": 13,
   "metadata": {},
   "outputs": [],
   "source": [
    "import random"
   ]
  },
  {
   "cell_type": "code",
   "execution_count": 14,
   "metadata": {},
   "outputs": [
    {
     "name": "stdout",
     "output_type": "stream",
     "text": [
      "d(задавая, пенное) = 13\n",
      "d(очередной, нахожусь) = 13\n",
      "d(водного, обжаренного) = 8\n",
      "d(выпекать, разместить) = 12\n",
      "d(употребления, расцветку) = 17\n"
     ]
    }
   ],
   "source": [
    "for _ in range(5):\n",
    "    word1 = random.choice(words)\n",
    "    word2 = random.choice(words)\n",
    "    d = edit_distance(word1, word2, substitution_cost=2)\n",
    "    print(f\"d({word1}, {word2}) = {d}\")"
   ]
  },
  {
   "cell_type": "markdown",
   "metadata": {},
   "source": [
    "3\\. Напишите функцию, которая принимает на вход 2 текстовые строки `s1` и `s2` и при помощи расстояния Левенштейна определяет, является ли строка `s2` плагиатом `s1`. Функция должна реализовывать следующую логику: для каждого слова `w1` из `s1` проверяет, есть в `s2` хотя бы одно слово `w2`, такое, что расстояние Левенштейна между `w1` и `w2` меньше 2, и считает количество таких слов в `s1` $P$. \n",
    "\n",
    "$$ P = \\#\\{w_1 \\in s_1\\ | \\exists w_2 \\in s_2 : d(w_1, w_2) < tol\\}$$\n",
    "\n",
    "$$ L = max(|s1|, |s2|) $$\n",
    "\n",
    "Здесь $|\\cdot|$ - количество слов в строке, $\\#A$ - число элементов в множестве $A$, $w \\in s$ означает, что слово $w$ содержится в тексте $s$.\n",
    "\n",
    "Если отношение $P / L$ больше 0.8, то функция должна вернуть True; иначе False.\n",
    "\n",
    "Продемонстрируйте работу вашей функции на примере описаний двух рецептов с ID 135488 и 851934 (ID рецепта - это число, стоящее в конце url рецепта). Выведите на экран описания этих рецептов и результат работы функции."
   ]
  },
  {
   "cell_type": "code",
   "execution_count": 15,
   "metadata": {},
   "outputs": [],
   "source": [
    "def is_plagiarism(s1: str, s2: str) -> bool:\n",
    "    words1 = word_tokenize(s1)\n",
    "    words2 = word_tokenize(s2)\n",
    "    P = 0\n",
    "    for w1 in words1:\n",
    "        for w2 in words2:\n",
    "            d = edit_distance(w1, w2, substitution_cost=2)\n",
    "            if(d<2):\n",
    "                P+=1\n",
    "    L = max(len(words1), len(words2))\n",
    "    return P/L>0.8"
   ]
  },
  {
   "cell_type": "code",
   "execution_count": 16,
   "metadata": {},
   "outputs": [
    {
     "data": {
      "text/plain": [
       "('прекрасной закуской к крепким напиткам на фуршетном столе станет паштет из сала и авокадо с чесноком который мы спрячем в орешках из бородинского хлеба положив в середину маслину закуска получается необычной оригинальной и ценится особенно мужчинами',\n",
       " 'замечательной закуской к напиткам на фуршетном столе станет паштет из сала и авокадо с чесноком куда мы добавим орешков из бородинского хлеба положив в середину маслины закуска получается крайне необычной оригинальной и ценится особенно мужчинами')"
      ]
     },
     "execution_count": 16,
     "metadata": {},
     "output_type": "execute_result"
    }
   ],
   "source": [
    "rec_id = recipes.url.apply(lambda url: int(url.split('/')[-2]))\n",
    "descr_135488 = recipes[rec_id == 135488].description.iloc[0]\n",
    "descr_851934 = recipes[rec_id == 851934].description.iloc[0]\n",
    "descr_135488, descr_851934"
   ]
  },
  {
   "cell_type": "code",
   "execution_count": 17,
   "metadata": {},
   "outputs": [
    {
     "data": {
      "text/plain": [
       "True"
      ]
     },
     "execution_count": 17,
     "metadata": {},
     "output_type": "execute_result"
    }
   ],
   "source": [
    "is_plagiarism(descr_135488, descr_851934)"
   ]
  },
  {
   "cell_type": "markdown",
   "metadata": {},
   "source": [
    "### Стемминг, лемматизация"
   ]
  },
  {
   "cell_type": "markdown",
   "metadata": {},
   "source": [
    "4\\. На основе набора слов из задания 2 создайте `pd.DataFrame` со столбцами `word`, `stemmed_word` и `normalized_word`. В столбец `stemmed_word` поместите версию слова после проведения процедуры стемминга; в столбец `normalized_word` поместите версию слова после проведения процедуры лемматизации. Столбец `word` укажите в качестве индекса. \n",
    "\n",
    "Для стемминга можно воспользоваться `SnowballStemmer` из `nltk`, для лемматизации слов - пакетом `pymorphy2`. Сравните результаты стемминга и лемматизации. Поясните на примере одной из строк получившегося фрейма (в виде текстового комментария), в чем разница между двумя этими подходами. "
   ]
  },
  {
   "cell_type": "code",
   "execution_count": 18,
   "metadata": {},
   "outputs": [
    {
     "data": {
      "text/html": [
       "<div>\n",
       "<style scoped>\n",
       "    .dataframe tbody tr th:only-of-type {\n",
       "        vertical-align: middle;\n",
       "    }\n",
       "\n",
       "    .dataframe tbody tr th {\n",
       "        vertical-align: top;\n",
       "    }\n",
       "\n",
       "    .dataframe thead th {\n",
       "        text-align: right;\n",
       "    }\n",
       "</style>\n",
       "<table border=\"1\" class=\"dataframe\">\n",
       "  <thead>\n",
       "    <tr style=\"text-align: right;\">\n",
       "      <th></th>\n",
       "      <th>stemmed_word</th>\n",
       "      <th>normalized_word</th>\n",
       "    </tr>\n",
       "    <tr>\n",
       "      <th>word</th>\n",
       "      <th></th>\n",
       "      <th></th>\n",
       "    </tr>\n",
       "  </thead>\n",
       "  <tbody>\n",
       "    <tr>\n",
       "      <th>растопленное</th>\n",
       "      <td>растоплен</td>\n",
       "      <td>растопить</td>\n",
       "    </tr>\n",
       "    <tr>\n",
       "      <th>омлетик</th>\n",
       "      <td>омлетик</td>\n",
       "      <td>омлетик</td>\n",
       "    </tr>\n",
       "    <tr>\n",
       "      <th>налимью</th>\n",
       "      <td>налим</td>\n",
       "      <td>налимий</td>\n",
       "    </tr>\n",
       "    <tr>\n",
       "      <th>насыщенном</th>\n",
       "      <td>насыщен</td>\n",
       "      <td>насыщенный</td>\n",
       "    </tr>\n",
       "    <tr>\n",
       "      <th>хрустящую</th>\n",
       "      <td>хрустя</td>\n",
       "      <td>хрустеть</td>\n",
       "    </tr>\n",
       "  </tbody>\n",
       "</table>\n",
       "</div>"
      ],
      "text/plain": [
       "             stemmed_word normalized_word\n",
       "word                                     \n",
       "растопленное    растоплен       растопить\n",
       "омлетик           омлетик         омлетик\n",
       "налимью             налим         налимий\n",
       "насыщенном        насыщен      насыщенный\n",
       "хрустящую          хрустя        хрустеть"
      ]
     },
     "execution_count": 18,
     "metadata": {},
     "output_type": "execute_result"
    }
   ],
   "source": [
    "words = list(set([word for description in recipes.description.apply(lambda desc: word_tokenize(desc)) for word in description]))\n",
    "\n",
    "df4 = pd.DataFrame(columns=['word', 'stemmed_word','normalized_word'])\n",
    "df4.word = words\n",
    "\n",
    "snb_stemmer_ru = SnowballStemmer('russian')\n",
    "df4.stemmed_word = [snb_stemmer_ru.stem(word) for word in df4.word]\n",
    "\n",
    "morph = pymorphy2.MorphAnalyzer()\n",
    "df4.normalized_word = [morph.parse(word)[0].normalized.word for word in df4.word] \n",
    "\n",
    "df4 = df4.set_index('word')\n",
    "df4.head()"
   ]
  },
  {
   "cell_type": "markdown",
   "metadata": {},
   "source": [
    "5\\. Добавьте в таблицу `recipes` столбец `description_no_stopwords`, в котором содержится текст описания рецепта после удаления из него стоп-слов. Посчитайте и выведите на экран долю стоп-слов среди общего количества слов. Сравните топ-10 самых часто употребляемых слов до и после удаления стоп-слов."
   ]
  },
  {
   "cell_type": "code",
   "execution_count": 19,
   "metadata": {},
   "outputs": [],
   "source": [
    "from nltk.corpus import stopwords"
   ]
  },
  {
   "cell_type": "code",
   "execution_count": 20,
   "metadata": {},
   "outputs": [
    {
     "data": {
      "text/html": [
       "<div>\n",
       "<style scoped>\n",
       "    .dataframe tbody tr th:only-of-type {\n",
       "        vertical-align: middle;\n",
       "    }\n",
       "\n",
       "    .dataframe tbody tr th {\n",
       "        vertical-align: top;\n",
       "    }\n",
       "\n",
       "    .dataframe thead th {\n",
       "        text-align: right;\n",
       "    }\n",
       "</style>\n",
       "<table border=\"1\" class=\"dataframe\">\n",
       "  <thead>\n",
       "    <tr style=\"text-align: right;\">\n",
       "      <th></th>\n",
       "      <th>url</th>\n",
       "      <th>name</th>\n",
       "      <th>ingredients</th>\n",
       "      <th>description</th>\n",
       "      <th>description_no_stopwords</th>\n",
       "    </tr>\n",
       "  </thead>\n",
       "  <tbody>\n",
       "    <tr>\n",
       "      <th>0</th>\n",
       "      <td>https://www.povarenok.ru/recipes/show/164365/</td>\n",
       "      <td>Густой молочно-клубничный коктейль</td>\n",
       "      <td>{'Молоко': '250 мл', 'Клубника': '200 г', 'Сах...</td>\n",
       "      <td>этот коктейль готовлю из замороженной клубники...</td>\n",
       "      <td>коктейль готовлю замороженной клубники клубник...</td>\n",
       "    </tr>\n",
       "    <tr>\n",
       "      <th>1</th>\n",
       "      <td>https://www.povarenok.ru/recipes/show/1306/</td>\n",
       "      <td>Рулетики</td>\n",
       "      <td>{'Сыр твердый': None, 'Чеснок': None, 'Яйцо ку...</td>\n",
       "      <td>быстро и вкусно</td>\n",
       "      <td>быстро вкусно</td>\n",
       "    </tr>\n",
       "    <tr>\n",
       "      <th>2</th>\n",
       "      <td>https://www.povarenok.ru/recipes/show/10625/</td>\n",
       "      <td>Салат \"Баклажанчик\"</td>\n",
       "      <td>{'Баклажан': '3 шт', 'Лук репчатый': '2 шт', '...</td>\n",
       "      <td>сытный овощной салатик пальчики оближете</td>\n",
       "      <td>сытный овощной салатик пальчики оближете</td>\n",
       "    </tr>\n",
       "    <tr>\n",
       "      <th>3</th>\n",
       "      <td>https://www.povarenok.ru/recipes/show/167337/</td>\n",
       "      <td>Куриные котлеты с картофельным пюре в духовке</td>\n",
       "      <td>{'Фарш куриный': '800 г', 'Пюре картофельное':...</td>\n",
       "      <td>картофельное пюре и куриные котлеты вкусная кл...</td>\n",
       "      <td>картофельное пюре куриные котлеты вкусная клас...</td>\n",
       "    </tr>\n",
       "    <tr>\n",
       "      <th>4</th>\n",
       "      <td>https://www.povarenok.ru/recipes/show/91919/</td>\n",
       "      <td>Рецепт вишневой наливки</td>\n",
       "      <td>{'Вишня': '1 кг', 'Водка': '1 л', 'Сахар': '30...</td>\n",
       "      <td>вишневая наливка имеет яркий вишневый вкус кот...</td>\n",
       "      <td>вишневая наливка имеет яркий вишневый вкус кот...</td>\n",
       "    </tr>\n",
       "  </tbody>\n",
       "</table>\n",
       "</div>"
      ],
      "text/plain": [
       "                                             url  \\\n",
       "0  https://www.povarenok.ru/recipes/show/164365/   \n",
       "1    https://www.povarenok.ru/recipes/show/1306/   \n",
       "2   https://www.povarenok.ru/recipes/show/10625/   \n",
       "3  https://www.povarenok.ru/recipes/show/167337/   \n",
       "4   https://www.povarenok.ru/recipes/show/91919/   \n",
       "\n",
       "                                            name  \\\n",
       "0             Густой молочно-клубничный коктейль   \n",
       "1                                       Рулетики   \n",
       "2                            Салат \"Баклажанчик\"   \n",
       "3  Куриные котлеты с картофельным пюре в духовке   \n",
       "4                        Рецепт вишневой наливки   \n",
       "\n",
       "                                         ingredients  \\\n",
       "0  {'Молоко': '250 мл', 'Клубника': '200 г', 'Сах...   \n",
       "1  {'Сыр твердый': None, 'Чеснок': None, 'Яйцо ку...   \n",
       "2  {'Баклажан': '3 шт', 'Лук репчатый': '2 шт', '...   \n",
       "3  {'Фарш куриный': '800 г', 'Пюре картофельное':...   \n",
       "4  {'Вишня': '1 кг', 'Водка': '1 л', 'Сахар': '30...   \n",
       "\n",
       "                                         description  \\\n",
       "0  этот коктейль готовлю из замороженной клубники...   \n",
       "1                                    быстро и вкусно   \n",
       "2           сытный овощной салатик пальчики оближете   \n",
       "3  картофельное пюре и куриные котлеты вкусная кл...   \n",
       "4  вишневая наливка имеет яркий вишневый вкус кот...   \n",
       "\n",
       "                            description_no_stopwords  \n",
       "0  коктейль готовлю замороженной клубники клубник...  \n",
       "1                                      быстро вкусно  \n",
       "2           сытный овощной салатик пальчики оближете  \n",
       "3  картофельное пюре куриные котлеты вкусная клас...  \n",
       "4  вишневая наливка имеет яркий вишневый вкус кот...  "
      ]
     },
     "execution_count": 20,
     "metadata": {},
     "output_type": "execute_result"
    }
   ],
   "source": [
    "ru_stopwords = stopwords.words('russian')\n",
    "\n",
    "description_no_stopwords = recipes.description.apply(\n",
    "    lambda desc: \" \".join([\n",
    "        word for word in word_tokenize(desc) if word not in ru_stopwords\n",
    "    ])\n",
    ")\n",
    "\n",
    "recipes['description_no_stopwords'] = description_no_stopwords\n",
    "recipes.head()"
   ]
  },
  {
   "cell_type": "code",
   "execution_count": 21,
   "metadata": {},
   "outputs": [
    {
     "data": {
      "text/plain": [
       "16165"
      ]
     },
     "execution_count": 21,
     "metadata": {},
     "output_type": "execute_result"
    }
   ],
   "source": [
    "len(words)"
   ]
  },
  {
   "cell_type": "code",
   "execution_count": 22,
   "metadata": {},
   "outputs": [
    {
     "data": {
      "text/plain": [
       "16014"
      ]
     },
     "execution_count": 22,
     "metadata": {},
     "output_type": "execute_result"
    }
   ],
   "source": [
    "no_stopwords = [word for word in words if word not in ru_stopwords]\n",
    "len(no_stopwords)"
   ]
  },
  {
   "cell_type": "code",
   "execution_count": 23,
   "metadata": {},
   "outputs": [
    {
     "data": {
      "text/plain": [
       "'0.93%'"
      ]
     },
     "execution_count": 23,
     "metadata": {},
     "output_type": "execute_result"
    }
   ],
   "source": [
    "#доля стопслов в уникальном наборе слов \n",
    "frac = (1-len(no_stopwords)/len(words))*100\n",
    "f\"{frac:.2f}%\""
   ]
  },
  {
   "cell_type": "code",
   "execution_count": 24,
   "metadata": {},
   "outputs": [],
   "source": [
    "all_words = [word for desc in recipes.description.apply(lambda descr: word_tokenize(descr)) for word in desc]\n",
    "all_no_stopwords = [\n",
    "    word for desc in recipes.description_no_stopwords.apply(lambda descr: word_tokenize(descr)) for word in desc\n",
    "]"
   ]
  },
  {
   "cell_type": "code",
   "execution_count": 25,
   "metadata": {},
   "outputs": [
    {
     "data": {
      "text/plain": [
       "'32.54%'"
      ]
     },
     "execution_count": 25,
     "metadata": {},
     "output_type": "execute_result"
    }
   ],
   "source": [
    "#доля стопслов в полном наборе слов\n",
    "frac = (1-len(all_no_stopwords)/len(all_words))*100\n",
    "f\"{frac:.2f}%\""
   ]
  },
  {
   "cell_type": "code",
   "execution_count": 26,
   "metadata": {},
   "outputs": [],
   "source": [
    "from nltk.probability import FreqDist\n",
    "fdist_before = FreqDist(all_words)\n",
    "fdist_after = FreqDist(all_no_stopwords)"
   ]
  },
  {
   "cell_type": "code",
   "execution_count": 27,
   "metadata": {},
   "outputs": [
    {
     "data": {
      "text/plain": [
       "[('и', 5062),\n",
       " ('в', 2592),\n",
       " ('с', 1942),\n",
       " ('на', 1658),\n",
       " ('очень', 1626),\n",
       " ('не', 1518),\n",
       " ('из', 1023),\n",
       " ('я', 982),\n",
       " ('а', 876),\n",
       " ('рецепт', 874)]"
      ]
     },
     "execution_count": 27,
     "metadata": {},
     "output_type": "execute_result"
    }
   ],
   "source": [
    "sorted(fdist_before.items(), key= lambda items: items[1], reverse=True)[:10]"
   ]
  },
  {
   "cell_type": "code",
   "execution_count": 28,
   "metadata": {},
   "outputs": [
    {
     "data": {
      "text/plain": [
       "[('очень', 1626),\n",
       " ('рецепт', 874),\n",
       " ('это', 743),\n",
       " ('блюдо', 527),\n",
       " ('вкусный', 461),\n",
       " ('просто', 439),\n",
       " ('вкусно', 380),\n",
       " ('приготовить', 344),\n",
       " ('вкус', 325),\n",
       " ('салат', 318)]"
      ]
     },
     "execution_count": 28,
     "metadata": {},
     "output_type": "execute_result"
    }
   ],
   "source": [
    "sorted(fdist_after.items(), key= lambda items: items[1], reverse=True)[:10]"
   ]
  },
  {
   "cell_type": "markdown",
   "metadata": {},
   "source": [
    "### Векторное представление текста"
   ]
  },
  {
   "cell_type": "markdown",
   "metadata": {},
   "source": [
    "6\\. Выберите случайным образом 5 рецептов из набора данных, в названии которых есть слово \"оладьи\" (без учета регистра). Представьте описание каждого рецепта в виде числового вектора при помощи `TfidfVectorizer`. На основе полученных векторов создайте `pd.DataFrame`, в котором названия колонок соответствуют словам из словаря объекта-векторизатора. \n",
    "\n",
    "Примечание: обратите внимание на порядок слов при создании колонок."
   ]
  },
  {
   "cell_type": "code",
   "execution_count": 29,
   "metadata": {},
   "outputs": [],
   "source": [
    "from sklearn.feature_extraction.text import (CountVectorizer, TfidfVectorizer)"
   ]
  },
  {
   "cell_type": "code",
   "execution_count": 30,
   "metadata": {},
   "outputs": [
    {
     "data": {
      "text/html": [
       "<div>\n",
       "<style scoped>\n",
       "    .dataframe tbody tr th:only-of-type {\n",
       "        vertical-align: middle;\n",
       "    }\n",
       "\n",
       "    .dataframe tbody tr th {\n",
       "        vertical-align: top;\n",
       "    }\n",
       "\n",
       "    .dataframe thead th {\n",
       "        text-align: right;\n",
       "    }\n",
       "</style>\n",
       "<table border=\"1\" class=\"dataframe\">\n",
       "  <thead>\n",
       "    <tr style=\"text-align: right;\">\n",
       "      <th></th>\n",
       "      <th>ароматное</th>\n",
       "      <th>базилика</th>\n",
       "      <th>бежевого</th>\n",
       "      <th>белки</th>\n",
       "      <th>белого</th>\n",
       "      <th>блинчики</th>\n",
       "      <th>блюда</th>\n",
       "      <th>блюдо</th>\n",
       "      <th>больше</th>\n",
       "      <th>бы</th>\n",
       "      <th>...</th>\n",
       "      <th>чечевица</th>\n",
       "      <th>чтобы</th>\n",
       "      <th>шустрый</th>\n",
       "      <th>щеки</th>\n",
       "      <th>щепотка</th>\n",
       "      <th>этих</th>\n",
       "      <th>это</th>\n",
       "      <th>этом</th>\n",
       "      <th>яблочно</th>\n",
       "      <th>яркое</th>\n",
       "    </tr>\n",
       "  </thead>\n",
       "  <tbody>\n",
       "    <tr>\n",
       "      <th>0</th>\n",
       "      <td>0.28805</td>\n",
       "      <td>0.000000</td>\n",
       "      <td>0.000000</td>\n",
       "      <td>0.000000</td>\n",
       "      <td>0.000000</td>\n",
       "      <td>0.000000</td>\n",
       "      <td>0.000000</td>\n",
       "      <td>0.28805</td>\n",
       "      <td>0.000000</td>\n",
       "      <td>0.000000</td>\n",
       "      <td>...</td>\n",
       "      <td>0.000000</td>\n",
       "      <td>0.000000</td>\n",
       "      <td>0.000000</td>\n",
       "      <td>0.000000</td>\n",
       "      <td>0.000000</td>\n",
       "      <td>0.000000</td>\n",
       "      <td>0.000000</td>\n",
       "      <td>0.000000</td>\n",
       "      <td>0.000000</td>\n",
       "      <td>0.28805</td>\n",
       "    </tr>\n",
       "    <tr>\n",
       "      <th>1</th>\n",
       "      <td>0.00000</td>\n",
       "      <td>0.147912</td>\n",
       "      <td>0.000000</td>\n",
       "      <td>0.000000</td>\n",
       "      <td>0.000000</td>\n",
       "      <td>0.000000</td>\n",
       "      <td>0.000000</td>\n",
       "      <td>0.00000</td>\n",
       "      <td>0.000000</td>\n",
       "      <td>0.119335</td>\n",
       "      <td>...</td>\n",
       "      <td>0.000000</td>\n",
       "      <td>0.000000</td>\n",
       "      <td>0.000000</td>\n",
       "      <td>0.000000</td>\n",
       "      <td>0.147912</td>\n",
       "      <td>0.000000</td>\n",
       "      <td>0.000000</td>\n",
       "      <td>0.000000</td>\n",
       "      <td>0.000000</td>\n",
       "      <td>0.00000</td>\n",
       "    </tr>\n",
       "    <tr>\n",
       "      <th>2</th>\n",
       "      <td>0.00000</td>\n",
       "      <td>0.000000</td>\n",
       "      <td>0.000000</td>\n",
       "      <td>0.000000</td>\n",
       "      <td>0.000000</td>\n",
       "      <td>0.000000</td>\n",
       "      <td>0.000000</td>\n",
       "      <td>0.00000</td>\n",
       "      <td>0.000000</td>\n",
       "      <td>0.000000</td>\n",
       "      <td>...</td>\n",
       "      <td>0.000000</td>\n",
       "      <td>0.000000</td>\n",
       "      <td>0.000000</td>\n",
       "      <td>0.000000</td>\n",
       "      <td>0.000000</td>\n",
       "      <td>0.000000</td>\n",
       "      <td>0.000000</td>\n",
       "      <td>0.000000</td>\n",
       "      <td>0.000000</td>\n",
       "      <td>0.00000</td>\n",
       "    </tr>\n",
       "    <tr>\n",
       "      <th>3</th>\n",
       "      <td>0.00000</td>\n",
       "      <td>0.000000</td>\n",
       "      <td>0.069895</td>\n",
       "      <td>0.000000</td>\n",
       "      <td>0.069895</td>\n",
       "      <td>0.069895</td>\n",
       "      <td>0.000000</td>\n",
       "      <td>0.00000</td>\n",
       "      <td>0.069895</td>\n",
       "      <td>0.056391</td>\n",
       "      <td>...</td>\n",
       "      <td>0.000000</td>\n",
       "      <td>0.069895</td>\n",
       "      <td>0.069895</td>\n",
       "      <td>0.069895</td>\n",
       "      <td>0.000000</td>\n",
       "      <td>0.069895</td>\n",
       "      <td>0.069895</td>\n",
       "      <td>0.056391</td>\n",
       "      <td>0.069895</td>\n",
       "      <td>0.00000</td>\n",
       "    </tr>\n",
       "    <tr>\n",
       "      <th>4</th>\n",
       "      <td>0.00000</td>\n",
       "      <td>0.000000</td>\n",
       "      <td>0.000000</td>\n",
       "      <td>0.172252</td>\n",
       "      <td>0.000000</td>\n",
       "      <td>0.000000</td>\n",
       "      <td>0.172252</td>\n",
       "      <td>0.00000</td>\n",
       "      <td>0.000000</td>\n",
       "      <td>0.000000</td>\n",
       "      <td>...</td>\n",
       "      <td>0.172252</td>\n",
       "      <td>0.000000</td>\n",
       "      <td>0.000000</td>\n",
       "      <td>0.000000</td>\n",
       "      <td>0.000000</td>\n",
       "      <td>0.000000</td>\n",
       "      <td>0.000000</td>\n",
       "      <td>0.138972</td>\n",
       "      <td>0.000000</td>\n",
       "      <td>0.00000</td>\n",
       "    </tr>\n",
       "  </tbody>\n",
       "</table>\n",
       "<p>5 rows × 211 columns</p>\n",
       "</div>"
      ],
      "text/plain": [
       "   ароматное  базилика  бежевого     белки    белого  блинчики     блюда  \\\n",
       "0    0.28805  0.000000  0.000000  0.000000  0.000000  0.000000  0.000000   \n",
       "1    0.00000  0.147912  0.000000  0.000000  0.000000  0.000000  0.000000   \n",
       "2    0.00000  0.000000  0.000000  0.000000  0.000000  0.000000  0.000000   \n",
       "3    0.00000  0.000000  0.069895  0.000000  0.069895  0.069895  0.000000   \n",
       "4    0.00000  0.000000  0.000000  0.172252  0.000000  0.000000  0.172252   \n",
       "\n",
       "     блюдо    больше        бы  ...  чечевица     чтобы   шустрый      щеки  \\\n",
       "0  0.28805  0.000000  0.000000  ...  0.000000  0.000000  0.000000  0.000000   \n",
       "1  0.00000  0.000000  0.119335  ...  0.000000  0.000000  0.000000  0.000000   \n",
       "2  0.00000  0.000000  0.000000  ...  0.000000  0.000000  0.000000  0.000000   \n",
       "3  0.00000  0.069895  0.056391  ...  0.000000  0.069895  0.069895  0.069895   \n",
       "4  0.00000  0.000000  0.000000  ...  0.172252  0.000000  0.000000  0.000000   \n",
       "\n",
       "    щепотка      этих       это      этом   яблочно    яркое  \n",
       "0  0.000000  0.000000  0.000000  0.000000  0.000000  0.28805  \n",
       "1  0.147912  0.000000  0.000000  0.000000  0.000000  0.00000  \n",
       "2  0.000000  0.000000  0.000000  0.000000  0.000000  0.00000  \n",
       "3  0.000000  0.069895  0.069895  0.056391  0.069895  0.00000  \n",
       "4  0.000000  0.000000  0.000000  0.138972  0.000000  0.00000  \n",
       "\n",
       "[5 rows x 211 columns]"
      ]
     },
     "execution_count": 30,
     "metadata": {},
     "output_type": "execute_result"
    }
   ],
   "source": [
    "pancakes = recipes[recipes.name.apply(lambda name: \"оладьи\" in name.lower())]\n",
    "pancakes5 = pancakes.sample(5)\n",
    "vectorizer = TfidfVectorizer()\n",
    "vc = vectorizer.fit_transform(pancakes5.description)\n",
    "df6 = pd.DataFrame(vc.toarray(), columns=vectorizer.get_feature_names_out())\n",
    "df6"
   ]
  },
  {
   "cell_type": "code",
   "execution_count": 31,
   "metadata": {},
   "outputs": [
    {
     "data": {
      "text/html": [
       "<div>\n",
       "<style scoped>\n",
       "    .dataframe tbody tr th:only-of-type {\n",
       "        vertical-align: middle;\n",
       "    }\n",
       "\n",
       "    .dataframe tbody tr th {\n",
       "        vertical-align: top;\n",
       "    }\n",
       "\n",
       "    .dataframe thead th {\n",
       "        text-align: right;\n",
       "    }\n",
       "</style>\n",
       "<table border=\"1\" class=\"dataframe\">\n",
       "  <thead>\n",
       "    <tr style=\"text-align: right;\">\n",
       "      <th></th>\n",
       "      <th>ароматное</th>\n",
       "      <th>базилика</th>\n",
       "      <th>бежевого</th>\n",
       "      <th>белки</th>\n",
       "      <th>белого</th>\n",
       "      <th>блинчики</th>\n",
       "      <th>блюда</th>\n",
       "      <th>блюдо</th>\n",
       "      <th>больше</th>\n",
       "      <th>бы</th>\n",
       "      <th>...</th>\n",
       "      <th>чечевица</th>\n",
       "      <th>чтобы</th>\n",
       "      <th>шустрый</th>\n",
       "      <th>щеки</th>\n",
       "      <th>щепотка</th>\n",
       "      <th>этих</th>\n",
       "      <th>это</th>\n",
       "      <th>этом</th>\n",
       "      <th>яблочно</th>\n",
       "      <th>яркое</th>\n",
       "    </tr>\n",
       "  </thead>\n",
       "  <tbody>\n",
       "    <tr>\n",
       "      <th>0</th>\n",
       "      <td>0.28805</td>\n",
       "      <td>0.0</td>\n",
       "      <td>0.0</td>\n",
       "      <td>0.0</td>\n",
       "      <td>0.0</td>\n",
       "      <td>0.0</td>\n",
       "      <td>0.0</td>\n",
       "      <td>0.28805</td>\n",
       "      <td>0.0</td>\n",
       "      <td>0.0</td>\n",
       "      <td>...</td>\n",
       "      <td>0.0</td>\n",
       "      <td>0.0</td>\n",
       "      <td>0.0</td>\n",
       "      <td>0.0</td>\n",
       "      <td>0.0</td>\n",
       "      <td>0.0</td>\n",
       "      <td>0.0</td>\n",
       "      <td>0.0</td>\n",
       "      <td>0.0</td>\n",
       "      <td>0.28805</td>\n",
       "    </tr>\n",
       "  </tbody>\n",
       "</table>\n",
       "<p>1 rows × 211 columns</p>\n",
       "</div>"
      ],
      "text/plain": [
       "   ароматное  базилика  бежевого  белки  белого  блинчики  блюда    блюдо  \\\n",
       "0    0.28805       0.0       0.0    0.0     0.0       0.0    0.0  0.28805   \n",
       "\n",
       "   больше   бы  ...  чечевица  чтобы  шустрый  щеки  щепотка  этих  это  этом  \\\n",
       "0     0.0  0.0  ...       0.0    0.0      0.0   0.0      0.0   0.0  0.0   0.0   \n",
       "\n",
       "   яблочно    яркое  \n",
       "0      0.0  0.28805  \n",
       "\n",
       "[1 rows x 211 columns]"
      ]
     },
     "execution_count": 31,
     "metadata": {},
     "output_type": "execute_result"
    }
   ],
   "source": [
    "df6.iloc[:1]"
   ]
  },
  {
   "cell_type": "code",
   "execution_count": 32,
   "metadata": {},
   "outputs": [
    {
     "data": {
      "text/plain": [
       "'какой то хозяйственник проснулся в моём муже когда он принёс домой несколько килограммов помидоров теперь у нас дома начинаются томатные дни оладьи готовила полностью по рецепту от себя только щепотка базилика который как мне кажется помидорам всегда на пользу но я бы рецепт немного изменила выкладываю оригинальную версию со своими комментариями надеюсь вам понравится'"
      ]
     },
     "execution_count": 32,
     "metadata": {},
     "output_type": "execute_result"
    }
   ],
   "source": [
    "pancakes5.description.iloc[1]"
   ]
  },
  {
   "cell_type": "code",
   "execution_count": 33,
   "metadata": {},
   "outputs": [
    {
     "data": {
      "text/plain": [
       "хозяйственник    0.147912\n",
       "проснулся        0.147912\n",
       "моём             0.147912\n",
       "муже             0.147912\n",
       "принёс           0.147912\n",
       "домой            0.147912\n",
       "несколько        0.147912\n",
       "килограммов      0.147912\n",
       "помидоров        0.147912\n",
       "дома             0.147912\n",
       "начинаются       0.147912\n",
       "томатные         0.147912\n",
       "дни              0.147912\n",
       "оладьи           0.099058\n",
       "готовила         0.147912\n",
       "полностью        0.147912\n",
       "рецепту          0.147912\n",
       "щепотка          0.147912\n",
       "базилика         0.147912\n",
       "который          0.119335\n",
       "кажется          0.147912\n",
       "помидорам        0.147912\n",
       "пользу           0.147912\n",
       "рецепт           0.147912\n",
       "немного          0.147912\n",
       "изменила         0.147912\n",
       "выкладываю       0.147912\n",
       "оригинальную     0.147912\n",
       "версию           0.147912\n",
       "своими           0.147912\n",
       "комментариями    0.147912\n",
       "надеюсь          0.147912\n",
       "понравится       0.147912\n",
       "Name: 1, dtype: float64"
      ]
     },
     "execution_count": 33,
     "metadata": {},
     "output_type": "execute_result"
    }
   ],
   "source": [
    "df6.iloc[1][[word for word in word_tokenize(pancakes5.description.iloc[1]) if word not in ru_stopwords]]"
   ]
  },
  {
   "cell_type": "markdown",
   "metadata": {},
   "source": [
    "7\\. Вычислите близость между каждой парой рецептов, выбранных в задании 6, используя косинусное расстояние (можно воспользоваться функциями из любого пакета: `scipy`, `scikit-learn` или реализовать функцию самому). Результаты оформите в виде таблицы `pd.DataFrame`. В качестве названий строк и столбцов используйте названия рецептов.\n",
    "\n",
    "Примечание: обратите внимание, что $d_{cosine}(x, x) = 0$"
   ]
  },
  {
   "cell_type": "code",
   "execution_count": 34,
   "metadata": {},
   "outputs": [],
   "source": [
    "from numpy.linalg import norm"
   ]
  },
  {
   "cell_type": "code",
   "execution_count": 35,
   "metadata": {},
   "outputs": [],
   "source": [
    "morph = pymorphy2.MorphAnalyzer()\n",
    "w_regex = re.compile('^[а-яё]*$')\n",
    "\n",
    "def vectorizer_n(string):\n",
    "    return [\n",
    "        morph.parse(word)[0].normalized.word\n",
    "        for word in word_tokenize(string.lower())\n",
    "        if w_regex.search(word)\n",
    "    ]\n"
   ]
  },
  {
   "cell_type": "code",
   "execution_count": 36,
   "metadata": {},
   "outputs": [
    {
     "name": "stderr",
     "output_type": "stream",
     "text": [
      "D:\\anaconda\\lib\\site-packages\\sklearn\\feature_extraction\\text.py:404: UserWarning: Your stop_words may be inconsistent with your preprocessing. Tokenizing the stop words generated tokens ['большой', 'весь', 'всё', 'ещё', 'мочь', 'нибыть', 'свой', 'хороший', 'это'] not in stop_words.\n",
      "  warnings.warn(\n"
     ]
    },
    {
     "data": {
      "text/plain": [
       "array([[1.        , 0.        , 0.        , 0.        , 0.11547005],\n",
       "       [0.        , 1.        , 0.04622502, 0.02444119, 0.03042903],\n",
       "       [0.        , 0.04622502, 1.        , 0.20336296, 0.05063697],\n",
       "       [0.        , 0.02444119, 0.20336296, 1.        , 0.06693494],\n",
       "       [0.11547005, 0.03042903, 0.05063697, 0.06693494, 1.        ]])"
      ]
     },
     "execution_count": 36,
     "metadata": {},
     "output_type": "execute_result"
    }
   ],
   "source": [
    "cv = CountVectorizer(tokenizer=vectorizer_n, stop_words=ru_stopwords)\n",
    "\n",
    "recipes_cv = cv.fit_transform(pancakes5.description)\n",
    "recipes_arr = recipes_cv.toarray()\n",
    "\n",
    "recipes_arrn = recipes_arr / norm(recipes_arr, axis=1)[:, np.newaxis]\n",
    "\n",
    "temp = recipes_arrn @ recipes_arrn.T\n",
    "temp"
   ]
  },
  {
   "cell_type": "code",
   "execution_count": 37,
   "metadata": {},
   "outputs": [],
   "source": [
    "from sklearn.metrics.pairwise import cosine_distances as cos_d"
   ]
  },
  {
   "cell_type": "code",
   "execution_count": 38,
   "metadata": {
    "scrolled": true
   },
   "outputs": [
    {
     "data": {
      "text/plain": [
       "array([[1.        , 0.        , 0.        , 0.        , 0.11547005],\n",
       "       [0.        , 1.        , 0.04622502, 0.02444119, 0.03042903],\n",
       "       [0.        , 0.04622502, 1.        , 0.20336296, 0.05063697],\n",
       "       [0.        , 0.02444119, 0.20336296, 1.        , 0.06693494],\n",
       "       [0.11547005, 0.03042903, 0.05063697, 0.06693494, 1.        ]])"
      ]
     },
     "execution_count": 38,
     "metadata": {},
     "output_type": "execute_result"
    }
   ],
   "source": [
    "1 - cos_d(recipes_arr)"
   ]
  },
  {
   "cell_type": "markdown",
   "metadata": {},
   "source": [
    "Попробуем не через описание а через ингридиенты"
   ]
  },
  {
   "cell_type": "code",
   "execution_count": 39,
   "metadata": {},
   "outputs": [
    {
     "name": "stderr",
     "output_type": "stream",
     "text": [
      "D:\\anaconda\\lib\\site-packages\\sklearn\\feature_extraction\\text.py:404: UserWarning: Your stop_words may be inconsistent with your preprocessing. Tokenizing the stop words generated tokens ['большой', 'весь', 'всё', 'ещё', 'мочь', 'нибыть', 'свой', 'хороший', 'это'] not in stop_words.\n",
      "  warnings.warn(\n"
     ]
    },
    {
     "data": {
      "text/plain": [
       "array([[1.        , 0.82172602, 0.72045197, 0.75167814, 0.29534288],\n",
       "       [0.82172602, 1.        , 0.62103443, 0.59160798, 0.43643578],\n",
       "       [0.72045197, 0.62103443, 1.        , 0.46409548, 0.59914469],\n",
       "       [0.75167814, 0.59160798, 0.46409548, 1.        , 0.14754222],\n",
       "       [0.29534288, 0.43643578, 0.59914469, 0.14754222, 1.        ]])"
      ]
     },
     "execution_count": 39,
     "metadata": {},
     "output_type": "execute_result"
    }
   ],
   "source": [
    "cv = CountVectorizer(tokenizer=vectorizer_n, stop_words=ru_stopwords)\n",
    "\n",
    "recipes_cv = cv.fit_transform(pancakes5.ingredients)\n",
    "1 - cos_d(recipes_cv.toarray())"
   ]
  },
  {
   "cell_type": "code",
   "execution_count": 40,
   "metadata": {
    "scrolled": true
   },
   "outputs": [
    {
     "name": "stdout",
     "output_type": "stream",
     "text": [
      "********************\n",
      "{'Сыворотка': '300 мл', 'Крупа манная': '2 ст. л.', 'Мука пшеничная': '1 стак.', 'Мука кукурузная': '1/2 стак.', 'Яйцо куриное': '1 шт', 'Масло растительное': '2 ст. л.', 'Дрожжи': '1 ч. л.', 'Паприка сладкая': '1 ч. л.', 'Брынза': '100 г', 'Пряности': '1 ч. л.', 'Сахар': '1 ч. л.', 'Порошок чесночный': '1 щепот.', 'Перец сладкий красный': '1/2 шт', 'Лук зеленый': '1 веточ.', 'Помидор': '1 шт', 'Кетчуп': '1 ст. л.', 'Йогурт': '150 г', 'Соль': 'по вкусу'}\n",
      "********************\n",
      "{'Помидор': '500 г', 'Мята': '1 пуч.', 'Мука пшеничная': '250 г', 'Лук репчатый': '1 шт', 'Сахар': '0,5 ч. л.', 'Перец душистый': '0,5 ч. л.', 'Соль': None, 'Масло оливковое': '3 ст. л.', 'Базилик': '0,5 ч. л.'}\n",
      "********************\n",
      "{'Филе куриное': '500 г', 'Сыр плавленый': '2 шт', 'Морковь': '1 шт', 'Кабачок': '300 г', 'Крупа манная': '1 ст. л.', 'Яйцо куриное': '1 шт', 'Специи': '2 ч. л.', 'Масло растительное': None}\n",
      "********************\n",
      "{'Хлопья злаковые': '1 стак.', 'Мука кукурузная': '1/3 стак.', 'Мука пшеничная': '1/2 стак.', 'Яйцо куриное': '3 шт', 'Сахар': '4 ст. л.', 'Кефир': '1 стак.', 'Сода': '1/2 ч. л.', 'Соль': '1/4 ч. л.'}\n",
      "********************\n",
      "{'Сельдерей черешковый': '1 пуч.', 'Кабачок': '2 шт', 'Фета': '200 г', 'Яйцо куриное': '1 шт', 'Чечевица': '300 г', 'Мука пшеничная': '120 г', 'Масло оливковое': None, 'Зелень': '1 пуч.'}\n"
     ]
    }
   ],
   "source": [
    "for ingr in pancakes5.ingredients:\n",
    "    print('*'*20)\n",
    "    print(ingr)"
   ]
  },
  {
   "cell_type": "code",
   "execution_count": 41,
   "metadata": {},
   "outputs": [
    {
     "data": {
      "text/html": [
       "<div>\n",
       "<style scoped>\n",
       "    .dataframe tbody tr th:only-of-type {\n",
       "        vertical-align: middle;\n",
       "    }\n",
       "\n",
       "    .dataframe tbody tr th {\n",
       "        vertical-align: top;\n",
       "    }\n",
       "\n",
       "    .dataframe thead th {\n",
       "        text-align: right;\n",
       "    }\n",
       "</style>\n",
       "<table border=\"1\" class=\"dataframe\">\n",
       "  <thead>\n",
       "    <tr style=\"text-align: right;\">\n",
       "      <th></th>\n",
       "      <th>Оладьи на балканский манер</th>\n",
       "      <th>Оладьи из помидоров с мятой</th>\n",
       "      <th>Нежные куриные оладьи</th>\n",
       "      <th>Оладьи мультизлаковые</th>\n",
       "      <th>Оладьи из сельдерея, кабачков, феты и чечевицы</th>\n",
       "    </tr>\n",
       "  </thead>\n",
       "  <tbody>\n",
       "    <tr>\n",
       "      <th>Оладьи на балканский манер</th>\n",
       "      <td>1.00000</td>\n",
       "      <td>0.000000</td>\n",
       "      <td>0.000000</td>\n",
       "      <td>0.000000</td>\n",
       "      <td>0.115470</td>\n",
       "    </tr>\n",
       "    <tr>\n",
       "      <th>Оладьи из помидоров с мятой</th>\n",
       "      <td>0.00000</td>\n",
       "      <td>1.000000</td>\n",
       "      <td>0.046225</td>\n",
       "      <td>0.024441</td>\n",
       "      <td>0.030429</td>\n",
       "    </tr>\n",
       "    <tr>\n",
       "      <th>Нежные куриные оладьи</th>\n",
       "      <td>0.00000</td>\n",
       "      <td>0.046225</td>\n",
       "      <td>1.000000</td>\n",
       "      <td>0.203363</td>\n",
       "      <td>0.050637</td>\n",
       "    </tr>\n",
       "    <tr>\n",
       "      <th>Оладьи мультизлаковые</th>\n",
       "      <td>0.00000</td>\n",
       "      <td>0.024441</td>\n",
       "      <td>0.203363</td>\n",
       "      <td>1.000000</td>\n",
       "      <td>0.066935</td>\n",
       "    </tr>\n",
       "    <tr>\n",
       "      <th>Оладьи из сельдерея, кабачков, феты и чечевицы</th>\n",
       "      <td>0.11547</td>\n",
       "      <td>0.030429</td>\n",
       "      <td>0.050637</td>\n",
       "      <td>0.066935</td>\n",
       "      <td>1.000000</td>\n",
       "    </tr>\n",
       "  </tbody>\n",
       "</table>\n",
       "</div>"
      ],
      "text/plain": [
       "                                                Оладьи на балканский манер  \\\n",
       "Оладьи на балканский манер                                         1.00000   \n",
       "Оладьи из помидоров с мятой                                        0.00000   \n",
       "Нежные куриные оладьи                                              0.00000   \n",
       "Оладьи мультизлаковые                                              0.00000   \n",
       "Оладьи из сельдерея, кабачков, феты и чечевицы                     0.11547   \n",
       "\n",
       "                                                Оладьи из помидоров с мятой  \\\n",
       "Оладьи на балканский манер                                         0.000000   \n",
       "Оладьи из помидоров с мятой                                        1.000000   \n",
       "Нежные куриные оладьи                                              0.046225   \n",
       "Оладьи мультизлаковые                                              0.024441   \n",
       "Оладьи из сельдерея, кабачков, феты и чечевицы                     0.030429   \n",
       "\n",
       "                                                Нежные куриные оладьи  \\\n",
       "Оладьи на балканский манер                                   0.000000   \n",
       "Оладьи из помидоров с мятой                                  0.046225   \n",
       "Нежные куриные оладьи                                        1.000000   \n",
       "Оладьи мультизлаковые                                        0.203363   \n",
       "Оладьи из сельдерея, кабачков, феты и чечевицы               0.050637   \n",
       "\n",
       "                                                Оладьи мультизлаковые  \\\n",
       "Оладьи на балканский манер                                   0.000000   \n",
       "Оладьи из помидоров с мятой                                  0.024441   \n",
       "Нежные куриные оладьи                                        0.203363   \n",
       "Оладьи мультизлаковые                                        1.000000   \n",
       "Оладьи из сельдерея, кабачков, феты и чечевицы               0.066935   \n",
       "\n",
       "                                                Оладьи из сельдерея, кабачков, феты и чечевицы  \n",
       "Оладьи на балканский манер                                                            0.115470  \n",
       "Оладьи из помидоров с мятой                                                           0.030429  \n",
       "Нежные куриные оладьи                                                                 0.050637  \n",
       "Оладьи мультизлаковые                                                                 0.066935  \n",
       "Оладьи из сельдерея, кабачков, феты и чечевицы                                        1.000000  "
      ]
     },
     "execution_count": 41,
     "metadata": {},
     "output_type": "execute_result"
    }
   ],
   "source": [
    "df7 = pd.DataFrame(temp, columns=list(pancakes5.name), index=list(pancakes5.name))\n",
    "df7"
   ]
  },
  {
   "cell_type": "markdown",
   "metadata": {},
   "source": [
    "8\\. Напишите функцию, которая принимает на вход `pd.DataFrame`, полученный в задании 7, и возвращает в виде кортежа названия двух различных рецептов, которые являются наиболее похожими. Прокомментируйте результат (в виде текстового комментария). Для объяснения результата сравните слова в описаниях двух этих отзывов."
   ]
  },
  {
   "cell_type": "code",
   "execution_count": 42,
   "metadata": {},
   "outputs": [],
   "source": [
    "def find_closest(sim_df: pd.DataFrame) -> tuple:\n",
    "    sim_df = sim_df.replace(1,0)\n",
    "    recipe1 = sim_df.max().idxmax()\n",
    "    recipe2 = sim_df.idxmax()[recipe1]\n",
    "    return recipe1, recipe2"
   ]
  },
  {
   "cell_type": "code",
   "execution_count": 43,
   "metadata": {},
   "outputs": [
    {
     "data": {
      "text/plain": [
       "0.9999999999999998"
      ]
     },
     "execution_count": 43,
     "metadata": {},
     "output_type": "execute_result"
    }
   ],
   "source": [
    "res = find_closest(df7)\n",
    "df7.loc[res[0], res[1]]"
   ]
  },
  {
   "cell_type": "code",
   "execution_count": 44,
   "metadata": {},
   "outputs": [
    {
     "data": {
      "text/plain": [
       "'какой то хозяйственник проснулся в моём муже когда он принёс домой несколько килограммов помидоров теперь у нас дома начинаются томатные дни оладьи готовила полностью по рецепту от себя только щепотка базилика который как мне кажется помидорам всегда на пользу но я бы рецепт немного изменила выкладываю оригинальную версию со своими комментариями надеюсь вам понравится'"
      ]
     },
     "execution_count": 44,
     "metadata": {},
     "output_type": "execute_result"
    }
   ],
   "source": [
    "pancakes5.loc[pancakes5.name==res[0], 'description'].iloc[0]"
   ]
  },
  {
   "cell_type": "code",
   "execution_count": 45,
   "metadata": {},
   "outputs": [
    {
     "data": {
      "text/plain": [
       "'какой то хозяйственник проснулся в моём муже когда он принёс домой несколько килограммов помидоров теперь у нас дома начинаются томатные дни оладьи готовила полностью по рецепту от себя только щепотка базилика который как мне кажется помидорам всегда на пользу но я бы рецепт немного изменила выкладываю оригинальную версию со своими комментариями надеюсь вам понравится'"
      ]
     },
     "execution_count": 45,
     "metadata": {},
     "output_type": "execute_result"
    }
   ],
   "source": [
    "pancakes5.loc[pancakes5.name==res[1], 'description'].iloc[0]"
   ]
  },
  {
   "cell_type": "code",
   "execution_count": null,
   "metadata": {},
   "outputs": [],
   "source": []
  }
 ],
 "metadata": {
  "kernelspec": {
   "display_name": "Python 3",
   "language": "python",
   "name": "python3"
  },
  "language_info": {
   "codemirror_mode": {
    "name": "ipython",
    "version": 3
   },
   "file_extension": ".py",
   "mimetype": "text/x-python",
   "name": "python",
   "nbconvert_exporter": "python",
   "pygments_lexer": "ipython3",
   "version": "3.8.8"
  }
 },
 "nbformat": 4,
 "nbformat_minor": 4
}
